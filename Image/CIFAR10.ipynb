{
  "nbformat": 4,
  "nbformat_minor": 0,
  "metadata": {
    "colab": {
      "name": "CIFAR10.ipynb",
      "provenance": [],
      "collapsed_sections": [],
      "authorship_tag": "ABX9TyOEprzKBzTFCOZ9DHNXDVCH",
      "include_colab_link": true
    },
    "kernelspec": {
      "name": "python3",
      "display_name": "Python 3"
    },
    "language_info": {
      "name": "python"
    },
    "accelerator": "GPU"
  },
  "cells": [
    {
      "cell_type": "markdown",
      "metadata": {
        "id": "view-in-github",
        "colab_type": "text"
      },
      "source": [
        "<a href=\"https://colab.research.google.com/github/DAWUNHAN/deeplearning-fundamental/blob/master/CIFAR10.ipynb\" target=\"_parent\"><img src=\"https://colab.research.google.com/assets/colab-badge.svg\" alt=\"Open In Colab\"/></a>"
      ]
    },
    {
      "cell_type": "code",
      "execution_count": null,
      "metadata": {
        "id": "axhGEMUlb1wJ"
      },
      "outputs": [],
      "source": [
        "import numpy as np # linear algebra\n",
        "import pandas as pd # data processing, CSV file I/O (e.g. pd.read_csv)\n",
        "\n",
        "import os"
      ]
    },
    {
      "cell_type": "code",
      "source": [
        "from tensorflow.keras.datasets import cifar10\n",
        "\n",
        "# 전체 6만개 데이터 중, 5만개는 학습 데이터용, 1만개는 테스트 데이터용으로 분리\n",
        "(train_images, train_labels), (test_images, test_labels) = cifar10.load_data()\n",
        "print(\"train dataset shape:\", train_images.shape, train_labels.shape)\n",
        "print(\"test dataset shape:\", test_images.shape, test_labels.shape)"
      ],
      "metadata": {
        "colab": {
          "base_uri": "https://localhost:8080/"
        },
        "id": "AfdR5wAUceOM",
        "outputId": "43f19e8a-b0b5-4442-90e9-b01732ea8f49"
      },
      "execution_count": null,
      "outputs": [
        {
          "output_type": "stream",
          "name": "stdout",
          "text": [
            "Downloading data from https://www.cs.toronto.edu/~kriz/cifar-10-python.tar.gz\n",
            "170500096/170498071 [==============================] - 6s 0us/step\n",
            "170508288/170498071 [==============================] - 6s 0us/step\n",
            "train dataset shape: (50000, 32, 32, 3) (50000, 1)\n",
            "test dataset shape: (10000, 32, 32, 3) (10000, 1)\n"
          ]
        }
      ]
    },
    {
      "cell_type": "code",
      "source": [
        "train_images[0, :, :, :], train_labels[0, :]"
      ],
      "metadata": {
        "colab": {
          "base_uri": "https://localhost:8080/"
        },
        "id": "5iUWNcy3d5AZ",
        "outputId": "87ca60c4-3987-442b-873a-2984d70fcc5c"
      },
      "execution_count": null,
      "outputs": [
        {
          "output_type": "execute_result",
          "data": {
            "text/plain": [
              "(array([[[ 59,  62,  63],\n",
              "         [ 43,  46,  45],\n",
              "         [ 50,  48,  43],\n",
              "         ...,\n",
              "         [158, 132, 108],\n",
              "         [152, 125, 102],\n",
              "         [148, 124, 103]],\n",
              " \n",
              "        [[ 16,  20,  20],\n",
              "         [  0,   0,   0],\n",
              "         [ 18,   8,   0],\n",
              "         ...,\n",
              "         [123,  88,  55],\n",
              "         [119,  83,  50],\n",
              "         [122,  87,  57]],\n",
              " \n",
              "        [[ 25,  24,  21],\n",
              "         [ 16,   7,   0],\n",
              "         [ 49,  27,   8],\n",
              "         ...,\n",
              "         [118,  84,  50],\n",
              "         [120,  84,  50],\n",
              "         [109,  73,  42]],\n",
              " \n",
              "        ...,\n",
              " \n",
              "        [[208, 170,  96],\n",
              "         [201, 153,  34],\n",
              "         [198, 161,  26],\n",
              "         ...,\n",
              "         [160, 133,  70],\n",
              "         [ 56,  31,   7],\n",
              "         [ 53,  34,  20]],\n",
              " \n",
              "        [[180, 139,  96],\n",
              "         [173, 123,  42],\n",
              "         [186, 144,  30],\n",
              "         ...,\n",
              "         [184, 148,  94],\n",
              "         [ 97,  62,  34],\n",
              "         [ 83,  53,  34]],\n",
              " \n",
              "        [[177, 144, 116],\n",
              "         [168, 129,  94],\n",
              "         [179, 142,  87],\n",
              "         ...,\n",
              "         [216, 184, 140],\n",
              "         [151, 118,  84],\n",
              "         [123,  92,  72]]], dtype=uint8), array([6], dtype=uint8))"
            ]
          },
          "metadata": {},
          "execution_count": 3
        }
      ]
    },
    {
      "cell_type": "code",
      "source": [
        "NAMES = np.array(['airplane', 'automobile', 'bird', 'cat', 'deer', 'dog', 'frog', 'horse', 'ship', 'truck'])\n",
        "print(train_labels[:10])"
      ],
      "metadata": {
        "colab": {
          "base_uri": "https://localhost:8080/"
        },
        "id": "JNCJSpvSd_Yt",
        "outputId": "a8a17f4f-6af2-4f3f-eea1-c2f21ac3a344"
      },
      "execution_count": null,
      "outputs": [
        {
          "output_type": "stream",
          "name": "stdout",
          "text": [
            "[[6]\n",
            " [9]\n",
            " [9]\n",
            " [4]\n",
            " [1]\n",
            " [1]\n",
            " [2]\n",
            " [7]\n",
            " [8]\n",
            " [3]]\n"
          ]
        }
      ]
    },
    {
      "cell_type": "markdown",
      "source": [
        "### CIFAR10 데이터 시각화\n",
        "* 이미지 크기는 32x32이며 RGB채널. \n",
        "* 전반적으로 Label에 해당하는 대상이 이미지의 중앙에 있고, Label 대상 오브젝트 위주로 이미지가 구성. "
      ],
      "metadata": {
        "id": "8J2zrya5eLVi"
      }
    },
    {
      "cell_type": "code",
      "source": [
        "import matplotlib.pyplot as plt\n",
        "import cv2\n",
        "%matplotlib inline \n",
        "\n",
        "def show_images(images, labels, ncols=8):\n",
        "    figure, axs = plt.subplots(figsize=(22, 6), nrows=1, ncols=ncols)\n",
        "    for i in range(ncols):\n",
        "        axs[i].imshow(images[i])\n",
        "        label = labels[i].squeeze()\n",
        "        axs[i].set_title(NAMES[int(label)])\n",
        "        \n",
        "show_images(train_images[:8], train_labels[:8], ncols=8)\n",
        "show_images(train_images[8:16], train_labels[8:16], ncols=8)"
      ],
      "metadata": {
        "colab": {
          "base_uri": "https://localhost:8080/",
          "height": 350
        },
        "id": "yUf41wSdeBrW",
        "outputId": "1e236d30-758a-4499-afd0-6c811e78fbc3"
      },
      "execution_count": null,
      "outputs": [
        {
          "output_type": "display_data",
          "data": {
            "image/png": "[encoded data removed]",
            "text/plain": [
              "<Figure size 1584x432 with 8 Axes>"
            ]
          },
          "metadata": {
            "needs_background": "light"
          }
        },
        {
          "output_type": "display_data",
          "data": {
            "image/png": "[encoded data removed]",
            "text/plain": [
              "<Figure size 1584x432 with 8 Axes>"
            ]
          },
          "metadata": {
            "needs_background": "light"
          }
        }
      ]
    },
    {
      "cell_type": "markdown",
      "source": [
        "### Data preprocessing\n",
        "* image array의 0 ~ 255 사이의 값으로 되어 있는 pixel intensity 값을 0 ~ 1 사이 값으로 변환. 정수값 pixel 값을 255.0 으로 나눔. \n",
        "* label array는 숫자형 값으로 바꾸되, 원-핫 인코딩을 적용할지 선택. 일반적으로 원-핫 인코딩을 적용하는게 Keras Framework활용이 용이\n",
        "* image array, label array 모두 float32 형으로 변환. numpy 의 float32는 tensor 변환시 tf.float32 로 변환되며 기본적으로 Tensorflow backend Keras는 tf.float32를 기반으로 함. \n"
      ],
      "metadata": {
        "id": "XCtbs7J2fBDb"
      }
    },
    {
      "cell_type": "code",
      "source": [
        "(train_images, train_labels), (test_images, test_labels) = cifar10.load_data()\n",
        "\n",
        "# label은 원-핫 인코딩이 Keras에서는 활용이 용이하나, 여기서는 sparse categorical crossentropy 테스트를 위해 적용하지 않음. \n",
        "def get_preprocessed_data(images, labels):\n",
        "    \n",
        "    # 학습과 테스트 이미지 array를 0~1 사이값으로 scale 및 float32 형 변형. \n",
        "    images = np.array(images/255.0, dtype=np.float32)\n",
        "    labels = np.array(labels, dtype=np.float32)\n",
        "    \n",
        "    return images, labels\n",
        "\n",
        "train_images, train_labels = get_preprocessed_data(train_images, train_labels)\n",
        "test_images, test_labels = get_preprocessed_data(test_images, test_labels)"
      ],
      "metadata": {
        "id": "z5CjwmT3eNea"
      },
      "execution_count": null,
      "outputs": []
    },
    {
      "cell_type": "code",
      "source": [
        "train_images[0, :, :, :]"
      ],
      "metadata": {
        "colab": {
          "base_uri": "https://localhost:8080/"
        },
        "id": "BHDX2UarfCrC",
        "outputId": "82f602eb-a4ee-4d02-9e5d-728e367ec2c1"
      },
      "execution_count": null,
      "outputs": [
        {
          "output_type": "execute_result",
          "data": {
            "text/plain": [
              "array([[[0.23137255, 0.24313726, 0.24705882],\n",
              "        [0.16862746, 0.18039216, 0.1764706 ],\n",
              "        [0.19607843, 0.1882353 , 0.16862746],\n",
              "        ...,\n",
              "        [0.61960787, 0.5176471 , 0.42352942],\n",
              "        [0.59607846, 0.49019608, 0.4       ],\n",
              "        [0.5803922 , 0.4862745 , 0.40392157]],\n",
              "\n",
              "       [[0.0627451 , 0.07843138, 0.07843138],\n",
              "        [0.        , 0.        , 0.        ],\n",
              "        [0.07058824, 0.03137255, 0.        ],\n",
              "        ...,\n",
              "        [0.48235294, 0.34509805, 0.21568628],\n",
              "        [0.46666667, 0.3254902 , 0.19607843],\n",
              "        [0.47843137, 0.34117648, 0.22352941]],\n",
              "\n",
              "       [[0.09803922, 0.09411765, 0.08235294],\n",
              "        [0.0627451 , 0.02745098, 0.        ],\n",
              "        [0.19215687, 0.10588235, 0.03137255],\n",
              "        ...,\n",
              "        [0.4627451 , 0.32941177, 0.19607843],\n",
              "        [0.47058824, 0.32941177, 0.19607843],\n",
              "        [0.42745098, 0.28627452, 0.16470589]],\n",
              "\n",
              "       ...,\n",
              "\n",
              "       [[0.8156863 , 0.6666667 , 0.3764706 ],\n",
              "        [0.7882353 , 0.6       , 0.13333334],\n",
              "        [0.7764706 , 0.6313726 , 0.10196079],\n",
              "        ...,\n",
              "        [0.627451  , 0.52156866, 0.27450982],\n",
              "        [0.21960784, 0.12156863, 0.02745098],\n",
              "        [0.20784314, 0.13333334, 0.07843138]],\n",
              "\n",
              "       [[0.7058824 , 0.54509807, 0.3764706 ],\n",
              "        [0.6784314 , 0.48235294, 0.16470589],\n",
              "        [0.7294118 , 0.5647059 , 0.11764706],\n",
              "        ...,\n",
              "        [0.72156864, 0.5803922 , 0.36862746],\n",
              "        [0.38039216, 0.24313726, 0.13333334],\n",
              "        [0.3254902 , 0.20784314, 0.13333334]],\n",
              "\n",
              "       [[0.69411767, 0.5647059 , 0.45490196],\n",
              "        [0.65882355, 0.5058824 , 0.36862746],\n",
              "        [0.7019608 , 0.5568628 , 0.34117648],\n",
              "        ...,\n",
              "        [0.84705883, 0.72156864, 0.54901963],\n",
              "        [0.5921569 , 0.4627451 , 0.32941177],\n",
              "        [0.48235294, 0.36078432, 0.28235295]]], dtype=float32)"
            ]
          },
          "metadata": {},
          "execution_count": 7
        }
      ]
    },
    {
      "cell_type": "code",
      "source": [
        "# Keras는 CNN(정확히는 CNN 2D) 모델에 학습 데이터를 입력할 시 반드시 Image array는 4차원 배열이 되어야 함. \n",
        "# RGB 채널 이미지 array는 기본적으로 3차원임. 여기에 이미지의 갯수를 포함하므로 4차원이 됨.  \n",
        "# 만일 Grayscale인 2차원 이미지 array라도 의도적으로 채널을 명시해서 3차원으로 만들어 주고, 여기에 이미지 개수를 포함해서 4차원이 됨. \n",
        "\n",
        "print(train_images.shape, train_labels.shape)"
      ],
      "metadata": {
        "colab": {
          "base_uri": "https://localhost:8080/"
        },
        "id": "DIgr_8qzfFpN",
        "outputId": "8fef0901-c8da-4335-8f28-29d8c2a9bfdc"
      },
      "execution_count": null,
      "outputs": [
        {
          "output_type": "stream",
          "name": "stdout",
          "text": [
            "(50000, 32, 32, 3) (50000, 1)\n"
          ]
        }
      ]
    },
    {
      "cell_type": "code",
      "source": [
        "# label 데이터가 2차원임. 이를 Keras 모델에 입력해도 별 문제없이 동작하지만, label의 경우는 OHE적용이 안되었는지를 알 수 있게 명확하게 1차원으로 표현해 주는것이 좋음. \n",
        "# 2차원인 labels 데이터를 1차원으로 변경. \n",
        "train_labels = train_labels.squeeze()\n",
        "test_labels = test_labels.squeeze()"
      ],
      "metadata": {
        "id": "OmWDdknpfS3t"
      },
      "execution_count": null,
      "outputs": []
    },
    {
      "cell_type": "markdown",
      "source": [
        "### Custom Model 생성\n",
        "* CNN Model의 맨처음 Layer는 Input layer. Input layer의 shape를 이미지 사이즈와 RGB 3채널에 맞게 (32, 32, 3) 으로 설정.\n",
        "* Conv 연산을 연달아 적용하고 MaxPooling을 적용하는 루틴으로 모델 생성. MaxPooling을 적용 후에는 필터 갯수를 더욱 증가 시킴. \n",
        "* MaxPooling 적용 후에 출력 피처맵의 사이즈는 작아지되, 채널(깊이)는 늘어나는 형태로 모델 생성. \n",
        "* CIFAR10의 Label수가 10개이므로 Classification을 위한 맨 마지막 Dense layer의 units 갯수는 10개임\n",
        "* label값이 원-핫 인코딩 되지 않았기 때문에 model.compile()에서 loss는 반드시 sparse_categorical_crossentropy여야함. \n",
        "* 만일 label값이 원-핫 인코딩 되었다면 loss는 categorical_crossentropy 임. "
      ],
      "metadata": {
        "id": "P51ffYaagANw"
      }
    },
    {
      "cell_type": "code",
      "source": [
        "IMAGE_SIZE = 32"
      ],
      "metadata": {
        "id": "53g_B-KcfVOL"
      },
      "execution_count": null,
      "outputs": []
    },
    {
      "cell_type": "code",
      "source": [
        "from tensorflow.keras.models import Sequential, Model\n",
        "from tensorflow.keras.layers import Input, Dense , Conv2D , Dropout , Flatten , Activation, MaxPooling2D , GlobalAveragePooling2D\n",
        "from tensorflow.keras.optimizers import Adam , RMSprop \n",
        "from tensorflow.keras.layers import BatchNormalization\n",
        "from tensorflow.keras.callbacks import ReduceLROnPlateau , EarlyStopping , ModelCheckpoint , LearningRateScheduler\n",
        "\n",
        "input_tensor = Input(shape=(IMAGE_SIZE, IMAGE_SIZE, 3))\n",
        "\n",
        "#x = Conv2D(filters=32, kernel_size=(5, 5), padding='valid', activation='relu')(input_tensor)\n",
        "x = Conv2D(filters=32, kernel_size=(3, 3), padding='same', activation='relu')(input_tensor)\n",
        "x = Conv2D(filters=32, kernel_size=(3, 3), padding='same', activation='relu')(x)\n",
        "x = MaxPooling2D(pool_size=(2, 2))(x)\n",
        "\n",
        "x = Conv2D(filters=64, kernel_size=(3, 3), padding='same', activation='relu')(x)\n",
        "x = Conv2D(filters=64, kernel_size=(3, 3), padding='same')(x)\n",
        "x = Activation('relu')(x)\n",
        "x = MaxPooling2D(pool_size=2)(x)\n",
        "\n",
        "x = Conv2D(filters=128, kernel_size=(3,3), padding='same', activation='relu')(x)\n",
        "x = Conv2D(filters=128, kernel_size=(3,3), padding='same', activation='relu')(x)\n",
        "x = MaxPooling2D(pool_size=2)(x)\n",
        "\n",
        "# cifar10의 클래스가 10개 이므로 마지막 classification의 Dense layer units갯수는 10\n",
        "x = Flatten(name='flatten')(x)\n",
        "x = Dropout(rate=0.5)(x)\n",
        "x = Dense(300, activation='relu', name='fc1')(x)\n",
        "x = Dropout(rate=0.3)(x)\n",
        "output = Dense(10, activation='softmax', name='output')(x)\n",
        "\n",
        "model = Model(inputs=input_tensor, outputs=output)\n",
        "\n",
        "model.summary()\n",
        "\n",
        "'''\n",
        "param # = 2432인 이유 = 5*5*3*32 + 32(bias)    \n",
        "'''"
      ],
      "metadata": {
        "colab": {
          "base_uri": "https://localhost:8080/",
          "height": 799
        },
        "id": "B2lXsJE9gwYI",
        "outputId": "5e620cd1-1cf0-4db5-a28e-0f147b972090"
      },
      "execution_count": null,
      "outputs": [
        {
          "output_type": "stream",
          "name": "stdout",
          "text": [
            "Model: \"model_3\"\n",
            "_________________________________________________________________\n",
            " Layer (type)                Output Shape              Param #   \n",
            "=================================================================\n",
            " input_4 (InputLayer)        [(None, 32, 32, 3)]       0         \n",
            "                                                                 \n",
            " conv2d_18 (Conv2D)          (None, 32, 32, 32)        896       \n",
            "                                                                 \n",
            " conv2d_19 (Conv2D)          (None, 32, 32, 32)        9248      \n",
            "                                                                 \n",
            " max_pooling2d_9 (MaxPooling  (None, 16, 16, 32)       0         \n",
            " 2D)                                                             \n",
            "                                                                 \n",
            " conv2d_20 (Conv2D)          (None, 16, 16, 64)        18496     \n",
            "                                                                 \n",
            " conv2d_21 (Conv2D)          (None, 16, 16, 64)        36928     \n",
            "                                                                 \n",
            " activation_3 (Activation)   (None, 16, 16, 64)        0         \n",
            "                                                                 \n",
            " max_pooling2d_10 (MaxPoolin  (None, 8, 8, 64)         0         \n",
            " g2D)                                                            \n",
            "                                                                 \n",
            " conv2d_22 (Conv2D)          (None, 8, 8, 128)         73856     \n",
            "                                                                 \n",
            " conv2d_23 (Conv2D)          (None, 8, 8, 128)         147584    \n",
            "                                                                 \n",
            " max_pooling2d_11 (MaxPoolin  (None, 4, 4, 128)        0         \n",
            " g2D)                                                            \n",
            "                                                                 \n",
            " flatten (Flatten)           (None, 2048)              0         \n",
            "                                                                 \n",
            " dropout_6 (Dropout)         (None, 2048)              0         \n",
            "                                                                 \n",
            " fc1 (Dense)                 (None, 300)               614700    \n",
            "                                                                 \n",
            " dropout_7 (Dropout)         (None, 300)               0         \n",
            "                                                                 \n",
            " output (Dense)              (None, 10)                3010      \n",
            "                                                                 \n",
            "=================================================================\n",
            "Total params: 904,718\n",
            "Trainable params: 904,718\n",
            "Non-trainable params: 0\n",
            "_________________________________________________________________\n"
          ]
        },
        {
          "output_type": "execute_result",
          "data": {
            "application/vnd.google.colaboratory.intrinsic+json": {
              "type": "string"
            },
            "text/plain": [
              "'\\nparam # = 2432인 이유 = 5*5*3*32 + 32(bias)    \\n'"
            ]
          },
          "metadata": {},
          "execution_count": 26
        }
      ]
    },
    {
      "cell_type": "code",
      "source": [
        "# optimizer는 Adam으로 설정하고, label값이 원-핫 인코딩이 아니므로 loss는 sparse_categorical_crossentropy 임. \n",
        "model.compile(optimizer=Adam(), loss='sparse_categorical_crossentropy', metrics=['accuracy'])"
      ],
      "metadata": {
        "id": "v2Ya7OFdgx0-"
      },
      "execution_count": null,
      "outputs": []
    },
    {
      "cell_type": "markdown",
      "source": [
        "### Model 학습 수행 및 테스트 데이터로 평가 \n",
        "* Model의 fit() 메소드를 호출하여 학습\n",
        "* fit()은 학습 데이터가 Numpy array 자체로 들어올때, Generator 형태로 들어올때 약간의 수행로직 차이가 있음. \n",
        "* 인자로 x에는 학습 image data, y는 학습 label 데이터. \n",
        "* batch_size는 한번에 가져올 image/label array 갯수. 1개씩 가져오면 수행속도가 너무 느리고, 전체를 가져오면 GPU Memory 부족이 발생할 수 있으므로 적절한 batch_size 설정이 필요. 만약 학습 데이터가 generator일 경우, fit()에서 batch_size를 설정하지 않음. \n",
        "* epochs 는 전체 학습 데이터 학습을 반복 수행할 횟수\n",
        "* steps_per_epoch는 전체 학습 데이터를 몇번 배치 작업으로 수행하는가를 의미. 보통 입력데이터가 generator일 경우 설정. \n",
        "* validation_data는 검증용 데이터 세트\n",
        "* validation_steps는 검증용 데이터의 steps_per_epoch임. \n",
        "* validation_split는 validation_data로 별도의 검증용 데이터 세트를 설정하지 않고 자동으로 학습용 데이터에서 검증용 데이터 세트 분할. \n"
      ],
      "metadata": {
        "id": "dq5gSY3PlHOM"
      }
    },
    {
      "cell_type": "code",
      "source": [
        "history = model.fit(x=train_images, y=train_labels, batch_size=64, epochs=30, validation_split=0.15 )"
      ],
      "metadata": {
        "colab": {
          "base_uri": "https://localhost:8080/"
        },
        "id": "z3DUFNijg2Hh",
        "outputId": "cde51424-f099-4e4b-ed77-6a1912060920"
      },
      "execution_count": null,
      "outputs": [
        {
          "output_type": "stream",
          "name": "stdout",
          "text": [
            "Epoch 1/30\n",
            "665/665 [==============================] - 6s 8ms/step - loss: 1.6262 - accuracy: 0.3984 - val_loss: 1.2329 - val_accuracy: 0.5557\n",
            "Epoch 2/30\n",
            "665/665 [==============================] - 5s 7ms/step - loss: 1.1677 - accuracy: 0.5841 - val_loss: 0.9786 - val_accuracy: 0.6540\n",
            "Epoch 3/30\n",
            "665/665 [==============================] - 4s 6ms/step - loss: 0.9806 - accuracy: 0.6537 - val_loss: 0.8399 - val_accuracy: 0.7033\n",
            "Epoch 4/30\n",
            "665/665 [==============================] - 5s 7ms/step - loss: 0.8585 - accuracy: 0.6996 - val_loss: 0.7634 - val_accuracy: 0.7333\n",
            "Epoch 5/30\n",
            "665/665 [==============================] - 5s 8ms/step - loss: 0.7664 - accuracy: 0.7308 - val_loss: 0.7295 - val_accuracy: 0.7420\n",
            "Epoch 6/30\n",
            "665/665 [==============================] - 5s 7ms/step - loss: 0.6964 - accuracy: 0.7560 - val_loss: 0.6980 - val_accuracy: 0.7560\n",
            "Epoch 7/30\n",
            "665/665 [==============================] - 4s 7ms/step - loss: 0.6419 - accuracy: 0.7756 - val_loss: 0.6519 - val_accuracy: 0.7760\n",
            "Epoch 8/30\n",
            "665/665 [==============================] - 5s 7ms/step - loss: 0.5913 - accuracy: 0.7907 - val_loss: 0.7285 - val_accuracy: 0.7523\n",
            "Epoch 9/30\n",
            "665/665 [==============================] - 5s 7ms/step - loss: 0.5592 - accuracy: 0.8036 - val_loss: 0.6266 - val_accuracy: 0.7855\n",
            "Epoch 10/30\n",
            "665/665 [==============================] - 5s 7ms/step - loss: 0.5165 - accuracy: 0.8187 - val_loss: 0.6521 - val_accuracy: 0.7796\n",
            "Epoch 11/30\n",
            "665/665 [==============================] - 5s 7ms/step - loss: 0.4946 - accuracy: 0.8251 - val_loss: 0.6153 - val_accuracy: 0.7921\n",
            "Epoch 12/30\n",
            "665/665 [==============================] - 5s 7ms/step - loss: 0.4560 - accuracy: 0.8384 - val_loss: 0.6498 - val_accuracy: 0.7884\n",
            "Epoch 13/30\n",
            "665/665 [==============================] - 4s 7ms/step - loss: 0.4330 - accuracy: 0.8462 - val_loss: 0.6284 - val_accuracy: 0.7923\n",
            "Epoch 14/30\n",
            "665/665 [==============================] - 5s 7ms/step - loss: 0.4053 - accuracy: 0.8564 - val_loss: 0.6115 - val_accuracy: 0.7965\n",
            "Epoch 15/30\n",
            "665/665 [==============================] - 5s 7ms/step - loss: 0.3937 - accuracy: 0.8616 - val_loss: 0.6546 - val_accuracy: 0.7929\n",
            "Epoch 16/30\n",
            "665/665 [==============================] - 5s 8ms/step - loss: 0.3692 - accuracy: 0.8678 - val_loss: 0.6324 - val_accuracy: 0.7935\n",
            "Epoch 17/30\n",
            "665/665 [==============================] - 4s 7ms/step - loss: 0.3576 - accuracy: 0.8736 - val_loss: 0.6746 - val_accuracy: 0.7913\n",
            "Epoch 18/30\n",
            "665/665 [==============================] - 5s 7ms/step - loss: 0.3494 - accuracy: 0.8771 - val_loss: 0.6572 - val_accuracy: 0.7905\n",
            "Epoch 19/30\n",
            "665/665 [==============================] - 4s 7ms/step - loss: 0.3438 - accuracy: 0.8780 - val_loss: 0.6540 - val_accuracy: 0.7983\n",
            "Epoch 20/30\n",
            "665/665 [==============================] - 5s 7ms/step - loss: 0.3245 - accuracy: 0.8844 - val_loss: 0.6510 - val_accuracy: 0.8005\n",
            "Epoch 21/30\n",
            "665/665 [==============================] - 4s 7ms/step - loss: 0.3039 - accuracy: 0.8926 - val_loss: 0.7383 - val_accuracy: 0.7895\n",
            "Epoch 22/30\n",
            "665/665 [==============================] - 4s 7ms/step - loss: 0.3046 - accuracy: 0.8919 - val_loss: 0.6499 - val_accuracy: 0.7957\n",
            "Epoch 23/30\n",
            "665/665 [==============================] - 5s 7ms/step - loss: 0.2931 - accuracy: 0.8963 - val_loss: 0.6689 - val_accuracy: 0.7927\n",
            "Epoch 24/30\n",
            "665/665 [==============================] - 5s 7ms/step - loss: 0.2905 - accuracy: 0.8973 - val_loss: 0.7460 - val_accuracy: 0.7965\n",
            "Epoch 25/30\n",
            "665/665 [==============================] - 5s 7ms/step - loss: 0.2803 - accuracy: 0.9010 - val_loss: 0.6805 - val_accuracy: 0.7947\n",
            "Epoch 26/30\n",
            "665/665 [==============================] - 5s 7ms/step - loss: 0.2621 - accuracy: 0.9078 - val_loss: 0.6774 - val_accuracy: 0.7983\n",
            "Epoch 27/30\n",
            "665/665 [==============================] - 4s 7ms/step - loss: 0.2720 - accuracy: 0.9060 - val_loss: 0.7134 - val_accuracy: 0.8000\n",
            "Epoch 28/30\n",
            "665/665 [==============================] - 4s 7ms/step - loss: 0.2665 - accuracy: 0.9063 - val_loss: 0.7230 - val_accuracy: 0.7963\n",
            "Epoch 29/30\n",
            "665/665 [==============================] - 5s 7ms/step - loss: 0.2538 - accuracy: 0.9106 - val_loss: 0.7149 - val_accuracy: 0.7976\n",
            "Epoch 30/30\n",
            "665/665 [==============================] - 4s 7ms/step - loss: 0.2548 - accuracy: 0.9119 - val_loss: 0.7197 - val_accuracy: 0.7975\n"
          ]
        }
      ]
    },
    {
      "cell_type": "code",
      "source": [
        "import matplotlib.pyplot as plt\n",
        "%matplotlib inline\n",
        "\n",
        "def show_history(history):\n",
        "    plt.figure(figsize=(6, 6))\n",
        "    plt.yticks(np.arange(0, 1, 0.05))\n",
        "    plt.plot(history.history['accuracy'], label='train')\n",
        "    plt.plot(history.history['val_accuracy'], label='valid')\n",
        "    plt.legend()\n",
        "    \n",
        "show_history(history)\n",
        "\n",
        "# 테스트 데이터로 성능 평가\n",
        "model.evaluate(test_images, test_labels)"
      ],
      "metadata": {
        "colab": {
          "base_uri": "https://localhost:8080/",
          "height": 409
        },
        "id": "gyFNyd5ZlJEH",
        "outputId": "cf0f0dcb-d959-48d9-8683-a45a2397b0b7"
      },
      "execution_count": null,
      "outputs": [
        {
          "output_type": "stream",
          "name": "stdout",
          "text": [
            "313/313 [==============================] - 1s 3ms/step - loss: 0.7190 - accuracy: 0.7958\n"
          ]
        },
        {
          "output_type": "execute_result",
          "data": {
            "text/plain": [
              "[0.7189682722091675, 0.795799970626831]"
            ]
          },
          "metadata": {},
          "execution_count": 29
        },
        {
          "output_type": "display_data",
          "data": {
            "image/png": "[encoded data removed]",
            "text/plain": [
              "<Figure size 432x432 with 1 Axes>"
            ]
          },
          "metadata": {
            "needs_background": "light"
          }
        }
      ]
    },
    {
      "cell_type": "markdown",
      "source": [
        "### model.predict()를 통해 이미지 분류 예측\n",
        "* 4차원 이미지 배열을 입력해서 모델학습함. predict()시에도 4차원 이미지 배열을 입력해야함. \n",
        "* 학습 데이터의 원-핫 인코딩 적용 여부와 관계없이 softmax 적용 결과는 무조건 2차원 임에 유의  "
      ],
      "metadata": {
        "id": "W6ZLGn0Fl3n-"
      }
    },
    {
      "cell_type": "code",
      "source": [
        "# 아래 코드는 오류 발생. Conv2D를 사용한 모델에 4차원 이미지 배열을 입력해서 모델을 학습했으므로 predict()시에도 테스트용 4차원 이미지 배열을 입력해야 함.  \n",
        "preds = model.predict(test_images[0])"
      ],
      "metadata": {
        "id": "VnzUUnTPl6XO"
      },
      "execution_count": null,
      "outputs": []
    },
    {
      "cell_type": "code",
      "source": [
        "# 테스트용 4차원 이미지 배열을 입력해서 predict()수행. \n",
        "# predict()의 결과는 softmax 적용 결과임. 학습 데이터의 원-핫 인코딩 적용 여부와 관계없이 softmax 적용 결과는 무조건 2차원 임에 유의 \n",
        "preds = model.predict(np.expand_dims(test_images[0], axis=0))\n",
        "print('예측 결과 shape:', preds.shape)\n",
        "print('예측 결과:', preds)"
      ],
      "metadata": {
        "colab": {
          "base_uri": "https://localhost:8080/"
        },
        "id": "cMMuYJEMmDf0",
        "outputId": "4223dd20-bbb2-40e8-b888-25e1e36f1606"
      },
      "execution_count": null,
      "outputs": [
        {
          "output_type": "stream",
          "name": "stdout",
          "text": [
            "예측 결과 shape: (1, 10)\n",
            "예측 결과: [[3.1255343e-08 8.1436706e-12 9.3059853e-09 9.9861526e-01 2.0759312e-09\n",
            "  1.3443424e-03 4.0315619e-05 6.4847159e-09 1.2585373e-09 2.8316980e-09]]\n"
          ]
        }
      ]
    },
    {
      "cell_type": "code",
      "source": [
        "preds = model.predict(test_images[:32], batch_size=32)\n",
        "print('예측 결과 shape:', preds.shape)\n",
        "print('예측 결과:', preds)"
      ],
      "metadata": {
        "colab": {
          "base_uri": "https://localhost:8080/"
        },
        "id": "pwebHwCcmkqy",
        "outputId": "b6a8e64d-e537-4ebd-ea41-4fd61824ca2e"
      },
      "execution_count": null,
      "outputs": [
        {
          "output_type": "stream",
          "name": "stdout",
          "text": [
            "예측 결과 shape: (32, 10)\n",
            "예측 결과: [[3.12551052e-08 8.14351538e-12 9.30596755e-09 9.98615265e-01\n",
            "  2.07590323e-09 1.34434563e-03 4.03157355e-05 6.48464127e-09\n",
            "  1.25851085e-09 2.83164425e-09]\n",
            " [2.33903847e-05 8.07850342e-03 6.42520823e-15 1.85592730e-12\n",
            "  1.99167194e-14 1.06156164e-16 1.38688262e-11 3.33159631e-17\n",
            "  9.91895854e-01 2.19614890e-06]\n",
            " [3.60831642e-03 4.99136560e-03 1.43635965e-08 2.32472939e-05\n",
            "  1.46687000e-08 3.57211911e-06 2.29770105e-08 6.56441102e-07\n",
            "  9.91325259e-01 4.75366360e-05]\n",
            " [9.44688678e-01 1.50144988e-04 2.77663759e-07 1.46214541e-06\n",
            "  4.57362412e-11 2.14076274e-11 3.55628416e-09 6.17707552e-11\n",
            "  5.01898639e-02 4.96964948e-03]\n",
            " [2.97428166e-14 4.65330187e-14 1.41501482e-06 4.22116209e-05\n",
            "  4.04114164e-02 2.24043437e-10 9.59544957e-01 7.20705818e-16\n",
            "  1.21535350e-13 1.02398385e-11]\n",
            " [1.48864243e-09 1.52716346e-08 1.00547040e-05 1.72706583e-04\n",
            "  2.36034775e-05 2.24436575e-04 9.99569118e-01 2.50767185e-09\n",
            "  9.61021218e-09 2.90318116e-08]\n",
            " [2.58288765e-05 7.27577865e-01 1.91637286e-04 4.51924466e-03\n",
            "  4.04938277e-07 1.91729981e-02 1.71766005e-04 1.30480348e-05\n",
            "  1.54937140e-03 2.46777833e-01]\n",
            " [3.76916229e-04 2.96948031e-07 8.44662189e-02 2.44901747e-01\n",
            "  5.07550716e-01 7.10142255e-02 7.76340812e-02 1.38273360e-02\n",
            "  9.09681403e-05 1.37542884e-04]\n",
            " [6.85982954e-13 1.39559994e-14 3.00702112e-07 9.99194920e-01\n",
            "  6.96944926e-06 7.92851264e-04 1.17787536e-07 4.83568328e-06\n",
            "  4.26757594e-14 2.73828543e-10]\n",
            " [1.10379619e-06 9.87928092e-01 3.22652505e-09 7.24726164e-08\n",
            "  1.23853827e-09 4.25716740e-10 3.41806754e-07 9.89688331e-11\n",
            "  2.62293010e-03 9.44748521e-03]\n",
            " [8.25665295e-01 1.18787761e-06 2.02503856e-02 5.46379713e-03\n",
            "  1.41667277e-01 2.76458124e-03 1.39315656e-04 7.83200492e-04\n",
            "  3.25984554e-03 5.13180476e-06]\n",
            " [1.58169625e-19 7.41528150e-13 3.43182258e-26 1.73318349e-25\n",
            "  2.30009182e-33 1.27825861e-30 1.04492310e-34 1.08803990e-29\n",
            "  2.80926126e-21 1.00000000e+00]\n",
            " [6.81794018e-06 1.43544294e-05 1.09326337e-02 3.37944329e-02\n",
            "  9.02310479e-03 9.11253095e-01 4.52530943e-03 3.03934775e-02\n",
            "  3.10192008e-05 2.58335131e-05]\n",
            " [1.40712962e-13 2.49091858e-14 1.19149699e-12 2.93189714e-14\n",
            "  4.02928428e-08 1.23670629e-08 1.45725293e-14 1.00000000e+00\n",
            "  6.43221476e-18 7.01082584e-13]\n",
            " [2.13844133e-12 2.18134992e-05 3.76244690e-17 2.06658873e-16\n",
            "  1.23918340e-21 1.60972242e-19 8.80388757e-18 4.55375490e-19\n",
            "  4.11702703e-12 9.99978185e-01]\n",
            " [3.36382247e-04 4.71060121e-05 8.22769725e-05 3.79743287e-05\n",
            "  2.46466316e-05 8.47832098e-07 1.08915893e-03 6.20105922e-08\n",
            "  9.98351574e-01 2.99599124e-05]\n",
            " [4.56201406e-07 5.18639132e-09 2.80116819e-06 7.59989992e-02\n",
            "  1.75583565e-08 9.23994422e-01 4.21389728e-07 2.72189436e-06\n",
            "  1.03745933e-07 7.55985496e-09]\n",
            " [5.28029567e-08 7.11420700e-10 2.57783540e-07 9.52217821e-03\n",
            "  2.72206613e-04 3.25509745e-06 4.76434343e-06 9.90189254e-01\n",
            "  7.72868314e-12 8.08367258e-06]\n",
            " [5.13267580e-08 1.90662668e-08 1.38313467e-14 3.05130921e-13\n",
            "  7.21998280e-14 5.89449773e-18 2.05461521e-15 9.95181458e-17\n",
            "  9.99999642e-01 2.22611206e-07]\n",
            " [1.95585850e-16 6.79424318e-17 8.04085065e-09 6.63349931e-10\n",
            "  1.14181775e-08 1.49799024e-13 1.00000000e+00 3.91775356e-19\n",
            "  2.01701851e-18 5.54278066e-14]\n",
            " [4.44493470e-10 4.15367793e-08 2.40596911e-08 1.75102093e-06\n",
            "  4.15715988e-07 1.19187632e-06 3.26225123e-11 9.99979496e-01\n",
            "  5.89178879e-12 1.72220043e-05]\n",
            " [9.95185554e-01 2.90050454e-13 4.81445016e-03 6.45375025e-08\n",
            "  5.88920523e-10 8.92684238e-09 4.29745839e-09 6.42776102e-14\n",
            "  2.01510031e-09 7.35019413e-13]\n",
            " [1.89512409e-02 1.63307266e-06 2.66422071e-02 2.30060052e-02\n",
            "  9.29457545e-01 1.12253148e-03 5.60419634e-04 6.01245119e-05\n",
            "  1.92459716e-04 5.71119836e-06]\n",
            " [1.12498487e-18 1.16305181e-10 2.57392968e-24 1.49123075e-21\n",
            "  2.09197821e-29 5.00715063e-29 4.89517610e-28 6.32802401e-26\n",
            "  3.84764960e-21 1.00000000e+00]\n",
            " [1.10454101e-04 6.81198856e-07 4.97106556e-03 9.50958394e-03\n",
            "  9.65937078e-01 7.47719221e-03 5.92105789e-05 1.19299544e-02\n",
            "  2.47328529e-07 4.64324512e-06]\n",
            " [7.19418228e-02 9.61030892e-04 4.12292570e-01 1.33275941e-01\n",
            "  7.75395110e-02 1.54378399e-01 4.04952206e-02 8.67224634e-02\n",
            "  5.53856371e-04 2.18392015e-02]\n",
            " [3.72192176e-06 3.05251115e-06 8.49904085e-04 3.14770013e-01\n",
            "  6.27083898e-01 2.31835041e-02 1.10141851e-03 3.29831801e-02\n",
            "  3.27833511e-08 2.12633222e-05]\n",
            " [6.94452345e-01 4.76927416e-05 1.07187890e-02 9.66967898e-04\n",
            "  1.73108671e-02 3.02886814e-02 2.41656671e-04 2.39626825e-01\n",
            "  4.02260193e-05 6.30592508e-03]\n",
            " [2.64417093e-08 6.46249964e-06 1.83707041e-08 4.91777499e-08\n",
            "  1.27703001e-10 3.88678811e-11 1.15459864e-10 1.59827832e-10\n",
            "  9.34157498e-08 9.99993324e-01]\n",
            " [1.02440572e-05 6.71252209e-08 2.67575663e-02 4.48010571e-04\n",
            "  1.16202943e-02 7.22751068e-03 9.53850508e-01 6.80374797e-05\n",
            "  2.10804444e-07 1.76348531e-05]\n",
            " [3.24113110e-08 3.25473481e-12 1.01978138e-01 5.05789940e-04\n",
            "  6.67732866e-06 1.11488191e-06 8.97508204e-01 7.20020221e-09\n",
            "  1.71162151e-12 1.42162407e-10]\n",
            " [3.58669117e-09 5.87365823e-10 1.44206890e-04 9.80758946e-03\n",
            "  8.87372807e-05 9.89539564e-01 4.00978752e-04 1.89269103e-05\n",
            "  2.86712920e-09 6.30357411e-09]]\n"
          ]
        }
      ]
    },
    {
      "cell_type": "code",
      "source": [
        "predicted_class = np.argmax(preds, axis=1)\n",
        "print('예측 클래스 값:', predicted_class)"
      ],
      "metadata": {
        "colab": {
          "base_uri": "https://localhost:8080/"
        },
        "id": "tUIhNXhInApm",
        "outputId": "7ea8db27-067d-418a-ad8a-65487ab67a1c"
      },
      "execution_count": null,
      "outputs": [
        {
          "output_type": "stream",
          "name": "stdout",
          "text": [
            "예측 클래스 값: [3 8 8 0 6 6 1 4 3 1 0 9 5 7 9 8 5 7 8 6 7 0 4 9 4 2 4 0 9 6 6 5]\n"
          ]
        }
      ]
    },
    {
      "cell_type": "code",
      "source": [
        "show_images(test_images[:8], predicted_class[:8], ncols=8)\n",
        "show_images(test_images[:8], test_labels[:8], ncols=8)\n",
        "# 맨 마지막 개구리 사진은 잘못 예측함."
      ],
      "metadata": {
        "colab": {
          "base_uri": "https://localhost:8080/",
          "height": 350
        },
        "id": "2sih-RMZnDt9",
        "outputId": "752ba4e1-2da1-48c4-b330-dca008abd1a4"
      },
      "execution_count": null,
      "outputs": [
        {
          "output_type": "display_data",
          "data": {
            "image/png": "[encoded data removed]",
            "text/plain": [
              "<Figure size 1584x432 with 8 Axes>"
            ]
          },
          "metadata": {
            "needs_background": "light"
          }
        },
        {
          "output_type": "display_data",
          "data": {
            "image/png": "[encoded data removed]",
            "text/plain": [
              "<Figure size 1584x432 with 8 Axes>"
            ]
          },
          "metadata": {
            "needs_background": "light"
          }
        }
      ]
    },
    {
      "cell_type": "markdown",
      "source": [
        "### 평균이 1 이고 표준편차가 1인 표준 정규분포에서 난수 추출\n",
        "* 표준 편차가 클 수록 개별 값의 크기가 일반적으로 커짐."
      ],
      "metadata": {
        "id": "XOX-B9CdnbIW"
      }
    },
    {
      "cell_type": "code",
      "source": [
        "'''\n",
        "np.random.normal은 정규 분포 난수 추출 함수. \n",
        "loc = 평균. scale 표준편차. \n",
        "'''\n",
        "numbers = np.random.normal(loc=0.0,scale=1,size=[100, 100])\n",
        "print(numbers)\n",
        "print(numbers.mean())\n",
        "print(numbers.std())\n",
        "print(numbers.sum())"
      ],
      "metadata": {
        "colab": {
          "base_uri": "https://localhost:8080/"
        },
        "id": "TQH3nl75nbcy",
        "outputId": "4a38b56a-ccf7-4c7f-b493-30dd79a44981"
      },
      "execution_count": null,
      "outputs": [
        {
          "output_type": "stream",
          "name": "stdout",
          "text": [
            "[[-0.79134662  0.61081488 -0.93951528 ... -0.14186054 -0.67495374\n",
            "  -0.41781558]\n",
            " [ 1.55376047 -0.39962337 -0.92417037 ... -1.6883084  -0.41622784\n",
            "  -0.7659294 ]\n",
            " [-1.00009804 -1.62043562  0.47792401 ...  0.15193977 -0.68512999\n",
            "  -1.05262194]\n",
            " ...\n",
            " [ 0.07137775  0.81989503  0.95100821 ...  1.88087506 -0.55485833\n",
            "  -0.77246405]\n",
            " [-0.0129323  -0.48038217  0.21301149 ...  0.0581059   1.1072542\n",
            "  -0.95404291]\n",
            " [-0.91368134 -0.86449293 -1.19574181 ... -0.86275192  1.03403738\n",
            "   0.92169772]]\n",
            "-0.0060060122378457976\n",
            "0.993054072686864\n",
            "-60.060122378457976\n"
          ]
        }
      ]
    },
    {
      "cell_type": "markdown",
      "source": [
        "### Xavier initialization - 정규분포(glorot_normal), 균일분포(glorot_uniform) "
      ],
      "metadata": {
        "id": "pg7avjTsnfW5"
      }
    },
    {
      "cell_type": "code",
      "source": [
        "# glorot_normal\n",
        "fan_in = 20\n",
        "fan_out = 15\n",
        "scale_value = np.sqrt(2/(fan_in + fan_out))\n",
        "print('scale:', scale_value)\n",
        "weights = np.random.normal(loc=0.0, scale=scale_value, size=(100, 100))\n",
        "print(weights)\n",
        "print('weights mean:',weights.mean(), 'std:', weights.std(), 'sum:', weights.sum())"
      ],
      "metadata": {
        "colab": {
          "base_uri": "https://localhost:8080/"
        },
        "id": "4xH0XHucndEG",
        "outputId": "718ae9fd-d9a0-4866-f96b-640b485dd3f2"
      },
      "execution_count": null,
      "outputs": [
        {
          "output_type": "stream",
          "name": "stdout",
          "text": [
            "scale: 0.23904572186687872\n",
            "[[-0.26834078 -0.19200976 -0.4625595  ... -0.17633404  0.1087722\n",
            "  -0.13015605]\n",
            " [-0.0666797  -0.13674392 -0.24034975 ...  0.26562881 -0.09520079\n",
            "  -0.42338598]\n",
            " [ 0.33774111 -0.54030651  0.58257019 ... -0.08741651 -0.07086151\n",
            "   0.22712115]\n",
            " ...\n",
            " [-0.04911149 -0.08509569 -0.06283279 ... -0.09760333 -0.20288393\n",
            "  -0.16079376]\n",
            " [-0.33081286 -0.18614516 -0.18007943 ... -0.01557452 -0.00539356\n",
            "   0.18028554]\n",
            " [-0.21500192 -0.0655447  -0.11055094 ...  0.34918062 -0.17730887\n",
            "  -0.234625  ]]\n",
            "weights mean: -0.0034631343391761022 std: 0.23888550466122013 sum: -34.63134339176102\n"
          ]
        }
      ]
    },
    {
      "cell_type": "code",
      "source": [
        "# glorot_uniform\n",
        "fan_in = 10\n",
        "fan_out = 8\n",
        "limit = np.sqrt(6/(fan_in + fan_out))\n",
        "print('limit:', limit)\n",
        "weights = np.random.uniform(-1*limit, limit, size=(100, 100))\n",
        "print(weights)\n",
        "print('weights mean:',weights.mean(), 'std:', weights.std(), 'sum:', weights.sum())"
      ],
      "metadata": {
        "colab": {
          "base_uri": "https://localhost:8080/"
        },
        "id": "zcwWduceng06",
        "outputId": "e64e0eba-76d3-4a98-964b-521d6ad60407"
      },
      "execution_count": null,
      "outputs": [
        {
          "output_type": "stream",
          "name": "stdout",
          "text": [
            "limit: 0.5773502691896257\n",
            "[[ 0.5007488  -0.10312397 -0.12846807 ...  0.01245553 -0.43891502\n",
            "   0.02595959]\n",
            " [-0.40092326  0.53055092  0.25281774 ... -0.38125813  0.04226378\n",
            "   0.3994392 ]\n",
            " [ 0.42857926  0.55439939  0.08518123 ... -0.57404893 -0.42922306\n",
            "   0.21231899]\n",
            " ...\n",
            " [-0.16558902  0.04836107  0.24582188 ...  0.10228813  0.4936429\n",
            "   0.16365587]\n",
            " [-0.36342562  0.33405697  0.5108214  ...  0.32396477 -0.0935206\n",
            "   0.26186983]\n",
            " [ 0.24234825  0.37535156  0.48943769 ...  0.20912006 -0.56936936\n",
            "   0.3422474 ]]\n",
            "weights mean: 0.0006304656900300863 std: 0.33448664030294684 sum: 6.304656900300863\n"
          ]
        }
      ]
    },
    {
      "cell_type": "markdown",
      "source": [
        "### He initialization - 정규분포(he_normal), 균일분포(he_uniform) "
      ],
      "metadata": {
        "id": "yhpCsddrnkeh"
      }
    },
    {
      "cell_type": "code",
      "source": [
        "fan_in = 10\n",
        "fan_out = 8\n",
        "scale_value = np.sqrt(2/(fan_in))\n",
        "print('scale:', scale_value)\n",
        "weights = np.random.normal(loc=0.0, scale=scale_value, size=(100, 100))\n",
        "print(weights)\n",
        "print('weights mean:',weights.mean(), 'std:', weights.std(), 'sum:', weights.sum())"
      ],
      "metadata": {
        "colab": {
          "base_uri": "https://localhost:8080/"
        },
        "id": "NV_Xfd7rniWU",
        "outputId": "62683fdb-b356-4e6f-cef2-e281aea2e905"
      },
      "execution_count": null,
      "outputs": [
        {
          "output_type": "stream",
          "name": "stdout",
          "text": [
            "scale: 0.4472135954999579\n",
            "[[ 0.27928083  1.06853296  0.68812044 ...  0.00519863  0.37338649\n",
            "   0.03111017]\n",
            " [-0.14099772 -0.24176124  0.03351721 ... -0.82221269 -0.16064244\n",
            "   0.02617827]\n",
            " [ 0.01033604  0.58392456  0.75293029 ...  0.01854759  0.27169822\n",
            "  -0.36184849]\n",
            " ...\n",
            " [ 0.27150067  0.77272358  0.60336294 ...  0.48542045 -0.16578508\n",
            "  -0.20149342]\n",
            " [-0.76702209  0.3940018  -0.10473986 ... -0.83118823  0.18751527\n",
            "  -0.04181324]\n",
            " [-0.22867626 -0.02262392  0.07937445 ...  0.36041227 -0.24813413\n",
            "  -0.48821832]]\n",
            "weights mean: 0.003673156686130439 std: 0.451475115136126 sum: 36.73156686130439\n"
          ]
        }
      ]
    },
    {
      "cell_type": "code",
      "source": [
        "fan_in = 10\n",
        "fan_out = 8\n",
        "limit = np.sqrt(6/(fan_in))\n",
        "print('limit:', limit)\n",
        "weights = np.random.uniform(-1*limit, limit, size=(100, 100))\n",
        "print(weights)\n",
        "print('weights mean:',weights.mean(), 'std:', weights.std(), 'sum:', weights.sum())"
      ],
      "metadata": {
        "colab": {
          "base_uri": "https://localhost:8080/"
        },
        "id": "QeFdb5a2nmRU",
        "outputId": "be6ffbfc-a476-4cdc-b28b-6966eda09a1f"
      },
      "execution_count": null,
      "outputs": [
        {
          "output_type": "stream",
          "name": "stdout",
          "text": [
            "limit: 0.7745966692414834\n",
            "[[ 0.3042276  -0.27636178  0.38016506 ...  0.10054036  0.67222733\n",
            "   0.48180121]\n",
            " [ 0.01891217 -0.57570656 -0.75387505 ...  0.69477696  0.25516763\n",
            "  -0.04905514]\n",
            " [ 0.32137902  0.36003516 -0.16926827 ...  0.31582242 -0.74566096\n",
            "   0.08241178]\n",
            " ...\n",
            " [-0.4457891  -0.09624984 -0.61091222 ...  0.07591229 -0.64667383\n",
            "  -0.31843139]\n",
            " [ 0.08521069 -0.63917029  0.01038392 ... -0.00580054  0.3981015\n",
            "  -0.2754741 ]\n",
            " [-0.5845088  -0.05387058 -0.37485089 ... -0.59562284 -0.46328221\n",
            "   0.68166095]]\n",
            "weights mean: -0.007080791021952641 std: 0.4495631021044442 sum: -70.8079102195264\n"
          ]
        }
      ]
    },
    {
      "cell_type": "markdown",
      "source": [
        "### weight 초기화를 He Normal로 변경 후 성능 검증\n",
        "* Keras Conv2D의 기본 weight 초기화는 glorot_uniform임. 이를 he_normal로 변경 후 동일 모델로 성능 테스트 \n",
        "* label은 원-핫 인코딩을 적용 "
      ],
      "metadata": {
        "id": "dUv2-vA7NgMK"
      }
    },
    {
      "cell_type": "code",
      "source": [
        "from tensorflow.keras.datasets import cifar10\n",
        "from tensorflow.keras.utils import to_categorical\n",
        "\n",
        "\n",
        "def get_preprocessed_data(images, labels):\n",
        "    \n",
        "    # 학습과 테스트 이미지 array를 0~1 사이값으로 scale 및 float32 형 변형. \n",
        "    images = np.array(images/255.0, dtype=np.float32)\n",
        "    labels = np.array(labels, dtype=np.float32)\n",
        "    labels = labels.squeeze()\n",
        "    \n",
        "    return images, labels\n",
        "\n",
        "# 0 ~ 1사이값 float32로 변경하는 함수 호출 한 뒤 OHE 적용 \n",
        "def get_preprocessed_ohe(images, labels):\n",
        "    images, labels = get_preprocessed_data(images, labels)\n",
        "    # OHE 적용 \n",
        "    oh_labels = to_categorical(labels)\n",
        "    return images, oh_labels\n",
        "\n",
        "(train_images, train_labels), (test_images, test_labels) = cifar10.load_data()\n",
        "\n",
        "train_images, train_oh_labels = get_preprocessed_ohe(train_images, train_labels)\n",
        "test_images, test_oh_labels = get_preprocessed_ohe(test_images, test_labels)\n",
        "print(train_images.shape, train_oh_labels.shape, test_images.shape, test_oh_labels.shape)"
      ],
      "metadata": {
        "colab": {
          "base_uri": "https://localhost:8080/"
        },
        "id": "6quvuwbbMYeD",
        "outputId": "87198b2f-7c68-4238-bba5-557103653797"
      },
      "execution_count": null,
      "outputs": [
        {
          "output_type": "stream",
          "name": "stdout",
          "text": [
            "(50000, 32, 32, 3) (50000, 10) (10000, 32, 32, 3) (10000, 10)\n"
          ]
        }
      ]
    },
    {
      "cell_type": "code",
      "source": [
        "from tensorflow.keras.models import Sequential, Model\n",
        "from tensorflow.keras.layers import Input, Dense , Conv2D , Dropout , Flatten , Activation, MaxPooling2D , GlobalAveragePooling2D\n",
        "from tensorflow.keras.optimizers import Adam , RMSprop \n",
        "from tensorflow.keras.layers import BatchNormalization\n",
        "from tensorflow.keras.callbacks import ReduceLROnPlateau , EarlyStopping , ModelCheckpoint , LearningRateScheduler\n",
        "\n",
        "input_tensor = Input(shape=(IMAGE_SIZE, IMAGE_SIZE, 3))\n",
        "\n",
        "#x = Conv2D(filters=32, kernel_size=(5, 5), padding='valid', activation='relu')(input_tensor)\n",
        "x = Conv2D(filters=32, kernel_size=(3, 3), padding='same', activation='relu', kernel_initializer='he_normal')(input_tensor)\n",
        "x = Conv2D(filters=32, kernel_size=(3, 3), padding='same', activation='relu', kernel_initializer='he_normal')(x)\n",
        "x = MaxPooling2D(pool_size=(2, 2))(x)\n",
        "\n",
        "x = Conv2D(filters=64, kernel_size=3, padding='same', activation='relu', kernel_initializer='he_normal')(x)\n",
        "x = Conv2D(filters=64, kernel_size=3, padding='same', kernel_initializer='he_normal')(x)\n",
        "x = Activation('relu')(x)\n",
        "x = MaxPooling2D(pool_size=2)(x)\n",
        "\n",
        "x = Conv2D(filters=128, kernel_size=3, padding='same', activation='relu', kernel_initializer='he_normal')(x)\n",
        "x = Conv2D(filters=128, kernel_size=3, padding='same', activation='relu', kernel_initializer='he_normal')(x)\n",
        "x = MaxPooling2D(pool_size=2)(x)\n",
        "\n",
        "# cifar10의 클래스가 10개 이므로 마지막 classification의 Dense layer units갯수는 10\n",
        "x = Flatten(name='flatten')(x)\n",
        "x = Dropout(rate=0.5)(x)\n",
        "x = Dense(300, activation='relu', name='fc1')(x)\n",
        "x = Dropout(rate=0.3)(x)\n",
        "output = Dense(10, activation='softmax', name='output')(x)\n",
        "\n",
        "model = Model(inputs=input_tensor, outputs=output)\n",
        "\n",
        "model.summary()"
      ],
      "metadata": {
        "colab": {
          "base_uri": "https://localhost:8080/"
        },
        "id": "GJfbID4rNiBf",
        "outputId": "b0894f66-be3d-40fe-a4da-d279516cd756"
      },
      "execution_count": null,
      "outputs": [
        {
          "output_type": "stream",
          "name": "stdout",
          "text": [
            "Model: \"model_4\"\n",
            "_________________________________________________________________\n",
            " Layer (type)                Output Shape              Param #   \n",
            "=================================================================\n",
            " input_5 (InputLayer)        [(None, 32, 32, 3)]       0         \n",
            "                                                                 \n",
            " conv2d_24 (Conv2D)          (None, 32, 32, 32)        896       \n",
            "                                                                 \n",
            " conv2d_25 (Conv2D)          (None, 32, 32, 32)        9248      \n",
            "                                                                 \n",
            " max_pooling2d_12 (MaxPoolin  (None, 16, 16, 32)       0         \n",
            " g2D)                                                            \n",
            "                                                                 \n",
            " conv2d_26 (Conv2D)          (None, 16, 16, 64)        18496     \n",
            "                                                                 \n",
            " conv2d_27 (Conv2D)          (None, 16, 16, 64)        36928     \n",
            "                                                                 \n",
            " activation_4 (Activation)   (None, 16, 16, 64)        0         \n",
            "                                                                 \n",
            " max_pooling2d_13 (MaxPoolin  (None, 8, 8, 64)         0         \n",
            " g2D)                                                            \n",
            "                                                                 \n",
            " conv2d_28 (Conv2D)          (None, 8, 8, 128)         73856     \n",
            "                                                                 \n",
            " conv2d_29 (Conv2D)          (None, 8, 8, 128)         147584    \n",
            "                                                                 \n",
            " max_pooling2d_14 (MaxPoolin  (None, 4, 4, 128)        0         \n",
            " g2D)                                                            \n",
            "                                                                 \n",
            " flatten (Flatten)           (None, 2048)              0         \n",
            "                                                                 \n",
            " dropout_8 (Dropout)         (None, 2048)              0         \n",
            "                                                                 \n",
            " fc1 (Dense)                 (None, 300)               614700    \n",
            "                                                                 \n",
            " dropout_9 (Dropout)         (None, 300)               0         \n",
            "                                                                 \n",
            " output (Dense)              (None, 10)                3010      \n",
            "                                                                 \n",
            "=================================================================\n",
            "Total params: 904,718\n",
            "Trainable params: 904,718\n",
            "Non-trainable params: 0\n",
            "_________________________________________________________________\n"
          ]
        }
      ]
    },
    {
      "cell_type": "code",
      "source": [
        "# optimizer는 Adam으로 설정하고, label값이 원-핫 인코딩이므로 loss는 categorical_crossentropy 임. \n",
        "model.compile(optimizer=Adam(), loss='categorical_crossentropy', metrics=['accuracy'])\n",
        "history = model.fit(x=train_images, y=train_oh_labels, batch_size=64, epochs=30, validation_split=0.15 )"
      ],
      "metadata": {
        "colab": {
          "base_uri": "https://localhost:8080/"
        },
        "id": "nAkCc-_SNkOm",
        "outputId": "04a34752-0c90-4e90-8d28-6db987d72ba8"
      },
      "execution_count": null,
      "outputs": [
        {
          "output_type": "stream",
          "name": "stdout",
          "text": [
            "Epoch 1/30\n",
            "665/665 [==============================] - 8s 10ms/step - loss: 1.5850 - accuracy: 0.4153 - val_loss: 1.6192 - val_accuracy: 0.4476\n",
            "Epoch 2/30\n",
            "665/665 [==============================] - 5s 7ms/step - loss: 1.1511 - accuracy: 0.5904 - val_loss: 0.9867 - val_accuracy: 0.6572\n",
            "Epoch 3/30\n",
            "665/665 [==============================] - 5s 8ms/step - loss: 0.9680 - accuracy: 0.6588 - val_loss: 0.9220 - val_accuracy: 0.6783\n",
            "Epoch 4/30\n",
            "665/665 [==============================] - 6s 8ms/step - loss: 0.8424 - accuracy: 0.7027 - val_loss: 0.8370 - val_accuracy: 0.7115\n",
            "Epoch 5/30\n",
            "665/665 [==============================] - 5s 7ms/step - loss: 0.7511 - accuracy: 0.7343 - val_loss: 0.7396 - val_accuracy: 0.7447\n",
            "Epoch 6/30\n",
            "665/665 [==============================] - 5s 7ms/step - loss: 0.6850 - accuracy: 0.7584 - val_loss: 0.7796 - val_accuracy: 0.7317\n",
            "Epoch 7/30\n",
            "665/665 [==============================] - 4s 7ms/step - loss: 0.6277 - accuracy: 0.7783 - val_loss: 0.7704 - val_accuracy: 0.7369\n",
            "Epoch 8/30\n",
            "665/665 [==============================] - 5s 7ms/step - loss: 0.5900 - accuracy: 0.7930 - val_loss: 0.7098 - val_accuracy: 0.7607\n",
            "Epoch 9/30\n",
            "665/665 [==============================] - 5s 7ms/step - loss: 0.5438 - accuracy: 0.8070 - val_loss: 0.6630 - val_accuracy: 0.7760\n",
            "Epoch 10/30\n",
            "665/665 [==============================] - 5s 7ms/step - loss: 0.4958 - accuracy: 0.8257 - val_loss: 0.6487 - val_accuracy: 0.7772\n",
            "Epoch 11/30\n",
            "665/665 [==============================] - 5s 7ms/step - loss: 0.4686 - accuracy: 0.8332 - val_loss: 0.6619 - val_accuracy: 0.7801\n",
            "Epoch 12/30\n",
            "665/665 [==============================] - 5s 7ms/step - loss: 0.4478 - accuracy: 0.8433 - val_loss: 0.6639 - val_accuracy: 0.7837\n",
            "Epoch 13/30\n",
            "665/665 [==============================] - 5s 7ms/step - loss: 0.4193 - accuracy: 0.8531 - val_loss: 0.6655 - val_accuracy: 0.7823\n",
            "Epoch 14/30\n",
            "665/665 [==============================] - 5s 8ms/step - loss: 0.4045 - accuracy: 0.8573 - val_loss: 0.6660 - val_accuracy: 0.7817\n",
            "Epoch 15/30\n",
            "665/665 [==============================] - 5s 7ms/step - loss: 0.3796 - accuracy: 0.8660 - val_loss: 0.6622 - val_accuracy: 0.7887\n",
            "Epoch 16/30\n",
            "665/665 [==============================] - 5s 7ms/step - loss: 0.3648 - accuracy: 0.8711 - val_loss: 0.6899 - val_accuracy: 0.7867\n",
            "Epoch 17/30\n",
            "665/665 [==============================] - 5s 7ms/step - loss: 0.3528 - accuracy: 0.8750 - val_loss: 0.6529 - val_accuracy: 0.7917\n",
            "Epoch 18/30\n",
            "665/665 [==============================] - 5s 7ms/step - loss: 0.3349 - accuracy: 0.8820 - val_loss: 0.7492 - val_accuracy: 0.7804\n",
            "Epoch 19/30\n",
            "665/665 [==============================] - 5s 7ms/step - loss: 0.3372 - accuracy: 0.8807 - val_loss: 0.6703 - val_accuracy: 0.7909\n",
            "Epoch 20/30\n",
            "665/665 [==============================] - 5s 7ms/step - loss: 0.3246 - accuracy: 0.8855 - val_loss: 0.6796 - val_accuracy: 0.7912\n",
            "Epoch 21/30\n",
            "665/665 [==============================] - 5s 7ms/step - loss: 0.3113 - accuracy: 0.8909 - val_loss: 0.7282 - val_accuracy: 0.7853\n",
            "Epoch 22/30\n",
            "665/665 [==============================] - 5s 7ms/step - loss: 0.3049 - accuracy: 0.8935 - val_loss: 0.7049 - val_accuracy: 0.7980\n",
            "Epoch 23/30\n",
            "665/665 [==============================] - 4s 7ms/step - loss: 0.2906 - accuracy: 0.8989 - val_loss: 0.7153 - val_accuracy: 0.7885\n",
            "Epoch 24/30\n",
            "665/665 [==============================] - 5s 8ms/step - loss: 0.2895 - accuracy: 0.8997 - val_loss: 0.7188 - val_accuracy: 0.7849\n",
            "Epoch 25/30\n",
            "665/665 [==============================] - 5s 8ms/step - loss: 0.2967 - accuracy: 0.8957 - val_loss: 0.7322 - val_accuracy: 0.7928\n",
            "Epoch 26/30\n",
            "665/665 [==============================] - 5s 7ms/step - loss: 0.2727 - accuracy: 0.9046 - val_loss: 0.7496 - val_accuracy: 0.7925\n",
            "Epoch 27/30\n",
            "665/665 [==============================] - 5s 7ms/step - loss: 0.2727 - accuracy: 0.9043 - val_loss: 0.7077 - val_accuracy: 0.7959\n",
            "Epoch 28/30\n",
            "665/665 [==============================] - 5s 7ms/step - loss: 0.2681 - accuracy: 0.9062 - val_loss: 0.7246 - val_accuracy: 0.7945\n",
            "Epoch 29/30\n",
            "665/665 [==============================] - 5s 7ms/step - loss: 0.2590 - accuracy: 0.9099 - val_loss: 0.7245 - val_accuracy: 0.7888\n",
            "Epoch 30/30\n",
            "665/665 [==============================] - 5s 7ms/step - loss: 0.2525 - accuracy: 0.9133 - val_loss: 0.7549 - val_accuracy: 0.7853\n"
          ]
        }
      ]
    },
    {
      "cell_type": "code",
      "source": [
        "show_history(history)\n",
        "\n",
        "# 테스트 데이터로 성능 평가\n",
        "model.evaluate(test_images, test_oh_labels)"
      ],
      "metadata": {
        "colab": {
          "base_uri": "https://localhost:8080/",
          "height": 409
        },
        "id": "FLSgZDP_NmGW",
        "outputId": "7766724e-a084-4a36-feb4-52afaed7caf9"
      },
      "execution_count": null,
      "outputs": [
        {
          "output_type": "stream",
          "name": "stdout",
          "text": [
            "313/313 [==============================] - 1s 3ms/step - loss: 0.7857 - accuracy: 0.7779\n"
          ]
        },
        {
          "output_type": "execute_result",
          "data": {
            "text/plain": [
              "[0.7857272624969482, 0.777899980545044]"
            ]
          },
          "metadata": {},
          "execution_count": 38
        },
        {
          "output_type": "display_data",
          "data": {
            "image/png": "[encoded data removed]",
            "text/plain": [
              "<Figure size 432x432 with 1 Axes>"
            ]
          },
          "metadata": {
            "needs_background": "light"
          }
        }
      ]
    },
    {
      "cell_type": "markdown",
      "source": [
        "### Batch Normalization을 모델에 적용 후 성능 검증\n",
        "- Batch Normalization 하기 전에 `kernel_initializer='he_normal'`하면 성능에 큰 차이가 없다."
      ],
      "metadata": {
        "id": "28mjeOoXOidh"
      }
    },
    {
      "cell_type": "code",
      "source": [
        "import tensorflow as tf\n",
        "import numpy as np\n",
        "import random as python_random\n",
        "\n",
        "np.random.seed(2021)\n",
        "python_random.seed(2021)\n",
        "tf.random.set_seed(2021)"
      ],
      "metadata": {
        "id": "SPC_bz5wOmBS"
      },
      "execution_count": null,
      "outputs": []
    },
    {
      "cell_type": "code",
      "source": [
        "from tensorflow.keras.models import Sequential, Model\n",
        "from tensorflow.keras.layers import Input, Dense , Conv2D , Dropout , Flatten , Activation, MaxPooling2D , GlobalAveragePooling2D\n",
        "from tensorflow.keras.optimizers import Adam , RMSprop \n",
        "from tensorflow.keras.layers import BatchNormalization\n",
        "from tensorflow.keras.callbacks import ReduceLROnPlateau , EarlyStopping , ModelCheckpoint , LearningRateScheduler\n",
        "\n",
        "input_tensor = Input(shape=(IMAGE_SIZE, IMAGE_SIZE, 3))\n",
        "\n",
        "#x = Conv2D(filters=32, kernel_size=(5, 5), padding='valid', activation='relu')(input_tensor)\n",
        "x = Conv2D(filters=32, kernel_size=(3, 3), padding='same')(input_tensor)\n",
        "x = BatchNormalization()(x)\n",
        "x = Activation('relu')(x)\n",
        "# BatchNormalization 이후에 activation을 해야한다! 그러므로 BatchNormalization할 때는\n",
        "# x = Conv2D(filters=32, kernel_size=(5, 5), padding='valid', activation='relu')(input_tensor) 이렇게 쓰면 안된다. \n",
        "\n",
        "x = Conv2D(filters=32, kernel_size=(3, 3), padding='same')(x)\n",
        "x = BatchNormalization()(x)\n",
        "x = Activation('relu')(x)\n",
        "x = MaxPooling2D(pool_size=(2, 2))(x)\n",
        "\n",
        "x = Conv2D(filters=64, kernel_size=3, padding='same')(x)\n",
        "x = BatchNormalization()(x)\n",
        "x = Activation('relu')(x)\n",
        "\n",
        "x = Conv2D(filters=64, kernel_size=3, padding='same')(x)\n",
        "x = Activation('relu')(x)\n",
        "x = Activation('relu')(x)\n",
        "x = MaxPooling2D(pool_size=2)(x)\n",
        "\n",
        "x = Conv2D(filters=128, kernel_size=3, padding='same')(x)\n",
        "x = BatchNormalization()(x)\n",
        "x = Activation('relu')(x)\n",
        "\n",
        "x = Conv2D(filters=128, kernel_size=3, padding='same')(x)\n",
        "x = BatchNormalization()(x)\n",
        "x = Activation('relu')(x)\n",
        "x = MaxPooling2D(pool_size=2)(x)\n",
        "\n",
        "# cifar10의 클래스가 10개 이므로 마지막 classification의 Dense layer units갯수는 10\n",
        "x = Flatten(name='flatten')(x)\n",
        "x = Dropout(rate=0.5)(x)\n",
        "x = Dense(300, activation='relu', name='fc1')(x)\n",
        "x = Dropout(rate=0.3)(x)\n",
        "output = Dense(10, activation='softmax', name='output')(x)\n",
        "\n",
        "model = Model(inputs=input_tensor, outputs=output)\n",
        "\n",
        "model.summary()"
      ],
      "metadata": {
        "colab": {
          "base_uri": "https://localhost:8080/"
        },
        "id": "Uh_p_DX6XQrP",
        "outputId": "3f34a66e-d1b3-40c8-d1a7-f8f49fbdcf82"
      },
      "execution_count": null,
      "outputs": [
        {
          "output_type": "stream",
          "name": "stdout",
          "text": [
            "Model: \"model_5\"\n",
            "_________________________________________________________________\n",
            " Layer (type)                Output Shape              Param #   \n",
            "=================================================================\n",
            " input_6 (InputLayer)        [(None, 32, 32, 3)]       0         \n",
            "                                                                 \n",
            " conv2d_30 (Conv2D)          (None, 32, 32, 32)        896       \n",
            "                                                                 \n",
            " batch_normalization (BatchN  (None, 32, 32, 32)       128       \n",
            " ormalization)                                                   \n",
            "                                                                 \n",
            " activation_5 (Activation)   (None, 32, 32, 32)        0         \n",
            "                                                                 \n",
            " conv2d_31 (Conv2D)          (None, 32, 32, 32)        9248      \n",
            "                                                                 \n",
            " batch_normalization_1 (Batc  (None, 32, 32, 32)       128       \n",
            " hNormalization)                                                 \n",
            "                                                                 \n",
            " activation_6 (Activation)   (None, 32, 32, 32)        0         \n",
            "                                                                 \n",
            " max_pooling2d_15 (MaxPoolin  (None, 16, 16, 32)       0         \n",
            " g2D)                                                            \n",
            "                                                                 \n",
            " conv2d_32 (Conv2D)          (None, 16, 16, 64)        18496     \n",
            "                                                                 \n",
            " batch_normalization_2 (Batc  (None, 16, 16, 64)       256       \n",
            " hNormalization)                                                 \n",
            "                                                                 \n",
            " activation_7 (Activation)   (None, 16, 16, 64)        0         \n",
            "                                                                 \n",
            " conv2d_33 (Conv2D)          (None, 16, 16, 64)        36928     \n",
            "                                                                 \n",
            " activation_8 (Activation)   (None, 16, 16, 64)        0         \n",
            "                                                                 \n",
            " activation_9 (Activation)   (None, 16, 16, 64)        0         \n",
            "                                                                 \n",
            " max_pooling2d_16 (MaxPoolin  (None, 8, 8, 64)         0         \n",
            " g2D)                                                            \n",
            "                                                                 \n",
            " conv2d_34 (Conv2D)          (None, 8, 8, 128)         73856     \n",
            "                                                                 \n",
            " batch_normalization_3 (Batc  (None, 8, 8, 128)        512       \n",
            " hNormalization)                                                 \n",
            "                                                                 \n",
            " activation_10 (Activation)  (None, 8, 8, 128)         0         \n",
            "                                                                 \n",
            " conv2d_35 (Conv2D)          (None, 8, 8, 128)         147584    \n",
            "                                                                 \n",
            " batch_normalization_4 (Batc  (None, 8, 8, 128)        512       \n",
            " hNormalization)                                                 \n",
            "                                                                 \n",
            " activation_11 (Activation)  (None, 8, 8, 128)         0         \n",
            "                                                                 \n",
            " max_pooling2d_17 (MaxPoolin  (None, 4, 4, 128)        0         \n",
            " g2D)                                                            \n",
            "                                                                 \n",
            " flatten (Flatten)           (None, 2048)              0         \n",
            "                                                                 \n",
            " dropout_10 (Dropout)        (None, 2048)              0         \n",
            "                                                                 \n",
            " fc1 (Dense)                 (None, 300)               614700    \n",
            "                                                                 \n",
            " dropout_11 (Dropout)        (None, 300)               0         \n",
            "                                                                 \n",
            " output (Dense)              (None, 10)                3010      \n",
            "                                                                 \n",
            "=================================================================\n",
            "Total params: 906,254\n",
            "Trainable params: 905,486\n",
            "Non-trainable params: 768\n",
            "_________________________________________________________________\n"
          ]
        }
      ]
    },
    {
      "cell_type": "code",
      "source": [
        "# label값이 원-핫 인코딩이 아니므로 loss는 categorical_crossentropy 임. \n",
        "model.compile(optimizer=Adam(), loss='categorical_crossentropy', metrics=['accuracy'])\n",
        "history = model.fit(x=train_images, y=train_oh_labels, batch_size=64, epochs=30, validation_split=0.15)"
      ],
      "metadata": {
        "colab": {
          "base_uri": "https://localhost:8080/"
        },
        "id": "-qsgCoTWXSLY",
        "outputId": "94302a72-a153-43cc-e2d7-fc90d36b2cb3"
      },
      "execution_count": null,
      "outputs": [
        {
          "output_type": "stream",
          "name": "stdout",
          "text": [
            "Epoch 1/30\n",
            "665/665 [==============================] - 8s 10ms/step - loss: 1.5712 - accuracy: 0.4303 - val_loss: 1.3633 - val_accuracy: 0.5229\n",
            "Epoch 2/30\n",
            "665/665 [==============================] - 6s 9ms/step - loss: 1.1060 - accuracy: 0.6009 - val_loss: 1.5711 - val_accuracy: 0.5133\n",
            "Epoch 3/30\n",
            "665/665 [==============================] - 7s 10ms/step - loss: 0.9123 - accuracy: 0.6822 - val_loss: 1.1449 - val_accuracy: 0.6228\n",
            "Epoch 4/30\n",
            "665/665 [==============================] - 6s 8ms/step - loss: 0.8004 - accuracy: 0.7228 - val_loss: 0.8534 - val_accuracy: 0.7036\n",
            "Epoch 5/30\n",
            "665/665 [==============================] - 5s 8ms/step - loss: 0.7161 - accuracy: 0.7494 - val_loss: 0.9655 - val_accuracy: 0.6780\n",
            "Epoch 6/30\n",
            "665/665 [==============================] - 6s 8ms/step - loss: 0.6527 - accuracy: 0.7743 - val_loss: 0.8448 - val_accuracy: 0.7291\n",
            "Epoch 7/30\n",
            "665/665 [==============================] - 5s 8ms/step - loss: 0.5944 - accuracy: 0.7935 - val_loss: 0.9974 - val_accuracy: 0.6713\n",
            "Epoch 8/30\n",
            "665/665 [==============================] - 6s 9ms/step - loss: 0.5441 - accuracy: 0.8133 - val_loss: 1.0469 - val_accuracy: 0.6897\n",
            "Epoch 9/30\n",
            "665/665 [==============================] - 6s 9ms/step - loss: 0.4974 - accuracy: 0.8292 - val_loss: 0.6856 - val_accuracy: 0.7659\n",
            "Epoch 10/30\n",
            "665/665 [==============================] - 8s 12ms/step - loss: 0.4645 - accuracy: 0.8406 - val_loss: 0.6380 - val_accuracy: 0.7872\n",
            "Epoch 11/30\n",
            "665/665 [==============================] - 7s 10ms/step - loss: 0.4291 - accuracy: 0.8545 - val_loss: 0.6022 - val_accuracy: 0.8011\n",
            "Epoch 12/30\n",
            "665/665 [==============================] - 7s 11ms/step - loss: 0.3845 - accuracy: 0.8655 - val_loss: 0.7557 - val_accuracy: 0.7684\n",
            "Epoch 13/30\n",
            "665/665 [==============================] - 7s 11ms/step - loss: 0.3642 - accuracy: 0.8730 - val_loss: 0.5903 - val_accuracy: 0.8092\n",
            "Epoch 14/30\n",
            "665/665 [==============================] - 8s 12ms/step - loss: 0.3381 - accuracy: 0.8836 - val_loss: 0.6531 - val_accuracy: 0.7863\n",
            "Epoch 15/30\n",
            "665/665 [==============================] - 6s 9ms/step - loss: 0.3102 - accuracy: 0.8944 - val_loss: 0.7216 - val_accuracy: 0.7775\n",
            "Epoch 16/30\n",
            "665/665 [==============================] - 6s 9ms/step - loss: 0.2940 - accuracy: 0.8996 - val_loss: 0.5907 - val_accuracy: 0.8159\n",
            "Epoch 17/30\n",
            "665/665 [==============================] - 7s 10ms/step - loss: 0.2714 - accuracy: 0.9075 - val_loss: 0.7867 - val_accuracy: 0.7837\n",
            "Epoch 18/30\n",
            "665/665 [==============================] - 6s 8ms/step - loss: 0.2479 - accuracy: 0.9162 - val_loss: 0.6777 - val_accuracy: 0.8060\n",
            "Epoch 19/30\n",
            "665/665 [==============================] - 5s 8ms/step - loss: 0.2385 - accuracy: 0.9173 - val_loss: 0.8035 - val_accuracy: 0.7872\n",
            "Epoch 20/30\n",
            "665/665 [==============================] - 5s 8ms/step - loss: 0.2214 - accuracy: 0.9244 - val_loss: 0.7817 - val_accuracy: 0.7841\n",
            "Epoch 21/30\n",
            "665/665 [==============================] - 5s 8ms/step - loss: 0.2114 - accuracy: 0.9272 - val_loss: 0.6830 - val_accuracy: 0.8087\n",
            "Epoch 22/30\n",
            "665/665 [==============================] - 6s 8ms/step - loss: 0.1973 - accuracy: 0.9320 - val_loss: 0.6482 - val_accuracy: 0.8188\n",
            "Epoch 23/30\n",
            "665/665 [==============================] - 6s 9ms/step - loss: 0.1842 - accuracy: 0.9365 - val_loss: 0.6389 - val_accuracy: 0.8223\n",
            "Epoch 24/30\n",
            "665/665 [==============================] - 6s 9ms/step - loss: 0.1781 - accuracy: 0.9388 - val_loss: 0.8010 - val_accuracy: 0.7944\n",
            "Epoch 25/30\n",
            "665/665 [==============================] - 6s 10ms/step - loss: 0.1823 - accuracy: 0.9384 - val_loss: 0.6877 - val_accuracy: 0.8267\n",
            "Epoch 26/30\n",
            "665/665 [==============================] - 5s 8ms/step - loss: 0.1532 - accuracy: 0.9473 - val_loss: 1.1187 - val_accuracy: 0.7496\n",
            "Epoch 27/30\n",
            "665/665 [==============================] - 5s 8ms/step - loss: 0.1590 - accuracy: 0.9455 - val_loss: 0.6537 - val_accuracy: 0.8304\n",
            "Epoch 28/30\n",
            "665/665 [==============================] - 5s 8ms/step - loss: 0.1447 - accuracy: 0.9504 - val_loss: 0.7947 - val_accuracy: 0.8115\n",
            "Epoch 29/30\n",
            "665/665 [==============================] - 6s 8ms/step - loss: 0.1453 - accuracy: 0.9515 - val_loss: 0.7576 - val_accuracy: 0.8165\n",
            "Epoch 30/30\n",
            "665/665 [==============================] - 5s 8ms/step - loss: 0.1384 - accuracy: 0.9526 - val_loss: 0.7188 - val_accuracy: 0.8207\n"
          ]
        }
      ]
    },
    {
      "cell_type": "code",
      "source": [
        "model.evaluate(test_images, test_oh_labels)"
      ],
      "metadata": {
        "colab": {
          "base_uri": "https://localhost:8080/"
        },
        "id": "MHx3-uhlXYWf",
        "outputId": "2866e618-b093-418e-da0a-51eed4ff0ec3"
      },
      "execution_count": null,
      "outputs": [
        {
          "output_type": "stream",
          "name": "stdout",
          "text": [
            "313/313 [==============================] - 1s 4ms/step - loss: 0.7446 - accuracy: 0.8176\n"
          ]
        },
        {
          "output_type": "execute_result",
          "data": {
            "text/plain": [
              "[0.7446005344390869, 0.8176000118255615]"
            ]
          },
          "metadata": {},
          "execution_count": 42
        }
      ]
    },
    {
      "cell_type": "markdown",
      "source": [
        "### 학습 시 데이터를 섞는 shuffle 적용 유무에 따른  성능 테스트"
      ],
      "metadata": {
        "id": "TOjWUSR55jqg"
      }
    },
    {
      "cell_type": "code",
      "source": [
        "import tensorflow as tf\n",
        "import numpy as np\n",
        "import random as python_random\n",
        "from tensorflow.keras.utils import to_categorical\n",
        "from sklearn.model_selection import train_test_split\n",
        "\n",
        "# seed 를 설정해서 학습시마다 동일한 결과 유도. 불행히도 의도한 대로 동작하지 않음. \n",
        "def set_random_seed(seed_value):\n",
        "    np.random.seed(seed_value)\n",
        "    python_random.seed(seed_value)\n",
        "    tf.random.set_seed(seed_value)\n",
        "\n",
        "# 0 ~ 1사이값의 float32로 변경하는 함수\n",
        "def get_preprocessed_data(images, labels):\n",
        "    \n",
        "    # 학습과 테스트 이미지 array를 0~1 사이값으로 scale 및 float32 형 변형. \n",
        "    images = np.array(images/255.0, dtype=np.float32)\n",
        "    labels = np.array(labels, dtype=np.float32)\n",
        "    \n",
        "    return images, labels\n",
        "\n",
        "# 0 ~ 1사이값 float32로 변경하는 함수 호출 한 뒤 OHE 적용 \n",
        "def get_preprocessed_ohe(images, labels):\n",
        "    images, labels = get_preprocessed_data(images, labels)\n",
        "    # OHE 적용 \n",
        "    oh_labels = to_categorical(labels)\n",
        "    return images, oh_labels\n",
        "\n",
        "# 학습/검증/테스트 데이터 세트에 전처리 및 OHE 적용한 뒤 반환 \n",
        "def get_train_valid_test_set(train_images, train_labels, test_images, test_labels, valid_size=0.15, random_state=2021):\n",
        "    # 학습 및 테스트 데이터 세트를  0 ~ 1사이값 float32로 변경 및 OHE 적용. \n",
        "    train_images, train_oh_labels = get_preprocessed_ohe(train_images, train_labels)\n",
        "    test_images, test_oh_labels = get_preprocessed_ohe(test_images, test_labels)\n",
        "    \n",
        "    # 학습 데이터를 검증 데이터 세트로 다시 분리\n",
        "    tr_images, val_images, tr_oh_labels, val_oh_labels = train_test_split(train_images, train_oh_labels, test_size=valid_size, random_state=random_state)\n",
        "    \n",
        "    return (tr_images, tr_oh_labels), (val_images, val_oh_labels), (test_images, test_oh_labels ) "
      ],
      "metadata": {
        "id": "7weHLhPH5kCV"
      },
      "execution_count": 1,
      "outputs": []
    },
    {
      "cell_type": "code",
      "source": [
        "from tensorflow.keras.datasets import cifar10\n",
        "\n",
        "# random seed는 2021로 고정.\n",
        "set_random_seed(2021)\n",
        "# CIFAR10 데이터 재 로딩 및 Scaling/OHE 전처리 적용하여 학습/검증/데이터 세트 생성. \n",
        "(train_images, train_labels), (test_images, test_labels) = cifar10.load_data()\n",
        "print(train_images.shape, train_labels.shape, test_images.shape, test_labels.shape)\n",
        "(tr_images, tr_oh_labels), (val_images, val_oh_labels), (test_images, test_oh_labels) = \\\n",
        "    get_train_valid_test_set(train_images, train_labels, test_images, test_labels, valid_size=0.15, random_state=2021)\n",
        "\n",
        "print(tr_images.shape, tr_oh_labels.shape, val_images.shape, val_oh_labels.shape, test_images.shape, test_oh_labels.shape)"
      ],
      "metadata": {
        "colab": {
          "base_uri": "https://localhost:8080/"
        },
        "id": "gHbkHZx25mFK",
        "outputId": "f36c4620-e662-4fe8-a22b-001412b1ca37"
      },
      "execution_count": 2,
      "outputs": [
        {
          "output_type": "stream",
          "name": "stdout",
          "text": [
            "Downloading data from https://www.cs.toronto.edu/~kriz/cifar-10-python.tar.gz\n",
            "170500096/170498071 [==============================] - 4s 0us/step\n",
            "170508288/170498071 [==============================] - 4s 0us/step\n",
            "(50000, 32, 32, 3) (50000, 1) (10000, 32, 32, 3) (10000, 1)\n",
            "(42500, 32, 32, 3) (42500, 10) (7500, 32, 32, 3) (7500, 10) (10000, 32, 32, 3) (10000, 10)\n"
          ]
        }
      ]
    },
    {
      "cell_type": "markdown",
      "source": [
        "### model 생성을 위한 별도 함수 생성"
      ],
      "metadata": {
        "id": "mbG4YkjR7FAQ"
      }
    },
    {
      "cell_type": "code",
      "source": [
        "from tensorflow.keras.models import Sequential, Model\n",
        "from tensorflow.keras.layers import Input, Dense , Conv2D , Dropout , Flatten , Activation, MaxPooling2D , GlobalAveragePooling2D\n",
        "from tensorflow.keras.optimizers import Adam , RMSprop \n",
        "from tensorflow.keras.layers import BatchNormalization\n",
        "from tensorflow.keras.callbacks import ReduceLROnPlateau , EarlyStopping , ModelCheckpoint , LearningRateScheduler\n",
        "\n",
        "IMAGE_SIZE = 32\n",
        "\n",
        "def create_model():\n",
        "    input_tensor = Input(shape=(IMAGE_SIZE, IMAGE_SIZE, 3))\n",
        "\n",
        "    #x = Conv2D(filters=32, kernel_size=(5, 5), padding='valid', activation='relu')(input_tensor)\n",
        "    x = Conv2D(filters=32, kernel_size=(3, 3), padding='same')(input_tensor)\n",
        "    x = BatchNormalization()(x)\n",
        "    x = Activation('relu')(x)\n",
        "\n",
        "    x = Conv2D(filters=32, kernel_size=(3, 3), padding='same')(x)\n",
        "    x = BatchNormalization()(x)\n",
        "    x = Activation('relu')(x)\n",
        "    x = MaxPooling2D(pool_size=(2, 2))(x)\n",
        "\n",
        "    x = Conv2D(filters=64, kernel_size=3, padding='same')(x)\n",
        "    x = BatchNormalization()(x)\n",
        "    x = Activation('relu')(x)\n",
        "\n",
        "    x = Conv2D(filters=64, kernel_size=3, padding='same')(x)\n",
        "    x = Activation('relu')(x)\n",
        "    x = Activation('relu')(x)\n",
        "    x = MaxPooling2D(pool_size=2)(x)\n",
        "\n",
        "    x = Conv2D(filters=128, kernel_size=3, padding='same')(x)\n",
        "    x = BatchNormalization()(x)\n",
        "    x = Activation('relu')(x)\n",
        "\n",
        "    x = Conv2D(filters=128, kernel_size=3, padding='same')(x)\n",
        "    x = BatchNormalization()(x)\n",
        "    x = Activation('relu')(x)\n",
        "    x = MaxPooling2D(pool_size=2)(x)\n",
        "\n",
        "    # cifar10의 클래스가 10개 이므로 마지막 classification의 Dense layer units갯수는 10\n",
        "    x = Flatten(name='flatten')(x)\n",
        "    x = Dropout(rate=0.5)(x)\n",
        "    x = Dense(300, activation='relu', name='fc1')(x)\n",
        "    x = Dropout(rate=0.3)(x)\n",
        "    output = Dense(10, activation='softmax', name='output')(x)\n",
        "\n",
        "    model = Model(inputs=input_tensor, outputs=output)\n",
        "    #model.summary()\n",
        "    \n",
        "    return model\n"
      ],
      "metadata": {
        "id": "JR4UrPRg5urr"
      },
      "execution_count": 5,
      "outputs": []
    },
    {
      "cell_type": "markdown",
      "source": [
        "### shuffle을 False/True 변경하면서 테스트 "
      ],
      "metadata": {
        "id": "SQ8duUmr7Srj"
      }
    },
    {
      "cell_type": "code",
      "source": [
        "model = create_model()\n",
        "model.compile(optimizer=Adam(), loss='categorical_crossentropy', metrics=['accuracy'])\n",
        "# 먼저 shuffle을 false로 테스트 \n",
        "noshuffle_history = model.fit(x=tr_images, y=tr_oh_labels, batch_size=64, epochs=30, shuffle=False, \n",
        "                    validation_data=(val_images, val_oh_labels))\n",
        "evaluation_result = model.evaluate(test_images, test_oh_labels, batch_size=64)\n",
        "print('#### 테스트 세트로 evaluation 결과 :', evaluation_result)\n",
        "\n",
        "# model이 반복적으로 메모리 차지하는것을 없애기 위해서 수행. \n",
        "tf.keras.backend.clear_session()"
      ],
      "metadata": {
        "colab": {
          "base_uri": "https://localhost:8080/"
        },
        "id": "dC3PJZB67G1O",
        "outputId": "190bad0e-e83a-4902-cd5f-2be02731d474"
      },
      "execution_count": 6,
      "outputs": [
        {
          "output_type": "stream",
          "name": "stdout",
          "text": [
            "Epoch 1/30\n",
            "665/665 [==============================] - 17s 10ms/step - loss: 1.5766 - accuracy: 0.4263 - val_loss: 1.4160 - val_accuracy: 0.4989\n",
            "Epoch 2/30\n",
            "665/665 [==============================] - 6s 9ms/step - loss: 1.1245 - accuracy: 0.5993 - val_loss: 1.1802 - val_accuracy: 0.5896\n",
            "Epoch 3/30\n",
            "665/665 [==============================] - 6s 10ms/step - loss: 0.9249 - accuracy: 0.6734 - val_loss: 0.9574 - val_accuracy: 0.6575\n",
            "Epoch 4/30\n",
            "665/665 [==============================] - 6s 10ms/step - loss: 0.8141 - accuracy: 0.7158 - val_loss: 0.9491 - val_accuracy: 0.6765\n",
            "Epoch 5/30\n",
            "665/665 [==============================] - 6s 9ms/step - loss: 0.7249 - accuracy: 0.7489 - val_loss: 0.8124 - val_accuracy: 0.7231\n",
            "Epoch 6/30\n",
            "665/665 [==============================] - 6s 10ms/step - loss: 0.6476 - accuracy: 0.7728 - val_loss: 1.1241 - val_accuracy: 0.6691\n",
            "Epoch 7/30\n",
            "665/665 [==============================] - 6s 10ms/step - loss: 0.5880 - accuracy: 0.7964 - val_loss: 0.9309 - val_accuracy: 0.7131\n",
            "Epoch 8/30\n",
            "665/665 [==============================] - 6s 9ms/step - loss: 0.5321 - accuracy: 0.8150 - val_loss: 0.8022 - val_accuracy: 0.7499\n",
            "Epoch 9/30\n",
            "665/665 [==============================] - 6s 9ms/step - loss: 0.4870 - accuracy: 0.8304 - val_loss: 0.7233 - val_accuracy: 0.7667\n",
            "Epoch 10/30\n",
            "665/665 [==============================] - 6s 9ms/step - loss: 0.4448 - accuracy: 0.8451 - val_loss: 0.9201 - val_accuracy: 0.7432\n",
            "Epoch 11/30\n",
            "665/665 [==============================] - 6s 10ms/step - loss: 0.4143 - accuracy: 0.8537 - val_loss: 0.6857 - val_accuracy: 0.7872\n",
            "Epoch 12/30\n",
            "665/665 [==============================] - 6s 10ms/step - loss: 0.3704 - accuracy: 0.8705 - val_loss: 0.7203 - val_accuracy: 0.7861\n",
            "Epoch 13/30\n",
            "665/665 [==============================] - 6s 9ms/step - loss: 0.3458 - accuracy: 0.8780 - val_loss: 0.8429 - val_accuracy: 0.7739\n",
            "Epoch 14/30\n",
            "665/665 [==============================] - 6s 9ms/step - loss: 0.3239 - accuracy: 0.8885 - val_loss: 0.8373 - val_accuracy: 0.7767\n",
            "Epoch 15/30\n",
            "665/665 [==============================] - 7s 10ms/step - loss: 0.2951 - accuracy: 0.8969 - val_loss: 0.8601 - val_accuracy: 0.7757\n",
            "Epoch 16/30\n",
            "665/665 [==============================] - 6s 9ms/step - loss: 0.2746 - accuracy: 0.9041 - val_loss: 0.7054 - val_accuracy: 0.8101\n",
            "Epoch 17/30\n",
            "665/665 [==============================] - 6s 9ms/step - loss: 0.2589 - accuracy: 0.9089 - val_loss: 0.6644 - val_accuracy: 0.8169\n",
            "Epoch 18/30\n",
            "665/665 [==============================] - 6s 9ms/step - loss: 0.2339 - accuracy: 0.9179 - val_loss: 0.9585 - val_accuracy: 0.7780\n",
            "Epoch 19/30\n",
            "665/665 [==============================] - 6s 10ms/step - loss: 0.2201 - accuracy: 0.9229 - val_loss: 0.7321 - val_accuracy: 0.8151\n",
            "Epoch 20/30\n",
            "665/665 [==============================] - 7s 10ms/step - loss: 0.2059 - accuracy: 0.9281 - val_loss: 0.8094 - val_accuracy: 0.8004\n",
            "Epoch 21/30\n",
            "665/665 [==============================] - 6s 10ms/step - loss: 0.1934 - accuracy: 0.9319 - val_loss: 0.8373 - val_accuracy: 0.7952\n",
            "Epoch 22/30\n",
            "665/665 [==============================] - 7s 10ms/step - loss: 0.1887 - accuracy: 0.9352 - val_loss: 0.8606 - val_accuracy: 0.7895\n",
            "Epoch 23/30\n",
            "665/665 [==============================] - 7s 10ms/step - loss: 0.1741 - accuracy: 0.9397 - val_loss: 0.9743 - val_accuracy: 0.7924\n",
            "Epoch 24/30\n",
            "665/665 [==============================] - 7s 10ms/step - loss: 0.1680 - accuracy: 0.9410 - val_loss: 0.8216 - val_accuracy: 0.8119\n",
            "Epoch 25/30\n",
            "665/665 [==============================] - 6s 10ms/step - loss: 0.1568 - accuracy: 0.9465 - val_loss: 1.0065 - val_accuracy: 0.7813\n",
            "Epoch 26/30\n",
            "665/665 [==============================] - 7s 10ms/step - loss: 0.1510 - accuracy: 0.9473 - val_loss: 0.9770 - val_accuracy: 0.7897\n",
            "Epoch 27/30\n",
            "665/665 [==============================] - 7s 10ms/step - loss: 0.1493 - accuracy: 0.9488 - val_loss: 0.8625 - val_accuracy: 0.8075\n",
            "Epoch 28/30\n",
            "665/665 [==============================] - 8s 12ms/step - loss: 0.1383 - accuracy: 0.9512 - val_loss: 0.9243 - val_accuracy: 0.8137\n",
            "Epoch 29/30\n",
            "665/665 [==============================] - 10s 15ms/step - loss: 0.1369 - accuracy: 0.9528 - val_loss: 0.9077 - val_accuracy: 0.8047\n",
            "Epoch 30/30\n",
            "665/665 [==============================] - 8s 12ms/step - loss: 0.1253 - accuracy: 0.9564 - val_loss: 0.9105 - val_accuracy: 0.8003\n",
            "157/157 [==============================] - 1s 7ms/step - loss: 0.9321 - accuracy: 0.7998\n",
            "#### 테스트 세트로 evaluation 결과 : [0.9321135878562927, 0.7997999787330627]\n"
          ]
        }
      ]
    },
    {
      "cell_type": "markdown",
      "source": [
        "### shuffle을 True로 변경하고 학습 및 테스트"
      ],
      "metadata": {
        "id": "s-fcfQTl7WfU"
      }
    },
    {
      "cell_type": "code",
      "source": [
        "model = create_model()\n",
        "model.compile(optimizer=Adam(), loss='categorical_crossentropy', metrics=['accuracy'])\n",
        "# shuffle을 True로 변경하여 학습 및 테스트\n",
        "shuffle_history = model.fit(x=tr_images, y=tr_oh_labels, batch_size=64, epochs=30, shuffle=True, \n",
        "                    validation_data=(val_images, val_oh_labels))\n",
        "evaluation_result = model.evaluate(test_images, test_oh_labels, batch_size=64)\n",
        "print('#### 테스트 세트로 evaluation 결과 :', evaluation_result)\n",
        "\n",
        "tf.keras.backend.clear_session()"
      ],
      "metadata": {
        "colab": {
          "base_uri": "https://localhost:8080/"
        },
        "id": "2rQWrxvB7UNu",
        "outputId": "90a3bec0-fe44-4749-a041-b420b0cbd856"
      },
      "execution_count": 7,
      "outputs": [
        {
          "output_type": "stream",
          "name": "stdout",
          "text": [
            "Epoch 1/30\n",
            "665/665 [==============================] - 9s 11ms/step - loss: 1.5574 - accuracy: 0.4364 - val_loss: 1.2938 - val_accuracy: 0.5404\n",
            "Epoch 2/30\n",
            "665/665 [==============================] - 6s 10ms/step - loss: 1.1032 - accuracy: 0.6052 - val_loss: 1.4110 - val_accuracy: 0.5343\n",
            "Epoch 3/30\n",
            "665/665 [==============================] - 7s 10ms/step - loss: 0.9199 - accuracy: 0.6762 - val_loss: 0.8634 - val_accuracy: 0.6992\n",
            "Epoch 4/30\n",
            "665/665 [==============================] - 7s 10ms/step - loss: 0.8023 - accuracy: 0.7224 - val_loss: 0.8768 - val_accuracy: 0.6864\n",
            "Epoch 5/30\n",
            "665/665 [==============================] - 6s 9ms/step - loss: 0.7175 - accuracy: 0.7513 - val_loss: 0.7562 - val_accuracy: 0.7371\n",
            "Epoch 6/30\n",
            "665/665 [==============================] - 6s 10ms/step - loss: 0.6471 - accuracy: 0.7744 - val_loss: 0.7890 - val_accuracy: 0.7297\n",
            "Epoch 7/30\n",
            "665/665 [==============================] - 6s 9ms/step - loss: 0.5896 - accuracy: 0.7944 - val_loss: 0.7390 - val_accuracy: 0.7485\n",
            "Epoch 8/30\n",
            "665/665 [==============================] - 6s 9ms/step - loss: 0.5466 - accuracy: 0.8120 - val_loss: 0.9402 - val_accuracy: 0.6859\n",
            "Epoch 9/30\n",
            "665/665 [==============================] - 6s 10ms/step - loss: 0.4970 - accuracy: 0.8284 - val_loss: 0.6389 - val_accuracy: 0.7864\n",
            "Epoch 10/30\n",
            "665/665 [==============================] - 6s 10ms/step - loss: 0.4518 - accuracy: 0.8460 - val_loss: 0.7690 - val_accuracy: 0.7488\n",
            "Epoch 11/30\n",
            "665/665 [==============================] - 6s 10ms/step - loss: 0.4219 - accuracy: 0.8560 - val_loss: 0.6773 - val_accuracy: 0.7792\n",
            "Epoch 12/30\n",
            "665/665 [==============================] - 7s 11ms/step - loss: 0.3928 - accuracy: 0.8642 - val_loss: 0.6746 - val_accuracy: 0.7795\n",
            "Epoch 13/30\n",
            "665/665 [==============================] - 7s 10ms/step - loss: 0.3596 - accuracy: 0.8760 - val_loss: 0.7281 - val_accuracy: 0.7712\n",
            "Epoch 14/30\n",
            "665/665 [==============================] - 7s 10ms/step - loss: 0.3317 - accuracy: 0.8846 - val_loss: 0.5261 - val_accuracy: 0.8253\n",
            "Epoch 15/30\n",
            "665/665 [==============================] - 7s 10ms/step - loss: 0.3062 - accuracy: 0.8943 - val_loss: 0.6187 - val_accuracy: 0.8085\n",
            "Epoch 16/30\n",
            "665/665 [==============================] - 6s 10ms/step - loss: 0.2958 - accuracy: 0.8967 - val_loss: 0.6113 - val_accuracy: 0.8111\n",
            "Epoch 17/30\n",
            "665/665 [==============================] - 6s 10ms/step - loss: 0.2651 - accuracy: 0.9083 - val_loss: 0.8099 - val_accuracy: 0.7633\n",
            "Epoch 18/30\n",
            "665/665 [==============================] - 6s 10ms/step - loss: 0.2445 - accuracy: 0.9149 - val_loss: 0.6269 - val_accuracy: 0.8153\n",
            "Epoch 19/30\n",
            "665/665 [==============================] - 7s 10ms/step - loss: 0.2311 - accuracy: 0.9208 - val_loss: 0.6370 - val_accuracy: 0.8051\n",
            "Epoch 20/30\n",
            "665/665 [==============================] - 7s 10ms/step - loss: 0.2197 - accuracy: 0.9250 - val_loss: 0.6226 - val_accuracy: 0.8195\n",
            "Epoch 21/30\n",
            "665/665 [==============================] - 6s 10ms/step - loss: 0.2124 - accuracy: 0.9260 - val_loss: 0.6655 - val_accuracy: 0.8123\n",
            "Epoch 22/30\n",
            "665/665 [==============================] - 6s 10ms/step - loss: 0.1897 - accuracy: 0.9350 - val_loss: 0.7144 - val_accuracy: 0.8056\n",
            "Epoch 23/30\n",
            "665/665 [==============================] - 7s 10ms/step - loss: 0.1883 - accuracy: 0.9344 - val_loss: 0.6547 - val_accuracy: 0.8224\n",
            "Epoch 24/30\n",
            "665/665 [==============================] - 6s 10ms/step - loss: 0.1704 - accuracy: 0.9415 - val_loss: 0.7828 - val_accuracy: 0.8072\n",
            "Epoch 25/30\n",
            "665/665 [==============================] - 6s 10ms/step - loss: 0.1632 - accuracy: 0.9428 - val_loss: 0.8815 - val_accuracy: 0.7877\n",
            "Epoch 26/30\n",
            "665/665 [==============================] - 7s 10ms/step - loss: 0.1659 - accuracy: 0.9429 - val_loss: 0.8091 - val_accuracy: 0.8093\n",
            "Epoch 27/30\n",
            "665/665 [==============================] - 8s 12ms/step - loss: 0.1479 - accuracy: 0.9485 - val_loss: 1.0123 - val_accuracy: 0.7647\n",
            "Epoch 28/30\n",
            "665/665 [==============================] - 8s 12ms/step - loss: 0.1459 - accuracy: 0.9497 - val_loss: 0.6839 - val_accuracy: 0.8283\n",
            "Epoch 29/30\n",
            "665/665 [==============================] - 7s 10ms/step - loss: 0.1386 - accuracy: 0.9519 - val_loss: 0.8355 - val_accuracy: 0.7989\n",
            "Epoch 30/30\n",
            "665/665 [==============================] - 6s 10ms/step - loss: 0.1326 - accuracy: 0.9550 - val_loss: 0.7332 - val_accuracy: 0.8221\n",
            "157/157 [==============================] - 1s 5ms/step - loss: 0.7488 - accuracy: 0.8139\n",
            "#### 테스트 세트로 evaluation 결과 : [0.7488138675689697, 0.8138999938964844]\n"
          ]
        }
      ]
    },
    {
      "cell_type": "markdown",
      "source": [
        "### 위에서 수행한 Shuffle테스트 시 validation 데이터 기반 성능 검증 시각화 "
      ],
      "metadata": {
        "id": "Kgp4ktbL8mpC"
      }
    },
    {
      "cell_type": "code",
      "source": [
        "import matplotlib.pyplot as plt\n",
        "%matplotlib inline\n",
        "\n",
        "def show_history_shuffle(noshuffle_history, shuffle_history):\n",
        "    figure, axs = plt.subplots(nrows=1, ncols=2, figsize=(16, 4))\n",
        "    # shuffle과 no shuffle의 validation accuracy 비교 \n",
        "    axs[0].plot(noshuffle_history.history['val_accuracy'], label='no shuffle acc')\n",
        "    axs[0].plot(shuffle_history.history['val_accuracy'], label='shuffle acc')\n",
        "    # shuffle과 no shuffle의 validation loss 비교 \n",
        "    axs[1].plot(noshuffle_history.history['val_loss'], label='no shuffle loss')\n",
        "    axs[1].plot(shuffle_history.history['val_loss'], label='shuffle loss')\n",
        "    axs[0].legend()\n",
        "    axs[1].legend()\n",
        "\n",
        "show_history_shuffle(noshuffle_history, shuffle_history)\n"
      ],
      "metadata": {
        "colab": {
          "base_uri": "https://localhost:8080/",
          "height": 265
        },
        "id": "1xTo6Lj78nAG",
        "outputId": "2f7f157c-022a-4d81-ce81-8781e686cdb3"
      },
      "execution_count": 8,
      "outputs": [
        {
          "output_type": "display_data",
          "data": {
            "image/png": "[encoded data removed]",
            "text/plain": [
              "<Figure size 1152x288 with 2 Axes>"
            ]
          },
          "metadata": {
            "needs_background": "light"
          }
        }
      ]
    },
    {
      "cell_type": "markdown",
      "source": [
        "### batch 크기를 32, 64, 256, 512로 변경하면서 테스트\n",
        "- 큰 배치를 적용하면 더 많은 데이터를 SGD를 위해 sampling하므로 더 나은 가중치 update가 될 것으로 생각되었으나 테스트 결과는 다름. \n",
        "- 큰 batch size를 적용하는 것보다 작은 batch size를 적용하는 것이 성능이 더 좋다. \n",
        "- 큰 batch size보다는 작은 batch size가 상대적으로 더 자주 SGD를 계산하고 weight를 update하므로 보다 정확한 최적화가 가능하다. \n",
        "- 논문에서는 8보다는 크고, 32 보다는 작을 것을 권고. "
      ],
      "metadata": {
        "id": "dmI_6T7y9W4D"
      }
    },
    {
      "cell_type": "code",
      "source": [
        "b_sizes = [32, 64, 256, 512]\n",
        "histories = []\n",
        "evaluations = []\n",
        "for b_size in b_sizes:\n",
        "    model = create_model()\n",
        "    model.compile(optimizer=Adam(), loss='categorical_crossentropy', metrics=['accuracy'])\n",
        "    # batch_size를 순차적으로 32, 64, 256, 512로 변경하여 학습 및 evaluation 수행. \n",
        "    print('##### batch size :', b_size, '학습 #####')\n",
        "    history = model.fit(x=tr_images, y=tr_oh_labels, batch_size=b_size, epochs=30, \n",
        "                        shuffle=True, validation_data=(val_images, val_oh_labels))\n",
        "    # batch size별 학습 history 결과 저장. \n",
        "    histories.append(history)\n",
        "    # 테스트 세트로 evaluation 수행하고 batch size별 결과 저장. \n",
        "    evaluation_result = model.evaluate(test_images, test_oh_labels, batch_size=b_size)\n",
        "    print('#### 테스트 세트로 evaluation 결과 :', evaluation_result)\n",
        "    evaluations.append(evaluation_result)\n",
        "    \n",
        "    tf.keras.backend.clear_session()"
      ],
      "metadata": {
        "colab": {
          "base_uri": "https://localhost:8080/"
        },
        "id": "09reIUo79XMY",
        "outputId": "47566df8-029a-4e65-cf98-41a7709cbff2"
      },
      "execution_count": 9,
      "outputs": [
        {
          "output_type": "stream",
          "name": "stdout",
          "text": [
            "##### batch size : 32 학습 #####\n",
            "Epoch 1/30\n",
            "1329/1329 [==============================] - 11s 7ms/step - loss: 1.5693 - accuracy: 0.4345 - val_loss: 1.3944 - val_accuracy: 0.5171\n",
            "Epoch 2/30\n",
            "1329/1329 [==============================] - 10s 7ms/step - loss: 1.1148 - accuracy: 0.6036 - val_loss: 0.9968 - val_accuracy: 0.6356\n",
            "Epoch 3/30\n",
            "1329/1329 [==============================] - 10s 7ms/step - loss: 0.9252 - accuracy: 0.6768 - val_loss: 0.8117 - val_accuracy: 0.7196\n",
            "Epoch 4/30\n",
            "1329/1329 [==============================] - 9s 7ms/step - loss: 0.8154 - accuracy: 0.7180 - val_loss: 0.8411 - val_accuracy: 0.7060\n",
            "Epoch 5/30\n",
            "1329/1329 [==============================] - 10s 7ms/step - loss: 0.7239 - accuracy: 0.7499 - val_loss: 0.9243 - val_accuracy: 0.6879\n",
            "Epoch 6/30\n",
            "1329/1329 [==============================] - 10s 7ms/step - loss: 0.6546 - accuracy: 0.7766 - val_loss: 0.8167 - val_accuracy: 0.7365\n",
            "Epoch 7/30\n",
            "1329/1329 [==============================] - 10s 7ms/step - loss: 0.5908 - accuracy: 0.7989 - val_loss: 0.7785 - val_accuracy: 0.7468\n",
            "Epoch 8/30\n",
            "1329/1329 [==============================] - 10s 8ms/step - loss: 0.5405 - accuracy: 0.8138 - val_loss: 0.7390 - val_accuracy: 0.7515\n",
            "Epoch 9/30\n",
            "1329/1329 [==============================] - 9s 7ms/step - loss: 0.4975 - accuracy: 0.8301 - val_loss: 0.6524 - val_accuracy: 0.7805\n",
            "Epoch 10/30\n",
            "1329/1329 [==============================] - 9s 7ms/step - loss: 0.4539 - accuracy: 0.8456 - val_loss: 0.5340 - val_accuracy: 0.8213\n",
            "Epoch 11/30\n",
            "1329/1329 [==============================] - 9s 7ms/step - loss: 0.4154 - accuracy: 0.8574 - val_loss: 0.5779 - val_accuracy: 0.8197\n",
            "Epoch 12/30\n",
            "1329/1329 [==============================] - 10s 7ms/step - loss: 0.3922 - accuracy: 0.8653 - val_loss: 0.7737 - val_accuracy: 0.7717\n",
            "Epoch 13/30\n",
            "1329/1329 [==============================] - 9s 7ms/step - loss: 0.3572 - accuracy: 0.8774 - val_loss: 0.6659 - val_accuracy: 0.7915\n",
            "Epoch 14/30\n",
            "1329/1329 [==============================] - 9s 7ms/step - loss: 0.3277 - accuracy: 0.8865 - val_loss: 0.7249 - val_accuracy: 0.7708\n",
            "Epoch 15/30\n",
            "1329/1329 [==============================] - 10s 7ms/step - loss: 0.3079 - accuracy: 0.8927 - val_loss: 0.5832 - val_accuracy: 0.8141\n",
            "Epoch 16/30\n",
            "1329/1329 [==============================] - 10s 7ms/step - loss: 0.2908 - accuracy: 0.8993 - val_loss: 0.5520 - val_accuracy: 0.8284\n",
            "Epoch 17/30\n",
            "1329/1329 [==============================] - 10s 7ms/step - loss: 0.2755 - accuracy: 0.9049 - val_loss: 0.5884 - val_accuracy: 0.8179\n",
            "Epoch 18/30\n",
            "1329/1329 [==============================] - 10s 7ms/step - loss: 0.2523 - accuracy: 0.9141 - val_loss: 0.6485 - val_accuracy: 0.8141\n",
            "Epoch 19/30\n",
            "1329/1329 [==============================] - 10s 7ms/step - loss: 0.2442 - accuracy: 0.9168 - val_loss: 0.6106 - val_accuracy: 0.8241\n",
            "Epoch 20/30\n",
            "1329/1329 [==============================] - 9s 7ms/step - loss: 0.2327 - accuracy: 0.9197 - val_loss: 0.6322 - val_accuracy: 0.8219\n",
            "Epoch 21/30\n",
            "1329/1329 [==============================] - 9s 7ms/step - loss: 0.2163 - accuracy: 0.9254 - val_loss: 0.5462 - val_accuracy: 0.8311\n",
            "Epoch 22/30\n",
            "1329/1329 [==============================] - 9s 7ms/step - loss: 0.2055 - accuracy: 0.9288 - val_loss: 0.6959 - val_accuracy: 0.8079\n",
            "Epoch 23/30\n",
            "1329/1329 [==============================] - 10s 7ms/step - loss: 0.2026 - accuracy: 0.9300 - val_loss: 0.7181 - val_accuracy: 0.8067\n",
            "Epoch 24/30\n",
            "1329/1329 [==============================] - 9s 7ms/step - loss: 0.1847 - accuracy: 0.9370 - val_loss: 0.5988 - val_accuracy: 0.8360\n",
            "Epoch 25/30\n",
            "1329/1329 [==============================] - 10s 7ms/step - loss: 0.1773 - accuracy: 0.9382 - val_loss: 0.6091 - val_accuracy: 0.8344\n",
            "Epoch 26/30\n",
            "1329/1329 [==============================] - 10s 7ms/step - loss: 0.1724 - accuracy: 0.9408 - val_loss: 0.6553 - val_accuracy: 0.8316\n",
            "Epoch 27/30\n",
            "1329/1329 [==============================] - 9s 7ms/step - loss: 0.1617 - accuracy: 0.9439 - val_loss: 0.6317 - val_accuracy: 0.8261\n",
            "Epoch 28/30\n",
            "1329/1329 [==============================] - 9s 7ms/step - loss: 0.1677 - accuracy: 0.9433 - val_loss: 0.8227 - val_accuracy: 0.8067\n",
            "Epoch 29/30\n",
            "1329/1329 [==============================] - 9s 7ms/step - loss: 0.1598 - accuracy: 0.9450 - val_loss: 0.6104 - val_accuracy: 0.8407\n",
            "Epoch 30/30\n",
            "1329/1329 [==============================] - 10s 7ms/step - loss: 0.1477 - accuracy: 0.9503 - val_loss: 0.5860 - val_accuracy: 0.8456\n",
            "313/313 [==============================] - 1s 4ms/step - loss: 0.6391 - accuracy: 0.8349\n",
            "#### 테스트 세트로 evaluation 결과 : [0.6390748023986816, 0.8349000215530396]\n",
            "##### batch size : 64 학습 #####\n",
            "Epoch 1/30\n",
            "665/665 [==============================] - 8s 10ms/step - loss: 1.5883 - accuracy: 0.4236 - val_loss: 1.3226 - val_accuracy: 0.5221\n",
            "Epoch 2/30\n",
            "665/665 [==============================] - 6s 10ms/step - loss: 1.1317 - accuracy: 0.5932 - val_loss: 1.0330 - val_accuracy: 0.6323\n",
            "Epoch 3/30\n",
            "665/665 [==============================] - 7s 10ms/step - loss: 0.9345 - accuracy: 0.6699 - val_loss: 0.9832 - val_accuracy: 0.6456\n",
            "Epoch 4/30\n",
            "665/665 [==============================] - 7s 10ms/step - loss: 0.8153 - accuracy: 0.7161 - val_loss: 0.9629 - val_accuracy: 0.6599\n",
            "Epoch 5/30\n",
            "665/665 [==============================] - 6s 10ms/step - loss: 0.7434 - accuracy: 0.7420 - val_loss: 0.6971 - val_accuracy: 0.7583\n",
            "Epoch 6/30\n",
            "665/665 [==============================] - 7s 10ms/step - loss: 0.6646 - accuracy: 0.7716 - val_loss: 0.9959 - val_accuracy: 0.6751\n",
            "Epoch 7/30\n",
            "665/665 [==============================] - 6s 10ms/step - loss: 0.6065 - accuracy: 0.7901 - val_loss: 0.6798 - val_accuracy: 0.7700\n",
            "Epoch 8/30\n",
            "665/665 [==============================] - 8s 12ms/step - loss: 0.5606 - accuracy: 0.8080 - val_loss: 0.6392 - val_accuracy: 0.7824\n",
            "Epoch 9/30\n",
            "665/665 [==============================] - 8s 12ms/step - loss: 0.5116 - accuracy: 0.8224 - val_loss: 0.6218 - val_accuracy: 0.7857\n",
            "Epoch 10/30\n",
            "665/665 [==============================] - 7s 10ms/step - loss: 0.4681 - accuracy: 0.8396 - val_loss: 0.5781 - val_accuracy: 0.8029\n",
            "Epoch 11/30\n",
            "665/665 [==============================] - 7s 10ms/step - loss: 0.4323 - accuracy: 0.8505 - val_loss: 0.6668 - val_accuracy: 0.7933\n",
            "Epoch 12/30\n",
            "665/665 [==============================] - 6s 10ms/step - loss: 0.4036 - accuracy: 0.8610 - val_loss: 0.5953 - val_accuracy: 0.8141\n",
            "Epoch 13/30\n",
            "665/665 [==============================] - 6s 10ms/step - loss: 0.3693 - accuracy: 0.8721 - val_loss: 0.6575 - val_accuracy: 0.7815\n",
            "Epoch 14/30\n",
            "665/665 [==============================] - 7s 10ms/step - loss: 0.3466 - accuracy: 0.8805 - val_loss: 0.6033 - val_accuracy: 0.8009\n",
            "Epoch 15/30\n",
            "665/665 [==============================] - 7s 10ms/step - loss: 0.3140 - accuracy: 0.8908 - val_loss: 0.6828 - val_accuracy: 0.7796\n",
            "Epoch 16/30\n",
            "665/665 [==============================] - 7s 10ms/step - loss: 0.3056 - accuracy: 0.8943 - val_loss: 0.5947 - val_accuracy: 0.8121\n",
            "Epoch 17/30\n",
            "665/665 [==============================] - 7s 10ms/step - loss: 0.2756 - accuracy: 0.9034 - val_loss: 0.5823 - val_accuracy: 0.8176\n",
            "Epoch 18/30\n",
            "665/665 [==============================] - 7s 10ms/step - loss: 0.2518 - accuracy: 0.9120 - val_loss: 0.6598 - val_accuracy: 0.8107\n",
            "Epoch 19/30\n",
            "665/665 [==============================] - 7s 10ms/step - loss: 0.2341 - accuracy: 0.9188 - val_loss: 0.6985 - val_accuracy: 0.7948\n",
            "Epoch 20/30\n",
            "665/665 [==============================] - 7s 10ms/step - loss: 0.2195 - accuracy: 0.9241 - val_loss: 0.6713 - val_accuracy: 0.8113\n",
            "Epoch 21/30\n",
            "665/665 [==============================] - 6s 10ms/step - loss: 0.2132 - accuracy: 0.9269 - val_loss: 0.6114 - val_accuracy: 0.8217\n",
            "Epoch 22/30\n",
            "665/665 [==============================] - 6s 10ms/step - loss: 0.2060 - accuracy: 0.9279 - val_loss: 0.8724 - val_accuracy: 0.7935\n",
            "Epoch 23/30\n",
            "665/665 [==============================] - 6s 10ms/step - loss: 0.1803 - accuracy: 0.9385 - val_loss: 0.6879 - val_accuracy: 0.8221\n",
            "Epoch 24/30\n",
            "665/665 [==============================] - 7s 10ms/step - loss: 0.1779 - accuracy: 0.9388 - val_loss: 0.7526 - val_accuracy: 0.8005\n",
            "Epoch 25/30\n",
            "665/665 [==============================] - 7s 10ms/step - loss: 0.1686 - accuracy: 0.9418 - val_loss: 0.6829 - val_accuracy: 0.8133\n",
            "Epoch 26/30\n",
            "665/665 [==============================] - 7s 10ms/step - loss: 0.1634 - accuracy: 0.9441 - val_loss: 0.7238 - val_accuracy: 0.8177\n",
            "Epoch 27/30\n",
            "665/665 [==============================] - 6s 10ms/step - loss: 0.1480 - accuracy: 0.9490 - val_loss: 0.7597 - val_accuracy: 0.8021\n",
            "Epoch 28/30\n",
            "665/665 [==============================] - 7s 10ms/step - loss: 0.1465 - accuracy: 0.9493 - val_loss: 0.7565 - val_accuracy: 0.8112\n",
            "Epoch 29/30\n",
            "665/665 [==============================] - 7s 10ms/step - loss: 0.1470 - accuracy: 0.9495 - val_loss: 0.6989 - val_accuracy: 0.8091\n",
            "Epoch 30/30\n",
            "665/665 [==============================] - 6s 10ms/step - loss: 0.1326 - accuracy: 0.9552 - val_loss: 0.6928 - val_accuracy: 0.8185\n",
            "157/157 [==============================] - 1s 5ms/step - loss: 0.7218 - accuracy: 0.8129\n",
            "#### 테스트 세트로 evaluation 결과 : [0.7217576503753662, 0.8129000067710876]\n",
            "##### batch size : 256 학습 #####\n",
            "Epoch 1/30\n",
            "167/167 [==============================] - 7s 33ms/step - loss: 1.8706 - accuracy: 0.3377 - val_loss: 3.2419 - val_accuracy: 0.1192\n",
            "Epoch 2/30\n",
            "167/167 [==============================] - 5s 29ms/step - loss: 1.3560 - accuracy: 0.5023 - val_loss: 4.0976 - val_accuracy: 0.1399\n",
            "Epoch 3/30\n",
            "167/167 [==============================] - 5s 29ms/step - loss: 1.2135 - accuracy: 0.5645 - val_loss: 1.9163 - val_accuracy: 0.3733\n",
            "Epoch 4/30\n",
            "167/167 [==============================] - 5s 29ms/step - loss: 0.9837 - accuracy: 0.6488 - val_loss: 1.1260 - val_accuracy: 0.6029\n",
            "Epoch 5/30\n",
            "167/167 [==============================] - 5s 29ms/step - loss: 0.8900 - accuracy: 0.6863 - val_loss: 1.0290 - val_accuracy: 0.6357\n",
            "Epoch 6/30\n",
            "167/167 [==============================] - 5s 29ms/step - loss: 0.8350 - accuracy: 0.7068 - val_loss: 0.8194 - val_accuracy: 0.7233\n",
            "Epoch 7/30\n",
            "167/167 [==============================] - 5s 29ms/step - loss: 0.7170 - accuracy: 0.7489 - val_loss: 0.8022 - val_accuracy: 0.7169\n",
            "Epoch 8/30\n",
            "167/167 [==============================] - 5s 29ms/step - loss: 0.6767 - accuracy: 0.7630 - val_loss: 0.7545 - val_accuracy: 0.7369\n",
            "Epoch 9/30\n",
            "167/167 [==============================] - 5s 29ms/step - loss: 0.6249 - accuracy: 0.7824 - val_loss: 0.8004 - val_accuracy: 0.7252\n",
            "Epoch 10/30\n",
            "167/167 [==============================] - 5s 29ms/step - loss: 0.6265 - accuracy: 0.7846 - val_loss: 0.6324 - val_accuracy: 0.7799\n",
            "Epoch 11/30\n",
            "167/167 [==============================] - 5s 29ms/step - loss: 0.5311 - accuracy: 0.8145 - val_loss: 0.7402 - val_accuracy: 0.7631\n",
            "Epoch 12/30\n",
            "167/167 [==============================] - 5s 29ms/step - loss: 0.5264 - accuracy: 0.8179 - val_loss: 0.7034 - val_accuracy: 0.7684\n",
            "Epoch 13/30\n",
            "167/167 [==============================] - 5s 29ms/step - loss: 0.5218 - accuracy: 0.8176 - val_loss: 0.7961 - val_accuracy: 0.7297\n",
            "Epoch 14/30\n",
            "167/167 [==============================] - 5s 29ms/step - loss: 0.5189 - accuracy: 0.8203 - val_loss: 0.7336 - val_accuracy: 0.7560\n",
            "Epoch 15/30\n",
            "167/167 [==============================] - 5s 29ms/step - loss: 0.4264 - accuracy: 0.8508 - val_loss: 1.0049 - val_accuracy: 0.7064\n",
            "Epoch 16/30\n",
            "167/167 [==============================] - 5s 29ms/step - loss: 0.5056 - accuracy: 0.8266 - val_loss: 0.7496 - val_accuracy: 0.7649\n",
            "Epoch 17/30\n",
            "167/167 [==============================] - 5s 29ms/step - loss: 0.4170 - accuracy: 0.8543 - val_loss: 0.7506 - val_accuracy: 0.7537\n",
            "Epoch 18/30\n",
            "167/167 [==============================] - 5s 29ms/step - loss: 0.3998 - accuracy: 0.8615 - val_loss: 0.7081 - val_accuracy: 0.7728\n",
            "Epoch 19/30\n",
            "167/167 [==============================] - 5s 29ms/step - loss: 0.3827 - accuracy: 0.8662 - val_loss: 0.6915 - val_accuracy: 0.7865\n",
            "Epoch 20/30\n",
            "167/167 [==============================] - 5s 29ms/step - loss: 0.3222 - accuracy: 0.8866 - val_loss: 0.7573 - val_accuracy: 0.7675\n",
            "Epoch 21/30\n",
            "167/167 [==============================] - 5s 29ms/step - loss: 0.3495 - accuracy: 0.8776 - val_loss: 0.6784 - val_accuracy: 0.7933\n",
            "Epoch 22/30\n",
            "167/167 [==============================] - 5s 29ms/step - loss: 0.3587 - accuracy: 0.8758 - val_loss: 0.6955 - val_accuracy: 0.7844\n",
            "Epoch 23/30\n",
            "167/167 [==============================] - 5s 29ms/step - loss: 0.3102 - accuracy: 0.8931 - val_loss: 0.5948 - val_accuracy: 0.8191\n",
            "Epoch 24/30\n",
            "167/167 [==============================] - 5s 32ms/step - loss: 0.3130 - accuracy: 0.8895 - val_loss: 0.8914 - val_accuracy: 0.7580\n",
            "Epoch 25/30\n",
            "167/167 [==============================] - 5s 32ms/step - loss: 0.2686 - accuracy: 0.9061 - val_loss: 0.7336 - val_accuracy: 0.7843\n",
            "Epoch 26/30\n",
            "167/167 [==============================] - 5s 32ms/step - loss: 0.2254 - accuracy: 0.9205 - val_loss: 0.7309 - val_accuracy: 0.8017\n",
            "Epoch 27/30\n",
            "167/167 [==============================] - 5s 31ms/step - loss: 0.2155 - accuracy: 0.9236 - val_loss: 0.6826 - val_accuracy: 0.8119\n",
            "Epoch 28/30\n",
            "167/167 [==============================] - 5s 29ms/step - loss: 0.1960 - accuracy: 0.9309 - val_loss: 0.9707 - val_accuracy: 0.7555\n",
            "Epoch 29/30\n",
            "167/167 [==============================] - 5s 29ms/step - loss: 0.3597 - accuracy: 0.8756 - val_loss: 0.5706 - val_accuracy: 0.8261\n",
            "Epoch 30/30\n",
            "167/167 [==============================] - 5s 32ms/step - loss: 0.2144 - accuracy: 0.9248 - val_loss: 0.7122 - val_accuracy: 0.8017\n",
            "40/40 [==============================] - 0s 12ms/step - loss: 0.7747 - accuracy: 0.7889\n",
            "#### 테스트 세트로 evaluation 결과 : [0.7746970057487488, 0.7889000177383423]\n",
            "##### batch size : 512 학습 #####\n",
            "Epoch 1/30\n",
            "84/84 [==============================] - 8s 67ms/step - loss: 1.9011 - accuracy: 0.3267 - val_loss: 2.7171 - val_accuracy: 0.1025\n",
            "Epoch 2/30\n",
            "84/84 [==============================] - 5s 59ms/step - loss: 1.4691 - accuracy: 0.4614 - val_loss: 3.1531 - val_accuracy: 0.1031\n",
            "Epoch 3/30\n",
            "84/84 [==============================] - 5s 56ms/step - loss: 1.2886 - accuracy: 0.5345 - val_loss: 3.0582 - val_accuracy: 0.1157\n",
            "Epoch 4/30\n",
            "84/84 [==============================] - 5s 56ms/step - loss: 1.1065 - accuracy: 0.6036 - val_loss: 2.6822 - val_accuracy: 0.2181\n",
            "Epoch 5/30\n",
            "84/84 [==============================] - 5s 57ms/step - loss: 1.0429 - accuracy: 0.6264 - val_loss: 1.6523 - val_accuracy: 0.4415\n",
            "Epoch 6/30\n",
            "84/84 [==============================] - 5s 57ms/step - loss: 0.9372 - accuracy: 0.6653 - val_loss: 1.0552 - val_accuracy: 0.6309\n",
            "Epoch 7/30\n",
            "84/84 [==============================] - 5s 57ms/step - loss: 0.8364 - accuracy: 0.7056 - val_loss: 1.2493 - val_accuracy: 0.6012\n",
            "Epoch 8/30\n",
            "84/84 [==============================] - 5s 57ms/step - loss: 0.8528 - accuracy: 0.6992 - val_loss: 1.0888 - val_accuracy: 0.6411\n",
            "Epoch 9/30\n",
            "84/84 [==============================] - 5s 58ms/step - loss: 0.7920 - accuracy: 0.7242 - val_loss: 0.9072 - val_accuracy: 0.6751\n",
            "Epoch 10/30\n",
            "84/84 [==============================] - 5s 57ms/step - loss: 0.7647 - accuracy: 0.7314 - val_loss: 0.7566 - val_accuracy: 0.7351\n",
            "Epoch 11/30\n",
            "84/84 [==============================] - 5s 55ms/step - loss: 0.6520 - accuracy: 0.7723 - val_loss: 1.4360 - val_accuracy: 0.5879\n",
            "Epoch 12/30\n",
            "84/84 [==============================] - 5s 61ms/step - loss: 0.7893 - accuracy: 0.7251 - val_loss: 1.0059 - val_accuracy: 0.6697\n",
            "Epoch 13/30\n",
            "84/84 [==============================] - 5s 59ms/step - loss: 0.7215 - accuracy: 0.7483 - val_loss: 0.9955 - val_accuracy: 0.6688\n",
            "Epoch 14/30\n",
            "84/84 [==============================] - 5s 63ms/step - loss: 0.7412 - accuracy: 0.7397 - val_loss: 0.8101 - val_accuracy: 0.7245\n",
            "Epoch 15/30\n",
            "84/84 [==============================] - 5s 58ms/step - loss: 0.5962 - accuracy: 0.7894 - val_loss: 0.9601 - val_accuracy: 0.6812\n",
            "Epoch 16/30\n",
            "84/84 [==============================] - 5s 62ms/step - loss: 0.7799 - accuracy: 0.7319 - val_loss: 0.9776 - val_accuracy: 0.6795\n",
            "Epoch 17/30\n",
            "84/84 [==============================] - 5s 60ms/step - loss: 0.6546 - accuracy: 0.7727 - val_loss: 1.2223 - val_accuracy: 0.6217\n",
            "Epoch 18/30\n",
            "84/84 [==============================] - 5s 61ms/step - loss: 0.6166 - accuracy: 0.7849 - val_loss: 1.1268 - val_accuracy: 0.6544\n",
            "Epoch 19/30\n",
            "84/84 [==============================] - 5s 57ms/step - loss: 0.5961 - accuracy: 0.7910 - val_loss: 0.6925 - val_accuracy: 0.7601\n",
            "Epoch 20/30\n",
            "84/84 [==============================] - 5s 61ms/step - loss: 0.5321 - accuracy: 0.8140 - val_loss: 0.7471 - val_accuracy: 0.7480\n",
            "Epoch 21/30\n",
            "84/84 [==============================] - 5s 61ms/step - loss: 0.4951 - accuracy: 0.8268 - val_loss: 0.7950 - val_accuracy: 0.7331\n",
            "Epoch 22/30\n",
            "84/84 [==============================] - 5s 60ms/step - loss: 0.6224 - accuracy: 0.7857 - val_loss: 0.7140 - val_accuracy: 0.7693\n",
            "Epoch 23/30\n",
            "84/84 [==============================] - 5s 62ms/step - loss: 0.5014 - accuracy: 0.8244 - val_loss: 0.6295 - val_accuracy: 0.7841\n",
            "Epoch 24/30\n",
            "84/84 [==============================] - 5s 58ms/step - loss: 0.4841 - accuracy: 0.8300 - val_loss: 0.5866 - val_accuracy: 0.8033\n",
            "Epoch 25/30\n",
            "84/84 [==============================] - 5s 57ms/step - loss: 0.5024 - accuracy: 0.8273 - val_loss: 0.6152 - val_accuracy: 0.7963\n",
            "Epoch 26/30\n",
            "84/84 [==============================] - 5s 61ms/step - loss: 0.4024 - accuracy: 0.8590 - val_loss: 0.7472 - val_accuracy: 0.7695\n",
            "Epoch 27/30\n",
            "84/84 [==============================] - 5s 61ms/step - loss: 0.4179 - accuracy: 0.8542 - val_loss: 0.8563 - val_accuracy: 0.7279\n",
            "Epoch 28/30\n",
            "84/84 [==============================] - 5s 58ms/step - loss: 0.6199 - accuracy: 0.7873 - val_loss: 0.8231 - val_accuracy: 0.7275\n",
            "Epoch 29/30\n",
            "84/84 [==============================] - 5s 58ms/step - loss: 0.6490 - accuracy: 0.7730 - val_loss: 0.7490 - val_accuracy: 0.7465\n",
            "Epoch 30/30\n",
            "84/84 [==============================] - 5s 57ms/step - loss: 0.4682 - accuracy: 0.8360 - val_loss: 0.5583 - val_accuracy: 0.8079\n",
            "20/20 [==============================] - 1s 33ms/step - loss: 0.5999 - accuracy: 0.7984\n",
            "#### 테스트 세트로 evaluation 결과 : [0.599892795085907, 0.7983999848365784]\n"
          ]
        }
      ]
    },
    {
      "cell_type": "code",
      "source": [
        "import matplotlib.pyplot as plt\n",
        "%matplotlib inline\n",
        "\n",
        "def show_history_batch(histories):\n",
        "    figure, axs = plt.subplots(nrows=1, ncols=2, figsize=(16, 4))  \n",
        "    # batch 크기별 validation accuracy 비교 \n",
        "    axs[0].plot(histories[0].history['val_accuracy'], label='batch 32 acc')\n",
        "    axs[0].plot(histories[1].history['val_accuracy'], label='batch 64 acc')\n",
        "    axs[0].plot(histories[2].history['val_accuracy'], label='batch 256 acc')\n",
        "    axs[0].plot(histories[3].history['val_accuracy'], label='batch 512 acc')\n",
        "    \n",
        "    # batch 크기별 validation loss 비교\n",
        "    axs[1].plot(histories[0].history['val_loss'], label='batch 32 loss')\n",
        "    axs[1].plot(histories[1].history['val_loss'], label='batch 64 loss')\n",
        "    axs[1].plot(histories[2].history['val_loss'], label='batch 256 loss')\n",
        "    axs[1].plot(histories[3].history['val_loss'], label='batch 512 loss')\n",
        "    \n",
        "    axs[0].legend()\n",
        "    axs[1].legend()\n",
        "\n",
        "show_history_batch(histories)"
      ],
      "metadata": {
        "colab": {
          "base_uri": "https://localhost:8080/",
          "height": 265
        },
        "id": "5wuqyoR1-9YB",
        "outputId": "69f6de99-9b0e-4056-d535-e21e78542070"
      },
      "execution_count": 10,
      "outputs": [
        {
          "output_type": "display_data",
          "data": {
            "image/png": "[encoded data removed]",
            "text/plain": [
              "<Figure size 1152x288 with 2 Axes>"
            ]
          },
          "metadata": {
            "needs_background": "light"
          }
        }
      ]
    },
    {
      "cell_type": "markdown",
      "source": [
        "# 학습률 동적 변경에 따른 모델 성능 비교"
      ],
      "metadata": {
        "id": "hoakV9wm__b8"
      }
    },
    {
      "cell_type": "code",
      "source": [
        "import tensorflow as tf\n",
        "import numpy as np\n",
        "import pandas as pd\n",
        "\n",
        "import random as python_random\n",
        "from tensorflow.keras.utils import to_categorical\n",
        "from sklearn.model_selection import train_test_split\n",
        "from tensorflow.keras.datasets import cifar10\n",
        "\n",
        "# seed 를 설정해서 학습시마다 동일한 결과 유도. 불행히도 의도한 대로 동작하지 않음. \n",
        "def set_random_seed(seed_value):\n",
        "    np.random.seed(seed_value)\n",
        "    python_random.seed(seed_value)\n",
        "    tf.random.set_seed(seed_value)\n",
        "\n",
        "# 0 ~ 1사이값의 float32로 변경하는 함수\n",
        "def get_preprocessed_data(images, labels):\n",
        "    \n",
        "    # 학습과 테스트 이미지 array를 0~1 사이값으로 scale 및 float32 형 변형. \n",
        "    images = np.array(images/255.0, dtype=np.float32)\n",
        "    labels = np.array(labels, dtype=np.float32)\n",
        "    \n",
        "    return images, labels\n",
        "\n",
        "# 0 ~ 1사이값 float32로 변경하는 함수 호출 한 뒤 OHE 적용 \n",
        "def get_preprocessed_ohe(images, labels):\n",
        "    images, labels = get_preprocessed_data(images, labels)\n",
        "    # OHE 적용 \n",
        "    oh_labels = to_categorical(labels)\n",
        "    return images, oh_labels\n",
        "\n",
        "# 학습/검증/테스트 데이터 세트에 전처리 및 OHE 적용한 뒤 반환 \n",
        "def get_train_valid_test_set(train_images, train_labels, test_images, test_labels, valid_size=0.15, random_state=2021):\n",
        "    # 학습 및 테스트 데이터 세트를  0 ~ 1사이값 float32로 변경 및 OHE 적용. \n",
        "    train_images, train_oh_labels = get_preprocessed_ohe(train_images, train_labels)\n",
        "    test_images, test_oh_labels = get_preprocessed_ohe(test_images, test_labels)\n",
        "    \n",
        "    # 학습 데이터를 검증 데이터 세트로 다시 분리\n",
        "    tr_images, val_images, tr_oh_labels, val_oh_labels = train_test_split(train_images, train_oh_labels, test_size=valid_size, random_state=random_state)\n",
        "    \n",
        "    return (tr_images, tr_oh_labels), (val_images, val_oh_labels), (test_images, test_oh_labels ) \n",
        "\n",
        "\n",
        "# random seed는 2021로 고정.\n",
        "set_random_seed(2021)\n",
        "# CIFAR10 데이터 재 로딩 및 Scaling/OHE 전처리 적용하여 학습/검증/데이터 세트 생성. \n",
        "(train_images, train_labels), (test_images, test_labels) = cifar10.load_data()\n",
        "print(train_images.shape, train_labels.shape, test_images.shape, test_labels.shape)\n",
        "(tr_images, tr_oh_labels), (val_images, val_oh_labels), (test_images, test_oh_labels) = \\\n",
        "    get_train_valid_test_set(train_images, train_labels, test_images, test_labels, valid_size=0.15, random_state=2021)\n",
        "\n",
        "print(tr_images.shape, tr_oh_labels.shape, val_images.shape, val_oh_labels.shape, test_images.shape, test_oh_labels.shape)"
      ],
      "metadata": {
        "colab": {
          "base_uri": "https://localhost:8080/"
        },
        "id": "i8FPMlOJACEf",
        "outputId": "55f2fdd5-775e-4c4d-e6bb-f4e64f8899fc"
      },
      "execution_count": 11,
      "outputs": [
        {
          "output_type": "stream",
          "name": "stdout",
          "text": [
            "(50000, 32, 32, 3) (50000, 1) (10000, 32, 32, 3) (10000, 1)\n",
            "(42500, 32, 32, 3) (42500, 10) (7500, 32, 32, 3) (7500, 10) (10000, 32, 32, 3) (10000, 10)\n"
          ]
        }
      ]
    },
    {
      "cell_type": "code",
      "source": [
        "IMAGE_SIZE = 32"
      ],
      "metadata": {
        "id": "4PBt_mLsAIoe"
      },
      "execution_count": 12,
      "outputs": []
    },
    {
      "cell_type": "markdown",
      "source": [
        "### 모델 생성 함수 생성"
      ],
      "metadata": {
        "id": "XcnBRaQQAK5g"
      }
    },
    {
      "cell_type": "code",
      "source": [
        "from tensorflow.keras.models import Sequential, Model\n",
        "from tensorflow.keras.layers import Input, Dense , Conv2D , Dropout , Flatten , Activation, MaxPooling2D , GlobalAveragePooling2D\n",
        "from tensorflow.keras.optimizers import Adam , RMSprop \n",
        "from tensorflow.keras.layers import BatchNormalization\n",
        "from tensorflow.keras.callbacks import ReduceLROnPlateau , EarlyStopping , ModelCheckpoint , LearningRateScheduler\n",
        "\n",
        "def create_model(verbose=False):\n",
        "    input_tensor = Input(shape=(IMAGE_SIZE, IMAGE_SIZE, 3))\n",
        "\n",
        "    #x = Conv2D(filters=32, kernel_size=(5, 5), padding='valid', activation='relu')(input_tensor)\n",
        "    x = Conv2D(filters=32, kernel_size=(3, 3), padding='same')(input_tensor)\n",
        "    x = BatchNormalization()(x)\n",
        "    x = Activation('relu')(x)\n",
        "\n",
        "    x = Conv2D(filters=32, kernel_size=(3, 3), padding='same')(x)\n",
        "    x = BatchNormalization()(x)\n",
        "    x = Activation('relu')(x)\n",
        "    x = MaxPooling2D(pool_size=(2, 2))(x)\n",
        "\n",
        "    x = Conv2D(filters=64, kernel_size=3, padding='same')(x)\n",
        "    x = BatchNormalization()(x)\n",
        "    x = Activation('relu')(x)\n",
        "\n",
        "    x = Conv2D(filters=64, kernel_size=3, padding='same')(x)\n",
        "    x = Activation('relu')(x)\n",
        "    x = Activation('relu')(x)\n",
        "    x = MaxPooling2D(pool_size=2)(x)\n",
        "\n",
        "    x = Conv2D(filters=128, kernel_size=3, padding='same')(x)\n",
        "    x = BatchNormalization()(x)\n",
        "    x = Activation('relu')(x)\n",
        "\n",
        "    x = Conv2D(filters=128, kernel_size=3, padding='same')(x)\n",
        "    x = BatchNormalization()(x)\n",
        "    x = Activation('relu')(x)\n",
        "    x = MaxPooling2D(pool_size=2)(x)\n",
        "\n",
        "    # cifar10의 클래스가 10개 이므로 마지막 classification의 Dense layer units갯수는 10\n",
        "    x = Flatten(name='flatten')(x)\n",
        "    x = Dropout(rate=0.5)(x)\n",
        "    x = Dense(300, activation='relu', name='fc1')(x)\n",
        "    x = Dropout(rate=0.3)(x)\n",
        "    output = Dense(10, activation='softmax', name='output')(x)\n",
        "\n",
        "    model = Model(inputs=input_tensor, outputs=output)\n",
        "    \n",
        "    if verbose:\n",
        "        model.summary()\n",
        "    \n",
        "    return model"
      ],
      "metadata": {
        "id": "FCORRi3PAJEm"
      },
      "execution_count": 13,
      "outputs": []
    },
    {
      "cell_type": "code",
      "source": [
        "create_model(verbose=True)"
      ],
      "metadata": {
        "colab": {
          "base_uri": "https://localhost:8080/"
        },
        "id": "MZ3fmGj2ANMJ",
        "outputId": "51b2431f-308c-4aeb-aff1-c0f40c7e559b"
      },
      "execution_count": 14,
      "outputs": [
        {
          "output_type": "stream",
          "name": "stdout",
          "text": [
            "Model: \"model\"\n",
            "_________________________________________________________________\n",
            " Layer (type)                Output Shape              Param #   \n",
            "=================================================================\n",
            " input_1 (InputLayer)        [(None, 32, 32, 3)]       0         \n",
            "                                                                 \n",
            " conv2d (Conv2D)             (None, 32, 32, 32)        896       \n",
            "                                                                 \n",
            " batch_normalization (BatchN  (None, 32, 32, 32)       128       \n",
            " ormalization)                                                   \n",
            "                                                                 \n",
            " activation (Activation)     (None, 32, 32, 32)        0         \n",
            "                                                                 \n",
            " conv2d_1 (Conv2D)           (None, 32, 32, 32)        9248      \n",
            "                                                                 \n",
            " batch_normalization_1 (Batc  (None, 32, 32, 32)       128       \n",
            " hNormalization)                                                 \n",
            "                                                                 \n",
            " activation_1 (Activation)   (None, 32, 32, 32)        0         \n",
            "                                                                 \n",
            " max_pooling2d (MaxPooling2D  (None, 16, 16, 32)       0         \n",
            " )                                                               \n",
            "                                                                 \n",
            " conv2d_2 (Conv2D)           (None, 16, 16, 64)        18496     \n",
            "                                                                 \n",
            " batch_normalization_2 (Batc  (None, 16, 16, 64)       256       \n",
            " hNormalization)                                                 \n",
            "                                                                 \n",
            " activation_2 (Activation)   (None, 16, 16, 64)        0         \n",
            "                                                                 \n",
            " conv2d_3 (Conv2D)           (None, 16, 16, 64)        36928     \n",
            "                                                                 \n",
            " activation_3 (Activation)   (None, 16, 16, 64)        0         \n",
            "                                                                 \n",
            " activation_4 (Activation)   (None, 16, 16, 64)        0         \n",
            "                                                                 \n",
            " max_pooling2d_1 (MaxPooling  (None, 8, 8, 64)         0         \n",
            " 2D)                                                             \n",
            "                                                                 \n",
            " conv2d_4 (Conv2D)           (None, 8, 8, 128)         73856     \n",
            "                                                                 \n",
            " batch_normalization_3 (Batc  (None, 8, 8, 128)        512       \n",
            " hNormalization)                                                 \n",
            "                                                                 \n",
            " activation_5 (Activation)   (None, 8, 8, 128)         0         \n",
            "                                                                 \n",
            " conv2d_5 (Conv2D)           (None, 8, 8, 128)         147584    \n",
            "                                                                 \n",
            " batch_normalization_4 (Batc  (None, 8, 8, 128)        512       \n",
            " hNormalization)                                                 \n",
            "                                                                 \n",
            " activation_6 (Activation)   (None, 8, 8, 128)         0         \n",
            "                                                                 \n",
            " max_pooling2d_2 (MaxPooling  (None, 4, 4, 128)        0         \n",
            " 2D)                                                             \n",
            "                                                                 \n",
            " flatten (Flatten)           (None, 2048)              0         \n",
            "                                                                 \n",
            " dropout (Dropout)           (None, 2048)              0         \n",
            "                                                                 \n",
            " fc1 (Dense)                 (None, 300)               614700    \n",
            "                                                                 \n",
            " dropout_1 (Dropout)         (None, 300)               0         \n",
            "                                                                 \n",
            " output (Dense)              (None, 10)                3010      \n",
            "                                                                 \n",
            "=================================================================\n",
            "Total params: 906,254\n",
            "Trainable params: 905,486\n",
            "Non-trainable params: 768\n",
            "_________________________________________________________________\n"
          ]
        },
        {
          "output_type": "execute_result",
          "data": {
            "text/plain": [
              "<keras.engine.functional.Functional at 0x7f8c5996fe10>"
            ]
          },
          "metadata": {},
          "execution_count": 14
        }
      ]
    },
    {
      "cell_type": "markdown",
      "source": [
        "### Learning Rate와 Early Stopping을 위한 Callback 생성 \n",
        "* Learning rate 동적 변경은 ReduceLROnPlateau,  모델 Ealry Stopping은 EarlyStopping Callback을 이용.  "
      ],
      "metadata": {
        "id": "_xK8lfXnAQIZ"
      }
    },
    {
      "cell_type": "code",
      "source": [
        "# ModelCheckpoint를 동작시키기 전에 기존 저장된 모델은 모두 삭제 \n",
        "!rm *.hdf5"
      ],
      "metadata": {
        "colab": {
          "base_uri": "https://localhost:8080/"
        },
        "id": "b_ywgIdBAOc4",
        "outputId": "e4ada94c-66d6-4607-a484-b5e4e4ae5a67"
      },
      "execution_count": 15,
      "outputs": [
        {
          "output_type": "stream",
          "name": "stdout",
          "text": [
            "rm: cannot remove '*.hdf5': No such file or directory\n"
          ]
        }
      ]
    },
    {
      "cell_type": "code",
      "source": [
        "from google.colab import drive\n",
        "drive.mount('/content/drive')"
      ],
      "metadata": {
        "colab": {
          "base_uri": "https://localhost:8080/"
        },
        "id": "NSeyXEbvBduc",
        "outputId": "08202dc7-89c9-4d4d-a2f8-4c256ac50425"
      },
      "execution_count": 17,
      "outputs": [
        {
          "output_type": "stream",
          "name": "stdout",
          "text": [
            "Mounted at /content/drive\n"
          ]
        }
      ]
    },
    {
      "cell_type": "code",
      "source": [
        "from tensorflow.keras.callbacks import ReduceLROnPlateau\n",
        "from tensorflow.keras.callbacks import EarlyStopping, ModelCheckpoint\n",
        "\n",
        "model = create_model()\n",
        "model.compile(optimizer=Adam(lr=0.001), loss='categorical_crossentropy', metrics=['accuracy'])\n",
        "\n",
        "# validation loss가 향상되는 모델만 저장.\n",
        "mcp_cb = ModelCheckpoint(filepath='/content/drive/MyDrive/Colab Notebooks/deeplearning-fundamental/models/weights.{epoch:02d}-{val_loss:.2f}.hdf5', monitor='val_loss', \n",
        "                         save_best_only=True, save_weights_only=True, mode='min', period=1, verbose=0)\n",
        "\n",
        "# 5번 iteration내에 validation loss가 향상되지 않으면 learning rate을 기존 learning rate * 0.2로 줄임.  \n",
        "rlr_cb = ReduceLROnPlateau(monitor='val_loss', factor=0.2, patience=5, mode='min', verbose=1)\n",
        "# 10번 iteration내에 validation loss가 향상되지 않으면 더 이상 학습하지 않고 종료\n",
        "ely_cb = EarlyStopping(monitor='val_loss', patience=10, mode='min', verbose=1)\n",
        "\n",
        "\n",
        "history = model.fit(x=tr_images, y=tr_oh_labels, batch_size=32, epochs=30, shuffle=True,\n",
        "                    validation_data=(val_images, val_oh_labels),  \n",
        "                    callbacks=[mcp_cb, rlr_cb, ely_cb] )"
      ],
      "metadata": {
        "colab": {
          "base_uri": "https://localhost:8080/"
        },
        "id": "e3JcV04oASDF",
        "outputId": "00635c87-2c00-4156-d7fe-49017d2a23d0"
      },
      "execution_count": 18,
      "outputs": [
        {
          "output_type": "stream",
          "name": "stdout",
          "text": [
            "WARNING:tensorflow:`period` argument is deprecated. Please use `save_freq` to specify the frequency in number of batches seen.\n"
          ]
        },
        {
          "output_type": "stream",
          "name": "stderr",
          "text": [
            "/usr/local/lib/python3.7/dist-packages/keras/optimizer_v2/adam.py:105: UserWarning: The `lr` argument is deprecated, use `learning_rate` instead.\n",
            "  super(Adam, self).__init__(name, **kwargs)\n"
          ]
        },
        {
          "output_type": "stream",
          "name": "stdout",
          "text": [
            "Epoch 1/30\n",
            "1329/1329 [==============================] - 17s 11ms/step - loss: 1.5740 - accuracy: 0.4343 - val_loss: 1.2513 - val_accuracy: 0.5595 - lr: 0.0010\n",
            "Epoch 2/30\n",
            "1329/1329 [==============================] - 9s 7ms/step - loss: 1.1049 - accuracy: 0.6076 - val_loss: 0.9581 - val_accuracy: 0.6608 - lr: 0.0010\n",
            "Epoch 3/30\n",
            "1329/1329 [==============================] - 10s 7ms/step - loss: 0.9249 - accuracy: 0.6768 - val_loss: 0.9282 - val_accuracy: 0.6759 - lr: 0.0010\n",
            "Epoch 4/30\n",
            "1329/1329 [==============================] - 10s 7ms/step - loss: 0.8088 - accuracy: 0.7197 - val_loss: 0.8989 - val_accuracy: 0.6987 - lr: 0.0010\n",
            "Epoch 5/30\n",
            "1329/1329 [==============================] - 10s 7ms/step - loss: 0.7206 - accuracy: 0.7509 - val_loss: 0.8248 - val_accuracy: 0.7156 - lr: 0.0010\n",
            "Epoch 6/30\n",
            "1329/1329 [==============================] - 10s 7ms/step - loss: 0.6551 - accuracy: 0.7762 - val_loss: 0.6975 - val_accuracy: 0.7688 - lr: 0.0010\n",
            "Epoch 7/30\n",
            "1329/1329 [==============================] - 10s 7ms/step - loss: 0.6028 - accuracy: 0.7933 - val_loss: 0.6207 - val_accuracy: 0.7876 - lr: 0.0010\n",
            "Epoch 8/30\n",
            "1329/1329 [==============================] - 10s 7ms/step - loss: 0.5527 - accuracy: 0.8107 - val_loss: 0.6508 - val_accuracy: 0.7763 - lr: 0.0010\n",
            "Epoch 9/30\n",
            "1329/1329 [==============================] - 9s 7ms/step - loss: 0.5081 - accuracy: 0.8258 - val_loss: 0.5589 - val_accuracy: 0.8144 - lr: 0.0010\n",
            "Epoch 10/30\n",
            "1329/1329 [==============================] - 9s 7ms/step - loss: 0.4702 - accuracy: 0.8395 - val_loss: 0.5771 - val_accuracy: 0.8077 - lr: 0.0010\n",
            "Epoch 11/30\n",
            "1329/1329 [==============================] - 9s 7ms/step - loss: 0.4245 - accuracy: 0.8535 - val_loss: 0.6861 - val_accuracy: 0.7769 - lr: 0.0010\n",
            "Epoch 12/30\n",
            "1329/1329 [==============================] - 10s 8ms/step - loss: 0.3909 - accuracy: 0.8645 - val_loss: 0.6879 - val_accuracy: 0.7760 - lr: 0.0010\n",
            "Epoch 13/30\n",
            "1329/1329 [==============================] - 10s 7ms/step - loss: 0.3676 - accuracy: 0.8725 - val_loss: 0.6968 - val_accuracy: 0.7811 - lr: 0.0010\n",
            "Epoch 14/30\n",
            "1328/1329 [============================>.] - ETA: 0s - loss: 0.3380 - accuracy: 0.8843\n",
            "Epoch 00014: ReduceLROnPlateau reducing learning rate to 0.00020000000949949026.\n",
            "1329/1329 [==============================] - 10s 7ms/step - loss: 0.3380 - accuracy: 0.8844 - val_loss: 0.6030 - val_accuracy: 0.8047 - lr: 0.0010\n",
            "Epoch 15/30\n",
            "1329/1329 [==============================] - 9s 7ms/step - loss: 0.2303 - accuracy: 0.9196 - val_loss: 0.4857 - val_accuracy: 0.8535 - lr: 2.0000e-04\n",
            "Epoch 16/30\n",
            "1329/1329 [==============================] - 10s 7ms/step - loss: 0.1946 - accuracy: 0.9316 - val_loss: 0.4899 - val_accuracy: 0.8539 - lr: 2.0000e-04\n",
            "Epoch 17/30\n",
            "1329/1329 [==============================] - 10s 7ms/step - loss: 0.1733 - accuracy: 0.9379 - val_loss: 0.5107 - val_accuracy: 0.8553 - lr: 2.0000e-04\n",
            "Epoch 18/30\n",
            "1329/1329 [==============================] - 10s 7ms/step - loss: 0.1605 - accuracy: 0.9435 - val_loss: 0.5171 - val_accuracy: 0.8555 - lr: 2.0000e-04\n",
            "Epoch 19/30\n",
            "1329/1329 [==============================] - 10s 8ms/step - loss: 0.1470 - accuracy: 0.9484 - val_loss: 0.5217 - val_accuracy: 0.8588 - lr: 2.0000e-04\n",
            "Epoch 20/30\n",
            "1325/1329 [============================>.] - ETA: 0s - loss: 0.1366 - accuracy: 0.9516\n",
            "Epoch 00020: ReduceLROnPlateau reducing learning rate to 4.0000001899898055e-05.\n",
            "1329/1329 [==============================] - 9s 7ms/step - loss: 0.1366 - accuracy: 0.9516 - val_loss: 0.5707 - val_accuracy: 0.8489 - lr: 2.0000e-04\n",
            "Epoch 21/30\n",
            "1329/1329 [==============================] - 9s 7ms/step - loss: 0.1118 - accuracy: 0.9604 - val_loss: 0.5345 - val_accuracy: 0.8624 - lr: 4.0000e-05\n",
            "Epoch 22/30\n",
            "1329/1329 [==============================] - 10s 7ms/step - loss: 0.1063 - accuracy: 0.9621 - val_loss: 0.5378 - val_accuracy: 0.8617 - lr: 4.0000e-05\n",
            "Epoch 23/30\n",
            "1329/1329 [==============================] - 10s 8ms/step - loss: 0.1044 - accuracy: 0.9628 - val_loss: 0.5509 - val_accuracy: 0.8617 - lr: 4.0000e-05\n",
            "Epoch 24/30\n",
            "1329/1329 [==============================] - 10s 7ms/step - loss: 0.0991 - accuracy: 0.9646 - val_loss: 0.5501 - val_accuracy: 0.8624 - lr: 4.0000e-05\n",
            "Epoch 25/30\n",
            "1323/1329 [============================>.] - ETA: 0s - loss: 0.0985 - accuracy: 0.9652\n",
            "Epoch 00025: ReduceLROnPlateau reducing learning rate to 8.000000525498762e-06.\n",
            "1329/1329 [==============================] - 9s 7ms/step - loss: 0.0984 - accuracy: 0.9652 - val_loss: 0.5544 - val_accuracy: 0.8616 - lr: 4.0000e-05\n",
            "Epoch 00025: early stopping\n"
          ]
        }
      ]
    },
    {
      "cell_type": "code",
      "source": [
        "model.evaluate(test_images, test_oh_labels)"
      ],
      "metadata": {
        "colab": {
          "base_uri": "https://localhost:8080/"
        },
        "id": "h4oR3ZosATxu",
        "outputId": "1cbe1b79-7e9f-4366-977e-1b0fb761485c"
      },
      "execution_count": 19,
      "outputs": [
        {
          "output_type": "stream",
          "name": "stdout",
          "text": [
            "313/313 [==============================] - 1s 4ms/step - loss: 0.6027 - accuracy: 0.8504\n"
          ]
        },
        {
          "output_type": "execute_result",
          "data": {
            "text/plain": [
              "[0.602685809135437, 0.8503999710083008]"
            ]
          },
          "metadata": {},
          "execution_count": 19
        }
      ]
    },
    {
      "cell_type": "code",
      "source": [
        "!ls -lia"
      ],
      "metadata": {
        "colab": {
          "base_uri": "https://localhost:8080/"
        },
        "id": "2Apn0_mhAWmv",
        "outputId": "3a618606-2a03-4e5e-8f93-1dbe8a653757"
      },
      "execution_count": 20,
      "outputs": [
        {
          "output_type": "stream",
          "name": "stdout",
          "text": [
            "total 20\n",
            "3146567 drwxr-xr-x 1 root root 4096 Jan  4 12:18 .\n",
            "4341927 drwxr-xr-x 1 root root 4096 Jan  4 11:32 ..\n",
            "4063282 drwxr-xr-x 4 root root 4096 Dec  3 14:33 .config\n",
            "      1 drwx------ 5 root root 4096 Jan  4 12:18 drive\n",
            "3146568 drwxr-xr-x 1 root root 4096 Dec  3 14:33 sample_data\n"
          ]
        }
      ]
    },
    {
      "cell_type": "markdown",
      "source": [
        "### 최적 weight를 모델로 재 로딩한 다음에 테스트 데이터로 다시 평가"
      ],
      "metadata": {
        "id": "7fLGnxm9AYvM"
      }
    },
    {
      "cell_type": "code",
      "source": [
        "model = create_model()\n",
        "model.compile(optimizer=Adam(lr=0.001), loss='categorical_crossentropy', metrics=['accuracy'])\n",
        "model.load_weights('/content/drive/MyDrive/Colab Notebooks/deeplearning-fundamental/models/weights.15-0.49.hdf5')"
      ],
      "metadata": {
        "colab": {
          "base_uri": "https://localhost:8080/"
        },
        "id": "ffIVJaVBAZD3",
        "outputId": "77816060-1d66-40ae-d17b-f994b17f8b33"
      },
      "execution_count": 22,
      "outputs": [
        {
          "output_type": "stream",
          "name": "stderr",
          "text": [
            "/usr/local/lib/python3.7/dist-packages/keras/optimizer_v2/adam.py:105: UserWarning: The `lr` argument is deprecated, use `learning_rate` instead.\n",
            "  super(Adam, self).__init__(name, **kwargs)\n"
          ]
        }
      ]
    },
    {
      "cell_type": "code",
      "source": [
        "model.evaluate(test_images, test_oh_labels)"
      ],
      "metadata": {
        "colab": {
          "base_uri": "https://localhost:8080/"
        },
        "id": "DEHFVPUiAbuF",
        "outputId": "91676dcd-73dd-4594-ae86-753a37c0dfd8"
      },
      "execution_count": 23,
      "outputs": [
        {
          "output_type": "stream",
          "name": "stdout",
          "text": [
            "313/313 [==============================] - 2s 5ms/step - loss: 0.5120 - accuracy: 0.8476\n"
          ]
        },
        {
          "output_type": "execute_result",
          "data": {
            "text/plain": [
              "[0.5119877457618713, 0.847599983215332]"
            ]
          },
          "metadata": {},
          "execution_count": 23
        }
      ]
    },
    {
      "cell_type": "code",
      "source": [
        "import matplotlib.pyplot as plt\n",
        "%matplotlib inline\n",
        "\n",
        "def show_history(history):\n",
        "    plt.figure(figsize=(8, 4))\n",
        "    plt.yticks(np.arange(0, 1, 0.05))\n",
        "    plt.xticks(np.arange(0, 30, 2))\n",
        "    plt.plot(history.history['accuracy'], label='train')\n",
        "    plt.plot(history.history['val_accuracy'], label='valid')\n",
        "    plt.legend()\n",
        "    \n",
        "show_history(history)"
      ],
      "metadata": {
        "colab": {
          "base_uri": "https://localhost:8080/",
          "height": 265
        },
        "id": "WYE9zTwDAdb_",
        "outputId": "15dbd474-d0ab-42a2-9914-4394a79b6ed5"
      },
      "execution_count": 24,
      "outputs": [
        {
          "output_type": "display_data",
          "data": {
            "image/png": "[encoded data removed]",
            "text/plain": [
              "<Figure size 576x288 with 1 Axes>"
            ]
          },
          "metadata": {
            "needs_background": "light"
          }
        }
      ]
    },
    {
      "cell_type": "markdown",
      "source": [
        "### 필터의 개수를 증가시켜 테스트\n",
        "* Conv Layer의 필터를 기존보다 2배씩 증가\n",
        "* 맨 마지막 Conv는 512로 대폭 증가"
      ],
      "metadata": {
        "id": "j-bVsQiYAfP4"
      }
    },
    {
      "cell_type": "code",
      "source": [
        "from tensorflow.keras.models import Sequential, Model\n",
        "from tensorflow.keras.layers import Input, Dense , Conv2D , Dropout , Flatten , Activation, MaxPooling2D , GlobalAveragePooling2D\n",
        "from tensorflow.keras.optimizers import Adam , RMSprop \n",
        "from tensorflow.keras.layers import BatchNormalization\n",
        "from tensorflow.keras.callbacks import ReduceLROnPlateau , EarlyStopping , ModelCheckpoint , LearningRateScheduler\n",
        "\n",
        "input_tensor = Input(shape=(IMAGE_SIZE, IMAGE_SIZE, 3))\n",
        "\n",
        "#x = Conv2D(filters=32, kernel_size=(5, 5), padding='valid', activation='relu')(input_tensor)\n",
        "x = Conv2D(filters=64, kernel_size=(3, 3), padding='same')(input_tensor)\n",
        "x = BatchNormalization()(x)\n",
        "x = Activation('relu')(x)\n",
        "\n",
        "x = Conv2D(filters=64, kernel_size=(3, 3), padding='same')(x)\n",
        "x = BatchNormalization()(x)\n",
        "x = Activation('relu')(x)\n",
        "x = MaxPooling2D(pool_size=(2, 2))(x)\n",
        "\n",
        "x = Conv2D(filters=128, kernel_size=3, padding='same')(x)\n",
        "x = BatchNormalization()(x)\n",
        "x = Activation('relu')(x)\n",
        "\n",
        "x = Conv2D(filters=128, kernel_size=3, padding='same')(x)\n",
        "x = Activation('relu')(x)\n",
        "x = Activation('relu')(x)\n",
        "x = MaxPooling2D(pool_size=2)(x)\n",
        "\n",
        "x = Conv2D(filters=256, kernel_size=3, padding='same')(x)\n",
        "x = BatchNormalization()(x)\n",
        "x = Activation('relu')(x)\n",
        "\n",
        "x = Conv2D(filters=256, kernel_size=3, padding='same')(x)\n",
        "x = BatchNormalization()(x)\n",
        "x = Activation('relu')(x)\n",
        "\n",
        "# 512 filters Conv layer 추가\n",
        "x = Conv2D(filters=512, kernel_size=3, padding='same')(x)\n",
        "x = BatchNormalization()(x)\n",
        "x = Activation('relu')(x)\n",
        "\n",
        "x = MaxPooling2D(pool_size=2)(x)\n",
        "\n",
        "# cifar10의 클래스가 10개 이므로 마지막 classification의 Dense layer units갯수는 10\n",
        "x = Flatten(name='flatten')(x)\n",
        "x = Dropout(rate=0.5)(x)\n",
        "x = Dense(300, activation='relu', name='fc1')(x)\n",
        "x = Dropout(rate=0.3)(x)\n",
        "output = Dense(10, activation='softmax', name='output')(x)\n",
        "\n",
        "model = Model(inputs=input_tensor, outputs=output)\n",
        "\n",
        "model.summary()"
      ],
      "metadata": {
        "colab": {
          "base_uri": "https://localhost:8080/"
        },
        "id": "o48CYdjqAfnn",
        "outputId": "f6b4956d-90c8-4efc-8613-31dcf9170300"
      },
      "execution_count": 25,
      "outputs": [
        {
          "output_type": "stream",
          "name": "stdout",
          "text": [
            "Model: \"model_5\"\n",
            "_________________________________________________________________\n",
            " Layer (type)                Output Shape              Param #   \n",
            "=================================================================\n",
            " input_6 (InputLayer)        [(None, 32, 32, 3)]       0         \n",
            "                                                                 \n",
            " conv2d_30 (Conv2D)          (None, 32, 32, 64)        1792      \n",
            "                                                                 \n",
            " batch_normalization_25 (Bat  (None, 32, 32, 64)       256       \n",
            " chNormalization)                                                \n",
            "                                                                 \n",
            " activation_35 (Activation)  (None, 32, 32, 64)        0         \n",
            "                                                                 \n",
            " conv2d_31 (Conv2D)          (None, 32, 32, 64)        36928     \n",
            "                                                                 \n",
            " batch_normalization_26 (Bat  (None, 32, 32, 64)       256       \n",
            " chNormalization)                                                \n",
            "                                                                 \n",
            " activation_36 (Activation)  (None, 32, 32, 64)        0         \n",
            "                                                                 \n",
            " max_pooling2d_15 (MaxPoolin  (None, 16, 16, 64)       0         \n",
            " g2D)                                                            \n",
            "                                                                 \n",
            " conv2d_32 (Conv2D)          (None, 16, 16, 128)       73856     \n",
            "                                                                 \n",
            " batch_normalization_27 (Bat  (None, 16, 16, 128)      512       \n",
            " chNormalization)                                                \n",
            "                                                                 \n",
            " activation_37 (Activation)  (None, 16, 16, 128)       0         \n",
            "                                                                 \n",
            " conv2d_33 (Conv2D)          (None, 16, 16, 128)       147584    \n",
            "                                                                 \n",
            " activation_38 (Activation)  (None, 16, 16, 128)       0         \n",
            "                                                                 \n",
            " activation_39 (Activation)  (None, 16, 16, 128)       0         \n",
            "                                                                 \n",
            " max_pooling2d_16 (MaxPoolin  (None, 8, 8, 128)        0         \n",
            " g2D)                                                            \n",
            "                                                                 \n",
            " conv2d_34 (Conv2D)          (None, 8, 8, 256)         295168    \n",
            "                                                                 \n",
            " batch_normalization_28 (Bat  (None, 8, 8, 256)        1024      \n",
            " chNormalization)                                                \n",
            "                                                                 \n",
            " activation_40 (Activation)  (None, 8, 8, 256)         0         \n",
            "                                                                 \n",
            " conv2d_35 (Conv2D)          (None, 8, 8, 256)         590080    \n",
            "                                                                 \n",
            " batch_normalization_29 (Bat  (None, 8, 8, 256)        1024      \n",
            " chNormalization)                                                \n",
            "                                                                 \n",
            " activation_41 (Activation)  (None, 8, 8, 256)         0         \n",
            "                                                                 \n",
            " conv2d_36 (Conv2D)          (None, 8, 8, 512)         1180160   \n",
            "                                                                 \n",
            " batch_normalization_30 (Bat  (None, 8, 8, 512)        2048      \n",
            " chNormalization)                                                \n",
            "                                                                 \n",
            " activation_42 (Activation)  (None, 8, 8, 512)         0         \n",
            "                                                                 \n",
            " max_pooling2d_17 (MaxPoolin  (None, 4, 4, 512)        0         \n",
            " g2D)                                                            \n",
            "                                                                 \n",
            " flatten (Flatten)           (None, 8192)              0         \n",
            "                                                                 \n",
            " dropout_10 (Dropout)        (None, 8192)              0         \n",
            "                                                                 \n",
            " fc1 (Dense)                 (None, 300)               2457900   \n",
            "                                                                 \n",
            " dropout_11 (Dropout)        (None, 300)               0         \n",
            "                                                                 \n",
            " output (Dense)              (None, 10)                3010      \n",
            "                                                                 \n",
            "=================================================================\n",
            "Total params: 4,791,598\n",
            "Trainable params: 4,789,038\n",
            "Non-trainable params: 2,560\n",
            "_________________________________________________________________\n"
          ]
        }
      ]
    },
    {
      "cell_type": "code",
      "source": [
        "model.compile(optimizer=Adam(lr=0.001), loss='categorical_crossentropy', metrics=['accuracy'])\n",
        "\n",
        "# 5번 iteration내에 validation loss가 향상되지 않으면 learning rate을 기존 learning rate * 0.2로 줄임.  \n",
        "rlr_cb = ReduceLROnPlateau(monitor='val_loss', factor=0.2, patience=5, mode='min', verbose=1)\n",
        "# 10번 iteration내에 validation loss가 향상되지 않으면 더 이상 학습하지 않고 종료\n",
        "ely_cb = EarlyStopping(monitor='val_loss', patience=10, mode='min', verbose=1)\n",
        "\n",
        "\n",
        "history = model.fit(x=tr_images, y=tr_oh_labels, batch_size=32, epochs=30, shuffle=True,\n",
        "                    validation_data=(val_images, val_oh_labels),  \n",
        "                    callbacks=[rlr_cb, ely_cb] )"
      ],
      "metadata": {
        "colab": {
          "base_uri": "https://localhost:8080/"
        },
        "id": "IQZ9wpaVAi9K",
        "outputId": "3c585fab-5a85-42c5-8f57-4d87f11179fc"
      },
      "execution_count": 26,
      "outputs": [
        {
          "output_type": "stream",
          "name": "stderr",
          "text": [
            "/usr/local/lib/python3.7/dist-packages/keras/optimizer_v2/adam.py:105: UserWarning: The `lr` argument is deprecated, use `learning_rate` instead.\n",
            "  super(Adam, self).__init__(name, **kwargs)\n"
          ]
        },
        {
          "output_type": "stream",
          "name": "stdout",
          "text": [
            "Epoch 1/30\n",
            "1329/1329 [==============================] - 20s 14ms/step - loss: 1.8645 - accuracy: 0.3107 - val_loss: 1.5231 - val_accuracy: 0.4295 - lr: 0.0010\n",
            "Epoch 2/30\n",
            "1329/1329 [==============================] - 18s 14ms/step - loss: 1.4528 - accuracy: 0.4485 - val_loss: 1.4836 - val_accuracy: 0.5024 - lr: 0.0010\n",
            "Epoch 3/30\n",
            "1329/1329 [==============================] - 18s 14ms/step - loss: 1.1999 - accuracy: 0.5628 - val_loss: 1.0846 - val_accuracy: 0.5905 - lr: 0.0010\n",
            "Epoch 4/30\n",
            "1329/1329 [==============================] - 18s 14ms/step - loss: 1.0419 - accuracy: 0.6295 - val_loss: 0.8896 - val_accuracy: 0.6933 - lr: 0.0010\n",
            "Epoch 5/30\n",
            "1329/1329 [==============================] - 18s 14ms/step - loss: 0.9265 - accuracy: 0.6712 - val_loss: 0.8831 - val_accuracy: 0.7079 - lr: 0.0010\n",
            "Epoch 6/30\n",
            "1329/1329 [==============================] - 18s 14ms/step - loss: 0.8193 - accuracy: 0.7163 - val_loss: 0.8718 - val_accuracy: 0.7248 - lr: 0.0010\n",
            "Epoch 7/30\n",
            "1329/1329 [==============================] - 18s 14ms/step - loss: 0.7071 - accuracy: 0.7598 - val_loss: 0.8933 - val_accuracy: 0.7089 - lr: 0.0010\n",
            "Epoch 8/30\n",
            "1329/1329 [==============================] - 18s 14ms/step - loss: 0.6158 - accuracy: 0.7943 - val_loss: 0.6020 - val_accuracy: 0.8021 - lr: 0.0010\n",
            "Epoch 9/30\n",
            "1329/1329 [==============================] - 18s 14ms/step - loss: 0.5306 - accuracy: 0.8258 - val_loss: 0.6551 - val_accuracy: 0.7908 - lr: 0.0010\n",
            "Epoch 10/30\n",
            "1329/1329 [==============================] - 19s 14ms/step - loss: 0.4668 - accuracy: 0.8465 - val_loss: 0.6842 - val_accuracy: 0.7729 - lr: 0.0010\n",
            "Epoch 11/30\n",
            "1329/1329 [==============================] - 18s 14ms/step - loss: 0.4041 - accuracy: 0.8654 - val_loss: 0.7095 - val_accuracy: 0.7796 - lr: 0.0010\n",
            "Epoch 12/30\n",
            "1329/1329 [==============================] - 19s 14ms/step - loss: 0.3459 - accuracy: 0.8865 - val_loss: 0.5824 - val_accuracy: 0.8295 - lr: 0.0010\n",
            "Epoch 13/30\n",
            "1329/1329 [==============================] - 19s 14ms/step - loss: 0.2939 - accuracy: 0.9037 - val_loss: 0.5778 - val_accuracy: 0.8315 - lr: 0.0010\n",
            "Epoch 14/30\n",
            "1329/1329 [==============================] - 18s 14ms/step - loss: 0.2556 - accuracy: 0.9164 - val_loss: 0.6407 - val_accuracy: 0.8211 - lr: 0.0010\n",
            "Epoch 15/30\n",
            "1329/1329 [==============================] - 19s 14ms/step - loss: 0.2198 - accuracy: 0.9270 - val_loss: 0.6897 - val_accuracy: 0.8319 - lr: 0.0010\n",
            "Epoch 16/30\n",
            "1329/1329 [==============================] - 19s 14ms/step - loss: 0.2003 - accuracy: 0.9352 - val_loss: 0.7405 - val_accuracy: 0.8248 - lr: 0.0010\n",
            "Epoch 17/30\n",
            "1329/1329 [==============================] - 19s 14ms/step - loss: 0.1733 - accuracy: 0.9441 - val_loss: 0.5630 - val_accuracy: 0.8547 - lr: 0.0010\n",
            "Epoch 18/30\n",
            "1329/1329 [==============================] - 19s 14ms/step - loss: 0.1554 - accuracy: 0.9500 - val_loss: 0.6666 - val_accuracy: 0.8373 - lr: 0.0010\n",
            "Epoch 19/30\n",
            "1329/1329 [==============================] - 18s 14ms/step - loss: 0.1393 - accuracy: 0.9548 - val_loss: 0.7443 - val_accuracy: 0.8285 - lr: 0.0010\n",
            "Epoch 20/30\n",
            "1329/1329 [==============================] - 19s 14ms/step - loss: 0.1259 - accuracy: 0.9593 - val_loss: 0.8491 - val_accuracy: 0.8279 - lr: 0.0010\n",
            "Epoch 21/30\n",
            "1329/1329 [==============================] - 19s 14ms/step - loss: 0.1093 - accuracy: 0.9660 - val_loss: 0.7082 - val_accuracy: 0.8468 - lr: 0.0010\n",
            "Epoch 22/30\n",
            "1326/1329 [============================>.] - ETA: 0s - loss: 0.1039 - accuracy: 0.9674\n",
            "Epoch 00022: ReduceLROnPlateau reducing learning rate to 0.00020000000949949026.\n",
            "1329/1329 [==============================] - 19s 14ms/step - loss: 0.1039 - accuracy: 0.9675 - val_loss: 0.8370 - val_accuracy: 0.8197 - lr: 0.0010\n",
            "Epoch 23/30\n",
            "1329/1329 [==============================] - 19s 14ms/step - loss: 0.0413 - accuracy: 0.9868 - val_loss: 0.6863 - val_accuracy: 0.8727 - lr: 2.0000e-04\n",
            "Epoch 24/30\n",
            "1329/1329 [==============================] - 19s 14ms/step - loss: 0.0225 - accuracy: 0.9926 - val_loss: 0.7729 - val_accuracy: 0.8768 - lr: 2.0000e-04\n",
            "Epoch 25/30\n",
            "1329/1329 [==============================] - 19s 14ms/step - loss: 0.0159 - accuracy: 0.9951 - val_loss: 0.8301 - val_accuracy: 0.8752 - lr: 2.0000e-04\n",
            "Epoch 26/30\n",
            "1329/1329 [==============================] - 19s 14ms/step - loss: 0.0125 - accuracy: 0.9958 - val_loss: 0.8878 - val_accuracy: 0.8761 - lr: 2.0000e-04\n",
            "Epoch 27/30\n",
            "1328/1329 [============================>.] - ETA: 0s - loss: 0.0118 - accuracy: 0.9965\n",
            "Epoch 00027: ReduceLROnPlateau reducing learning rate to 4.0000001899898055e-05.\n",
            "1329/1329 [==============================] - 19s 14ms/step - loss: 0.0118 - accuracy: 0.9965 - val_loss: 0.9259 - val_accuracy: 0.8719 - lr: 2.0000e-04\n",
            "Epoch 00027: early stopping\n"
          ]
        }
      ]
    },
    {
      "cell_type": "code",
      "source": [
        "model.evaluate(test_images, test_oh_labels)\n",
        "show_history(history)"
      ],
      "metadata": {
        "colab": {
          "base_uri": "https://localhost:8080/",
          "height": 283
        },
        "id": "uLfes0k7AliP",
        "outputId": "5fa94065-53b0-487f-f543-3d9a4e5f1636"
      },
      "execution_count": 27,
      "outputs": [
        {
          "output_type": "stream",
          "name": "stdout",
          "text": [
            "313/313 [==============================] - 2s 6ms/step - loss: 1.0018 - accuracy: 0.8625\n"
          ]
        },
        {
          "output_type": "display_data",
          "data": {
            "image/png": "[encoded data removed]",
            "text/plain": [
              "<Figure size 576x288 with 1 Axes>"
            ]
          },
          "metadata": {
            "needs_background": "light"
          }
        }
      ]
    },
    {
      "cell_type": "markdown",
      "source": [
        "### 맨 마지막 Conv + MaxPooling 대신 맨 마지막 Conv의 Strides를 2로 하여 Feature map 조정"
      ],
      "metadata": {
        "id": "yJb5DZ_DAn6T"
      }
    },
    {
      "cell_type": "code",
      "source": [
        "from tensorflow.keras.models import Sequential, Model\n",
        "from tensorflow.keras.layers import Input, Dense , Conv2D , Dropout , Flatten , Activation, MaxPooling2D , GlobalAveragePooling2D\n",
        "from tensorflow.keras.optimizers import Adam , RMSprop \n",
        "from tensorflow.keras.layers import BatchNormalization\n",
        "from tensorflow.keras.callbacks import ReduceLROnPlateau , EarlyStopping , ModelCheckpoint , LearningRateScheduler\n",
        "\n",
        "input_tensor = Input(shape=(IMAGE_SIZE, IMAGE_SIZE, 3))\n",
        "\n",
        "x = Conv2D(filters=64, kernel_size=(3, 3), padding='same')(input_tensor)\n",
        "x = BatchNormalization()(x)\n",
        "x = Activation('relu')(x)\n",
        "\n",
        "x = Conv2D(filters=64, kernel_size=(3, 3), padding='same')(x)\n",
        "x = BatchNormalization()(x)\n",
        "x = Activation('relu')(x)\n",
        "x = MaxPooling2D(pool_size=(2, 2))(x)\n",
        "\n",
        "x = Conv2D(filters=128, kernel_size=3, padding='same')(x)\n",
        "x = BatchNormalization()(x)\n",
        "x = Activation('relu')(x)\n",
        "\n",
        "x = Conv2D(filters=128, kernel_size=3, padding='same')(x)\n",
        "x = Activation('relu')(x)\n",
        "x = Activation('relu')(x)\n",
        "x = MaxPooling2D(pool_size=2)(x)\n",
        "\n",
        "x = Conv2D(filters=256, kernel_size=3, padding='same')(x)\n",
        "x = BatchNormalization()(x)\n",
        "x = Activation('relu')(x)\n",
        "\n",
        "x = Conv2D(filters=256, kernel_size=3, padding='same')(x)\n",
        "x = BatchNormalization()(x)\n",
        "x = Activation('relu')(x)\n",
        "\n",
        "# 512 filters Conv layer 추가하되 이후 MaxPooling을 적용하지 않고 strides는 2로 변경하여 출력 feature map 크기 조정\n",
        "x = Conv2D(filters=512, kernel_size=3, strides=2, padding='same')(x)\n",
        "x = BatchNormalization()(x)\n",
        "x = Activation('relu')(x)\n",
        "\n",
        "\n",
        "# cifar10의 클래스가 10개 이므로 마지막 classification의 Dense layer units갯수는 10\n",
        "x = Flatten(name='flatten')(x)\n",
        "x = Dropout(rate=0.5)(x)\n",
        "x = Dense(300, activation='relu', name='fc1')(x)\n",
        "x = Dropout(rate=0.3)(x)\n",
        "output = Dense(10, activation='softmax', name='output')(x)\n",
        "\n",
        "model = Model(inputs=input_tensor, outputs=output)\n",
        "\n",
        "model.summary()"
      ],
      "metadata": {
        "colab": {
          "base_uri": "https://localhost:8080/"
        },
        "id": "HRAFnJBXAoNc",
        "outputId": "9b7a2448-a127-48f2-a4cb-a164707aa9cc"
      },
      "execution_count": 28,
      "outputs": [
        {
          "output_type": "stream",
          "name": "stdout",
          "text": [
            "Model: \"model_6\"\n",
            "_________________________________________________________________\n",
            " Layer (type)                Output Shape              Param #   \n",
            "=================================================================\n",
            " input_7 (InputLayer)        [(None, 32, 32, 3)]       0         \n",
            "                                                                 \n",
            " conv2d_37 (Conv2D)          (None, 32, 32, 64)        1792      \n",
            "                                                                 \n",
            " batch_normalization_31 (Bat  (None, 32, 32, 64)       256       \n",
            " chNormalization)                                                \n",
            "                                                                 \n",
            " activation_43 (Activation)  (None, 32, 32, 64)        0         \n",
            "                                                                 \n",
            " conv2d_38 (Conv2D)          (None, 32, 32, 64)        36928     \n",
            "                                                                 \n",
            " batch_normalization_32 (Bat  (None, 32, 32, 64)       256       \n",
            " chNormalization)                                                \n",
            "                                                                 \n",
            " activation_44 (Activation)  (None, 32, 32, 64)        0         \n",
            "                                                                 \n",
            " max_pooling2d_18 (MaxPoolin  (None, 16, 16, 64)       0         \n",
            " g2D)                                                            \n",
            "                                                                 \n",
            " conv2d_39 (Conv2D)          (None, 16, 16, 128)       73856     \n",
            "                                                                 \n",
            " batch_normalization_33 (Bat  (None, 16, 16, 128)      512       \n",
            " chNormalization)                                                \n",
            "                                                                 \n",
            " activation_45 (Activation)  (None, 16, 16, 128)       0         \n",
            "                                                                 \n",
            " conv2d_40 (Conv2D)          (None, 16, 16, 128)       147584    \n",
            "                                                                 \n",
            " activation_46 (Activation)  (None, 16, 16, 128)       0         \n",
            "                                                                 \n",
            " activation_47 (Activation)  (None, 16, 16, 128)       0         \n",
            "                                                                 \n",
            " max_pooling2d_19 (MaxPoolin  (None, 8, 8, 128)        0         \n",
            " g2D)                                                            \n",
            "                                                                 \n",
            " conv2d_41 (Conv2D)          (None, 8, 8, 256)         295168    \n",
            "                                                                 \n",
            " batch_normalization_34 (Bat  (None, 8, 8, 256)        1024      \n",
            " chNormalization)                                                \n",
            "                                                                 \n",
            " activation_48 (Activation)  (None, 8, 8, 256)         0         \n",
            "                                                                 \n",
            " conv2d_42 (Conv2D)          (None, 8, 8, 256)         590080    \n",
            "                                                                 \n",
            " batch_normalization_35 (Bat  (None, 8, 8, 256)        1024      \n",
            " chNormalization)                                                \n",
            "                                                                 \n",
            " activation_49 (Activation)  (None, 8, 8, 256)         0         \n",
            "                                                                 \n",
            " conv2d_43 (Conv2D)          (None, 4, 4, 512)         1180160   \n",
            "                                                                 \n",
            " batch_normalization_36 (Bat  (None, 4, 4, 512)        2048      \n",
            " chNormalization)                                                \n",
            "                                                                 \n",
            " activation_50 (Activation)  (None, 4, 4, 512)         0         \n",
            "                                                                 \n",
            " flatten (Flatten)           (None, 8192)              0         \n",
            "                                                                 \n",
            " dropout_12 (Dropout)        (None, 8192)              0         \n",
            "                                                                 \n",
            " fc1 (Dense)                 (None, 300)               2457900   \n",
            "                                                                 \n",
            " dropout_13 (Dropout)        (None, 300)               0         \n",
            "                                                                 \n",
            " output (Dense)              (None, 10)                3010      \n",
            "                                                                 \n",
            "=================================================================\n",
            "Total params: 4,791,598\n",
            "Trainable params: 4,789,038\n",
            "Non-trainable params: 2,560\n",
            "_________________________________________________________________\n"
          ]
        }
      ]
    },
    {
      "cell_type": "code",
      "source": [
        "model.compile(optimizer=Adam(lr=0.001), loss='categorical_crossentropy', metrics=['accuracy'])\n",
        "\n",
        "# 5번 iteration내에 validation loss가 향상되지 않으면 learning rate을 기존 learning rate * 0.2로 줄임.  \n",
        "rlr_cb = ReduceLROnPlateau(monitor='val_loss', factor=0.2, patience=5, mode='min', verbose=1)\n",
        "# 10번 iteration내에 validation loss가 향상되지 않으면 더 이상 학습하지 않고 종료\n",
        "ely_cb = EarlyStopping(monitor='val_loss', patience=10, mode='min', verbose=1)\n",
        "\n",
        "\n",
        "history = model.fit(x=tr_images, y=tr_oh_labels, batch_size=32, epochs=30, shuffle=True,\n",
        "                    validation_data=(val_images, val_oh_labels),  \n",
        "                    callbacks=[rlr_cb, ely_cb] )"
      ],
      "metadata": {
        "colab": {
          "base_uri": "https://localhost:8080/"
        },
        "id": "Gd_d5YfbArML",
        "outputId": "fcf60e9c-661c-49ea-9820-d0ca07d22f0e"
      },
      "execution_count": 29,
      "outputs": [
        {
          "output_type": "stream",
          "name": "stderr",
          "text": [
            "/usr/local/lib/python3.7/dist-packages/keras/optimizer_v2/adam.py:105: UserWarning: The `lr` argument is deprecated, use `learning_rate` instead.\n",
            "  super(Adam, self).__init__(name, **kwargs)\n"
          ]
        },
        {
          "output_type": "stream",
          "name": "stdout",
          "text": [
            "Epoch 1/30\n",
            "1329/1329 [==============================] - 21s 15ms/step - loss: 1.5708 - accuracy: 0.4318 - val_loss: 1.2104 - val_accuracy: 0.5679 - lr: 0.0010\n",
            "Epoch 2/30\n",
            "1329/1329 [==============================] - 20s 15ms/step - loss: 1.1270 - accuracy: 0.6003 - val_loss: 1.5806 - val_accuracy: 0.5308 - lr: 0.0010\n",
            "Epoch 3/30\n",
            "1329/1329 [==============================] - 20s 15ms/step - loss: 0.9395 - accuracy: 0.6724 - val_loss: 1.1589 - val_accuracy: 0.6061 - lr: 0.0010\n",
            "Epoch 4/30\n",
            "1329/1329 [==============================] - 20s 15ms/step - loss: 0.8208 - accuracy: 0.7197 - val_loss: 0.7396 - val_accuracy: 0.7475 - lr: 0.0010\n",
            "Epoch 5/30\n",
            "1329/1329 [==============================] - 20s 15ms/step - loss: 0.7000 - accuracy: 0.7642 - val_loss: 0.7785 - val_accuracy: 0.7452 - lr: 0.0010\n",
            "Epoch 6/30\n",
            "1329/1329 [==============================] - 20s 15ms/step - loss: 0.6100 - accuracy: 0.7958 - val_loss: 0.6539 - val_accuracy: 0.7823 - lr: 0.0010\n",
            "Epoch 7/30\n",
            "1329/1329 [==============================] - 20s 15ms/step - loss: 0.5310 - accuracy: 0.8225 - val_loss: 0.5655 - val_accuracy: 0.8115 - lr: 0.0010\n",
            "Epoch 8/30\n",
            "1329/1329 [==============================] - 20s 15ms/step - loss: 0.4561 - accuracy: 0.8495 - val_loss: 0.5730 - val_accuracy: 0.8145 - lr: 0.0010\n",
            "Epoch 9/30\n",
            "1329/1329 [==============================] - 21s 15ms/step - loss: 0.3884 - accuracy: 0.8696 - val_loss: 0.6571 - val_accuracy: 0.8039 - lr: 0.0010\n",
            "Epoch 10/30\n",
            "1329/1329 [==============================] - 20s 15ms/step - loss: 0.3299 - accuracy: 0.8884 - val_loss: 0.5954 - val_accuracy: 0.8177 - lr: 0.0010\n",
            "Epoch 11/30\n",
            "1329/1329 [==============================] - 21s 15ms/step - loss: 0.2948 - accuracy: 0.9020 - val_loss: 0.6027 - val_accuracy: 0.8264 - lr: 0.0010\n",
            "Epoch 12/30\n",
            "1329/1329 [==============================] - ETA: 0s - loss: 0.2442 - accuracy: 0.9186\n",
            "Epoch 00012: ReduceLROnPlateau reducing learning rate to 0.00020000000949949026.\n",
            "1329/1329 [==============================] - 20s 15ms/step - loss: 0.2442 - accuracy: 0.9186 - val_loss: 0.7118 - val_accuracy: 0.8020 - lr: 0.0010\n",
            "Epoch 13/30\n",
            "1329/1329 [==============================] - 21s 16ms/step - loss: 0.1191 - accuracy: 0.9595 - val_loss: 0.5597 - val_accuracy: 0.8684 - lr: 2.0000e-04\n",
            "Epoch 14/30\n",
            "1329/1329 [==============================] - 20s 15ms/step - loss: 0.0791 - accuracy: 0.9733 - val_loss: 0.6088 - val_accuracy: 0.8632 - lr: 2.0000e-04\n",
            "Epoch 15/30\n",
            "1329/1329 [==============================] - 20s 15ms/step - loss: 0.0618 - accuracy: 0.9797 - val_loss: 0.6738 - val_accuracy: 0.8691 - lr: 2.0000e-04\n",
            "Epoch 16/30\n",
            "1329/1329 [==============================] - 21s 16ms/step - loss: 0.0503 - accuracy: 0.9830 - val_loss: 0.7428 - val_accuracy: 0.8665 - lr: 2.0000e-04\n",
            "Epoch 17/30\n",
            "1329/1329 [==============================] - 21s 16ms/step - loss: 0.0386 - accuracy: 0.9868 - val_loss: 0.7772 - val_accuracy: 0.8669 - lr: 2.0000e-04\n",
            "Epoch 18/30\n",
            "1329/1329 [==============================] - ETA: 0s - loss: 0.0353 - accuracy: 0.9879\n",
            "Epoch 00018: ReduceLROnPlateau reducing learning rate to 4.0000001899898055e-05.\n",
            "1329/1329 [==============================] - 21s 16ms/step - loss: 0.0353 - accuracy: 0.9879 - val_loss: 0.8004 - val_accuracy: 0.8657 - lr: 2.0000e-04\n",
            "Epoch 19/30\n",
            "1329/1329 [==============================] - 20s 15ms/step - loss: 0.0229 - accuracy: 0.9924 - val_loss: 0.7708 - val_accuracy: 0.8723 - lr: 4.0000e-05\n",
            "Epoch 20/30\n",
            "1329/1329 [==============================] - 20s 15ms/step - loss: 0.0177 - accuracy: 0.9947 - val_loss: 0.8121 - val_accuracy: 0.8733 - lr: 4.0000e-05\n",
            "Epoch 21/30\n",
            "1329/1329 [==============================] - 21s 15ms/step - loss: 0.0153 - accuracy: 0.9949 - val_loss: 0.8316 - val_accuracy: 0.8737 - lr: 4.0000e-05\n",
            "Epoch 22/30\n",
            "1329/1329 [==============================] - 21s 16ms/step - loss: 0.0130 - accuracy: 0.9957 - val_loss: 0.8410 - val_accuracy: 0.8747 - lr: 4.0000e-05\n",
            "Epoch 23/30\n",
            "1328/1329 [============================>.] - ETA: 0s - loss: 0.0130 - accuracy: 0.9959\n",
            "Epoch 00023: ReduceLROnPlateau reducing learning rate to 8.000000525498762e-06.\n",
            "1329/1329 [==============================] - 21s 16ms/step - loss: 0.0130 - accuracy: 0.9959 - val_loss: 0.8700 - val_accuracy: 0.8735 - lr: 4.0000e-05\n",
            "Epoch 00023: early stopping\n"
          ]
        }
      ]
    },
    {
      "cell_type": "code",
      "source": [
        "model.evaluate(test_images, test_oh_labels)\n",
        "show_history(history)"
      ],
      "metadata": {
        "colab": {
          "base_uri": "https://localhost:8080/",
          "height": 283
        },
        "id": "8XaqyFIeAsmT",
        "outputId": "3a1d1792-d9c9-4fd5-e164-2360b6e35d42"
      },
      "execution_count": 30,
      "outputs": [
        {
          "output_type": "stream",
          "name": "stdout",
          "text": [
            "313/313 [==============================] - 2s 6ms/step - loss: 0.8609 - accuracy: 0.8654\n"
          ]
        },
        {
          "output_type": "display_data",
          "data": {
            "image/png": "[encoded data removed]",
            "text/plain": [
              "<Figure size 576x288 with 1 Axes>"
            ]
          },
          "metadata": {
            "needs_background": "light"
          }
        }
      ]
    },
    {
      "cell_type": "markdown",
      "source": [
        "### Global Average Pooling의 적용\n",
        "* Global Average Pooling은 피처맵의 가로x세로의 특정 영역을 Sub sampling 않고, 채널별로 평균 값을 추출\n",
        "* 충분히 Feature map의 채널수가 많을 경우 이를 적용. 채널수가 적다면 Flatten이 유리. \n",
        "* Flatten-> Classification Dense Layer로 이어지면서 많은 파라미터들로 인한 오버피팅 유발 가능성 증대 및 학습 시간 늘어남. \n",
        "* 맨 마지막 Feature Map의 채널 수가 충분히 크다면 GlobalAveragePooling2D를 적용하여 Flatten을 제거하는데 더 유리 할 수 있음. "
      ],
      "metadata": {
        "id": "HT39eqFtAud2"
      }
    },
    {
      "cell_type": "code",
      "source": [
        "from tensorflow.keras.models import Sequential, Model\n",
        "from tensorflow.keras.layers import Input, Dense , Conv2D , Dropout , Flatten , Activation, MaxPooling2D , GlobalAveragePooling2D\n",
        "from tensorflow.keras.optimizers import Adam , RMSprop \n",
        "from tensorflow.keras.layers import BatchNormalization\n",
        "from tensorflow.keras.callbacks import ReduceLROnPlateau , EarlyStopping , ModelCheckpoint , LearningRateScheduler\n",
        "\n",
        "input_tensor = Input(shape=(IMAGE_SIZE, IMAGE_SIZE, 3))\n",
        "\n",
        "#x = Conv2D(filters=32, kernel_size=(5, 5), padding='valid', activation='relu')(input_tensor)\n",
        "x = Conv2D(filters=64, kernel_size=(3, 3), padding='same')(input_tensor)\n",
        "x = BatchNormalization()(x)\n",
        "x = Activation('relu')(x)\n",
        "\n",
        "x = Conv2D(filters=64, kernel_size=(3, 3), padding='same')(x)\n",
        "x = BatchNormalization()(x)\n",
        "x = Activation('relu')(x)\n",
        "x = MaxPooling2D(pool_size=(2, 2))(x)\n",
        "\n",
        "x = Conv2D(filters=128, kernel_size=3, padding='same')(x)\n",
        "x = BatchNormalization()(x)\n",
        "x = Activation('relu')(x)\n",
        "\n",
        "x = Conv2D(filters=128, kernel_size=3, padding='same')(x)\n",
        "x = Activation('relu')(x)\n",
        "x = Activation('relu')(x)\n",
        "x = MaxPooling2D(pool_size=2)(x)\n",
        "\n",
        "x = Conv2D(filters=256, kernel_size=3, padding='same')(x)\n",
        "x = BatchNormalization()(x)\n",
        "x = Activation('relu')(x)\n",
        "\n",
        "x = Conv2D(filters=256, kernel_size=3, padding='same')(x)\n",
        "x = BatchNormalization()(x)\n",
        "x = Activation('relu')(x)\n",
        "\n",
        "x = Conv2D(filters=512, kernel_size=3, strides=2, padding='same')(x)\n",
        "x = BatchNormalization()(x)\n",
        "x = Activation('relu')(x)\n",
        "\n",
        "# Flatten 대신 Global AveragePooling 을 적용. \n",
        "x = GlobalAveragePooling2D()(x)\n",
        "x = Dropout(rate=0.5)(x)\n",
        "x = Dense(50, activation='relu', name='fc1')(x)\n",
        "x = Dropout(rate=0.2)(x)\n",
        "output = Dense(10, activation='softmax', name='output')(x)\n",
        "\n",
        "model = Model(inputs=input_tensor, outputs=output)\n",
        "\n",
        "model.summary()"
      ],
      "metadata": {
        "colab": {
          "base_uri": "https://localhost:8080/"
        },
        "id": "_cP3EeALAu38",
        "outputId": "cab15162-8120-41a0-c385-403c58c3ae80"
      },
      "execution_count": 31,
      "outputs": [
        {
          "output_type": "stream",
          "name": "stdout",
          "text": [
            "Model: \"model_7\"\n",
            "_________________________________________________________________\n",
            " Layer (type)                Output Shape              Param #   \n",
            "=================================================================\n",
            " input_8 (InputLayer)        [(None, 32, 32, 3)]       0         \n",
            "                                                                 \n",
            " conv2d_44 (Conv2D)          (None, 32, 32, 64)        1792      \n",
            "                                                                 \n",
            " batch_normalization_37 (Bat  (None, 32, 32, 64)       256       \n",
            " chNormalization)                                                \n",
            "                                                                 \n",
            " activation_51 (Activation)  (None, 32, 32, 64)        0         \n",
            "                                                                 \n",
            " conv2d_45 (Conv2D)          (None, 32, 32, 64)        36928     \n",
            "                                                                 \n",
            " batch_normalization_38 (Bat  (None, 32, 32, 64)       256       \n",
            " chNormalization)                                                \n",
            "                                                                 \n",
            " activation_52 (Activation)  (None, 32, 32, 64)        0         \n",
            "                                                                 \n",
            " max_pooling2d_20 (MaxPoolin  (None, 16, 16, 64)       0         \n",
            " g2D)                                                            \n",
            "                                                                 \n",
            " conv2d_46 (Conv2D)          (None, 16, 16, 128)       73856     \n",
            "                                                                 \n",
            " batch_normalization_39 (Bat  (None, 16, 16, 128)      512       \n",
            " chNormalization)                                                \n",
            "                                                                 \n",
            " activation_53 (Activation)  (None, 16, 16, 128)       0         \n",
            "                                                                 \n",
            " conv2d_47 (Conv2D)          (None, 16, 16, 128)       147584    \n",
            "                                                                 \n",
            " activation_54 (Activation)  (None, 16, 16, 128)       0         \n",
            "                                                                 \n",
            " activation_55 (Activation)  (None, 16, 16, 128)       0         \n",
            "                                                                 \n",
            " max_pooling2d_21 (MaxPoolin  (None, 8, 8, 128)        0         \n",
            " g2D)                                                            \n",
            "                                                                 \n",
            " conv2d_48 (Conv2D)          (None, 8, 8, 256)         295168    \n",
            "                                                                 \n",
            " batch_normalization_40 (Bat  (None, 8, 8, 256)        1024      \n",
            " chNormalization)                                                \n",
            "                                                                 \n",
            " activation_56 (Activation)  (None, 8, 8, 256)         0         \n",
            "                                                                 \n",
            " conv2d_49 (Conv2D)          (None, 8, 8, 256)         590080    \n",
            "                                                                 \n",
            " batch_normalization_41 (Bat  (None, 8, 8, 256)        1024      \n",
            " chNormalization)                                                \n",
            "                                                                 \n",
            " activation_57 (Activation)  (None, 8, 8, 256)         0         \n",
            "                                                                 \n",
            " conv2d_50 (Conv2D)          (None, 4, 4, 512)         1180160   \n",
            "                                                                 \n",
            " batch_normalization_42 (Bat  (None, 4, 4, 512)        2048      \n",
            " chNormalization)                                                \n",
            "                                                                 \n",
            " activation_58 (Activation)  (None, 4, 4, 512)         0         \n",
            "                                                                 \n",
            " global_average_pooling2d (G  (None, 512)              0         \n",
            " lobalAveragePooling2D)                                          \n",
            "                                                                 \n",
            " dropout_14 (Dropout)        (None, 512)               0         \n",
            "                                                                 \n",
            " fc1 (Dense)                 (None, 50)                25650     \n",
            "                                                                 \n",
            " dropout_15 (Dropout)        (None, 50)                0         \n",
            "                                                                 \n",
            " output (Dense)              (None, 10)                510       \n",
            "                                                                 \n",
            "=================================================================\n",
            "Total params: 2,356,848\n",
            "Trainable params: 2,354,288\n",
            "Non-trainable params: 2,560\n",
            "_________________________________________________________________\n"
          ]
        }
      ]
    },
    {
      "cell_type": "code",
      "source": [
        "from tensorflow.keras.callbacks import ReduceLROnPlateau\n",
        "from tensorflow.keras.callbacks import EarlyStopping\n",
        "\n",
        "model.compile(optimizer=Adam(lr=0.001), loss='categorical_crossentropy', metrics=['accuracy'])\n",
        "\n",
        "# 5번 iteration내에 validation loss가 향상되지 않으면 learning rate을 기존 learning rate * 0.2로 줄임.  \n",
        "rlr_cb = ReduceLROnPlateau(monitor='val_loss', factor=0.2, patience=5, mode='min', verbose=1)\n",
        "# 10번 iteration내에 validation loss가 향상되지 않으면 더 이상 학습하지 않고 종료\n",
        "ely_cb = EarlyStopping(monitor='val_loss', patience=10, mode='min', verbose=1)\n",
        "\n",
        "\n",
        "history = model.fit(x=tr_images, y=tr_oh_labels, batch_size=32, epochs=30, shuffle=True,\n",
        "                    validation_data=(val_images, val_oh_labels),  \n",
        "                    callbacks=[rlr_cb, ely_cb] )"
      ],
      "metadata": {
        "colab": {
          "base_uri": "https://localhost:8080/"
        },
        "id": "VJD58LDeAxAW",
        "outputId": "4b4069ec-b461-455b-c41f-cdf6a8b2826b"
      },
      "execution_count": 32,
      "outputs": [
        {
          "output_type": "stream",
          "name": "stderr",
          "text": [
            "/usr/local/lib/python3.7/dist-packages/keras/optimizer_v2/adam.py:105: UserWarning: The `lr` argument is deprecated, use `learning_rate` instead.\n",
            "  super(Adam, self).__init__(name, **kwargs)\n"
          ]
        },
        {
          "output_type": "stream",
          "name": "stdout",
          "text": [
            "Epoch 1/30\n",
            "1329/1329 [==============================] - 48s 36ms/step - loss: 1.4964 - accuracy: 0.4533 - val_loss: 1.7020 - val_accuracy: 0.4639 - lr: 0.0010\n",
            "Epoch 2/30\n",
            "1329/1329 [==============================] - 20s 15ms/step - loss: 1.0114 - accuracy: 0.6440 - val_loss: 1.0881 - val_accuracy: 0.6045 - lr: 0.0010\n",
            "Epoch 3/30\n",
            "1329/1329 [==============================] - 20s 15ms/step - loss: 0.8149 - accuracy: 0.7194 - val_loss: 0.8670 - val_accuracy: 0.7033 - lr: 0.0010\n",
            "Epoch 4/30\n",
            "1329/1329 [==============================] - 20s 15ms/step - loss: 0.6844 - accuracy: 0.7692 - val_loss: 0.7549 - val_accuracy: 0.7496 - lr: 0.0010\n",
            "Epoch 5/30\n",
            "1329/1329 [==============================] - 20s 15ms/step - loss: 0.5781 - accuracy: 0.8047 - val_loss: 0.6386 - val_accuracy: 0.7801 - lr: 0.0010\n",
            "Epoch 6/30\n",
            "1329/1329 [==============================] - 20s 15ms/step - loss: 0.4896 - accuracy: 0.8371 - val_loss: 0.7591 - val_accuracy: 0.7471 - lr: 0.0010\n",
            "Epoch 7/30\n",
            "1329/1329 [==============================] - 20s 15ms/step - loss: 0.4227 - accuracy: 0.8578 - val_loss: 0.6090 - val_accuracy: 0.7964 - lr: 0.0010\n",
            "Epoch 8/30\n",
            "1329/1329 [==============================] - 20s 15ms/step - loss: 0.3612 - accuracy: 0.8796 - val_loss: 0.8056 - val_accuracy: 0.7569 - lr: 0.0010\n",
            "Epoch 9/30\n",
            "1329/1329 [==============================] - 20s 15ms/step - loss: 0.3007 - accuracy: 0.8997 - val_loss: 0.5261 - val_accuracy: 0.8321 - lr: 0.0010\n",
            "Epoch 10/30\n",
            "1329/1329 [==============================] - 20s 15ms/step - loss: 0.2544 - accuracy: 0.9150 - val_loss: 0.7312 - val_accuracy: 0.8021 - lr: 0.0010\n",
            "Epoch 11/30\n",
            "1329/1329 [==============================] - 20s 15ms/step - loss: 0.2131 - accuracy: 0.9279 - val_loss: 0.8065 - val_accuracy: 0.7831 - lr: 0.0010\n",
            "Epoch 12/30\n",
            "1329/1329 [==============================] - 20s 15ms/step - loss: 0.1781 - accuracy: 0.9396 - val_loss: 0.9532 - val_accuracy: 0.7757 - lr: 0.0010\n",
            "Epoch 13/30\n",
            "1329/1329 [==============================] - 20s 15ms/step - loss: 0.1598 - accuracy: 0.9463 - val_loss: 0.6454 - val_accuracy: 0.8244 - lr: 0.0010\n",
            "Epoch 14/30\n",
            "1326/1329 [============================>.] - ETA: 0s - loss: 0.1325 - accuracy: 0.9562\n",
            "Epoch 00014: ReduceLROnPlateau reducing learning rate to 0.00020000000949949026.\n",
            "1329/1329 [==============================] - 20s 15ms/step - loss: 0.1325 - accuracy: 0.9562 - val_loss: 0.6866 - val_accuracy: 0.8292 - lr: 0.0010\n",
            "Epoch 15/30\n",
            "1329/1329 [==============================] - 20s 15ms/step - loss: 0.0518 - accuracy: 0.9836 - val_loss: 0.5562 - val_accuracy: 0.8711 - lr: 2.0000e-04\n",
            "Epoch 16/30\n",
            "1329/1329 [==============================] - 20s 15ms/step - loss: 0.0308 - accuracy: 0.9910 - val_loss: 0.6142 - val_accuracy: 0.8696 - lr: 2.0000e-04\n",
            "Epoch 17/30\n",
            "1329/1329 [==============================] - 20s 15ms/step - loss: 0.0216 - accuracy: 0.9936 - val_loss: 0.6428 - val_accuracy: 0.8653 - lr: 2.0000e-04\n",
            "Epoch 18/30\n",
            "1329/1329 [==============================] - 20s 15ms/step - loss: 0.0192 - accuracy: 0.9934 - val_loss: 0.6605 - val_accuracy: 0.8700 - lr: 2.0000e-04\n",
            "Epoch 19/30\n",
            "1328/1329 [============================>.] - ETA: 0s - loss: 0.0161 - accuracy: 0.9949\n",
            "Epoch 00019: ReduceLROnPlateau reducing learning rate to 4.0000001899898055e-05.\n",
            "1329/1329 [==============================] - 20s 15ms/step - loss: 0.0162 - accuracy: 0.9949 - val_loss: 0.7192 - val_accuracy: 0.8672 - lr: 2.0000e-04\n",
            "Epoch 00019: early stopping\n"
          ]
        }
      ]
    },
    {
      "cell_type": "code",
      "source": [
        "model.evaluate(test_images, test_oh_labels)\n",
        "show_history(history)"
      ],
      "metadata": {
        "colab": {
          "base_uri": "https://localhost:8080/",
          "height": 283
        },
        "id": "UtCeVsJyAyS6",
        "outputId": "24c4c3e9-4056-4393-fcde-0bc348abef69"
      },
      "execution_count": 33,
      "outputs": [
        {
          "output_type": "stream",
          "name": "stdout",
          "text": [
            "313/313 [==============================] - 2s 5ms/step - loss: 0.7852 - accuracy: 0.8574\n"
          ]
        },
        {
          "output_type": "display_data",
          "data": {
            "image/png": "[encoded data removed]",
            "text/plain": [
              "<Figure size 576x288 with 1 Axes>"
            ]
          },
          "metadata": {
            "needs_background": "light"
          }
        }
      ]
    },
    {
      "cell_type": "markdown",
      "source": [
        "### 가중치 규제(Weight Regularizations)\n",
        "* 개별 layer별로 tensorflow.keras.regularizers의 l1, l2, l1_l2 를 이용하여 가중치 규제를 적용할 수 있음. "
      ],
      "metadata": {
        "id": "A2TgSO17A0vq"
      }
    },
    {
      "cell_type": "code",
      "source": [
        "from tensorflow.keras.models import Sequential, Model\n",
        "from tensorflow.keras.layers import Input, Dense , Conv2D , Dropout , Flatten , Activation, MaxPooling2D , GlobalAveragePooling2D\n",
        "from tensorflow.keras.optimizers import Adam , RMSprop \n",
        "from tensorflow.keras.layers import BatchNormalization\n",
        "from tensorflow.keras.callbacks import ReduceLROnPlateau , EarlyStopping , ModelCheckpoint , LearningRateScheduler\n",
        "from tensorflow.keras.regularizers import l1, l2, l1_l2\n",
        "\n",
        "input_tensor = Input(shape=(IMAGE_SIZE, IMAGE_SIZE, 3))\n",
        "\n",
        "x = Conv2D(filters=64, kernel_size=(3, 3), padding='same', kernel_regularizer=l2(0.00001))(input_tensor)\n",
        "x = BatchNormalization()(x)\n",
        "x = Activation('relu')(x)\n",
        "\n",
        "x = Conv2D(filters=64, kernel_size=(3, 3), padding='same', kernel_regularizer=l2(0.00001))(x)\n",
        "x = BatchNormalization()(x)\n",
        "x = Activation('relu')(x)\n",
        "x = MaxPooling2D(pool_size=(2, 2))(x)\n",
        "\n",
        "x = Conv2D(filters=128, kernel_size=3, padding='same', kernel_regularizer=l1_l2(l1=1e-5, l2=1e-4))(x)\n",
        "x = BatchNormalization()(x)\n",
        "x = Activation('relu')(x)\n",
        "\n",
        "x = Conv2D(filters=128, kernel_size=3, padding='same', kernel_regularizer=l2(1e-5))(x)\n",
        "x = Activation('relu')(x)\n",
        "x = Activation('relu')(x)\n",
        "x = MaxPooling2D(pool_size=2)(x)\n",
        "\n",
        "x = Conv2D(filters=256, kernel_size=3, padding='same', kernel_regularizer=l2(1e-5))(x)\n",
        "x = BatchNormalization()(x)\n",
        "x = Activation('relu')(x)\n",
        "\n",
        "x = Conv2D(filters=256, kernel_size=3, padding='same', kernel_regularizer=l2(1e-5))(x)\n",
        "x = BatchNormalization()(x)\n",
        "x = Activation('relu')(x)\n",
        "\n",
        "# 512 filters Conv layer 추가하되 이후 MaxPooling을 적용하지 않고 strides는 2로 변경하여 출력 feature map 크기 조정\n",
        "x = Conv2D(filters=512, kernel_size=3, strides=2, padding='same', kernel_regularizer=l2(1e-5))(x)\n",
        "x = BatchNormalization()(x)\n",
        "x = Activation('relu')(x)\n",
        "\n",
        "\n",
        "# cifar10의 클래스가 10개 이므로 마지막 classification의 Dense layer units갯수는 10\n",
        "x = Flatten(name='flatten')(x)\n",
        "x = Dropout(rate=0.5)(x)\n",
        "x = Dense(300, activation='relu', kernel_regularizer=l2(1e-5), name='fc1')(x)\n",
        "x = Dropout(rate=0.3)(x)\n",
        "output = Dense(10, activation='softmax', name='output')(x)\n",
        "\n",
        "model = Model(inputs=input_tensor, outputs=output)\n",
        "\n",
        "model.summary()"
      ],
      "metadata": {
        "colab": {
          "base_uri": "https://localhost:8080/"
        },
        "id": "Yhn3iSn5A1HR",
        "outputId": "817ef58e-dcf5-4ebf-bb94-449370d0de77"
      },
      "execution_count": 34,
      "outputs": [
        {
          "output_type": "stream",
          "name": "stdout",
          "text": [
            "Model: \"model_8\"\n",
            "_________________________________________________________________\n",
            " Layer (type)                Output Shape              Param #   \n",
            "=================================================================\n",
            " input_9 (InputLayer)        [(None, 32, 32, 3)]       0         \n",
            "                                                                 \n",
            " conv2d_51 (Conv2D)          (None, 32, 32, 64)        1792      \n",
            "                                                                 \n",
            " batch_normalization_43 (Bat  (None, 32, 32, 64)       256       \n",
            " chNormalization)                                                \n",
            "                                                                 \n",
            " activation_59 (Activation)  (None, 32, 32, 64)        0         \n",
            "                                                                 \n",
            " conv2d_52 (Conv2D)          (None, 32, 32, 64)        36928     \n",
            "                                                                 \n",
            " batch_normalization_44 (Bat  (None, 32, 32, 64)       256       \n",
            " chNormalization)                                                \n",
            "                                                                 \n",
            " activation_60 (Activation)  (None, 32, 32, 64)        0         \n",
            "                                                                 \n",
            " max_pooling2d_22 (MaxPoolin  (None, 16, 16, 64)       0         \n",
            " g2D)                                                            \n",
            "                                                                 \n",
            " conv2d_53 (Conv2D)          (None, 16, 16, 128)       73856     \n",
            "                                                                 \n",
            " batch_normalization_45 (Bat  (None, 16, 16, 128)      512       \n",
            " chNormalization)                                                \n",
            "                                                                 \n",
            " activation_61 (Activation)  (None, 16, 16, 128)       0         \n",
            "                                                                 \n",
            " conv2d_54 (Conv2D)          (None, 16, 16, 128)       147584    \n",
            "                                                                 \n",
            " activation_62 (Activation)  (None, 16, 16, 128)       0         \n",
            "                                                                 \n",
            " activation_63 (Activation)  (None, 16, 16, 128)       0         \n",
            "                                                                 \n",
            " max_pooling2d_23 (MaxPoolin  (None, 8, 8, 128)        0         \n",
            " g2D)                                                            \n",
            "                                                                 \n",
            " conv2d_55 (Conv2D)          (None, 8, 8, 256)         295168    \n",
            "                                                                 \n",
            " batch_normalization_46 (Bat  (None, 8, 8, 256)        1024      \n",
            " chNormalization)                                                \n",
            "                                                                 \n",
            " activation_64 (Activation)  (None, 8, 8, 256)         0         \n",
            "                                                                 \n",
            " conv2d_56 (Conv2D)          (None, 8, 8, 256)         590080    \n",
            "                                                                 \n",
            " batch_normalization_47 (Bat  (None, 8, 8, 256)        1024      \n",
            " chNormalization)                                                \n",
            "                                                                 \n",
            " activation_65 (Activation)  (None, 8, 8, 256)         0         \n",
            "                                                                 \n",
            " conv2d_57 (Conv2D)          (None, 4, 4, 512)         1180160   \n",
            "                                                                 \n",
            " batch_normalization_48 (Bat  (None, 4, 4, 512)        2048      \n",
            " chNormalization)                                                \n",
            "                                                                 \n",
            " activation_66 (Activation)  (None, 4, 4, 512)         0         \n",
            "                                                                 \n",
            " flatten (Flatten)           (None, 8192)              0         \n",
            "                                                                 \n",
            " dropout_16 (Dropout)        (None, 8192)              0         \n",
            "                                                                 \n",
            " fc1 (Dense)                 (None, 300)               2457900   \n",
            "                                                                 \n",
            " dropout_17 (Dropout)        (None, 300)               0         \n",
            "                                                                 \n",
            " output (Dense)              (None, 10)                3010      \n",
            "                                                                 \n",
            "=================================================================\n",
            "Total params: 4,791,598\n",
            "Trainable params: 4,789,038\n",
            "Non-trainable params: 2,560\n",
            "_________________________________________________________________\n"
          ]
        }
      ]
    },
    {
      "cell_type": "code",
      "source": [
        "model.compile(optimizer=Adam(lr=0.001), loss='categorical_crossentropy', metrics=['accuracy'])\n",
        "\n",
        "# 5번 iteration내에 validation loss가 향상되지 않으면 learning rate을 기존 learning rate * 0.2로 줄임.  \n",
        "rlr_cb = ReduceLROnPlateau(monitor='val_loss', factor=0.2, patience=5, mode='min', verbose=1)\n",
        "# 10번 iteration내에 validation loss가 향상되지 않으면 더 이상 학습하지 않고 종료\n",
        "ely_cb = EarlyStopping(monitor='val_loss', patience=10, mode='min', verbose=1)\n",
        "\n",
        "\n",
        "history = model.fit(x=tr_images, y=tr_oh_labels, batch_size=32, epochs=30, shuffle=True,\n",
        "                    validation_data=(val_images, val_oh_labels),  \n",
        "                    callbacks=[rlr_cb, ely_cb] )"
      ],
      "metadata": {
        "colab": {
          "base_uri": "https://localhost:8080/"
        },
        "id": "Bl-6jf75A2mz",
        "outputId": "7b553378-ff27-4ccc-c6b4-f7add055d034"
      },
      "execution_count": 35,
      "outputs": [
        {
          "output_type": "stream",
          "name": "stderr",
          "text": [
            "/usr/local/lib/python3.7/dist-packages/keras/optimizer_v2/adam.py:105: UserWarning: The `lr` argument is deprecated, use `learning_rate` instead.\n",
            "  super(Adam, self).__init__(name, **kwargs)\n"
          ]
        },
        {
          "output_type": "stream",
          "name": "stdout",
          "text": [
            "Epoch 1/30\n",
            "1329/1329 [==============================] - 24s 17ms/step - loss: 1.6869 - accuracy: 0.3964 - val_loss: 1.5643 - val_accuracy: 0.4651 - lr: 0.0010\n",
            "Epoch 2/30\n",
            "1329/1329 [==============================] - 21s 16ms/step - loss: 1.2521 - accuracy: 0.5737 - val_loss: 1.4027 - val_accuracy: 0.5445 - lr: 0.0010\n",
            "Epoch 3/30\n",
            "1329/1329 [==============================] - 21s 16ms/step - loss: 1.0597 - accuracy: 0.6568 - val_loss: 0.9625 - val_accuracy: 0.7049 - lr: 0.0010\n",
            "Epoch 4/30\n",
            "1329/1329 [==============================] - 21s 16ms/step - loss: 0.9532 - accuracy: 0.7067 - val_loss: 1.1303 - val_accuracy: 0.6757 - lr: 0.0010\n",
            "Epoch 5/30\n",
            "1329/1329 [==============================] - 22s 16ms/step - loss: 0.8732 - accuracy: 0.7431 - val_loss: 0.8653 - val_accuracy: 0.7473 - lr: 0.0010\n",
            "Epoch 6/30\n",
            "1329/1329 [==============================] - 22s 16ms/step - loss: 0.7951 - accuracy: 0.7797 - val_loss: 0.8556 - val_accuracy: 0.7681 - lr: 0.0010\n",
            "Epoch 7/30\n",
            "1329/1329 [==============================] - 22s 16ms/step - loss: 0.7322 - accuracy: 0.8108 - val_loss: 0.8562 - val_accuracy: 0.7768 - lr: 0.0010\n",
            "Epoch 8/30\n",
            "1329/1329 [==============================] - 22s 16ms/step - loss: 0.6798 - accuracy: 0.8363 - val_loss: 0.9206 - val_accuracy: 0.7699 - lr: 0.0010\n",
            "Epoch 9/30\n",
            "1329/1329 [==============================] - 22s 16ms/step - loss: 0.6332 - accuracy: 0.8566 - val_loss: 0.8585 - val_accuracy: 0.7993 - lr: 0.0010\n",
            "Epoch 10/30\n",
            "1329/1329 [==============================] - 22s 16ms/step - loss: 0.6020 - accuracy: 0.8728 - val_loss: 0.9087 - val_accuracy: 0.7952 - lr: 0.0010\n",
            "Epoch 11/30\n",
            "1327/1329 [============================>.] - ETA: 0s - loss: 0.5690 - accuracy: 0.8878\n",
            "Epoch 00011: ReduceLROnPlateau reducing learning rate to 0.00020000000949949026.\n",
            "1329/1329 [==============================] - 22s 16ms/step - loss: 0.5690 - accuracy: 0.8877 - val_loss: 1.0512 - val_accuracy: 0.7728 - lr: 0.0010\n",
            "Epoch 12/30\n",
            "1329/1329 [==============================] - 22s 16ms/step - loss: 0.4102 - accuracy: 0.9413 - val_loss: 0.7196 - val_accuracy: 0.8625 - lr: 2.0000e-04\n",
            "Epoch 13/30\n",
            "1329/1329 [==============================] - 22s 16ms/step - loss: 0.3449 - accuracy: 0.9593 - val_loss: 0.7377 - val_accuracy: 0.8689 - lr: 2.0000e-04\n",
            "Epoch 14/30\n",
            "1329/1329 [==============================] - 22s 16ms/step - loss: 0.3130 - accuracy: 0.9673 - val_loss: 0.7576 - val_accuracy: 0.8708 - lr: 2.0000e-04\n",
            "Epoch 15/30\n",
            "1329/1329 [==============================] - 22s 17ms/step - loss: 0.2885 - accuracy: 0.9740 - val_loss: 0.7832 - val_accuracy: 0.8679 - lr: 2.0000e-04\n",
            "Epoch 16/30\n",
            "1329/1329 [==============================] - 22s 16ms/step - loss: 0.2690 - accuracy: 0.9795 - val_loss: 0.8425 - val_accuracy: 0.8684 - lr: 2.0000e-04\n",
            "Epoch 17/30\n",
            "1326/1329 [============================>.] - ETA: 0s - loss: 0.2523 - accuracy: 0.9836\n",
            "Epoch 00017: ReduceLROnPlateau reducing learning rate to 4.0000001899898055e-05.\n",
            "1329/1329 [==============================] - 22s 16ms/step - loss: 0.2523 - accuracy: 0.9836 - val_loss: 0.8950 - val_accuracy: 0.8639 - lr: 2.0000e-04\n",
            "Epoch 18/30\n",
            "1329/1329 [==============================] - 22s 16ms/step - loss: 0.2299 - accuracy: 0.9908 - val_loss: 0.8431 - val_accuracy: 0.8748 - lr: 4.0000e-05\n",
            "Epoch 19/30\n",
            "1329/1329 [==============================] - 22s 16ms/step - loss: 0.2221 - accuracy: 0.9928 - val_loss: 0.8699 - val_accuracy: 0.8740 - lr: 4.0000e-05\n",
            "Epoch 20/30\n",
            "1329/1329 [==============================] - 22s 17ms/step - loss: 0.2175 - accuracy: 0.9936 - val_loss: 0.8996 - val_accuracy: 0.8731 - lr: 4.0000e-05\n",
            "Epoch 21/30\n",
            "1329/1329 [==============================] - 22s 16ms/step - loss: 0.2125 - accuracy: 0.9944 - val_loss: 0.9057 - val_accuracy: 0.8744 - lr: 4.0000e-05\n",
            "Epoch 22/30\n",
            "1327/1329 [============================>.] - ETA: 0s - loss: 0.2097 - accuracy: 0.9952\n",
            "Epoch 00022: ReduceLROnPlateau reducing learning rate to 8.000000525498762e-06.\n",
            "1329/1329 [==============================] - 22s 16ms/step - loss: 0.2096 - accuracy: 0.9952 - val_loss: 0.9072 - val_accuracy: 0.8733 - lr: 4.0000e-05\n",
            "Epoch 00022: early stopping\n"
          ]
        }
      ]
    },
    {
      "cell_type": "code",
      "source": [
        "model.evaluate(test_images, test_oh_labels)\n",
        "show_history(history)"
      ],
      "metadata": {
        "colab": {
          "base_uri": "https://localhost:8080/",
          "height": 283
        },
        "id": "2j3vtI0TA5PL",
        "outputId": "f45d3904-ccf3-48a3-de81-0a7fd29e7903"
      },
      "execution_count": 36,
      "outputs": [
        {
          "output_type": "stream",
          "name": "stdout",
          "text": [
            "313/313 [==============================] - 2s 6ms/step - loss: 0.9300 - accuracy: 0.8693\n"
          ]
        },
        {
          "output_type": "display_data",
          "data": {
            "image/png": "[encoded data removed]",
            "text/plain": [
              "<Figure size 576x288 with 1 Axes>"
            ]
          },
          "metadata": {
            "needs_background": "light"
          }
        }
      ]
    }
  ]
}