{
  "nbformat": 4,
  "nbformat_minor": 0,
  "metadata": {
    "colab": {
      "name": "AlexNet.ipynb",
      "provenance": [],
      "collapsed_sections": []
    },
    "kernelspec": {
      "name": "python3",
      "display_name": "Python 3"
    },
    "language_info": {
      "name": "python"
    },
    "accelerator": "GPU"
  },
  "cells": [
    {
      "cell_type": "markdown",
      "source": [
        "# AlexNet 특징\n",
        "- 2012년에 성능 증명. \n",
        "- Activation 함수로 ReLU 함수를 첫 사용하였다. \n",
        "- MaxPooling, Overlapping Pooling을 적용하였다. \n",
        "- Local Response Normalization (LRN) 사용\n",
        "- Dropout Layer, weight에 decay 적용 사용. (이 때 처음 사용)\n",
        "- Data Augmentation 적용. \n",
        "- 11x11, 5x5 사이즈의 큰 사이즈의 Kernel 적용 (지금은 상상할 수 x). \n",
        "- 많은 weight parameter 갯수로 인하여 컴퓨팅 연산량이 크게 증가 함 (그 당시 하드웨어 성능은 좋지 않았음). 이를 극복하기 위하여 병렬 GPU를 활용할 수 있도록 CNN 모델을 병렬화하였다. \n",
        "\n",
        "# 전체 프로세스\n",
        "1. create_alexnet -> model 생성\n",
        "2. 데이터셋 나누기 (Train, Test, Validation) & 전처리 (255 나누기, 원-핫 인코딩)\n",
        "3. 원본 이미지 크기 조정 (32x32) -> (128x128)\n",
        "4. 모델 학습\n",
        "5. 테스트 데이터 평가"
      ],
      "metadata": {
        "id": "09TW6ZbliRs2"
      }
    },
    {
      "cell_type": "code",
      "execution_count": 1,
      "metadata": {
        "id": "doG3BhsWiOsZ"
      },
      "outputs": [],
      "source": [
        "import numpy as np\n",
        "import pandas as pd\n",
        "import os"
      ]
    },
    {
      "cell_type": "markdown",
      "source": [
        "## 1. create_alexnet -> model 생성\n"
      ],
      "metadata": {
        "id": "A_n0l-HKvexJ"
      }
    },
    {
      "cell_type": "code",
      "source": [
        "from tensorflow.keras.models import Model\n",
        "from tensorflow.keras.layers import Input, Dense , Conv2D , Dropout , Flatten , Activation, MaxPooling2D , GlobalAveragePooling2D\n",
        "from tensorflow.keras.optimizers import Adam , RMSprop \n",
        "from tensorflow.keras.layers import BatchNormalization\n",
        "from tensorflow.keras.callbacks import ReduceLROnPlateau , EarlyStopping , ModelCheckpoint , LearningRateScheduler\n",
        "from tensorflow.keras import regularizers\n",
        "\n",
        "# input shape, classes 개수, kernel_regularizer등을 인자로 가져감. \n",
        "def create_alexnet(in_shape=(227, 227, 3), n_classes=10, kernel_regular=None):\n",
        "    # 첫번째 CNN->ReLU->MaxPool, kernel_size를 매우 크게 가져감(11, 11). 지금은 (11, 11) 사용하지 않음. \n",
        "    input_tensor = Input(shape=in_shape)\n",
        "    \n",
        "    x = Conv2D(filters= 96, kernel_size=(11,11), strides=(4,4), padding='valid')(input_tensor)\n",
        "    x = Activation('relu')(x)\n",
        "    # LRN을 대신하여 Batch Normalization 적용. \n",
        "    x = BatchNormalization()(x)\n",
        "    x = MaxPooling2D(pool_size=(3,3), strides=(2,2))(x)\n",
        "\n",
        "\n",
        "    # 두번째 CNN->ReLU->MaxPool. kernel_size=(5, 5)\n",
        "    x = Conv2D(filters=256, kernel_size=(5,5), strides=(1,1), padding='same',kernel_regularizer=kernel_regular)(x)\n",
        "    x = Activation('relu')(x)\n",
        "    x = BatchNormalization()(x)\n",
        "    x = MaxPooling2D(pool_size=(3,3), strides=(2,2))(x)\n",
        "\n",
        "\n",
        "    # 3x3 Conv 2번 연속 적용. filters는 384개\n",
        "    x = Conv2D(filters=384, kernel_size=(3,3), strides=(1,1), padding='same', kernel_regularizer=kernel_regular)(x)\n",
        "    x = Activation('relu')(x)\n",
        "    x = BatchNormalization()(x)\n",
        "\n",
        "    x = Conv2D(filters=384, kernel_size=(3,3), strides=(1,1), padding='same', kernel_regularizer=kernel_regular)(x)\n",
        "    x = Activation('relu')(x)\n",
        "    x = BatchNormalization()(x)\n",
        "\n",
        "    # 3x3 Conv를 적용하되 filters 수를 줄이고 maxpooling을 적용\n",
        "    x = Conv2D(filters=256, kernel_size=(3,3), strides=(1,1), padding='same', kernel_regularizer=kernel_regular)(x)\n",
        "    x = Activation('relu')(x)\n",
        "    x = BatchNormalization()(x)\n",
        "    x = MaxPooling2D(pool_size=(3,3), strides=(2,2))(x)\n",
        "\n",
        "    # Dense 연결을 위한 Flatten\n",
        "    x = Flatten()(x)\n",
        "\n",
        "    # Dense + Dropout을 연속 적용. \n",
        "    x = Dense(units = 4096, activation = 'relu')(x)\n",
        "    x = Dropout(0.5)(x)\n",
        "\n",
        "    x = Dense(units = 4096, activation = 'relu')(x)\n",
        "    x = Dropout(0.5)(x)\n",
        "\n",
        "    # 마지막 softmax 층 적용. \n",
        "    output = Dense(units = n_classes, activation = 'softmax')(x)\n",
        "\n",
        "    model = Model(inputs=input_tensor, outputs=output)\n",
        "    model.summary()\n",
        "    \n",
        "    return model"
      ],
      "metadata": {
        "id": "nlcmViPll2Ep"
      },
      "execution_count": 2,
      "outputs": []
    },
    {
      "cell_type": "code",
      "source": [
        "model = create_alexnet(in_shape=(227, 227, 3), n_classes=10, kernel_regular=regularizers.l2(l2=1e-4))"
      ],
      "metadata": {
        "colab": {
          "base_uri": "https://localhost:8080/"
        },
        "id": "c9jkEVUll5es",
        "outputId": "2ac2d27a-ac0f-4756-f32a-776bdc5ada75"
      },
      "execution_count": 3,
      "outputs": [
        {
          "output_type": "stream",
          "name": "stdout",
          "text": [
            "Model: \"model\"\n",
            "_________________________________________________________________\n",
            " Layer (type)                Output Shape              Param #   \n",
            "=================================================================\n",
            " input_1 (InputLayer)        [(None, 227, 227, 3)]     0         \n",
            "                                                                 \n",
            " conv2d (Conv2D)             (None, 55, 55, 96)        34944     \n",
            "                                                                 \n",
            " activation (Activation)     (None, 55, 55, 96)        0         \n",
            "                                                                 \n",
            " batch_normalization (BatchN  (None, 55, 55, 96)       384       \n",
            " ormalization)                                                   \n",
            "                                                                 \n",
            " max_pooling2d (MaxPooling2D  (None, 27, 27, 96)       0         \n",
            " )                                                               \n",
            "                                                                 \n",
            " conv2d_1 (Conv2D)           (None, 27, 27, 256)       614656    \n",
            "                                                                 \n",
            " activation_1 (Activation)   (None, 27, 27, 256)       0         \n",
            "                                                                 \n",
            " batch_normalization_1 (Batc  (None, 27, 27, 256)      1024      \n",
            " hNormalization)                                                 \n",
            "                                                                 \n",
            " max_pooling2d_1 (MaxPooling  (None, 13, 13, 256)      0         \n",
            " 2D)                                                             \n",
            "                                                                 \n",
            " conv2d_2 (Conv2D)           (None, 13, 13, 384)       885120    \n",
            "                                                                 \n",
            " activation_2 (Activation)   (None, 13, 13, 384)       0         \n",
            "                                                                 \n",
            " batch_normalization_2 (Batc  (None, 13, 13, 384)      1536      \n",
            " hNormalization)                                                 \n",
            "                                                                 \n",
            " conv2d_3 (Conv2D)           (None, 13, 13, 384)       1327488   \n",
            "                                                                 \n",
            " activation_3 (Activation)   (None, 13, 13, 384)       0         \n",
            "                                                                 \n",
            " batch_normalization_3 (Batc  (None, 13, 13, 384)      1536      \n",
            " hNormalization)                                                 \n",
            "                                                                 \n",
            " conv2d_4 (Conv2D)           (None, 13, 13, 256)       884992    \n",
            "                                                                 \n",
            " activation_4 (Activation)   (None, 13, 13, 256)       0         \n",
            "                                                                 \n",
            " batch_normalization_4 (Batc  (None, 13, 13, 256)      1024      \n",
            " hNormalization)                                                 \n",
            "                                                                 \n",
            " max_pooling2d_2 (MaxPooling  (None, 6, 6, 256)        0         \n",
            " 2D)                                                             \n",
            "                                                                 \n",
            " flatten (Flatten)           (None, 9216)              0         \n",
            "                                                                 \n",
            " dense (Dense)               (None, 4096)              37752832  \n",
            "                                                                 \n",
            " dropout (Dropout)           (None, 4096)              0         \n",
            "                                                                 \n",
            " dense_1 (Dense)             (None, 4096)              16781312  \n",
            "                                                                 \n",
            " dropout_1 (Dropout)         (None, 4096)              0         \n",
            "                                                                 \n",
            " dense_2 (Dense)             (None, 10)                40970     \n",
            "                                                                 \n",
            "=================================================================\n",
            "Total params: 58,327,818\n",
            "Trainable params: 58,325,066\n",
            "Non-trainable params: 2,752\n",
            "_________________________________________________________________\n"
          ]
        }
      ]
    },
    {
      "cell_type": "markdown",
      "source": [
        "## 2. 데이터셋 나누기 (Train, Test, Validation) & 전처리 (255 나누기, 원-핫 인코딩)\n"
      ],
      "metadata": {
        "id": "aOB7dQ8bvj10"
      }
    },
    {
      "cell_type": "markdown",
      "source": [
        "### CIFAR10 데이터세트를 이용하여 AlextNet 학습 및 성능 테스트"
      ],
      "metadata": {
        "id": "iUS7kqKZl-kI"
      }
    },
    {
      "cell_type": "code",
      "source": [
        "from tensorflow.keras.datasets import cifar10\n",
        "\n",
        "# 전체 6만개 데이터 중, 5만개는 학습 데이터용, 1만개는 테스트 데이터용으로 분리\n",
        "(train_images, train_labels), (test_images, test_labels) = cifar10.load_data()\n",
        "print(\"train dataset shape:\", train_images.shape, train_labels.shape)\n",
        "print(\"test dataset shape:\", test_images.shape, test_labels.shape)"
      ],
      "metadata": {
        "colab": {
          "base_uri": "https://localhost:8080/"
        },
        "id": "1js52sRkl7JH",
        "outputId": "bb6f71ce-8c5f-4b4c-94f6-0cb223191274"
      },
      "execution_count": 4,
      "outputs": [
        {
          "output_type": "stream",
          "name": "stdout",
          "text": [
            "Downloading data from https://www.cs.toronto.edu/~kriz/cifar-10-python.tar.gz\n",
            "170500096/170498071 [==============================] - 3s 0us/step\n",
            "170508288/170498071 [==============================] - 3s 0us/step\n",
            "train dataset shape: (50000, 32, 32, 3) (50000, 1)\n",
            "test dataset shape: (10000, 32, 32, 3) (10000, 1)\n"
          ]
        }
      ]
    },
    {
      "cell_type": "markdown",
      "source": [
        "### 학습/검증/테스트 데이터 세트로 나누고 데이터 전처리 수행\n",
        "* 학습/검증/테스트 데이터로 분할. 검증 데이터는 학습 데이터의 20% 할당. \n",
        "* 레이블의 원-핫 인코딩과 이미지 픽셀값의 스케일링 적용 "
      ],
      "metadata": {
        "id": "px-xMJNzopAM"
      }
    },
    {
      "cell_type": "code",
      "source": [
        "import tensorflow as tf\n",
        "import numpy as np\n",
        "import pandas as pd\n",
        "\n",
        "import random as python_random\n",
        "from tensorflow.keras.utils import to_categorical\n",
        "from sklearn.model_selection import train_test_split\n",
        "from tensorflow.keras.datasets import cifar10\n",
        "\n",
        "def zero_one_scaler(image):\n",
        "    return image/255.0\n",
        "\n",
        "def get_preprocessed_ohe(images, labels, pre_func=None):\n",
        "    # preprocessing 함수가 입력되면 이를 이용하여 image array를 scaling 적용.\n",
        "    if pre_func is not None:\n",
        "        images = pre_func(images)\n",
        "    # OHE 적용    \n",
        "    oh_labels = to_categorical(labels)  # 데이터프레임에서 원-핫 인코딩 하면 get_dummies 씀. 넘파이에 적용할 때는 to_categorical. \n",
        "    return images, oh_labels\n",
        "\n",
        "# 학습/검증/테스트 데이터 세트에 전처리 및 OHE 적용한 뒤 반환 \n",
        "def get_train_valid_test_set(train_images, train_labels, test_images, test_labels, valid_size=0.15, random_state=2021):\n",
        "    # 학습 및 테스트 데이터 세트를  0 ~ 1사이값 float32로 변경 및 OHE 적용. \n",
        "    train_images, train_oh_labels = get_preprocessed_ohe(train_images, train_labels)\n",
        "    test_images, test_oh_labels = get_preprocessed_ohe(test_images, test_labels)\n",
        "    \n",
        "    # 학습 데이터를 검증 데이터 세트로 다시 분리\n",
        "    tr_images, val_images, tr_oh_labels, val_oh_labels = train_test_split(train_images, train_oh_labels, test_size=valid_size, random_state=random_state)\n",
        "    \n",
        "    return (tr_images, tr_oh_labels), (val_images, val_oh_labels), (test_images, test_oh_labels )\n",
        "\n",
        "# CIFAR10 데이터 재 로딩 및 Scaling/OHE 전처리 적용하여 학습/검증/데이터 세트 생성. \n",
        "(train_images, train_labels), (test_images, test_labels) = cifar10.load_data()\n",
        "print(train_images.shape, train_labels.shape, test_images.shape, test_labels.shape)\n",
        "(tr_images, tr_oh_labels), (val_images, val_oh_labels), (test_images, test_oh_labels) = \\\n",
        "    get_train_valid_test_set(train_images, train_labels, test_images, test_labels, valid_size=0.2, random_state=2021)\n",
        "\n",
        "print(tr_images.shape, tr_oh_labels.shape, val_images.shape, val_oh_labels.shape, test_images.shape, test_oh_labels.shape)"
      ],
      "metadata": {
        "colab": {
          "base_uri": "https://localhost:8080/"
        },
        "id": "aSWUcSwgocJP",
        "outputId": "548181a6-a230-40c6-d5b3-19e4aed5ec83"
      },
      "execution_count": 5,
      "outputs": [
        {
          "output_type": "stream",
          "name": "stdout",
          "text": [
            "(50000, 32, 32, 3) (50000, 1) (10000, 32, 32, 3) (10000, 1)\n",
            "(40000, 32, 32, 3) (40000, 10) (10000, 32, 32, 3) (10000, 10) (10000, 32, 32, 3) (10000, 10)\n"
          ]
        }
      ]
    },
    {
      "cell_type": "code",
      "source": [
        "# 이미지 사이즈가 너무 작으면 모델의 MaxPooling에서 오류 발생. 이미지가 (32, 32) 이러면 나중에 maxpooling 할 때 이미 (2,2) 상태여서 에러난다. \n",
        "model = create_alexnet(in_shape=(128, 128, 3), n_classes=10, kernel_regular=regularizers.l2(l2=1e-4))"
      ],
      "metadata": {
        "colab": {
          "base_uri": "https://localhost:8080/"
        },
        "id": "3iFQOBfhoqnc",
        "outputId": "f9a8a467-bbe3-4668-d7c8-d54957f8cb7d"
      },
      "execution_count": 6,
      "outputs": [
        {
          "output_type": "stream",
          "name": "stdout",
          "text": [
            "Model: \"model_1\"\n",
            "_________________________________________________________________\n",
            " Layer (type)                Output Shape              Param #   \n",
            "=================================================================\n",
            " input_2 (InputLayer)        [(None, 128, 128, 3)]     0         \n",
            "                                                                 \n",
            " conv2d_5 (Conv2D)           (None, 30, 30, 96)        34944     \n",
            "                                                                 \n",
            " activation_5 (Activation)   (None, 30, 30, 96)        0         \n",
            "                                                                 \n",
            " batch_normalization_5 (Batc  (None, 30, 30, 96)       384       \n",
            " hNormalization)                                                 \n",
            "                                                                 \n",
            " max_pooling2d_3 (MaxPooling  (None, 14, 14, 96)       0         \n",
            " 2D)                                                             \n",
            "                                                                 \n",
            " conv2d_6 (Conv2D)           (None, 14, 14, 256)       614656    \n",
            "                                                                 \n",
            " activation_6 (Activation)   (None, 14, 14, 256)       0         \n",
            "                                                                 \n",
            " batch_normalization_6 (Batc  (None, 14, 14, 256)      1024      \n",
            " hNormalization)                                                 \n",
            "                                                                 \n",
            " max_pooling2d_4 (MaxPooling  (None, 6, 6, 256)        0         \n",
            " 2D)                                                             \n",
            "                                                                 \n",
            " conv2d_7 (Conv2D)           (None, 6, 6, 384)         885120    \n",
            "                                                                 \n",
            " activation_7 (Activation)   (None, 6, 6, 384)         0         \n",
            "                                                                 \n",
            " batch_normalization_7 (Batc  (None, 6, 6, 384)        1536      \n",
            " hNormalization)                                                 \n",
            "                                                                 \n",
            " conv2d_8 (Conv2D)           (None, 6, 6, 384)         1327488   \n",
            "                                                                 \n",
            " activation_8 (Activation)   (None, 6, 6, 384)         0         \n",
            "                                                                 \n",
            " batch_normalization_8 (Batc  (None, 6, 6, 384)        1536      \n",
            " hNormalization)                                                 \n",
            "                                                                 \n",
            " conv2d_9 (Conv2D)           (None, 6, 6, 256)         884992    \n",
            "                                                                 \n",
            " activation_9 (Activation)   (None, 6, 6, 256)         0         \n",
            "                                                                 \n",
            " batch_normalization_9 (Batc  (None, 6, 6, 256)        1024      \n",
            " hNormalization)                                                 \n",
            "                                                                 \n",
            " max_pooling2d_5 (MaxPooling  (None, 2, 2, 256)        0         \n",
            " 2D)                                                             \n",
            "                                                                 \n",
            " flatten_1 (Flatten)         (None, 1024)              0         \n",
            "                                                                 \n",
            " dense_3 (Dense)             (None, 4096)              4198400   \n",
            "                                                                 \n",
            " dropout_2 (Dropout)         (None, 4096)              0         \n",
            "                                                                 \n",
            " dense_4 (Dense)             (None, 4096)              16781312  \n",
            "                                                                 \n",
            " dropout_3 (Dropout)         (None, 4096)              0         \n",
            "                                                                 \n",
            " dense_5 (Dense)             (None, 10)                40970     \n",
            "                                                                 \n",
            "=================================================================\n",
            "Total params: 24,773,386\n",
            "Trainable params: 24,770,634\n",
            "Non-trainable params: 2,752\n",
            "_________________________________________________________________\n"
          ]
        }
      ]
    },
    {
      "cell_type": "markdown",
      "source": [
        "## 3. 원본 이미지 크기 조정 (32x32) -> (128x128)\n"
      ],
      "metadata": {
        "id": "oxQqfPA3vnsL"
      }
    },
    {
      "cell_type": "markdown",
      "source": [
        "### CIFAR10 원본 이미지 크기 32x32 를 128x128로 증가 시키는 Sequence Dataset 생성\n",
        "* 128x128로 CIFAR10 모든 이미지 배열값을 증가시키면 RAM 부족 발생. \n",
        "* 배치 크기 만큼의 개수만 원본 이미지를 128x128로 증가 시킨 뒤(opencv의 resize()), 이를 모델에 입력하는 로직으로 Sequence Dataset 구성. \n",
        "\n",
        "(1) __init__ : 내부 변수로 할당. \n",
        "\n",
        "(2) __len__ : 데이터를 몇 회 가져와야 하는지 계산.\n",
        "\n",
        "(3) __getitem__ : 이미지와 labe을 batch size 만큼 가져온 뒤 사이즈 조정."
      ],
      "metadata": {
        "id": "MlL-GyXKp0OV"
      }
    },
    {
      "cell_type": "code",
      "source": [
        "IMAGE_SIZE = 128\n",
        "BATCH_SIZE = 64"
      ],
      "metadata": {
        "id": "EVLJWjWBpMRk"
      },
      "execution_count": 7,
      "outputs": []
    },
    {
      "cell_type": "code",
      "source": [
        "from tensorflow.keras.utils import Sequence\n",
        "import cv2\n",
        "import sklearn\n",
        "\n",
        "# 입력 인자 images_array labels는 모두 numpy array로 들어옴. \n",
        "# 인자로 입력되는 images_array는 전체 32x32 image array임. \n",
        "class CIFAR_Dataset(Sequence):\n",
        "    def __init__(self, images_array, labels, batch_size=BATCH_SIZE, augmentor=None, shuffle=False, pre_func=None):\n",
        "        '''\n",
        "        파라미터 설명\n",
        "        images_array: 원본 32x32 만큼의 image 배열값. \n",
        "        labels: 해당 image의 label들\n",
        "        batch_size: __getitem__(self, index) 호출 시 마다 가져올 데이터 batch 건수\n",
        "        augmentor: albumentations 객체\n",
        "        shuffle: 학습 데이터의 경우 epoch 종료시마다 데이터를 섞을지 여부\n",
        "        '''\n",
        "        # 객체 생성 인자로 들어온 값을 객체 내부 변수로 할당. \n",
        "        # 인자로 입력되는 images_array는 전체 32x32 image array임.\n",
        "        self.images_array = images_array\n",
        "        self.labels = labels\n",
        "        self.batch_size = batch_size\n",
        "        self.augmentor = augmentor\n",
        "        self.pre_func = pre_func\n",
        "        # train data의 경우 \n",
        "        self.shuffle = shuffle\n",
        "        if self.shuffle:\n",
        "            # 객체 생성시에 한번 데이터를 섞음. \n",
        "            #self.on_epoch_end()\n",
        "            pass\n",
        "    \n",
        "    # Sequence를 상속받은 Dataset은 batch_size 단위로 입력된 데이터를 처리함. \n",
        "    # __len__()은 전체 데이터 건수가 주어졌을 때 batch_size단위로 몇번 데이터를 반환하는지 나타남\n",
        "    def __len__(self):\n",
        "        # batch_size단위로 데이터를 몇번 가져와야하는지 계산하기 위해 전체 데이터 건수를 batch_size로 나누되, 정수로 정확히 나눠지지 않을 경우 1회를 더한다. \n",
        "        return int(np.ceil(len(self.labels) / self.batch_size))\n",
        "    \n",
        "    # batch_size 단위로 image_array, label_array 데이터를 가져와서 변환한 뒤 다시 반환함\n",
        "    # 인자로 몇번째 batch 인지를 나타내는 index를 입력하면 해당 순서에 해당하는 batch_size 만큼의 데이타를 가공하여 반환\n",
        "    # batch_size 갯수만큼 변환된 image_array와 label_array 반환. \n",
        "    def __getitem__(self, index):\n",
        "        # index는 몇번째 batch인지를 나타냄. \n",
        "        # batch_size만큼 순차적으로 데이터를 가져오려면 array에서 index*self.batch_size:(index+1)*self.batch_size 만큼의 연속 데이터를 가져오면 됨\n",
        "        # 32x32 image array를 self.batch_size만큼 가져옴. \n",
        "        images_fetch = self.images_array[index*self.batch_size:(index+1)*self.batch_size]\n",
        "        if self.labels is not None:\n",
        "            label_batch = self.labels[index*self.batch_size:(index+1)*self.batch_size]\n",
        "        \n",
        "        # 만일 객체 생성 인자로 albumentation으로 만든 augmentor가 주어진다면 아래와 같이 augmentor를 이용하여 image 변환\n",
        "        # albumentations은 개별 image만 변환할 수 있으므로 batch_size만큼 할당된 image_name_batch를 한 건씩 iteration하면서 변환 수행. \n",
        "        # 변환된 image 배열값을 담을 image_batch 선언. image_batch 배열은 float32 로 설정. \n",
        "        image_batch = np.zeros((images_fetch.shape[0], IMAGE_SIZE, IMAGE_SIZE, 3), dtype='float32')\n",
        "        \n",
        "        # batch_size에 담긴 건수만큼 iteration 하면서 opencv image load -> image augmentation 변환(augmentor가 not None일 경우)-> image_batch에 담음. \n",
        "        for image_index in range(images_fetch.shape[0]):\n",
        "            #image = cv2.cvtColor(cv2.imread(image_name_batch[image_index]), cv2.COLOR_BGR2RGB)\n",
        "            # 원본 image를 IMAGE_SIZE x IMAGE_SIZE 크기로 변환\n",
        "            image = cv2.resize(images_fetch[image_index], (IMAGE_SIZE, IMAGE_SIZE))\n",
        "            # 만약 augmentor가 주어졌다면 이를 적용. \n",
        "            if self.augmentor is not None:\n",
        "                image = self.augmentor(image=image)['image']\n",
        "                \n",
        "            # 만약 scaling 함수가 입력되었다면 이를 적용하여 scaling 수행. \n",
        "            if self.pre_func is not None:\n",
        "                image = self.pre_func(image)\n",
        "            \n",
        "            # image_batch에 순차적으로 변환된 image를 담음.               \n",
        "            image_batch[image_index] = image\n",
        "        \n",
        "        return image_batch, label_batch\n",
        "    \n",
        "    # epoch가 한번 수행이 완료 될 때마다 모델의 fit()에서 호출됨. \n",
        "    def on_epoch_end(self):\n",
        "        if(self.shuffle):\n",
        "            #print('epoch end')\n",
        "            # 원본 image배열과 label를 쌍을 맞춰서 섞어준다. scikt learn의 utils.shuffle에서 해당 기능 제공\n",
        "            self.images_array, self.labels = sklearn.utils.shuffle(self.images_array, self.labels)\n",
        "        else:\n",
        "            pass"
      ],
      "metadata": {
        "id": "1FYKDGwvqlZY"
      },
      "execution_count": 9,
      "outputs": []
    },
    {
      "cell_type": "code",
      "source": [
        "def zero_one_scaler(image):\n",
        "    return image/255.0\n",
        "\n",
        "tr_ds = CIFAR_Dataset(tr_images, tr_oh_labels, batch_size=BATCH_SIZE, augmentor=None, shuffle=True, pre_func=zero_one_scaler)\n",
        "val_ds = CIFAR_Dataset(val_images, val_oh_labels, batch_size=BATCH_SIZE, augmentor=None, shuffle=False, pre_func=zero_one_scaler)\n",
        "\n",
        "print(next(iter(tr_ds))[0].shape, next(iter(val_ds))[0].shape)\n",
        "print(next(iter(tr_ds))[1].shape, next(iter(val_ds))[1].shape) # 원핫인코딩 했으므로 (64, 10)\n",
        "print(next(iter(tr_ds))[0][0])"
      ],
      "metadata": {
        "colab": {
          "base_uri": "https://localhost:8080/"
        },
        "id": "vxA5rkZ3qmeH",
        "outputId": "73c9cc33-d921-4b35-fdf2-cdf01929e452"
      },
      "execution_count": 10,
      "outputs": [
        {
          "output_type": "stream",
          "name": "stdout",
          "text": [
            "(64, 128, 128, 3) (64, 128, 128, 3)\n",
            "(64, 10) (64, 10)\n",
            "[[[0.6431373  0.68235296 0.69411767]\n",
            "  [0.6431373  0.68235296 0.69411767]\n",
            "  [0.63529414 0.67058825 0.68235296]\n",
            "  ...\n",
            "  [0.28627452 0.2901961  0.27058825]\n",
            "  [0.27450982 0.28235295 0.26666668]\n",
            "  [0.27450982 0.28235295 0.26666668]]\n",
            "\n",
            " [[0.6431373  0.68235296 0.69411767]\n",
            "  [0.6431373  0.68235296 0.69411767]\n",
            "  [0.63529414 0.67058825 0.68235296]\n",
            "  ...\n",
            "  [0.28627452 0.2901961  0.27058825]\n",
            "  [0.27450982 0.28235295 0.26666668]\n",
            "  [0.27450982 0.28235295 0.26666668]]\n",
            "\n",
            " [[0.6509804  0.6901961  0.7019608 ]\n",
            "  [0.6509804  0.6901961  0.7019608 ]\n",
            "  [0.6431373  0.6784314  0.6901961 ]\n",
            "  ...\n",
            "  [0.28627452 0.2901961  0.27058825]\n",
            "  [0.2784314  0.28235295 0.26666668]\n",
            "  [0.2784314  0.28235295 0.26666668]]\n",
            "\n",
            " ...\n",
            "\n",
            " [[0.9137255  0.85882354 0.8784314 ]\n",
            "  [0.9137255  0.85882354 0.8784314 ]\n",
            "  [0.90588236 0.84705883 0.8627451 ]\n",
            "  ...\n",
            "  [0.26666668 0.28235295 0.26666668]\n",
            "  [0.27450982 0.28627452 0.27058825]\n",
            "  [0.27450982 0.28627452 0.27058825]]\n",
            "\n",
            " [[0.91764706 0.8627451  0.88235295]\n",
            "  [0.91764706 0.8627451  0.88235295]\n",
            "  [0.90588236 0.8509804  0.8666667 ]\n",
            "  ...\n",
            "  [0.2627451  0.2784314  0.2627451 ]\n",
            "  [0.27058825 0.28235295 0.26666668]\n",
            "  [0.27058825 0.28235295 0.26666668]]\n",
            "\n",
            " [[0.91764706 0.8627451  0.88235295]\n",
            "  [0.91764706 0.8627451  0.88235295]\n",
            "  [0.90588236 0.8509804  0.8666667 ]\n",
            "  ...\n",
            "  [0.26666668 0.2784314  0.2627451 ]\n",
            "  [0.27058825 0.28235295 0.26666668]\n",
            "  [0.27058825 0.28235295 0.26666668]]]\n"
          ]
        }
      ]
    },
    {
      "cell_type": "markdown",
      "source": [
        "## 4. 모델 학습"
      ],
      "metadata": {
        "id": "8ouI4vtUvq6s"
      }
    },
    {
      "cell_type": "markdown",
      "source": [
        "### Input 크기가 128x128x3 인 AlexNet 모델을 생성하고 epochs는 30으로 설정하고 학습"
      ],
      "metadata": {
        "id": "rthArzp4r915"
      }
    },
    {
      "cell_type": "code",
      "source": [
        "model = create_alexnet(in_shape=(128, 128, 3), n_classes=10, kernel_regular=regularizers.l2(l2=1e-4))\n",
        "\n",
        "model.compile(optimizer=Adam(lr=0.001), loss='categorical_crossentropy', metrics=['accuracy'])\n",
        "\n",
        "# 5번 iteration내에 validation loss가 향상되지 않으면 learning rate을 기존 learning rate * 0.2로 줄임.  \n",
        "rlr_cb = ReduceLROnPlateau(monitor='val_loss', factor=0.2, patience=5, mode='min', verbose=1)\n",
        "ely_cb = EarlyStopping(monitor='val_loss', patience=10, mode='min', verbose=1)\n",
        "\n",
        "history = model.fit(tr_ds, epochs=30, \n",
        "                    #steps_per_epoch=int(np.ceil(tr_images.shape[0]/BATCH_SIZE)),\n",
        "                    validation_data=val_ds, \n",
        "                    #validation_steps=int(np.ceil(val_images.shape[0]/BATCH_SIZE)), \n",
        "                    callbacks=[rlr_cb, ely_cb]\n",
        "                   )"
      ],
      "metadata": {
        "colab": {
          "base_uri": "https://localhost:8080/"
        },
        "id": "iONbhIp8r-FP",
        "outputId": "b8e6deb9-60ae-455f-aff6-31755d9d2921"
      },
      "execution_count": 11,
      "outputs": [
        {
          "output_type": "stream",
          "name": "stdout",
          "text": [
            "Model: \"model_2\"\n",
            "_________________________________________________________________\n",
            " Layer (type)                Output Shape              Param #   \n",
            "=================================================================\n",
            " input_3 (InputLayer)        [(None, 128, 128, 3)]     0         \n",
            "                                                                 \n",
            " conv2d_10 (Conv2D)          (None, 30, 30, 96)        34944     \n",
            "                                                                 \n",
            " activation_10 (Activation)  (None, 30, 30, 96)        0         \n",
            "                                                                 \n",
            " batch_normalization_10 (Bat  (None, 30, 30, 96)       384       \n",
            " chNormalization)                                                \n",
            "                                                                 \n",
            " max_pooling2d_6 (MaxPooling  (None, 14, 14, 96)       0         \n",
            " 2D)                                                             \n",
            "                                                                 \n",
            " conv2d_11 (Conv2D)          (None, 14, 14, 256)       614656    \n",
            "                                                                 \n",
            " activation_11 (Activation)  (None, 14, 14, 256)       0         \n",
            "                                                                 \n",
            " batch_normalization_11 (Bat  (None, 14, 14, 256)      1024      \n",
            " chNormalization)                                                \n",
            "                                                                 \n",
            " max_pooling2d_7 (MaxPooling  (None, 6, 6, 256)        0         \n",
            " 2D)                                                             \n",
            "                                                                 \n",
            " conv2d_12 (Conv2D)          (None, 6, 6, 384)         885120    \n",
            "                                                                 \n",
            " activation_12 (Activation)  (None, 6, 6, 384)         0         \n",
            "                                                                 \n",
            " batch_normalization_12 (Bat  (None, 6, 6, 384)        1536      \n",
            " chNormalization)                                                \n",
            "                                                                 \n",
            " conv2d_13 (Conv2D)          (None, 6, 6, 384)         1327488   \n",
            "                                                                 \n",
            " activation_13 (Activation)  (None, 6, 6, 384)         0         \n",
            "                                                                 \n",
            " batch_normalization_13 (Bat  (None, 6, 6, 384)        1536      \n",
            " chNormalization)                                                \n",
            "                                                                 \n",
            " conv2d_14 (Conv2D)          (None, 6, 6, 256)         884992    \n",
            "                                                                 \n",
            " activation_14 (Activation)  (None, 6, 6, 256)         0         \n",
            "                                                                 \n",
            " batch_normalization_14 (Bat  (None, 6, 6, 256)        1024      \n",
            " chNormalization)                                                \n",
            "                                                                 \n",
            " max_pooling2d_8 (MaxPooling  (None, 2, 2, 256)        0         \n",
            " 2D)                                                             \n",
            "                                                                 \n",
            " flatten_2 (Flatten)         (None, 1024)              0         \n",
            "                                                                 \n",
            " dense_6 (Dense)             (None, 4096)              4198400   \n",
            "                                                                 \n",
            " dropout_4 (Dropout)         (None, 4096)              0         \n",
            "                                                                 \n",
            " dense_7 (Dense)             (None, 4096)              16781312  \n",
            "                                                                 \n",
            " dropout_5 (Dropout)         (None, 4096)              0         \n",
            "                                                                 \n",
            " dense_8 (Dense)             (None, 10)                40970     \n",
            "                                                                 \n",
            "=================================================================\n",
            "Total params: 24,773,386\n",
            "Trainable params: 24,770,634\n",
            "Non-trainable params: 2,752\n",
            "_________________________________________________________________\n",
            "Epoch 1/30\n"
          ]
        },
        {
          "output_type": "stream",
          "name": "stderr",
          "text": [
            "/usr/local/lib/python3.7/dist-packages/keras/optimizer_v2/adam.py:105: UserWarning: The `lr` argument is deprecated, use `learning_rate` instead.\n",
            "  super(Adam, self).__init__(name, **kwargs)\n"
          ]
        },
        {
          "output_type": "stream",
          "name": "stdout",
          "text": [
            "625/625 [==============================] - 29s 32ms/step - loss: 1.9866 - accuracy: 0.3658 - val_loss: 1.6507 - val_accuracy: 0.4430 - lr: 0.0010\n",
            "Epoch 2/30\n",
            "625/625 [==============================] - 20s 31ms/step - loss: 1.4828 - accuracy: 0.5307 - val_loss: 1.8877 - val_accuracy: 0.4387 - lr: 0.0010\n",
            "Epoch 3/30\n",
            "625/625 [==============================] - 20s 32ms/step - loss: 1.2710 - accuracy: 0.6209 - val_loss: 1.5578 - val_accuracy: 0.5333 - lr: 0.0010\n",
            "Epoch 4/30\n",
            "625/625 [==============================] - 21s 34ms/step - loss: 1.1307 - accuracy: 0.6819 - val_loss: 1.4284 - val_accuracy: 0.5889 - lr: 0.0010\n",
            "Epoch 5/30\n",
            "625/625 [==============================] - 19s 31ms/step - loss: 1.0626 - accuracy: 0.7215 - val_loss: 1.3497 - val_accuracy: 0.6361 - lr: 0.0010\n",
            "Epoch 6/30\n",
            "625/625 [==============================] - 19s 31ms/step - loss: 1.0067 - accuracy: 0.7527 - val_loss: 1.3321 - val_accuracy: 0.6553 - lr: 0.0010\n",
            "Epoch 7/30\n",
            "625/625 [==============================] - 19s 30ms/step - loss: 0.9638 - accuracy: 0.7816 - val_loss: 1.2152 - val_accuracy: 0.7098 - lr: 0.0010\n",
            "Epoch 8/30\n",
            "625/625 [==============================] - 20s 32ms/step - loss: 0.9433 - accuracy: 0.7988 - val_loss: 1.2119 - val_accuracy: 0.7142 - lr: 0.0010\n",
            "Epoch 9/30\n",
            "625/625 [==============================] - 19s 31ms/step - loss: 0.9117 - accuracy: 0.8181 - val_loss: 1.2229 - val_accuracy: 0.7283 - lr: 0.0010\n",
            "Epoch 10/30\n",
            "625/625 [==============================] - 19s 31ms/step - loss: 0.9235 - accuracy: 0.8294 - val_loss: 1.3754 - val_accuracy: 0.6726 - lr: 0.0010\n",
            "Epoch 11/30\n",
            "625/625 [==============================] - 20s 31ms/step - loss: 0.9047 - accuracy: 0.8453 - val_loss: 1.3700 - val_accuracy: 0.7090 - lr: 0.0010\n",
            "Epoch 12/30\n",
            "625/625 [==============================] - 19s 30ms/step - loss: 0.8706 - accuracy: 0.8601 - val_loss: 1.2489 - val_accuracy: 0.7542 - lr: 0.0010\n",
            "Epoch 13/30\n",
            "624/625 [============================>.] - ETA: 0s - loss: 0.8357 - accuracy: 0.8755\n",
            "Epoch 00013: ReduceLROnPlateau reducing learning rate to 0.00020000000949949026.\n",
            "625/625 [==============================] - 20s 31ms/step - loss: 0.8360 - accuracy: 0.8754 - val_loss: 1.3498 - val_accuracy: 0.7315 - lr: 0.0010\n",
            "Epoch 14/30\n",
            "625/625 [==============================] - 19s 30ms/step - loss: 0.6217 - accuracy: 0.9428 - val_loss: 1.1216 - val_accuracy: 0.8155 - lr: 2.0000e-04\n",
            "Epoch 15/30\n",
            "625/625 [==============================] - 19s 30ms/step - loss: 0.5046 - accuracy: 0.9729 - val_loss: 1.2450 - val_accuracy: 0.8153 - lr: 2.0000e-04\n",
            "Epoch 16/30\n",
            "625/625 [==============================] - 19s 31ms/step - loss: 0.4526 - accuracy: 0.9806 - val_loss: 1.3768 - val_accuracy: 0.8160 - lr: 2.0000e-04\n",
            "Epoch 17/30\n",
            "625/625 [==============================] - 19s 30ms/step - loss: 0.4202 - accuracy: 0.9861 - val_loss: 1.4376 - val_accuracy: 0.8020 - lr: 2.0000e-04\n",
            "Epoch 18/30\n",
            "625/625 [==============================] - 19s 30ms/step - loss: 0.4059 - accuracy: 0.9850 - val_loss: 1.4634 - val_accuracy: 0.8035 - lr: 2.0000e-04\n",
            "Epoch 19/30\n",
            "624/625 [============================>.] - ETA: 0s - loss: 0.3853 - accuracy: 0.9880\n",
            "Epoch 00019: ReduceLROnPlateau reducing learning rate to 4.0000001899898055e-05.\n",
            "625/625 [==============================] - 19s 30ms/step - loss: 0.3852 - accuracy: 0.9880 - val_loss: 1.5160 - val_accuracy: 0.8013 - lr: 2.0000e-04\n",
            "Epoch 20/30\n",
            "625/625 [==============================] - 19s 30ms/step - loss: 0.3587 - accuracy: 0.9940 - val_loss: 1.4752 - val_accuracy: 0.8195 - lr: 4.0000e-05\n",
            "Epoch 21/30\n",
            "625/625 [==============================] - 19s 30ms/step - loss: 0.3453 - accuracy: 0.9972 - val_loss: 1.5581 - val_accuracy: 0.8203 - lr: 4.0000e-05\n",
            "Epoch 22/30\n",
            "625/625 [==============================] - 19s 31ms/step - loss: 0.3381 - accuracy: 0.9979 - val_loss: 1.6077 - val_accuracy: 0.8211 - lr: 4.0000e-05\n",
            "Epoch 23/30\n",
            "625/625 [==============================] - 19s 30ms/step - loss: 0.3300 - accuracy: 0.9987 - val_loss: 1.7367 - val_accuracy: 0.8199 - lr: 4.0000e-05\n",
            "Epoch 24/30\n",
            "624/625 [============================>.] - ETA: 0s - loss: 0.3236 - accuracy: 0.9988\n",
            "Epoch 00024: ReduceLROnPlateau reducing learning rate to 8.000000525498762e-06.\n",
            "625/625 [==============================] - 19s 30ms/step - loss: 0.3236 - accuracy: 0.9988 - val_loss: 1.7716 - val_accuracy: 0.8217 - lr: 4.0000e-05\n",
            "Epoch 00024: early stopping\n"
          ]
        }
      ]
    },
    {
      "cell_type": "markdown",
      "source": [
        "## 5. 테스트 데이터 평가"
      ],
      "metadata": {
        "id": "d32J1YELvthX"
      }
    },
    {
      "cell_type": "code",
      "source": [
        "test_ds = CIFAR_Dataset(test_images, test_oh_labels, batch_size=BATCH_SIZE, augmentor=None, shuffle=False, pre_func=zero_one_scaler)\n",
        "model.evaluate(test_ds)"
      ],
      "metadata": {
        "colab": {
          "base_uri": "https://localhost:8080/"
        },
        "id": "pEm-zu4fr-7M",
        "outputId": "1e4878e1-fc72-4222-ed15-dfa56b62ef6e"
      },
      "execution_count": 12,
      "outputs": [
        {
          "output_type": "stream",
          "name": "stdout",
          "text": [
            "157/157 [==============================] - 3s 21ms/step - loss: 1.9035 - accuracy: 0.8051\n"
          ]
        },
        {
          "output_type": "execute_result",
          "data": {
            "text/plain": [
              "[1.9034550189971924, 0.8051000237464905]"
            ]
          },
          "metadata": {},
          "execution_count": 12
        }
      ]
    }
  ]
}