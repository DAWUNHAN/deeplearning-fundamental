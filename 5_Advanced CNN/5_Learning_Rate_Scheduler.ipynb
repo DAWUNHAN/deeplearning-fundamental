{
  "nbformat": 4,
  "nbformat_minor": 0,
  "metadata": {
    "colab": {
      "name": "Learning Rate Scheduler.ipynb",
      "provenance": [],
      "collapsed_sections": []
    },
    "kernelspec": {
      "name": "python3",
      "display_name": "Python 3"
    },
    "language_info": {
      "name": "python"
    }
  },
  "cells": [
    {
      "cell_type": "markdown",
      "source": [
        "# Learning Rate Scheduler\n",
        "- LR을 동적으로 변경하는 것이 모델 학습에 유리하다. \n",
        "- 다양한 유형의 LR Scheduler를 모델 학습 시 적용할 수 있다. \n",
        "- 일반적인 LR scheduler는 초기 epochs 때는 LR을 크게 잡고, 점점 줄여가는 방식으로 진행한다. \n",
        "- 검증 데이터의 loss/metric에 따라서 LR를 조절하는 ReduceLROnPlateau와 epoch step에 따라 적절한 규칙을 적용하여 감속하는 방식도 있다. \n",
        "\n",
        "# Keras LearningRageScheduler\n",
        "- Keras는 LearningRateScheduler 객체를 생성하고 이를 학습시 콜백에 등록하여 동적으로 epochs시마다 learning rate를 조절하다. \n",
        "- 즉, 학습 iteration 수행할 때, 특정 이벤트가 발생할 때마다 등록된 콜백함수를 호출한다. \n",
        "\n",
        "\n",
        "```\n",
        "tf.keras.callbacks.LearningRateScheduler(\n",
        "  schedule, verbose=0\n",
        ")\n",
        "```\n",
        "```\n",
        "tf.keras.callbacks.ReduceLROnePlateau(\n",
        "  # 10번 참되 loss가 줄지 않으면 factor=0.1을 적용\n",
        "  monitor='val_loss', factor=0.1, patience=10, verbose=0,\n",
        "  mode='auto', min_delta=0.0001, cooldown=0, min_lr=0, **kwargs\n",
        ")\n",
        "```\n",
        "```\n",
        "# LearningRateScheduler 객체 생성 인자로 입력되는 schedule 함수는 0부터 시작되는 epoch index 값과 현재의 learning rate 값을 인자로 받아서 새로운 learning rate 값을 반환한다. \n",
        "tf.keras.callbakcs.LearningRateScheduler(\n",
        "  schedule, verbose=0\n",
        ")\n",
        "\n",
        "def scheduler(epoch, lr):\n",
        "  if epoch < 3:\n",
        "    return lr\n",
        "  else:\n",
        "    return lr*tf.math(exp(-0.1)\n",
        "```\n"
      ],
      "metadata": {
        "id": "UOtny9NDChRB"
      }
    },
    {
      "cell_type": "code",
      "execution_count": 1,
      "metadata": {
        "id": "MxTcxdiFCeZY"
      },
      "outputs": [],
      "source": [
        "import tensorflow as tf\n",
        "import numpy as np\n",
        "\n",
        "def scheduler_exp(epoch, lr):\n",
        "    if epoch < 1:\n",
        "        return lr\n",
        "    else:\n",
        "        return lr * np.exp(-1.0)"
      ]
    },
    {
      "cell_type": "code",
      "source": [
        "np.exp(-2.0)"
      ],
      "metadata": {
        "colab": {
          "base_uri": "https://localhost:8080/"
        },
        "id": "FtNj1B3_4F_l",
        "outputId": "91c7406e-22a9-4bb8-e284-b587318fd7aa"
      },
      "execution_count": 2,
      "outputs": [
        {
          "output_type": "execute_result",
          "data": {
            "text/plain": [
              "0.1353352832366127"
            ]
          },
          "metadata": {},
          "execution_count": 2
        }
      ]
    },
    {
      "cell_type": "markdown",
      "source": [
        "### epochs 마다 LearningRateScheduler 로 Learning Rate 변경하기\n",
        "* LearningRateScheduler 객체 생성 시 인자로 scheduler 함수 입력하여 생성\n",
        "* model.fit() callbacks인자로 LearningRateScheduler 객체 입력"
      ],
      "metadata": {
        "id": "ZOP-f-8E4MC2"
      }
    },
    {
      "cell_type": "code",
      "source": [
        "from tensorflow.keras.models import Sequential\n",
        "from tensorflow.keras.layers import Dense\n",
        "from tensorflow.keras.optimizers import SGD\n",
        "\n",
        "from tensorflow.keras.callbacks import LearningRateScheduler\n",
        "\n",
        "def scheduler_exp(epoch, lr):\n",
        "    if epoch < 1:\n",
        "        return lr\n",
        "    else:\n",
        "        return lr * np.exp(-1.0)\n",
        "    \n",
        "# 예제를 위해 임시 모델을 생성. \n",
        "model = Sequential([Dense(10)])\n",
        "model.compile(optimizer=SGD(), loss='mse')\n",
        "print('최초 learning rated:', round(model.optimizer.lr.numpy(), 5)) # optimizer의 lr\n",
        "\n",
        "# LearningRateScheduler 객체에 인자로 앞서 만든 scheduler_exp 함수 등록 \n",
        "lr_scheduler = LearningRateScheduler(scheduler_exp, verbose=1)\n",
        "\n",
        "# callback 함수에 LearningRateScheduler 넣어준다. 5*20의 2차원 행렬을 만들었다 -> 이 부분은 아무 의미 없음.\n",
        "history = model.fit(np.arange(100).reshape(5, 20), np.zeros(5),\n",
        "                    epochs=15, callbacks=[lr_scheduler], verbose=1)"
      ],
      "metadata": {
        "colab": {
          "base_uri": "https://localhost:8080/"
        },
        "id": "wb7JIJoj4IcX",
        "outputId": "88a12c9c-48ba-420d-a50c-edf8c1487101"
      },
      "execution_count": 3,
      "outputs": [
        {
          "output_type": "stream",
          "name": "stdout",
          "text": [
            "최초 learning rated: 0.01\n",
            "\n",
            "Epoch 00001: LearningRateScheduler setting learning rate to 0.009999999776482582.\n",
            "Epoch 1/15\n",
            "1/1 [==============================] - 1s 569ms/step - loss: 3810.9888 - lr: 0.0100\n",
            "\n",
            "Epoch 00002: LearningRateScheduler setting learning rate to 0.0036787943294869607.\n",
            "Epoch 2/15\n",
            "1/1 [==============================] - 0s 9ms/step - loss: 64271016.0000 - lr: 0.0037\n",
            "\n",
            "Epoch 00003: LearningRateScheduler setting learning rate to 0.0013533527735202996.\n",
            "Epoch 3/15\n",
            "1/1 [==============================] - 0s 12ms/step - loss: 143175417856.0000 - lr: 0.0014\n",
            "\n",
            "Epoch 00004: LearningRateScheduler setting learning rate to 0.0004978706704056293.\n",
            "Epoch 4/15\n",
            "1/1 [==============================] - 0s 6ms/step - loss: 40079422652416.0000 - lr: 4.9787e-04\n",
            "\n",
            "Epoch 00005: LearningRateScheduler setting learning rate to 0.00018315638425888493.\n",
            "Epoch 5/15\n",
            "1/1 [==============================] - 0s 7ms/step - loss: 1222535328825344.0000 - lr: 1.8316e-04\n",
            "\n",
            "Epoch 00006: LearningRateScheduler setting learning rate to 6.73794688923822e-05.\n",
            "Epoch 6/15\n",
            "1/1 [==============================] - 0s 8ms/step - loss: 2394984359657472.0000 - lr: 6.7379e-05\n",
            "\n",
            "Epoch 00007: LearningRateScheduler setting learning rate to 2.4787522192144945e-05.\n",
            "Epoch 7/15\n",
            "1/1 [==============================] - 0s 10ms/step - loss: 32906472849408.0000 - lr: 2.4788e-05\n",
            "\n",
            "Epoch 00008: LearningRateScheduler setting learning rate to 9.118819519637878e-06.\n",
            "Epoch 8/15\n",
            "1/1 [==============================] - 0s 12ms/step - loss: 15003771994112.0000 - lr: 9.1188e-06\n",
            "\n",
            "Epoch 00009: LearningRateScheduler setting learning rate to 3.35462619776653e-06.\n",
            "Epoch 9/15\n",
            "1/1 [==============================] - 0s 8ms/step - loss: 11632874881024.0000 - lr: 3.3546e-06\n",
            "\n",
            "Epoch 00010: LearningRateScheduler setting learning rate to 1.2340980071972145e-06.\n",
            "Epoch 10/15\n",
            "1/1 [==============================] - 0s 7ms/step - loss: 10632789229568.0000 - lr: 1.2341e-06\n",
            "\n",
            "Epoch 00011: LearningRateScheduler setting learning rate to 4.539992906826829e-07.\n",
            "Epoch 11/15\n",
            "1/1 [==============================] - 0s 14ms/step - loss: 10291731496960.0000 - lr: 4.5400e-07\n",
            "\n",
            "Epoch 00012: LearningRateScheduler setting learning rate to 1.670170056471376e-07.\n",
            "Epoch 12/15\n",
            "1/1 [==============================] - 0s 10ms/step - loss: 10169662570496.0000 - lr: 1.6702e-07\n",
            "\n",
            "Epoch 00013: LearningRateScheduler setting learning rate to 6.144212299791121e-08.\n",
            "Epoch 13/15\n",
            "1/1 [==============================] - 0s 12ms/step - loss: 10125203996672.0000 - lr: 6.1442e-08\n",
            "\n",
            "Epoch 00014: LearningRateScheduler setting learning rate to 2.2603293690026104e-08.\n",
            "Epoch 14/15\n",
            "1/1 [==============================] - 0s 12ms/step - loss: 10108909125632.0000 - lr: 2.2603e-08\n",
            "\n",
            "Epoch 00015: LearningRateScheduler setting learning rate to 8.31528696638835e-09.\n",
            "Epoch 15/15\n",
            "1/1 [==============================] - 0s 10ms/step - loss: 10102922805248.0000 - lr: 8.3153e-09\n"
          ]
        }
      ]
    },
    {
      "cell_type": "markdown",
      "source": [
        "### scheduler_exp 함수 결과를 시각화"
      ],
      "metadata": {
        "id": "5cAsnsfN5lmd"
      }
    },
    {
      "cell_type": "code",
      "source": [
        "def scheduler_exp(epoch):\n",
        "    initial_lr = 0.01\n",
        "    if epoch < 1:\n",
        "        return initial_lr\n",
        "    else:\n",
        "        return initial_lr * np.exp(-1.0)**epoch\n",
        "\n",
        "    \n",
        "model = Sequential([Dense(10)])\n",
        "model.compile(optimizer=SGD(), loss='mse')\n",
        "print('최초 learning rated:', round(model.optimizer.lr.numpy(), 5))\n",
        "\n",
        "# LearningRateScheduler 객체에 인자로 scheduler_exp 함수 등록 \n",
        "lr_scheduler = LearningRateScheduler(scheduler_exp, verbose=1)\n",
        "history = model.fit(np.arange(100).reshape(5, 20), np.zeros(5),\n",
        "                    epochs=15, callbacks=[lr_scheduler], verbose=1) # verbose=1로 해야 lr를 볼 수 있다. "
      ],
      "metadata": {
        "colab": {
          "base_uri": "https://localhost:8080/"
        },
        "id": "5YzDFlAm4WoX",
        "outputId": "10843eea-a931-454e-9ba8-ff710671bf08"
      },
      "execution_count": 4,
      "outputs": [
        {
          "output_type": "stream",
          "name": "stdout",
          "text": [
            "최초 learning rated: 0.01\n",
            "\n",
            "Epoch 00001: LearningRateScheduler setting learning rate to 0.01.\n",
            "Epoch 1/15\n",
            "1/1 [==============================] - 0s 284ms/step - loss: 2452.0837 - lr: 0.0100\n",
            "\n",
            "Epoch 00002: LearningRateScheduler setting learning rate to 0.0036787944117144234.\n",
            "Epoch 2/15\n",
            "1/1 [==============================] - 0s 7ms/step - loss: 41317712.0000 - lr: 0.0037\n",
            "\n",
            "Epoch 00003: LearningRateScheduler setting learning rate to 0.0013533528323661271.\n",
            "Epoch 3/15\n",
            "1/1 [==============================] - 0s 6ms/step - loss: 92042772480.0000 - lr: 0.0014\n",
            "\n",
            "Epoch 00004: LearningRateScheduler setting learning rate to 0.0004978706836786395.\n",
            "Epoch 4/15\n",
            "1/1 [==============================] - 0s 7ms/step - loss: 25765741592576.0000 - lr: 4.9787e-04\n",
            "\n",
            "Epoch 00005: LearningRateScheduler setting learning rate to 0.00018315638888734184.\n",
            "Epoch 5/15\n",
            "1/1 [==============================] - 0s 6ms/step - loss: 785927676887040.0000 - lr: 1.8316e-04\n",
            "\n",
            "Epoch 00006: LearningRateScheduler setting learning rate to 6.737946999085469e-05.\n",
            "Epoch 6/15\n",
            "1/1 [==============================] - 0s 6ms/step - loss: 1539656655044608.0000 - lr: 6.7379e-05\n",
            "\n",
            "Epoch 00007: LearningRateScheduler setting learning rate to 2.4787521766663588e-05.\n",
            "Epoch 7/15\n",
            "1/1 [==============================] - 0s 8ms/step - loss: 21154479734784.0000 - lr: 2.4788e-05\n",
            "\n",
            "Epoch 00008: LearningRateScheduler setting learning rate to 9.118819655545164e-06.\n",
            "Epoch 8/15\n",
            "1/1 [==============================] - 0s 6ms/step - loss: 9645428047872.0000 - lr: 9.1188e-06\n",
            "\n",
            "Epoch 00009: LearningRateScheduler setting learning rate to 3.354626279025119e-06.\n",
            "Epoch 9/15\n",
            "1/1 [==============================] - 0s 7ms/step - loss: 7478388457472.0000 - lr: 3.3546e-06\n",
            "\n",
            "Epoch 00010: LearningRateScheduler setting learning rate to 1.234098040866796e-06.\n",
            "Epoch 10/15\n",
            "1/1 [==============================] - 0s 8ms/step - loss: 6835466665984.0000 - lr: 1.2341e-06\n",
            "\n",
            "Epoch 00011: LearningRateScheduler setting learning rate to 4.539992976248487e-07.\n",
            "Epoch 11/15\n",
            "1/1 [==============================] - 0s 9ms/step - loss: 6616212570112.0000 - lr: 4.5400e-07\n",
            "\n",
            "Epoch 00012: LearningRateScheduler setting learning rate to 1.6701700790245666e-07.\n",
            "Epoch 12/15\n",
            "1/1 [==============================] - 0s 14ms/step - loss: 6537738190848.0000 - lr: 1.6702e-07\n",
            "\n",
            "Epoch 00013: LearningRateScheduler setting learning rate to 6.144212353328212e-08.\n",
            "Epoch 13/15\n",
            "1/1 [==============================] - 0s 5ms/step - loss: 6509156630528.0000 - lr: 6.1442e-08\n",
            "\n",
            "Epoch 00014: LearningRateScheduler setting learning rate to 2.2603294069810555e-08.\n",
            "Epoch 14/15\n",
            "1/1 [==============================] - 0s 6ms/step - loss: 6498681356288.0000 - lr: 2.2603e-08\n",
            "\n",
            "Epoch 00015: LearningRateScheduler setting learning rate to 8.315287191035682e-09.\n",
            "Epoch 15/15\n",
            "1/1 [==============================] - 0s 10ms/step - loss: 6494833606656.0000 - lr: 8.3153e-09\n"
          ]
        }
      ]
    },
    {
      "cell_type": "code",
      "source": [
        "# epochs_list는 0~29까지의 숫자이다. 이 값을 epoch로 넣는다. \n",
        "epochs_list = range(30)\n",
        "lr_list = [ scheduler_exp(epoch) for epoch in epochs_list]"
      ],
      "metadata": {
        "id": "yYBeFmA05s21"
      },
      "execution_count": 5,
      "outputs": []
    },
    {
      "cell_type": "code",
      "source": [
        "import matplotlib.pyplot as plt\n",
        "%matplotlib inline\n",
        "\n",
        "def plot_scheduler(epochs_list, lr_list, title=None):\n",
        "    plt.figure(figsize=(6,4))\n",
        "    plt.plot(epochs_list, lr_list)\n",
        "    plt.xlabel('epochs')\n",
        "    plt.ylabel('learning rate')\n",
        "    plt.title(title)"
      ],
      "metadata": {
        "id": "He20L9CQ59s2"
      },
      "execution_count": 6,
      "outputs": []
    },
    {
      "cell_type": "code",
      "source": [
        "plot_scheduler(epochs_list, lr_list, 'exponentially decay')"
      ],
      "metadata": {
        "colab": {
          "base_uri": "https://localhost:8080/",
          "height": 295
        },
        "id": "Nr0aAwAs6EbZ",
        "outputId": "5ce42c66-8c06-4fec-fd76-35325e98a439"
      },
      "execution_count": 7,
      "outputs": [
        {
          "output_type": "display_data",
          "data": {
            "image/png": "[encoded data removed]",
            "text/plain": [
              "<Figure size 432x288 with 1 Axes>"
            ]
          },
          "metadata": {
            "needs_background": "light"
          }
        }
      ]
    },
    {
      "cell_type": "markdown",
      "source": [
        "### 또 다른 함수(step_decay)로 LearningRateScheduler 객체 생성하여 LR 조절. "
      ],
      "metadata": {
        "id": "HiQkSa6Q6lxh"
      }
    },
    {
      "cell_type": "code",
      "source": [
        "import tensorflow as tf\n",
        "\n",
        "def step_decay(epoch):\n",
        "    initial_lr = 0.1\n",
        "    drop = 0.5\n",
        "    epochs_drop = 5.0\n",
        "    lr = initial_lr * (drop ** np.floor((epoch)/epochs_drop)) # 0.1, 0.1, 0.1, 0.1, 0.1, 0.5, 0.5, 0.5, 0.5, 0.5, 0.5^2,..\n",
        "    print('epoch:',epoch,'lr:', lr)\n",
        "    return lr\n",
        "\n",
        "lr_list = [step_decay(epoch) for epoch  in epochs_list]\n",
        "plot_scheduler(epochs_list, lr_list, title='Step Decay')"
      ],
      "metadata": {
        "colab": {
          "base_uri": "https://localhost:8080/",
          "height": 815
        },
        "id": "xmGkfxoV6aOv",
        "outputId": "a623b354-1c36-4fd5-d3a3-77c8186023ff"
      },
      "execution_count": 8,
      "outputs": [
        {
          "output_type": "stream",
          "name": "stdout",
          "text": [
            "epoch: 0 lr: 0.1\n",
            "epoch: 1 lr: 0.1\n",
            "epoch: 2 lr: 0.1\n",
            "epoch: 3 lr: 0.1\n",
            "epoch: 4 lr: 0.1\n",
            "epoch: 5 lr: 0.05\n",
            "epoch: 6 lr: 0.05\n",
            "epoch: 7 lr: 0.05\n",
            "epoch: 8 lr: 0.05\n",
            "epoch: 9 lr: 0.05\n",
            "epoch: 10 lr: 0.025\n",
            "epoch: 11 lr: 0.025\n",
            "epoch: 12 lr: 0.025\n",
            "epoch: 13 lr: 0.025\n",
            "epoch: 14 lr: 0.025\n",
            "epoch: 15 lr: 0.0125\n",
            "epoch: 16 lr: 0.0125\n",
            "epoch: 17 lr: 0.0125\n",
            "epoch: 18 lr: 0.0125\n",
            "epoch: 19 lr: 0.0125\n",
            "epoch: 20 lr: 0.00625\n",
            "epoch: 21 lr: 0.00625\n",
            "epoch: 22 lr: 0.00625\n",
            "epoch: 23 lr: 0.00625\n",
            "epoch: 24 lr: 0.00625\n",
            "epoch: 25 lr: 0.003125\n",
            "epoch: 26 lr: 0.003125\n",
            "epoch: 27 lr: 0.003125\n",
            "epoch: 28 lr: 0.003125\n",
            "epoch: 29 lr: 0.003125\n"
          ]
        },
        {
          "output_type": "display_data",
          "data": {
            "image/png": "[encoded data removed]",
            "text/plain": [
              "<Figure size 432x288 with 1 Axes>"
            ]
          },
          "metadata": {
            "needs_background": "light"
          }
        }
      ]
    },
    {
      "cell_type": "code",
      "source": [
        "model = Sequential([Dense(10)])\n",
        "model.compile(optimizer=SGD(), loss='mse')\n",
        "print('최초 learning rated:', round(model.optimizer.lr.numpy(), 5))\n",
        "\n",
        "lr_scheduler = LearningRateScheduler(step_decay, verbose=1)\n",
        "history = model.fit(np.arange(100).reshape(5, 20), np.zeros(5),\n",
        "                    epochs=15, callbacks=[lr_scheduler], verbose=1)"
      ],
      "metadata": {
        "colab": {
          "base_uri": "https://localhost:8080/"
        },
        "id": "r0hWF8N26nZu",
        "outputId": "d409324c-6dc4-4b3a-95b9-a55d603d486a"
      },
      "execution_count": 9,
      "outputs": [
        {
          "output_type": "stream",
          "name": "stdout",
          "text": [
            "최초 learning rated: 0.01\n",
            "epoch: 0 lr: 0.1\n",
            "\n",
            "Epoch 00001: LearningRateScheduler setting learning rate to 0.1.\n",
            "Epoch 1/15\n",
            "1/1 [==============================] - 0s 303ms/step - loss: 2877.3486 - lr: 0.1000\n",
            "epoch: 1 lr: 0.1\n",
            "\n",
            "Epoch 00002: LearningRateScheduler setting learning rate to 0.1.\n",
            "Epoch 2/15\n",
            "1/1 [==============================] - 0s 5ms/step - loss: 4923868160.0000 - lr: 0.1000\n",
            "epoch: 2 lr: 0.1\n",
            "\n",
            "Epoch 00003: LearningRateScheduler setting learning rate to 0.1.\n",
            "Epoch 3/15\n",
            "1/1 [==============================] - 0s 6ms/step - loss: 8439102319886336.0000 - lr: 0.1000\n",
            "epoch: 3 lr: 0.1\n",
            "\n",
            "Epoch 00004: LearningRateScheduler setting learning rate to 0.1.\n",
            "Epoch 4/15\n",
            "1/1 [==============================] - 0s 7ms/step - loss: 14463923818749577134080.0000 - lr: 0.1000\n",
            "epoch: 4 lr: 0.1\n",
            "\n",
            "Epoch 00005: LearningRateScheduler setting learning rate to 0.1.\n",
            "Epoch 5/15\n",
            "1/1 [==============================] - 0s 5ms/step - loss: 24789970765677786591215484928.0000 - lr: 0.1000\n",
            "epoch: 5 lr: 0.05\n",
            "\n",
            "Epoch 00006: LearningRateScheduler setting learning rate to 0.05.\n",
            "Epoch 6/15\n",
            "1/1 [==============================] - 0s 12ms/step - loss: 42487968961853493387992491247009792.0000 - lr: 0.0500\n",
            "epoch: 6 lr: 0.05\n",
            "\n",
            "Epoch 00007: LearningRateScheduler setting learning rate to 0.05.\n",
            "Epoch 7/15\n",
            "1/1 [==============================] - 0s 10ms/step - loss: inf - lr: 0.0500\n",
            "epoch: 7 lr: 0.05\n",
            "\n",
            "Epoch 00008: LearningRateScheduler setting learning rate to 0.05.\n",
            "Epoch 8/15\n",
            "1/1 [==============================] - 0s 16ms/step - loss: inf - lr: 0.0500\n",
            "epoch: 8 lr: 0.05\n",
            "\n",
            "Epoch 00009: LearningRateScheduler setting learning rate to 0.05.\n",
            "Epoch 9/15\n",
            "1/1 [==============================] - 0s 15ms/step - loss: inf - lr: 0.0500\n",
            "epoch: 9 lr: 0.05\n",
            "\n",
            "Epoch 00010: LearningRateScheduler setting learning rate to 0.05.\n",
            "Epoch 10/15\n",
            "1/1 [==============================] - 0s 18ms/step - loss: inf - lr: 0.0500\n",
            "epoch: 10 lr: 0.025\n",
            "\n",
            "Epoch 00011: LearningRateScheduler setting learning rate to 0.025.\n",
            "Epoch 11/15\n",
            "1/1 [==============================] - 0s 13ms/step - loss: inf - lr: 0.0250\n",
            "epoch: 11 lr: 0.025\n",
            "\n",
            "Epoch 00012: LearningRateScheduler setting learning rate to 0.025.\n",
            "Epoch 12/15\n",
            "1/1 [==============================] - 0s 19ms/step - loss: inf - lr: 0.0250\n",
            "epoch: 12 lr: 0.025\n",
            "\n",
            "Epoch 00013: LearningRateScheduler setting learning rate to 0.025.\n",
            "Epoch 13/15\n",
            "1/1 [==============================] - 0s 15ms/step - loss: inf - lr: 0.0250\n",
            "epoch: 13 lr: 0.025\n",
            "\n",
            "Epoch 00014: LearningRateScheduler setting learning rate to 0.025.\n",
            "Epoch 14/15\n",
            "1/1 [==============================] - 0s 7ms/step - loss: inf - lr: 0.0250\n",
            "epoch: 14 lr: 0.025\n",
            "\n",
            "Epoch 00015: LearningRateScheduler setting learning rate to 0.025.\n",
            "Epoch 15/15\n",
            "1/1 [==============================] - 0s 12ms/step - loss: nan - lr: 0.0250\n"
          ]
        }
      ]
    },
    {
      "cell_type": "markdown",
      "source": [
        "## 다양한 유형의 Learning Rate Scheduler 분류\n",
        "- 초기에 큰 LR을 적용할 경우 weight의 급격한 변화로 인해 성능 저하 또는 조기에 과적합 가능하다. \n",
        "- 초기에 비교적 작은 LR을 순차적으로 적은 횟수만큼 진행하여 최고 LR로 올린 후 LR을 Decay\n",
        "- 초기에 우연히 early stopping 되는 경우도 있다. 그러므로, 초기에 warm up (작은 LR로 순차적으로 올라가는것)이 필요하다.\n",
        "\n",
        "### Cosine Decay 적용하기\n",
        "- cosine decay는 코사인 곡선 형태로 초기 LR을 부드럽게 감소 시킨다. \n",
        "- cosine decay restart는 초기 LR을 코사인 곡선 형태로 감소시키다가 다시 초기 LR의 일정 부분만큼 LR을 증가시키는 작업을 주기적으로 수행한다. \n",
        "* Tensorflow 2.x은 Cosine Decay를 tf.keras.experimental.CosineDecay로 제공\n",
        "* tf.keras.experimental.CosineDecay는 callback이 아니라 optimizer의 LearningRateSchedule 이며, model.compile()의 optimizer 인자의 learning_rate로 값 입력 부여\n"
      ],
      "metadata": {
        "id": "JZ-Mrv2c8-3I"
      }
    },
    {
      "cell_type": "code",
      "source": [
        "cos_decay = tf.keras.experimental.CosineDecay(initial_learning_rate=1e-2, decay_steps=30, alpha=1e-2)"
      ],
      "metadata": {
        "id": "95xD4ukI80be"
      },
      "execution_count": 10,
      "outputs": []
    },
    {
      "cell_type": "code",
      "source": [
        "type(cos_decay) # 콜백이 아니라 optimizer 임을 명심!"
      ],
      "metadata": {
        "colab": {
          "base_uri": "https://localhost:8080/"
        },
        "id": "kevdlsFZCtu4",
        "outputId": "9b9035b7-283c-4d5d-e7a4-90d3178dedaa"
      },
      "execution_count": 11,
      "outputs": [
        {
          "output_type": "execute_result",
          "data": {
            "text/plain": [
              "keras.optimizer_v2.learning_rate_schedule.CosineDecay"
            ]
          },
          "metadata": {},
          "execution_count": 11
        }
      ]
    },
    {
      "cell_type": "code",
      "source": [
        "import matplotlib.pyplot as plt\n",
        "%matplotlib inline\n",
        "\n",
        "def plot_scheduler(epochs_list, lr_list, title=None):\n",
        "    plt.figure(figsize=(6,4))\n",
        "    plt.plot(epochs_list, lr_list)\n",
        "    plt.xlabel('epochs')  # 여기서 말하는 epochs가 우리가 일반적으로 생각하는 epoch가 아니라, steps임을 유념. \n",
        "    plt.ylabel('learning rate')\n",
        "    plt.title(title)\n",
        "\n",
        "cos_decay = tf.keras.experimental.CosineDecay(initial_learning_rate=1e-2, decay_steps=30, alpha=1e-2) # name을 넣으면 오류가 난다. 이유는 모름.\n",
        "\n",
        "steps_list = range(0, 30)\n",
        "lr_list = cos_decay(steps_list)\n",
        "\n",
        "plot_scheduler(steps_list, lr_list, 'Cosine Decay')"
      ],
      "metadata": {
        "colab": {
          "base_uri": "https://localhost:8080/",
          "height": 295
        },
        "id": "pANtXcOYCzjD",
        "outputId": "21bb6488-7fc3-4199-a1c8-832a3b56b75e"
      },
      "execution_count": 12,
      "outputs": [
        {
          "output_type": "display_data",
          "data": {
            "image/png": "[encoded data removed]",
            "text/plain": [
              "<Figure size 432x288 with 1 Axes>"
            ]
          },
          "metadata": {
            "needs_background": "light"
          }
        }
      ]
    },
    {
      "cell_type": "markdown",
      "source": [
        "### tf.keras.experimental.CosineDecay는 optimizer의 learning_rate 인자로 입력 되어야 함\n",
        "* Callback이 아니므로 epochs시마다 변경되는 learning rate값을 알 수가 없음"
      ],
      "metadata": {
        "id": "ENrwmvgwC7NS"
      }
    },
    {
      "cell_type": "code",
      "source": [
        "model = tf.keras.models.Sequential([tf.keras.layers.Dense(10)])\n",
        "# CosineDecay 객체는 optimizer의 learning_rate 인자로 입력되어야 함. \n",
        "model.compile(tf.keras.optimizers.Adam(learning_rate=cos_decay), loss='mse')\n",
        "\n",
        "history = model.fit(np.arange(100).reshape(5, 20), np.zeros(5),\n",
        "                    epochs=15, verbose=1)"
      ],
      "metadata": {
        "colab": {
          "base_uri": "https://localhost:8080/"
        },
        "id": "gkP2IiaTC4-a",
        "outputId": "4b02ef52-e7ea-4d39-b69b-9977efa558fe"
      },
      "execution_count": 13,
      "outputs": [
        {
          "output_type": "stream",
          "name": "stdout",
          "text": [
            "Epoch 1/15\n",
            "1/1 [==============================] - 0s 374ms/step - loss: 2538.7979\n",
            "Epoch 2/15\n",
            "1/1 [==============================] - 0s 9ms/step - loss: 1592.2528\n",
            "Epoch 3/15\n",
            "1/1 [==============================] - 0s 9ms/step - loss: 914.4688\n",
            "Epoch 4/15\n",
            "1/1 [==============================] - 0s 7ms/step - loss: 484.0875\n",
            "Epoch 5/15\n",
            "1/1 [==============================] - 0s 10ms/step - loss: 252.6468\n",
            "Epoch 6/15\n",
            "1/1 [==============================] - 0s 6ms/step - loss: 161.3720\n",
            "Epoch 7/15\n",
            "1/1 [==============================] - 0s 7ms/step - loss: 150.0095\n",
            "Epoch 8/15\n",
            "1/1 [==============================] - 0s 7ms/step - loss: 171.7263\n",
            "Epoch 9/15\n",
            "1/1 [==============================] - 0s 6ms/step - loss: 199.3813\n",
            "Epoch 10/15\n",
            "1/1 [==============================] - 0s 13ms/step - loss: 220.1852\n",
            "Epoch 11/15\n",
            "1/1 [==============================] - 0s 7ms/step - loss: 229.4796\n",
            "Epoch 12/15\n",
            "1/1 [==============================] - 0s 11ms/step - loss: 227.4199\n",
            "Epoch 13/15\n",
            "1/1 [==============================] - 0s 11ms/step - loss: 216.9048\n",
            "Epoch 14/15\n",
            "1/1 [==============================] - 0s 5ms/step - loss: 201.6380\n",
            "Epoch 15/15\n",
            "1/1 [==============================] - 0s 5ms/step - loss: 184.6906\n"
          ]
        }
      ]
    },
    {
      "cell_type": "code",
      "source": [
        "decay_steps = 30\n",
        "alpha = 0.0\n",
        "initial_learning_rate = 0.01\n",
        "\n",
        "def decayed_learning_rate(step):\n",
        "    step = min(step, decay_steps)\n",
        "    cosine_decay = 0.5 * (1 + np.cos(np.pi * step / decay_steps))\n",
        "    decayed = (1 - alpha) * cosine_decay + alpha\n",
        "    return initial_learning_rate * decayed\n",
        "\n",
        "steps_list = range(0, 30)\n",
        "lr_list = [decayed_learning_rate(step) for step in steps_list]\n",
        "\n",
        "plot_scheduler(steps_list, lr_list, 'Cosine Decay')"
      ],
      "metadata": {
        "colab": {
          "base_uri": "https://localhost:8080/",
          "height": 295
        },
        "id": "cDesjn_2C8gz",
        "outputId": "a9d008b5-e402-41d2-c2eb-0e27c32a35c7"
      },
      "execution_count": 14,
      "outputs": [
        {
          "output_type": "display_data",
          "data": {
            "image/png": "[encoded data removed]",
            "text/plain": [
              "<Figure size 432x288 with 1 Axes>"
            ]
          },
          "metadata": {
            "needs_background": "light"
          }
        }
      ]
    },
    {
      "cell_type": "markdown",
      "source": [
        "### Cosine Decay Restart(Cosine Annealing) 적용하기\n",
        "* tf.keras.experimental.CosineDecayRestarts 객체를 이용하여 적용\n",
        "* CosineDecay 객체와 마찬가지로 Callback이 아니므로 optimizer의 learning_rate인자로 입력 되어야 함. \n",
        "* initial_learning_rate는 최초 LR, first_decay_steps는 최초 decay step 수\n",
        "* t_mul는 전체 steps수를 감안해서 얼마나 cosine annealing을 반복할 지 결정하는 계수. 1이면 전체 steps/first_decay_steps, 2이면 분모를 이전 값 대비 2배로 증가 시킴\n",
        "* m_mul은 warm restart시 수행시마다 적용될 초기 learning rate\n",
        "* alpha는 최소 learning rate로 설정 계수로 최소 lr은 initial learning rate * alpha로 설정됨. "
      ],
      "metadata": {
        "id": "ppGYMsidDdxt"
      }
    },
    {
      "cell_type": "code",
      "source": [
        "from tensorflow.keras.experimental import CosineDecayRestarts\n",
        "\n",
        "cos_decay_restarts = CosineDecayRestarts(initial_learning_rate=0.01, first_decay_steps=10, t_mul=1, m_mul=0.9, alpha=0)\n",
        "steps_list = range(0, 120)\n",
        "lr_list = cos_decay_restarts(steps_list)\n",
        "\n",
        "plot_scheduler(steps_list, lr_list, 'Cosine Decay Restarts')"
      ],
      "metadata": {
        "colab": {
          "base_uri": "https://localhost:8080/",
          "height": 295
        },
        "id": "ET4wDKvoC-AZ",
        "outputId": "715eae47-7bfd-49b7-d3b8-bbe463402e90"
      },
      "execution_count": 15,
      "outputs": [
        {
          "output_type": "display_data",
          "data": {
            "image/png": "[encoded data removed]",
            "text/plain": [
              "<Figure size 432x288 with 1 Axes>"
            ]
          },
          "metadata": {
            "needs_background": "light"
          }
        }
      ]
    },
    {
      "cell_type": "code",
      "source": [
        "model = tf.keras.models.Sequential([tf.keras.layers.Dense(10)])\n",
        "# CosineDecay 객체는 optimizer의 learning_rate 인자로 입력되어야 함. \n",
        "model.compile(tf.keras.optimizers.Adam(learning_rate=cos_decay_restarts), loss='mse')\n",
        "\n",
        "history = model.fit(np.arange(100).reshape(5, 20), np.zeros(5),\n",
        "                    epochs=15, verbose=1)"
      ],
      "metadata": {
        "colab": {
          "base_uri": "https://localhost:8080/"
        },
        "id": "s1lF4W_JDiNq",
        "outputId": "9aa36185-c9e9-451f-acdd-c1bed52f7a2a"
      },
      "execution_count": 16,
      "outputs": [
        {
          "output_type": "stream",
          "name": "stdout",
          "text": [
            "Epoch 1/15\n",
            "1/1 [==============================] - 0s 434ms/step - loss: 4607.1455\n",
            "Epoch 2/15\n",
            "1/1 [==============================] - 0s 8ms/step - loss: 3533.3262\n",
            "Epoch 3/15\n",
            "1/1 [==============================] - 0s 8ms/step - loss: 2707.4028\n",
            "Epoch 4/15\n",
            "1/1 [==============================] - 0s 13ms/step - loss: 2093.0718\n",
            "Epoch 5/15\n",
            "1/1 [==============================] - 0s 8ms/step - loss: 1663.3711\n",
            "Epoch 6/15\n",
            "1/1 [==============================] - 0s 8ms/step - loss: 1380.8799\n",
            "Epoch 7/15\n",
            "1/1 [==============================] - 0s 12ms/step - loss: 1202.9469\n",
            "Epoch 8/15\n",
            "1/1 [==============================] - 0s 7ms/step - loss: 1096.0485\n",
            "Epoch 9/15\n",
            "1/1 [==============================] - 0s 12ms/step - loss: 1037.3556\n",
            "Epoch 10/15\n",
            "1/1 [==============================] - 0s 6ms/step - loss: 1011.1315\n",
            "Epoch 11/15\n",
            "1/1 [==============================] - 0s 7ms/step - loss: 1004.4556\n",
            "Epoch 12/15\n",
            "1/1 [==============================] - 0s 9ms/step - loss: 784.3221\n",
            "Epoch 13/15\n",
            "1/1 [==============================] - 0s 9ms/step - loss: 614.3154\n",
            "Epoch 14/15\n",
            "1/1 [==============================] - 0s 7ms/step - loss: 486.6061\n",
            "Epoch 15/15\n",
            "1/1 [==============================] - 0s 8ms/step - loss: 393.0404\n"
          ]
        }
      ]
    },
    {
      "cell_type": "markdown",
      "source": [
        "### Ramp Up and Step Down Decay\n",
        "* Ramp up으로 warm up 수행 후 Step 형식으로 Decay 하는 방식. \n",
        "- 논문으로 나온 내용은 아니고, 개발자 Chris Deotte분이 제안함. "
      ],
      "metadata": {
        "id": "zdVHkaHjEPWs"
      }
    },
    {
      "cell_type": "code",
      "source": [
        "LR_START = 1e-5\n",
        "LR_MAX = 1e-2\n",
        "LR_RAMPUP_EPOCHS = 5\n",
        "LR_SUSTAIN_EPOCHS = 10\n",
        "LR_STEP_DECAY = 0.75\n",
        "\n",
        "def lrfn(epoch):\n",
        "    if epoch < LR_RAMPUP_EPOCHS:\n",
        "        lr = ((LR_MAX - LR_START) / LR_RAMPUP_EPOCHS) * epoch + LR_START\n",
        "    elif epoch < LR_RAMPUP_EPOCHS + LR_SUSTAIN_EPOCHS:\n",
        "        lr = LR_MAX\n",
        "    else:\n",
        "        lr = LR_MAX * LR_STEP_DECAY**((epoch - LR_RAMPUP_EPOCHS - LR_SUSTAIN_EPOCHS)//2)\n",
        "    #print('epoch:', epoch, 'lr:', lr)\n",
        "    return lr\n",
        "\n",
        "lr_list = [lrfn(epoch) for epoch  in epochs_list]\n",
        "\n",
        "plot_scheduler(epochs_list, lr_list, title='WarmUp')"
      ],
      "metadata": {
        "colab": {
          "base_uri": "https://localhost:8080/",
          "height": 295
        },
        "id": "JQ-IOT12Dje_",
        "outputId": "f4e31718-ec0d-4ae5-adb9-b02b63668b42"
      },
      "execution_count": 17,
      "outputs": [
        {
          "output_type": "display_data",
          "data": {
            "image/png": "[encoded data removed]",
            "text/plain": [
              "<Figure size 432x288 with 1 Axes>"
            ]
          },
          "metadata": {
            "needs_background": "light"
          }
        }
      ]
    },
    {
      "cell_type": "markdown",
      "source": [
        "### 아래와 같이 내포 함수로 생성하는 것을 권장. "
      ],
      "metadata": {
        "id": "qGn5DPS4ES3a"
      }
    },
    {
      "cell_type": "code",
      "source": [
        "def lrfn(epoch):\n",
        "    LR_START = 1e-5\n",
        "    LR_MAX = 1e-2\n",
        "    LR_RAMPUP_EPOCHS = 3\n",
        "    LR_SUSTAIN_EPOCHS = 3\n",
        "    LR_STEP_DECAY = 0.75\n",
        "    \n",
        "    def calc_fn(epoch):\n",
        "        if epoch < LR_RAMPUP_EPOCHS:\n",
        "            lr = ((LR_MAX - LR_START) / LR_RAMPUP_EPOCHS) * epoch + LR_START\n",
        "        elif epoch < LR_RAMPUP_EPOCHS + LR_SUSTAIN_EPOCHS:\n",
        "            lr = LR_MAX\n",
        "        else:\n",
        "            lr = LR_MAX * LR_STEP_DECAY**((epoch - LR_RAMPUP_EPOCHS - LR_SUSTAIN_EPOCHS)//2)\n",
        "        \n",
        "        print('epoch:', epoch, 'lr:', lr)\n",
        "        \n",
        "        return lr\n",
        "    \n",
        "    # 반드시 내포 함수인 calc_fn(epoch)를 호출해야함. \n",
        "    return calc_fn(epoch)"
      ],
      "metadata": {
        "id": "5c5Xr1GOERf3"
      },
      "execution_count": 18,
      "outputs": []
    },
    {
      "cell_type": "code",
      "source": [
        "import tensorflow as tf\n",
        "import numpy as np\n",
        "\n",
        "\n",
        "model = tf.keras.models.Sequential([tf.keras.layers.Dense(10)])\n",
        "model.compile(tf.keras.optimizers.SGD(), loss='mse')\n",
        "\n",
        "lr_scheduler = tf.keras.callbacks.LearningRateScheduler(lrfn)\n",
        "history = model.fit(np.arange(100).reshape(5, 20), np.zeros(5),\n",
        "                    epochs=30, callbacks=[lr_scheduler], verbose=1)\n"
      ],
      "metadata": {
        "colab": {
          "base_uri": "https://localhost:8080/"
        },
        "id": "a70wCjxuET_i",
        "outputId": "a7867a19-d9bd-49b9-d8be-6bde5e61b976"
      },
      "execution_count": 19,
      "outputs": [
        {
          "output_type": "stream",
          "name": "stdout",
          "text": [
            "epoch: 0 lr: 1e-05\n",
            "Epoch 1/30\n",
            "1/1 [==============================] - 0s 283ms/step - loss: 4157.5283 - lr: 1.0000e-05\n",
            "epoch: 1 lr: 0.00334\n",
            "Epoch 2/30\n",
            "1/1 [==============================] - 0s 8ms/step - loss: 3143.8501 - lr: 0.0033\n",
            "epoch: 2 lr: 0.00667\n",
            "Epoch 3/30\n",
            "1/1 [==============================] - 0s 17ms/step - loss: 5715493.0000 - lr: 0.0067\n",
            "epoch: 3 lr: 0.01\n",
            "Epoch 4/30\n",
            "1/1 [==============================] - 0s 6ms/step - loss: 42654085120.0000 - lr: 0.0100\n",
            "epoch: 4 lr: 0.01\n",
            "Epoch 5/30\n",
            "1/1 [==============================] - 0s 21ms/step - loss: 721038908325888.0000 - lr: 0.0100\n",
            "epoch: 5 lr: 0.01\n",
            "Epoch 6/30\n",
            "1/1 [==============================] - 0s 8ms/step - loss: 12188681229687586816.0000 - lr: 0.0100\n",
            "epoch: 6 lr: 0.01\n",
            "Epoch 7/30\n",
            "1/1 [==============================] - 0s 9ms/step - loss: 206041520420848159162368.0000 - lr: 0.0100\n",
            "epoch: 7 lr: 0.01\n",
            "Epoch 8/30\n",
            "1/1 [==============================] - 0s 10ms/step - loss: 3482994090800429539532996608.0000 - lr: 0.0100\n",
            "epoch: 8 lr: 0.0075\n",
            "Epoch 9/30\n",
            "1/1 [==============================] - 0s 12ms/step - loss: 58877690386968363547060741341184.0000 - lr: 0.0075\n",
            "epoch: 9 lr: 0.0075\n",
            "Epoch 10/30\n",
            "1/1 [==============================] - 0s 15ms/step - loss: 556982459888667319566736480064765952.0000 - lr: 0.0075\n",
            "epoch: 10 lr: 0.005625\n",
            "Epoch 11/30\n",
            "1/1 [==============================] - 0s 12ms/step - loss: inf - lr: 0.0056\n",
            "epoch: 11 lr: 0.005625\n",
            "Epoch 12/30\n",
            "1/1 [==============================] - 0s 13ms/step - loss: inf - lr: 0.0056\n",
            "epoch: 12 lr: 0.00421875\n",
            "Epoch 13/30\n",
            "1/1 [==============================] - 0s 11ms/step - loss: inf - lr: 0.0042\n",
            "epoch: 13 lr: 0.00421875\n",
            "Epoch 14/30\n",
            "1/1 [==============================] - 0s 9ms/step - loss: inf - lr: 0.0042\n",
            "epoch: 14 lr: 0.0031640625\n",
            "Epoch 15/30\n",
            "1/1 [==============================] - 0s 15ms/step - loss: inf - lr: 0.0032\n",
            "epoch: 15 lr: 0.0031640625\n",
            "Epoch 16/30\n",
            "1/1 [==============================] - 0s 9ms/step - loss: inf - lr: 0.0032\n",
            "epoch: 16 lr: 0.002373046875\n",
            "Epoch 17/30\n",
            "1/1 [==============================] - 0s 15ms/step - loss: inf - lr: 0.0024\n",
            "epoch: 17 lr: 0.002373046875\n",
            "Epoch 18/30\n",
            "1/1 [==============================] - 0s 21ms/step - loss: inf - lr: 0.0024\n",
            "epoch: 18 lr: 0.00177978515625\n",
            "Epoch 19/30\n",
            "1/1 [==============================] - 0s 6ms/step - loss: inf - lr: 0.0018\n",
            "epoch: 19 lr: 0.00177978515625\n",
            "Epoch 20/30\n",
            "1/1 [==============================] - 0s 11ms/step - loss: inf - lr: 0.0018\n",
            "epoch: 20 lr: 0.0013348388671875\n",
            "Epoch 21/30\n",
            "1/1 [==============================] - 0s 9ms/step - loss: inf - lr: 0.0013\n",
            "epoch: 21 lr: 0.0013348388671875\n",
            "Epoch 22/30\n",
            "1/1 [==============================] - 0s 10ms/step - loss: inf - lr: 0.0013\n",
            "epoch: 22 lr: 0.001001129150390625\n",
            "Epoch 23/30\n",
            "1/1 [==============================] - 0s 11ms/step - loss: inf - lr: 0.0010\n",
            "epoch: 23 lr: 0.001001129150390625\n",
            "Epoch 24/30\n",
            "1/1 [==============================] - 0s 7ms/step - loss: nan - lr: 0.0010\n",
            "epoch: 24 lr: 0.0007508468627929688\n",
            "Epoch 25/30\n",
            "1/1 [==============================] - 0s 7ms/step - loss: nan - lr: 7.5085e-04\n",
            "epoch: 25 lr: 0.0007508468627929688\n",
            "Epoch 26/30\n",
            "1/1 [==============================] - 0s 10ms/step - loss: nan - lr: 7.5085e-04\n",
            "epoch: 26 lr: 0.0005631351470947266\n",
            "Epoch 27/30\n",
            "1/1 [==============================] - 0s 8ms/step - loss: nan - lr: 5.6314e-04\n",
            "epoch: 27 lr: 0.0005631351470947266\n",
            "Epoch 28/30\n",
            "1/1 [==============================] - 0s 8ms/step - loss: nan - lr: 5.6314e-04\n",
            "epoch: 28 lr: 0.00042235136032104493\n",
            "Epoch 29/30\n",
            "1/1 [==============================] - 0s 8ms/step - loss: nan - lr: 4.2235e-04\n",
            "epoch: 29 lr: 0.00042235136032104493\n",
            "Epoch 30/30\n",
            "1/1 [==============================] - 0s 9ms/step - loss: nan - lr: 4.2235e-04\n"
          ]
        }
      ]
    },
    {
      "cell_type": "markdown",
      "source": [
        "### Cosine Decay를 Callback 으로 구현. "
      ],
      "metadata": {
        "id": "PuHIUMoREX-f"
      }
    },
    {
      "cell_type": "code",
      "source": [
        "from collections.abc import Iterable\n",
        "from tensorflow.keras.callbacks import *\n",
        "from tensorflow.keras import backend as K\n",
        "import tensorflow as tf\n",
        "from tensorflow.python.ops import math_ops\n",
        "from tensorflow.python.ops import control_flow_ops\n",
        "from tensorflow.python.framework import constant_op\n",
        "import math\n",
        "\n",
        "\n",
        "class CosineDecayCB(tf.keras.callbacks.Callback):\n",
        "    def __init__(self, initial_learning_rate, decay_steps):\n",
        "        super(CosineDecayCB, self).__init__()\n",
        "        self.initial_learning_rate = initial_learning_rate\n",
        "        self.decay_steps = decay_steps\n",
        "        self.batch_step = 0\n",
        "        self.calc_lr = 0.0\n",
        "\n",
        "    def on_train_batch_begin(self, step, logs=None):\n",
        "        if not hasattr(self.model.optimizer, \"lr\"):\n",
        "            raise ValueError('Optimizer must have a \"lr\" attribute.')\n",
        "        # optimizer의 현재 learning rate를 가져옴. \n",
        "        lr = float(tf.keras.backend.get_value(self.model.optimizer.learning_rate))\n",
        "        # schedule 함수에 batch_step과 lr을 입력하여 step에 따른 lr 계산. \n",
        "        scheduled_lr = self.schedule(self.batch_step, lr)\n",
        "        # 계산된 scheduled_lr을 optimizer의 lr로 입력. \n",
        "        tf.keras.backend.set_value(self.model.optimizer.lr, scheduled_lr)\n",
        "        self.batch_step += 1\n",
        "        self.calc_lr = scheduled_lr\n",
        "        \n",
        "    def on_epoch_end(self, epoch, logs=None):\n",
        "        print('learning rate:', self.calc_lr)\n",
        "        \n",
        "    # cosine decay learning rate를 step 별로 계산. \n",
        "    def schedule(self, step, lr):\n",
        "        def decayed_learning_rate(step, lr):\n",
        "            step = min(step, self.decay_steps)\n",
        "            cosine_decay = 0.5 * (1 + np.cos(np.pi * step / self.decay_steps))\n",
        "            decayed = (1 - alpha) * cosine_decay + alpha\n",
        "            return lr * decayed\n",
        "        \n",
        "        return decayed_learning_rate(step, lr)\n",
        "        "
      ],
      "metadata": {
        "id": "KMuTjTarEVVQ"
      },
      "execution_count": 20,
      "outputs": []
    },
    {
      "cell_type": "code",
      "source": [
        "model = tf.keras.models.Sequential([tf.keras.layers.Dense(10)])\n",
        "model.compile(tf.keras.optimizers.Adam(learning_rate=0.01), loss='mse')\n",
        "\n",
        "cosine_scheduler = CosineDecayCB(0.01, 100)\n",
        "#lr_scheduler = tf.keras.callbacks.LearningRateScheduler(scheduler)\n",
        "#lr_monitor = LearningRateMonitor()\n",
        "history = model.fit(np.arange(100).reshape(5, 20), np.zeros(5),\n",
        "                    epochs=30, callbacks=[cosine_scheduler], verbose=1)"
      ],
      "metadata": {
        "colab": {
          "base_uri": "https://localhost:8080/"
        },
        "id": "qxwVgUwlEZoj",
        "outputId": "78bc334b-88e6-434a-be50-5af8a87cf9e9"
      },
      "execution_count": 21,
      "outputs": [
        {
          "output_type": "stream",
          "name": "stdout",
          "text": [
            "Epoch 1/30\n",
            "1/1 [==============================] - ETA: 0s - loss: 4063.7883learning rate: 0.009999999776482582\n",
            "1/1 [==============================] - 0s 327ms/step - loss: 4063.7883\n",
            "Epoch 2/30\n",
            "1/1 [==============================] - ETA: 0s - loss: 3012.0305learning rate: 0.009997532578366386\n",
            "1/1 [==============================] - 0s 10ms/step - loss: 3012.0305\n",
            "Epoch 3/30\n",
            "1/1 [==============================] - ETA: 0s - loss: 2198.4631learning rate: 0.009987668779447316\n",
            "1/1 [==============================] - 0s 5ms/step - loss: 2198.4631\n",
            "Epoch 4/30\n",
            "1/1 [==============================] - ETA: 0s - loss: 1600.8881learning rate: 0.009965506251171758\n",
            "1/1 [==============================] - 0s 13ms/step - loss: 1600.8881\n",
            "Epoch 5/30\n",
            "1/1 [==============================] - ETA: 0s - loss: 1189.2194learning rate: 0.009926215885098146\n",
            "1/1 [==============================] - 0s 8ms/step - loss: 1189.2194\n",
            "Epoch 6/30\n",
            "1/1 [==============================] - ETA: 0s - loss: 920.2335learning rate: 0.00986511165178973\n",
            "1/1 [==============================] - 0s 9ms/step - loss: 920.2335\n",
            "Epoch 7/30\n",
            "1/1 [==============================] - ETA: 0s - loss: 742.3236learning rate: 0.009777742546603758\n",
            "1/1 [==============================] - 0s 11ms/step - loss: 742.3236\n",
            "Epoch 8/30\n",
            "1/1 [==============================] - ETA: 0s - loss: 610.5262learning rate: 0.00966000258860012\n",
            "1/1 [==============================] - 0s 15ms/step - loss: 610.5262\n",
            "Epoch 9/30\n",
            "1/1 [==============================] - ETA: 0s - loss: 495.9603learning rate: 0.009508259400143007\n",
            "1/1 [==============================] - 0s 8ms/step - loss: 495.9603\n",
            "Epoch 10/30\n",
            "1/1 [==============================] - ETA: 0s - loss: 386.2204learning rate: 0.009319490622379422\n",
            "1/1 [==============================] - 0s 8ms/step - loss: 386.2204\n",
            "Epoch 11/30\n",
            "1/1 [==============================] - ETA: 0s - loss: 282.1122learning rate: 0.009091426581207967\n",
            "1/1 [==============================] - 0s 9ms/step - loss: 282.1122\n",
            "Epoch 12/30\n",
            "1/1 [==============================] - ETA: 0s - loss: 191.9821learning rate: 0.008822687543002871\n",
            "1/1 [==============================] - 0s 7ms/step - loss: 191.9821\n",
            "Epoch 13/30\n",
            "1/1 [==============================] - ETA: 0s - loss: 124.3101learning rate: 0.008512907827377238\n",
            "1/1 [==============================] - 0s 9ms/step - loss: 124.3101\n",
            "Epoch 14/30\n",
            "1/1 [==============================] - ETA: 0s - loss: 82.9113learning rate: 0.008162834022928805\n",
            "1/1 [==============================] - 0s 10ms/step - loss: 82.9113\n",
            "Epoch 15/30\n",
            "1/1 [==============================] - ETA: 0s - loss: 66.1067learning rate: 0.007774393276127479\n",
            "1/1 [==============================] - 0s 9ms/step - loss: 66.1067\n",
            "Epoch 16/30\n",
            "1/1 [==============================] - ETA: 0s - loss: 68.4197learning rate: 0.007350714012472202\n",
            "1/1 [==============================] - 0s 12ms/step - loss: 68.4197\n",
            "Epoch 17/30\n",
            "1/1 [==============================] - ETA: 0s - loss: 82.6652learning rate: 0.006896096839915553\n",
            "1/1 [==============================] - 0s 7ms/step - loss: 82.6652\n",
            "Epoch 18/30\n",
            "1/1 [==============================] - ETA: 0s - loss: 101.6963learning rate: 0.006415928520056952\n",
            "1/1 [==============================] - 0s 8ms/step - loss: 101.6963\n",
            "Epoch 19/30\n",
            "1/1 [==============================] - ETA: 0s - loss: 119.7593learning rate: 0.0059165382476093166\n",
            "1/1 [==============================] - 0s 6ms/step - loss: 119.7593\n",
            "Epoch 20/30\n",
            "1/1 [==============================] - ETA: 0s - loss: 133.2618learning rate: 0.005404995990233146\n",
            "1/1 [==============================] - 0s 16ms/step - loss: 133.2618\n",
            "Epoch 21/30\n",
            "1/1 [==============================] - ETA: 0s - loss: 140.8391learning rate: 0.004888865008276473\n",
            "1/1 [==============================] - 0s 12ms/step - loss: 140.8391\n",
            "Epoch 22/30\n",
            "1/1 [==============================] - ETA: 0s - loss: 142.8170learning rate: 0.004375913240345981\n",
            "1/1 [==============================] - 0s 10ms/step - loss: 142.8170\n",
            "Epoch 23/30\n",
            "1/1 [==============================] - ETA: 0s - loss: 140.4214learning rate: 0.003873806117577276\n",
            "1/1 [==============================] - 0s 12ms/step - loss: 140.4214\n",
            "Epoch 24/30\n",
            "1/1 [==============================] - ETA: 0s - loss: 135.1101learning rate: 0.0033897955683273736\n",
            "1/1 [==============================] - 0s 7ms/step - loss: 135.1101\n",
            "Epoch 25/30\n",
            "1/1 [==============================] - ETA: 0s - loss: 128.1874learning rate: 0.002930425074151089\n",
            "1/1 [==============================] - 0s 8ms/step - loss: 128.1874\n",
            "Epoch 26/30\n",
            "1/1 [==============================] - ETA: 0s - loss: 120.6602learning rate: 0.0025012742863684406\n",
            "1/1 [==============================] - 0s 11ms/step - loss: 120.6602\n",
            "Epoch 27/30\n",
            "1/1 [==============================] - ETA: 0s - loss: 113.2312learning rate: 0.002106757129467716\n",
            "1/1 [==============================] - 0s 8ms/step - loss: 113.2312\n",
            "Epoch 28/30\n",
            "1/1 [==============================] - ETA: 0s - loss: 106.3439learning rate: 0.0017499903137473615\n",
            "1/1 [==============================] - 0s 13ms/step - loss: 106.3439\n",
            "Epoch 29/30\n",
            "1/1 [==============================] - ETA: 0s - loss: 100.2404learning rate: 0.0014327380291621207\n",
            "1/1 [==============================] - 0s 6ms/step - loss: 100.2404\n",
            "Epoch 30/30\n",
            "1/1 [==============================] - ETA: 0s - loss: 95.0157learning rate: 0.0011554366405818113\n",
            "1/1 [==============================] - 0s 15ms/step - loss: 95.0157\n"
          ]
        }
      ]
    },
    {
      "cell_type": "markdown",
      "source": [
        "### Cosine Decay Restart 를 Callback으로 구현. \n",
        "* https://gist.github.com/jeremyjordan/5a222e04bb78c242f5763ad40626c452"
      ],
      "metadata": {
        "id": "1wSPp9SfEdSE"
      }
    },
    {
      "cell_type": "code",
      "source": [
        "from tensorflow.keras import backend as K\n",
        "\n",
        "class LearningRateMonitor(Callback):\n",
        "    # start of training\n",
        "    def on_train_begin(self, logs={}):\n",
        "        self.lrates = list()\n",
        "\n",
        "    # end of each training epoch\n",
        "    def on_epoch_end(self, epoch, logs={}):\n",
        "        # get and store the learning rate\n",
        "        optimizer = self.model.optimizer\n",
        "        lrate = float(K.get_value(self.model.optimizer.lr))\n",
        "        print('learning rate:', lrate)\n",
        "        self.lrates.append(lrate)"
      ],
      "metadata": {
        "id": "dJIYsrnmEa4U"
      },
      "execution_count": 22,
      "outputs": []
    },
    {
      "cell_type": "code",
      "source": [
        "# https://gist.github.com/jeremyjordan/5a222e04bb78c242f5763ad40626c452\n",
        "\n",
        "from collections.abc import Iterable\n",
        "from tensorflow.keras.callbacks import *\n",
        "from tensorflow.keras import backend as K\n",
        "import tensorflow as tf\n",
        "from tensorflow.python.ops import math_ops\n",
        "from tensorflow.python.ops import control_flow_ops\n",
        "from tensorflow.python.framework import constant_op\n",
        "import math\n",
        "\n",
        "\n",
        "class CosineDecayRestarts(tf.keras.callbacks.Callback):\n",
        "    def __init__(self, initial_learning_rate, first_decay_steps, alpha=0.0, t_mul=2.0, m_mul=1.0):\n",
        "        super(CosineDecayRestarts, self).__init__()\n",
        "        self.initial_learning_rate = initial_learning_rate\n",
        "        self.first_decay_steps = first_decay_steps\n",
        "        self.alpha = alpha\n",
        "        self.t_mul = t_mul\n",
        "        self.m_mul = m_mul\n",
        "        self.batch_step = 0\n",
        "\n",
        "    def on_train_batch_begin(self, step, logs=None):\n",
        "        if not hasattr(self.model.optimizer, \"lr\"):\n",
        "            raise ValueError('Optimizer must have a \"lr\" attribute.')\n",
        "        # Get the current learning rate from model's optimizer.\n",
        "        lr = float(tf.keras.backend.get_value(self.model.optimizer.learning_rate))\n",
        "        # Call schedule function to get the scheduled learning rate.\n",
        "        scheduled_lr = self.schedule(self.batch_step, lr)\n",
        "        # Set the value back to the optimizer before this epoch starts\n",
        "        tf.keras.backend.set_value(self.model.optimizer.lr, scheduled_lr)\n",
        "        self.batch_step += 1\n",
        "\n",
        "    def schedule(self, step, lr):\n",
        "        def compute_step(completed_fraction, geometric=False):\n",
        "            \"\"\"Helper for `cond` operation.\"\"\"\n",
        "            if geometric:\n",
        "                i_restart = math_ops.floor(\n",
        "                  math_ops.log(1.0 - completed_fraction * (1.0 - self.t_mul)) /\n",
        "                  math_ops.log(self.t_mul))\n",
        "\n",
        "                sum_r = (1.0 - self.t_mul**i_restart) / (1.0 - self.t_mul)\n",
        "                completed_fraction = (completed_fraction - sum_r) / self.t_mul**i_restart\n",
        "\n",
        "            else:\n",
        "                i_restart = math_ops.floor(completed_fraction)\n",
        "                completed_fraction -= i_restart\n",
        "\n",
        "            return i_restart, completed_fraction\n",
        "\n",
        "        completed_fraction = step / self.first_decay_steps\n",
        "\n",
        "        i_restart, completed_fraction = control_flow_ops.cond(\n",
        "          math_ops.equal(self.t_mul, 1.0),\n",
        "          lambda: compute_step(completed_fraction, geometric=False),\n",
        "          lambda: compute_step(completed_fraction, geometric=True))\n",
        "\n",
        "        m_fac = self.m_mul**i_restart\n",
        "        cosine_decayed = 0.5 * m_fac * (1.0 + math_ops.cos(\n",
        "          constant_op.constant(math.pi) * completed_fraction))\n",
        "        decayed = (1 - self.alpha) * cosine_decayed + self.alpha\n",
        "\n",
        "        return math_ops.multiply(self.initial_learning_rate, decayed)"
      ],
      "metadata": {
        "id": "DPhRKBEUEeer"
      },
      "execution_count": 23,
      "outputs": []
    },
    {
      "cell_type": "code",
      "source": [
        "model = tf.keras.models.Sequential([tf.keras.layers.Dense(10)])\n",
        "model.compile(tf.keras.optimizers.Adam(learning_rate=0.01), loss='mse')\n",
        "\n",
        "cosine_scheduler = CosineDecayRestarts(0.01, 100)\n",
        "lr_monitor = LearningRateMonitor()\n",
        "history = model.fit(np.arange(100).reshape(5, 20), np.zeros(5),\n",
        "                    epochs=15, callbacks=[cosine_scheduler, lr_monitor], verbose=1)"
      ],
      "metadata": {
        "colab": {
          "base_uri": "https://localhost:8080/"
        },
        "id": "GtGr4qm_EgHD",
        "outputId": "e58d5281-faa3-4168-d15c-4ceb72111a64"
      },
      "execution_count": 24,
      "outputs": [
        {
          "output_type": "stream",
          "name": "stdout",
          "text": [
            "Epoch 1/15\n",
            "1/1 [==============================] - ETA: 0s - loss: 4222.3843learning rate: 0.009999999776482582\n",
            "1/1 [==============================] - 1s 561ms/step - loss: 4222.3843\n",
            "Epoch 2/15\n",
            "1/1 [==============================] - ETA: 0s - loss: 3068.2742learning rate: 0.009997531771659851\n",
            "1/1 [==============================] - 0s 16ms/step - loss: 3068.2742\n",
            "Epoch 3/15\n",
            "1/1 [==============================] - ETA: 0s - loss: 2137.8032learning rate: 0.009990133345127106\n",
            "1/1 [==============================] - 0s 10ms/step - loss: 2137.8032\n",
            "Epoch 4/15\n",
            "1/1 [==============================] - ETA: 0s - loss: 1424.2454learning rate: 0.009977809153497219\n",
            "1/1 [==============================] - 0s 9ms/step - loss: 1424.2454\n",
            "Epoch 5/15\n",
            "1/1 [==============================] - ETA: 0s - loss: 904.4183learning rate: 0.009960574097931385\n",
            "1/1 [==============================] - 0s 9ms/step - loss: 904.4183\n",
            "Epoch 6/15\n",
            "1/1 [==============================] - ETA: 0s - loss: 550.4008learning rate: 0.009938441216945648\n",
            "1/1 [==============================] - 0s 24ms/step - loss: 550.4008\n",
            "Epoch 7/15\n",
            "1/1 [==============================] - ETA: 0s - loss: 333.3034learning rate: 0.009911435656249523\n",
            "1/1 [==============================] - 0s 25ms/step - loss: 333.3034\n",
            "Epoch 8/15\n",
            "1/1 [==============================] - ETA: 0s - loss: 221.5609learning rate: 0.0098795834928751\n",
            "1/1 [==============================] - 0s 14ms/step - loss: 221.5609\n",
            "Epoch 9/15\n",
            "1/1 [==============================] - ETA: 0s - loss: 182.5415learning rate: 0.009842915460467339\n",
            "1/1 [==============================] - 0s 13ms/step - loss: 182.5415\n",
            "Epoch 10/15\n",
            "1/1 [==============================] - ETA: 0s - loss: 187.7178learning rate: 0.009801467880606651\n",
            "1/1 [==============================] - 0s 8ms/step - loss: 187.7178\n",
            "Epoch 11/15\n",
            "1/1 [==============================] - ETA: 0s - loss: 217.0273learning rate: 0.00975528173148632\n",
            "1/1 [==============================] - 0s 12ms/step - loss: 217.0273\n",
            "Epoch 12/15\n",
            "1/1 [==============================] - ETA: 0s - loss: 257.0505learning rate: 0.009704403579235077\n",
            "1/1 [==============================] - 0s 10ms/step - loss: 257.0505\n",
            "Epoch 13/15\n",
            "1/1 [==============================] - ETA: 0s - loss: 297.5390learning rate: 0.0096488818526268\n",
            "1/1 [==============================] - 0s 14ms/step - loss: 297.5390\n",
            "Epoch 14/15\n",
            "1/1 [==============================] - ETA: 0s - loss: 329.5991learning rate: 0.009588773362338543\n",
            "1/1 [==============================] - 0s 13ms/step - loss: 329.5991\n",
            "Epoch 15/15\n",
            "1/1 [==============================] - ETA: 0s - loss: 346.6529learning rate: 0.009524134919047356\n",
            "1/1 [==============================] - 0s 13ms/step - loss: 346.6529\n"
          ]
        }
      ]
    },
    {
      "cell_type": "code",
      "source": [
        ""
      ],
      "metadata": {
        "id": "4Gc6fOLFEhc2"
      },
      "execution_count": null,
      "outputs": []
    }
  ]
}