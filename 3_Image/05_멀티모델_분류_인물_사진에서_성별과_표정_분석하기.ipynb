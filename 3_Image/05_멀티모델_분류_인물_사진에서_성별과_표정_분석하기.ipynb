{
  "nbformat": 4,
  "nbformat_minor": 0,
  "metadata": {
    "colab": {
      "name": "[실습]Part1_Ch02_멀티모델 분류 - 인물 사진에서 성별과 표정 분석하기.ipynb",
      "provenance": [],
      "collapsed_sections": [],
      "include_colab_link": true
    },
    "kernelspec": {
      "name": "python3",
      "display_name": "Python 3"
    },
    "accelerator": "GPU"
  },
  "cells": [
    {
      "cell_type": "markdown",
      "metadata": {
        "id": "view-in-github",
        "colab_type": "text"
      },
      "source": [
        "<a href=\"https://colab.research.google.com/github/DAWUNHAN/deeplearning-fundamental/blob/master/%E1%84%86%E1%85%A5%E1%86%AF%E1%84%90%E1%85%B5%E1%84%86%E1%85%A9%E1%84%83%E1%85%A6%E1%86%AF_%E1%84%87%E1%85%AE%E1%86%AB%E1%84%85%E1%85%B2_%E1%84%8B%E1%85%B5%E1%86%AB%E1%84%86%E1%85%AE%E1%86%AF_%E1%84%89%E1%85%A1%E1%84%8C%E1%85%B5%E1%86%AB%E1%84%8B%E1%85%A6%E1%84%89%E1%85%A5_%E1%84%89%E1%85%A5%E1%86%BC%E1%84%87%E1%85%A7%E1%86%AF%E1%84%80%E1%85%AA_%E1%84%91%E1%85%AD%E1%84%8C%E1%85%A5%E1%86%BC_%E1%84%87%E1%85%AE%E1%86%AB%E1%84%89%E1%85%A5%E1%86%A8%E1%84%92%E1%85%A1%E1%84%80%E1%85%B5.ipynb\" target=\"_parent\"><img src=\"https://colab.research.google.com/assets/colab-badge.svg\" alt=\"Open In Colab\"/></a>"
      ]
    },
    {
      "cell_type": "markdown",
      "metadata": {
        "id": "BDT9i8QLzfXg"
      },
      "source": [
        "# 주제 : 성별과 웃음 여부를 동시에 판단하는 모델을 만들어보자\n",
        "--------------\n",
        "## 실습 가이드\n",
        "    1. 데이터를 다운로드하여 Colab에 불러옵니다.\n",
        "    2. 필요한 라이브러리는 모두 코드로 작성되어 있습니다.\n",
        "    3. 코드는 위에서부터 아래로 순서대로 실행합니다.\n",
        "    4. 전체 문제 구성은 좌측 첫 번째 아이콘을 통해 확인할 수 있습니다.\n",
        "\n",
        "## 데이터 소개\n",
        "    - 이번 주제의 데이터는 얼굴 데이터로 유명한 celeba dataset을 이용합니다.\n",
        "  ![celeba dataset](https://storage.googleapis.com/tfds-data/visualization/fig/celeb_a-2.0.1.png)\n",
        "\n",
        "     위의 이미지는 다음과 같은 것을 보여줍니다.  \n",
        "    - 10,177 개의 신원 \n",
        "    - 얼굴 이미지 수 202,599 개\n",
        "    - 5 개의 랜드 마크 위치, 이미지 당 40 개의 바이너리 속성 주석\n",
        "      - 성별\n",
        "      - 큰 코\n",
        "      - 매력적\n",
        "      - 젊음\n",
        "      - 웃음 여부\n",
        "      - 모자 착용 여부\n",
        "      - 안경 착요 여부\n",
        "      - etc\n",
        "\n",
        "\n",
        "\n",
        "- 데이터 출처:\n",
        " - [celeba dataset](https://www.tensorflow.org/datasets/catalog/celeb_a)\n",
        " - [celeba small](https://drive.google.com/file/d/1t2qIgpWdWX_n5OC8P2ZiDfPIQ98NY_PB/view?usp=sharing)\n",
        "\n",
        "## 최종 목표\n",
        "\n",
        "    - 작게 줄인 celeba 데이터를 이용하여 웃음, 성별 동시 구분\n",
        "    - 한 모델에서 여러 결과에 대한 분석을 하는 방법\n",
        "    - 큰 사진을 작게 줄이기\n",
        "\n",
        "* 출제자 : 손근영 강사\n",
        "---------------\n"
      ]
    },
    {
      "cell_type": "code",
      "metadata": {
        "id": "mUteMBoWzfXn"
      },
      "source": [
        "import tensorflow as tf\n",
        "from tensorflow import keras\n",
        "from keras.layers import Dense\n",
        "from keras.models import Sequential\n",
        "\n",
        "import pandas as pd\n",
        "import numpy as np\n",
        "import matplotlib.pyplot as plt\n",
        "import seaborn as sns\n",
        "import warnings \n",
        "from IPython.display import Image\n",
        "\n",
        "warnings.filterwarnings('ignore')\n",
        "%matplotlib inline\n",
        "\n",
        "SEED = 34\n"
      ],
      "execution_count": 18,
      "outputs": []
    },
    {
      "cell_type": "markdown",
      "metadata": {
        "id": "A5NviQ1BzfXo"
      },
      "source": [
        "## Step 1. 도입전 기본 처리"
      ]
    },
    {
      "cell_type": "markdown",
      "metadata": {
        "id": "EmGJVKBrzfXo"
      },
      "source": [
        "### 문제 1. tfds를 이용하여 데이터셋 사용하기"
      ]
    },
    {
      "cell_type": "code",
      "metadata": {
        "id": "vgjOE7bMzfXo",
        "colab": {
          "base_uri": "https://localhost:8080/"
        },
        "outputId": "a31e7cd0-bb50-4c22-829e-f2c10143c330"
      },
      "source": [
        "# tfds를 이용하여 데이터셋 사용하기\n",
        "\n",
        "import tensorflow_datasets as tfds\n",
        "tfds.list_builders() # Tensorflow datasets에 등록된 공개 데이터셋 조회"
      ],
      "execution_count": 5,
      "outputs": [
        {
          "output_type": "execute_result",
          "data": {
            "text/plain": [
              "['abstract_reasoning',\n",
              " 'accentdb',\n",
              " 'aeslc',\n",
              " 'aflw2k3d',\n",
              " 'ag_news_subset',\n",
              " 'ai2_arc',\n",
              " 'ai2_arc_with_ir',\n",
              " 'amazon_us_reviews',\n",
              " 'anli',\n",
              " 'arc',\n",
              " 'asset',\n",
              " 'assin2',\n",
              " 'bair_robot_pushing_small',\n",
              " 'bccd',\n",
              " 'beans',\n",
              " 'bee_dataset',\n",
              " 'big_patent',\n",
              " 'bigearthnet',\n",
              " 'billsum',\n",
              " 'binarized_mnist',\n",
              " 'binary_alpha_digits',\n",
              " 'blimp',\n",
              " 'booksum',\n",
              " 'bool_q',\n",
              " 'c4',\n",
              " 'caltech101',\n",
              " 'caltech_birds2010',\n",
              " 'caltech_birds2011',\n",
              " 'cardiotox',\n",
              " 'cars196',\n",
              " 'cassava',\n",
              " 'cats_vs_dogs',\n",
              " 'celeb_a',\n",
              " 'celeb_a_hq',\n",
              " 'cfq',\n",
              " 'cherry_blossoms',\n",
              " 'chexpert',\n",
              " 'cifar10',\n",
              " 'cifar100',\n",
              " 'cifar10_1',\n",
              " 'cifar10_corrupted',\n",
              " 'citrus_leaves',\n",
              " 'cityscapes',\n",
              " 'civil_comments',\n",
              " 'clevr',\n",
              " 'clic',\n",
              " 'clinc_oos',\n",
              " 'cmaterdb',\n",
              " 'cnn_dailymail',\n",
              " 'coco',\n",
              " 'coco_captions',\n",
              " 'coil100',\n",
              " 'colorectal_histology',\n",
              " 'colorectal_histology_large',\n",
              " 'common_voice',\n",
              " 'coqa',\n",
              " 'cos_e',\n",
              " 'cosmos_qa',\n",
              " 'covid19',\n",
              " 'covid19sum',\n",
              " 'crema_d',\n",
              " 'cs_restaurants',\n",
              " 'curated_breast_imaging_ddsm',\n",
              " 'cycle_gan',\n",
              " 'd4rl_adroit_door',\n",
              " 'd4rl_adroit_hammer',\n",
              " 'd4rl_adroit_pen',\n",
              " 'd4rl_adroit_relocate',\n",
              " 'd4rl_antmaze',\n",
              " 'd4rl_mujoco_ant',\n",
              " 'd4rl_mujoco_halfcheetah',\n",
              " 'd4rl_mujoco_hopper',\n",
              " 'd4rl_mujoco_walker2d',\n",
              " 'dart',\n",
              " 'davis',\n",
              " 'deep_weeds',\n",
              " 'definite_pronoun_resolution',\n",
              " 'dementiabank',\n",
              " 'diabetic_retinopathy_detection',\n",
              " 'diamonds',\n",
              " 'div2k',\n",
              " 'dmlab',\n",
              " 'doc_nli',\n",
              " 'dolphin_number_word',\n",
              " 'domainnet',\n",
              " 'downsampled_imagenet',\n",
              " 'drop',\n",
              " 'dsprites',\n",
              " 'dtd',\n",
              " 'duke_ultrasound',\n",
              " 'e2e_cleaned',\n",
              " 'efron_morris75',\n",
              " 'emnist',\n",
              " 'eraser_multi_rc',\n",
              " 'esnli',\n",
              " 'eurosat',\n",
              " 'fashion_mnist',\n",
              " 'flic',\n",
              " 'flores',\n",
              " 'food101',\n",
              " 'forest_fires',\n",
              " 'fuss',\n",
              " 'gap',\n",
              " 'geirhos_conflict_stimuli',\n",
              " 'gem',\n",
              " 'genomics_ood',\n",
              " 'german_credit_numeric',\n",
              " 'gigaword',\n",
              " 'glue',\n",
              " 'goemotions',\n",
              " 'gov_report',\n",
              " 'gpt3',\n",
              " 'gref',\n",
              " 'groove',\n",
              " 'gsm8k',\n",
              " 'gtzan',\n",
              " 'gtzan_music_speech',\n",
              " 'hellaswag',\n",
              " 'higgs',\n",
              " 'horses_or_humans',\n",
              " 'howell',\n",
              " 'i_naturalist2017',\n",
              " 'i_naturalist2018',\n",
              " 'imagenet2012',\n",
              " 'imagenet2012_corrupted',\n",
              " 'imagenet2012_multilabel',\n",
              " 'imagenet2012_real',\n",
              " 'imagenet2012_subset',\n",
              " 'imagenet_a',\n",
              " 'imagenet_lt',\n",
              " 'imagenet_r',\n",
              " 'imagenet_resized',\n",
              " 'imagenet_sketch',\n",
              " 'imagenet_v2',\n",
              " 'imagenette',\n",
              " 'imagewang',\n",
              " 'imdb_reviews',\n",
              " 'irc_disentanglement',\n",
              " 'iris',\n",
              " 'istella',\n",
              " 'kddcup99',\n",
              " 'kitti',\n",
              " 'kmnist',\n",
              " 'lambada',\n",
              " 'lfw',\n",
              " 'librispeech',\n",
              " 'librispeech_lm',\n",
              " 'libritts',\n",
              " 'ljspeech',\n",
              " 'lm1b',\n",
              " 'lost_and_found',\n",
              " 'lsun',\n",
              " 'lvis',\n",
              " 'malaria',\n",
              " 'math_dataset',\n",
              " 'math_qa',\n",
              " 'mctaco',\n",
              " 'mlqa',\n",
              " 'mnist',\n",
              " 'mnist_corrupted',\n",
              " 'movie_lens',\n",
              " 'movie_rationales',\n",
              " 'movielens',\n",
              " 'moving_mnist',\n",
              " 'mslr_web',\n",
              " 'multi_news',\n",
              " 'multi_nli',\n",
              " 'multi_nli_mismatch',\n",
              " 'natural_questions',\n",
              " 'natural_questions_open',\n",
              " 'newsroom',\n",
              " 'nsynth',\n",
              " 'nyu_depth_v2',\n",
              " 'ogbg_molpcba',\n",
              " 'omniglot',\n",
              " 'open_images_challenge2019_detection',\n",
              " 'open_images_v4',\n",
              " 'openbookqa',\n",
              " 'opinion_abstracts',\n",
              " 'opinosis',\n",
              " 'opus',\n",
              " 'oxford_flowers102',\n",
              " 'oxford_iiit_pet',\n",
              " 'para_crawl',\n",
              " 'pass',\n",
              " 'patch_camelyon',\n",
              " 'paws_wiki',\n",
              " 'paws_x_wiki',\n",
              " 'penguins',\n",
              " 'pet_finder',\n",
              " 'pg19',\n",
              " 'piqa',\n",
              " 'places365_small',\n",
              " 'plant_leaves',\n",
              " 'plant_village',\n",
              " 'plantae_k',\n",
              " 'protein_net',\n",
              " 'qa4mre',\n",
              " 'qasc',\n",
              " 'quac',\n",
              " 'quickdraw_bitmap',\n",
              " 'race',\n",
              " 'radon',\n",
              " 'reddit',\n",
              " 'reddit_disentanglement',\n",
              " 'reddit_tifu',\n",
              " 'ref_coco',\n",
              " 'resisc45',\n",
              " 'rlu_atari',\n",
              " 'rlu_atari_checkpoints',\n",
              " 'rlu_atari_checkpoints_ordered',\n",
              " 'rlu_dmlab_explore_object_rewards_few',\n",
              " 'rlu_dmlab_explore_object_rewards_many',\n",
              " 'rlu_dmlab_rooms_select_nonmatching_object',\n",
              " 'rlu_dmlab_rooms_watermaze',\n",
              " 'rlu_dmlab_seekavoid_arena01',\n",
              " 'rlu_rwrl',\n",
              " 'robonet',\n",
              " 'robosuite_panda_pick_place_can',\n",
              " 'rock_paper_scissors',\n",
              " 'rock_you',\n",
              " 's3o4d',\n",
              " 'salient_span_wikipedia',\n",
              " 'samsum',\n",
              " 'savee',\n",
              " 'scan',\n",
              " 'scene_parse150',\n",
              " 'schema_guided_dialogue',\n",
              " 'scicite',\n",
              " 'scientific_papers',\n",
              " 'sentiment140',\n",
              " 'shapes3d',\n",
              " 'siscore',\n",
              " 'smallnorb',\n",
              " 'smartwatch_gestures',\n",
              " 'snli',\n",
              " 'so2sat',\n",
              " 'speech_commands',\n",
              " 'spoken_digit',\n",
              " 'squad',\n",
              " 'squad_question_generation',\n",
              " 'stanford_dogs',\n",
              " 'stanford_online_products',\n",
              " 'star_cfq',\n",
              " 'starcraft_video',\n",
              " 'stl10',\n",
              " 'story_cloze',\n",
              " 'summscreen',\n",
              " 'sun397',\n",
              " 'super_glue',\n",
              " 'svhn_cropped',\n",
              " 'symmetric_solids',\n",
              " 'tao',\n",
              " 'ted_hrlr_translate',\n",
              " 'ted_multi_translate',\n",
              " 'tedlium',\n",
              " 'tf_flowers',\n",
              " 'the300w_lp',\n",
              " 'tiny_shakespeare',\n",
              " 'titanic',\n",
              " 'trec',\n",
              " 'trivia_qa',\n",
              " 'tydi_qa',\n",
              " 'uc_merced',\n",
              " 'ucf101',\n",
              " 'vctk',\n",
              " 'visual_domain_decathlon',\n",
              " 'voc',\n",
              " 'voxceleb',\n",
              " 'voxforge',\n",
              " 'waymo_open_dataset',\n",
              " 'web_nlg',\n",
              " 'web_questions',\n",
              " 'wider_face',\n",
              " 'wiki40b',\n",
              " 'wiki_auto',\n",
              " 'wiki_bio',\n",
              " 'wiki_table_questions',\n",
              " 'wiki_table_text',\n",
              " 'wikiann',\n",
              " 'wikihow',\n",
              " 'wikipedia',\n",
              " 'wikipedia_toxicity_subtypes',\n",
              " 'wine_quality',\n",
              " 'winogrande',\n",
              " 'wit',\n",
              " 'wit_kaggle',\n",
              " 'wmt13_translate',\n",
              " 'wmt14_translate',\n",
              " 'wmt15_translate',\n",
              " 'wmt16_translate',\n",
              " 'wmt17_translate',\n",
              " 'wmt18_translate',\n",
              " 'wmt19_translate',\n",
              " 'wmt_t2t_translate',\n",
              " 'wmt_translate',\n",
              " 'wordnet',\n",
              " 'wsc273',\n",
              " 'xnli',\n",
              " 'xquad',\n",
              " 'xsum',\n",
              " 'xtreme_pawsx',\n",
              " 'xtreme_xnli',\n",
              " 'yelp_polarity_reviews',\n",
              " 'yes_no',\n",
              " 'youtube_vis',\n",
              " 'huggingface:acronym_identification',\n",
              " 'huggingface:ade_corpus_v2',\n",
              " 'huggingface:adversarial_qa',\n",
              " 'huggingface:aeslc',\n",
              " 'huggingface:afrikaans_ner_corpus',\n",
              " 'huggingface:ag_news',\n",
              " 'huggingface:ai2_arc',\n",
              " 'huggingface:air_dialogue',\n",
              " 'huggingface:ajgt_twitter_ar',\n",
              " 'huggingface:allegro_reviews',\n",
              " 'huggingface:allocine',\n",
              " 'huggingface:alt',\n",
              " 'huggingface:amazon_polarity',\n",
              " 'huggingface:amazon_reviews_multi',\n",
              " 'huggingface:amazon_us_reviews',\n",
              " 'huggingface:ambig_qa',\n",
              " 'huggingface:americas_nli',\n",
              " 'huggingface:ami',\n",
              " 'huggingface:amttl',\n",
              " 'huggingface:anli',\n",
              " 'huggingface:app_reviews',\n",
              " 'huggingface:aqua_rat',\n",
              " 'huggingface:aquamuse',\n",
              " 'huggingface:ar_cov19',\n",
              " 'huggingface:ar_res_reviews',\n",
              " 'huggingface:ar_sarcasm',\n",
              " 'huggingface:arabic_billion_words',\n",
              " 'huggingface:arabic_pos_dialect',\n",
              " 'huggingface:arabic_speech_corpus',\n",
              " 'huggingface:arcd',\n",
              " 'huggingface:arsentd_lev',\n",
              " 'huggingface:art',\n",
              " 'huggingface:arxiv_dataset',\n",
              " 'huggingface:ascent_kb',\n",
              " 'huggingface:aslg_pc12',\n",
              " 'huggingface:asnq',\n",
              " 'huggingface:asset',\n",
              " 'huggingface:assin',\n",
              " 'huggingface:assin2',\n",
              " 'huggingface:atomic',\n",
              " 'huggingface:autshumato',\n",
              " 'huggingface:babi_qa',\n",
              " 'huggingface:banking77',\n",
              " 'huggingface:bbaw_egyptian',\n",
              " 'huggingface:bbc_hindi_nli',\n",
              " 'huggingface:bc2gm_corpus',\n",
              " 'huggingface:beans',\n",
              " 'huggingface:best2009',\n",
              " 'huggingface:bianet',\n",
              " 'huggingface:bible_para',\n",
              " 'huggingface:big_patent',\n",
              " 'huggingface:billsum',\n",
              " 'huggingface:bing_coronavirus_query_set',\n",
              " 'huggingface:biomrc',\n",
              " 'huggingface:biosses',\n",
              " 'huggingface:blbooksgenre',\n",
              " 'huggingface:blended_skill_talk',\n",
              " 'huggingface:blimp',\n",
              " 'huggingface:blog_authorship_corpus',\n",
              " 'huggingface:bn_hate_speech',\n",
              " 'huggingface:bookcorpus',\n",
              " 'huggingface:bookcorpusopen',\n",
              " 'huggingface:boolq',\n",
              " 'huggingface:bprec',\n",
              " 'huggingface:break_data',\n",
              " 'huggingface:brwac',\n",
              " 'huggingface:bsd_ja_en',\n",
              " 'huggingface:bswac',\n",
              " 'huggingface:c3',\n",
              " 'huggingface:c4',\n",
              " 'huggingface:cail2018',\n",
              " 'huggingface:caner',\n",
              " 'huggingface:capes',\n",
              " 'huggingface:casino',\n",
              " 'huggingface:catalonia_independence',\n",
              " 'huggingface:cats_vs_dogs',\n",
              " 'huggingface:cawac',\n",
              " 'huggingface:cbt',\n",
              " 'huggingface:cc100',\n",
              " 'huggingface:cc_news',\n",
              " 'huggingface:ccaligned_multilingual',\n",
              " 'huggingface:cdsc',\n",
              " 'huggingface:cdt',\n",
              " 'huggingface:cedr',\n",
              " 'huggingface:cfq',\n",
              " 'huggingface:chr_en',\n",
              " 'huggingface:cifar10',\n",
              " 'huggingface:cifar100',\n",
              " 'huggingface:circa',\n",
              " 'huggingface:civil_comments',\n",
              " 'huggingface:clickbait_news_bg',\n",
              " 'huggingface:climate_fever',\n",
              " 'huggingface:clinc_oos',\n",
              " 'huggingface:clue',\n",
              " 'huggingface:cmrc2018',\n",
              " 'huggingface:cmu_hinglish_dog',\n",
              " 'huggingface:cnn_dailymail',\n",
              " 'huggingface:coached_conv_pref',\n",
              " 'huggingface:coarse_discourse',\n",
              " 'huggingface:codah',\n",
              " 'huggingface:code_search_net',\n",
              " 'huggingface:code_x_glue_cc_clone_detection_big_clone_bench',\n",
              " 'huggingface:code_x_glue_cc_clone_detection_poj104',\n",
              " 'huggingface:code_x_glue_cc_cloze_testing_all',\n",
              " 'huggingface:code_x_glue_cc_cloze_testing_maxmin',\n",
              " 'huggingface:code_x_glue_cc_code_completion_line',\n",
              " 'huggingface:code_x_glue_cc_code_completion_token',\n",
              " 'huggingface:code_x_glue_cc_code_refinement',\n",
              " 'huggingface:code_x_glue_cc_code_to_code_trans',\n",
              " 'huggingface:code_x_glue_cc_defect_detection',\n",
              " 'huggingface:code_x_glue_ct_code_to_text',\n",
              " 'huggingface:code_x_glue_tc_nl_code_search_adv',\n",
              " 'huggingface:code_x_glue_tc_text_to_code',\n",
              " 'huggingface:code_x_glue_tt_text_to_text',\n",
              " 'huggingface:com_qa',\n",
              " 'huggingface:common_gen',\n",
              " 'huggingface:common_language',\n",
              " 'huggingface:common_voice',\n",
              " 'huggingface:commonsense_qa',\n",
              " 'huggingface:competition_math',\n",
              " 'huggingface:compguesswhat',\n",
              " 'huggingface:conceptnet5',\n",
              " 'huggingface:conll2000',\n",
              " 'huggingface:conll2002',\n",
              " 'huggingface:conll2003',\n",
              " 'huggingface:conllpp',\n",
              " 'huggingface:conv_ai',\n",
              " 'huggingface:conv_ai_2',\n",
              " 'huggingface:conv_ai_3',\n",
              " 'huggingface:conv_questions',\n",
              " 'huggingface:coqa',\n",
              " 'huggingface:cord19',\n",
              " 'huggingface:cornell_movie_dialog',\n",
              " 'huggingface:cos_e',\n",
              " 'huggingface:cosmos_qa',\n",
              " 'huggingface:counter',\n",
              " 'huggingface:covid_qa_castorini',\n",
              " 'huggingface:covid_qa_deepset',\n",
              " 'huggingface:covid_qa_ucsd',\n",
              " 'huggingface:covid_tweets_japanese',\n",
              " 'huggingface:covost2',\n",
              " 'huggingface:craigslist_bargains',\n",
              " 'huggingface:crawl_domain',\n",
              " 'huggingface:crd3',\n",
              " 'huggingface:crime_and_punish',\n",
              " 'huggingface:crows_pairs',\n",
              " 'huggingface:cryptonite',\n",
              " 'huggingface:cs_restaurants',\n",
              " 'huggingface:cuad',\n",
              " 'huggingface:curiosity_dialogs',\n",
              " 'huggingface:daily_dialog',\n",
              " 'huggingface:dane',\n",
              " 'huggingface:danish_political_comments',\n",
              " 'huggingface:dart',\n",
              " 'huggingface:datacommons_factcheck',\n",
              " 'huggingface:dbpedia_14',\n",
              " 'huggingface:dbrd',\n",
              " 'huggingface:deal_or_no_dialog',\n",
              " 'huggingface:definite_pronoun_resolution',\n",
              " 'huggingface:dengue_filipino',\n",
              " 'huggingface:dialog_re',\n",
              " 'huggingface:diplomacy_detection',\n",
              " 'huggingface:disaster_response_messages',\n",
              " 'huggingface:discofuse',\n",
              " 'huggingface:discovery',\n",
              " 'huggingface:disfl_qa',\n",
              " 'huggingface:doc2dial',\n",
              " 'huggingface:docred',\n",
              " 'huggingface:doqa',\n",
              " 'huggingface:dream',\n",
              " 'huggingface:drop',\n",
              " 'huggingface:duorc',\n",
              " 'huggingface:dutch_social',\n",
              " 'huggingface:dyk',\n",
              " 'huggingface:e2e_nlg',\n",
              " 'huggingface:e2e_nlg_cleaned',\n",
              " 'huggingface:ecb',\n",
              " 'huggingface:ecthr_cases',\n",
              " 'huggingface:eduge',\n",
              " 'huggingface:ehealth_kd',\n",
              " 'huggingface:eitb_parcc',\n",
              " 'huggingface:eli5',\n",
              " 'huggingface:eli5_category',\n",
              " 'huggingface:emea',\n",
              " 'huggingface:emo',\n",
              " 'huggingface:emotion',\n",
              " 'huggingface:emotone_ar',\n",
              " 'huggingface:empathetic_dialogues',\n",
              " 'huggingface:enriched_web_nlg',\n",
              " 'huggingface:eraser_multi_rc',\n",
              " 'huggingface:esnli',\n",
              " 'huggingface:eth_py150_open',\n",
              " 'huggingface:ethos',\n",
              " 'huggingface:eu_regulatory_ir',\n",
              " 'huggingface:eurlex',\n",
              " 'huggingface:euronews',\n",
              " 'huggingface:europa_eac_tm',\n",
              " 'huggingface:europa_ecdc_tm',\n",
              " 'huggingface:europarl_bilingual',\n",
              " 'huggingface:event2Mind',\n",
              " 'huggingface:evidence_infer_treatment',\n",
              " 'huggingface:exams',\n",
              " 'huggingface:factckbr',\n",
              " 'huggingface:fake_news_english',\n",
              " 'huggingface:fake_news_filipino',\n",
              " 'huggingface:farsi_news',\n",
              " 'huggingface:fashion_mnist',\n",
              " 'huggingface:fever',\n",
              " 'huggingface:few_rel',\n",
              " 'huggingface:financial_phrasebank',\n",
              " 'huggingface:finer',\n",
              " 'huggingface:flores',\n",
              " 'huggingface:flue',\n",
              " 'huggingface:food101',\n",
              " 'huggingface:fquad',\n",
              " 'huggingface:freebase_qa',\n",
              " 'huggingface:gap',\n",
              " 'huggingface:gem',\n",
              " 'huggingface:generated_reviews_enth',\n",
              " 'huggingface:generics_kb',\n",
              " 'huggingface:german_legal_entity_recognition',\n",
              " 'huggingface:germaner',\n",
              " 'huggingface:germeval_14',\n",
              " 'huggingface:giga_fren',\n",
              " 'huggingface:gigaword',\n",
              " 'huggingface:glucose',\n",
              " 'huggingface:glue',\n",
              " 'huggingface:gnad10',\n",
              " 'huggingface:go_emotions',\n",
              " 'huggingface:gooaq',\n",
              " 'huggingface:google_wellformed_query',\n",
              " 'huggingface:grail_qa',\n",
              " 'huggingface:great_code',\n",
              " 'huggingface:greek_legal_code',\n",
              " 'huggingface:guardian_authorship',\n",
              " 'huggingface:gutenberg_time',\n",
              " 'huggingface:hans',\n",
              " 'huggingface:hansards',\n",
              " 'huggingface:hard',\n",
              " 'huggingface:harem',\n",
              " 'huggingface:has_part',\n",
              " 'huggingface:hate_offensive',\n",
              " 'huggingface:hate_speech18',\n",
              " 'huggingface:hate_speech_filipino',\n",
              " 'huggingface:hate_speech_offensive',\n",
              " 'huggingface:hate_speech_pl',\n",
              " 'huggingface:hate_speech_portuguese',\n",
              " 'huggingface:hatexplain',\n",
              " 'huggingface:hausa_voa_ner',\n",
              " 'huggingface:hausa_voa_topics',\n",
              " 'huggingface:hda_nli_hindi',\n",
              " 'huggingface:head_qa',\n",
              " 'huggingface:health_fact',\n",
              " 'huggingface:hebrew_projectbenyehuda',\n",
              " 'huggingface:hebrew_sentiment',\n",
              " 'huggingface:hebrew_this_world',\n",
              " 'huggingface:hellaswag',\n",
              " 'huggingface:hendrycks_test',\n",
              " 'huggingface:hind_encorp',\n",
              " 'huggingface:hindi_discourse',\n",
              " 'huggingface:hippocorpus',\n",
              " 'huggingface:hkcancor',\n",
              " 'huggingface:hlgd',\n",
              " 'huggingface:hope_edi',\n",
              " 'huggingface:hotpot_qa',\n",
              " 'huggingface:hover',\n",
              " 'huggingface:hrenwac_para',\n",
              " 'huggingface:hrwac',\n",
              " 'huggingface:humicroedit',\n",
              " 'huggingface:hybrid_qa',\n",
              " 'huggingface:hyperpartisan_news_detection',\n",
              " 'huggingface:iapp_wiki_qa_squad',\n",
              " 'huggingface:id_clickbait',\n",
              " 'huggingface:id_liputan6',\n",
              " 'huggingface:id_nergrit_corpus',\n",
              " 'huggingface:id_newspapers_2018',\n",
              " 'huggingface:id_panl_bppt',\n",
              " 'huggingface:id_puisi',\n",
              " 'huggingface:igbo_english_machine_translation',\n",
              " 'huggingface:igbo_monolingual',\n",
              " 'huggingface:igbo_ner',\n",
              " 'huggingface:ilist',\n",
              " 'huggingface:imdb',\n",
              " 'huggingface:imdb_urdu_reviews',\n",
              " 'huggingface:imppres',\n",
              " 'huggingface:indic_glue',\n",
              " 'huggingface:indonli',\n",
              " 'huggingface:indonlu',\n",
              " 'huggingface:inquisitive_qg',\n",
              " 'huggingface:interpress_news_category_tr',\n",
              " 'huggingface:interpress_news_category_tr_lite',\n",
              " 'huggingface:irc_disentangle',\n",
              " 'huggingface:isixhosa_ner_corpus',\n",
              " 'huggingface:isizulu_ner_corpus',\n",
              " 'huggingface:iwslt2017',\n",
              " 'huggingface:jeopardy',\n",
              " 'huggingface:jfleg',\n",
              " 'huggingface:jigsaw_toxicity_pred',\n",
              " 'huggingface:jigsaw_unintended_bias',\n",
              " 'huggingface:jnlpba',\n",
              " 'huggingface:journalists_questions',\n",
              " 'huggingface:kan_hope',\n",
              " 'huggingface:kannada_news',\n",
              " 'huggingface:kd_conv',\n",
              " 'huggingface:kde4',\n",
              " 'huggingface:kelm',\n",
              " 'huggingface:kilt_tasks',\n",
              " 'huggingface:kilt_wikipedia',\n",
              " 'huggingface:kinnews_kirnews',\n",
              " 'huggingface:klue',\n",
              " 'huggingface:kor_3i4k',\n",
              " 'huggingface:kor_hate',\n",
              " 'huggingface:kor_ner',\n",
              " 'huggingface:kor_nli',\n",
              " 'huggingface:kor_nlu',\n",
              " 'huggingface:kor_qpair',\n",
              " 'huggingface:kor_sae',\n",
              " 'huggingface:kor_sarcasm',\n",
              " 'huggingface:labr',\n",
              " 'huggingface:lama',\n",
              " 'huggingface:lambada',\n",
              " 'huggingface:large_spanish_corpus',\n",
              " 'huggingface:laroseda',\n",
              " 'huggingface:lc_quad',\n",
              " 'huggingface:lener_br',\n",
              " 'huggingface:lex_glue',\n",
              " 'huggingface:liar',\n",
              " 'huggingface:librispeech_asr',\n",
              " 'huggingface:librispeech_lm',\n",
              " 'huggingface:limit',\n",
              " 'huggingface:lince',\n",
              " 'huggingface:linnaeus',\n",
              " 'huggingface:liveqa',\n",
              " 'huggingface:lj_speech',\n",
              " 'huggingface:lm1b',\n",
              " 'huggingface:lst20',\n",
              " 'huggingface:m_lama',\n",
              " 'huggingface:mac_morpho',\n",
              " 'huggingface:makhzan',\n",
              " 'huggingface:masakhaner',\n",
              " 'huggingface:math_dataset',\n",
              " 'huggingface:math_qa',\n",
              " 'huggingface:matinf',\n",
              " 'huggingface:mbpp',\n",
              " 'huggingface:mc4',\n",
              " 'huggingface:mc_taco',\n",
              " 'huggingface:md_gender_bias',\n",
              " 'huggingface:mdd',\n",
              " 'huggingface:med_hop',\n",
              " 'huggingface:medal',\n",
              " 'huggingface:medical_dialog',\n",
              " 'huggingface:medical_questions_pairs',\n",
              " 'huggingface:menyo20k_mt',\n",
              " 'huggingface:meta_woz',\n",
              " 'huggingface:metooma',\n",
              " 'huggingface:metrec',\n",
              " 'huggingface:miam',\n",
              " 'huggingface:mkb',\n",
              " 'huggingface:mkqa',\n",
              " 'huggingface:mlqa',\n",
              " 'huggingface:mlsum',\n",
              " 'huggingface:mnist',\n",
              " 'huggingface:mocha',\n",
              " 'huggingface:moroco',\n",
              " 'huggingface:movie_rationales',\n",
              " 'huggingface:mrqa',\n",
              " 'huggingface:ms_marco',\n",
              " 'huggingface:ms_terms',\n",
              " 'huggingface:msr_genomics_kbcomp',\n",
              " 'huggingface:msr_sqa',\n",
              " 'huggingface:msr_text_compression',\n",
              " 'huggingface:msr_zhen_translation_parity',\n",
              " 'huggingface:msra_ner',\n",
              " 'huggingface:mt_eng_vietnamese',\n",
              " 'huggingface:muchocine',\n",
              " 'huggingface:multi_booked',\n",
              " 'huggingface:multi_eurlex',\n",
              " 'huggingface:multi_news',\n",
              " 'huggingface:multi_nli',\n",
              " 'huggingface:multi_nli_mismatch',\n",
              " 'huggingface:multi_para_crawl',\n",
              " 'huggingface:multi_re_qa',\n",
              " 'huggingface:multi_woz_v22',\n",
              " 'huggingface:multi_x_science_sum',\n",
              " 'huggingface:multidoc2dial',\n",
              " 'huggingface:multilingual_librispeech',\n",
              " 'huggingface:mutual_friends',\n",
              " 'huggingface:mwsc',\n",
              " 'huggingface:myanmar_news',\n",
              " 'huggingface:narrativeqa',\n",
              " 'huggingface:narrativeqa_manual',\n",
              " 'huggingface:natural_questions',\n",
              " 'huggingface:ncbi_disease',\n",
              " 'huggingface:nchlt',\n",
              " 'huggingface:ncslgr',\n",
              " 'huggingface:nell',\n",
              " 'huggingface:neural_code_search',\n",
              " 'huggingface:news_commentary',\n",
              " 'huggingface:newsgroup',\n",
              " 'huggingface:newsph',\n",
              " 'huggingface:newsph_nli',\n",
              " 'huggingface:newspop',\n",
              " 'huggingface:newsqa',\n",
              " 'huggingface:newsroom',\n",
              " 'huggingface:nkjp-ner',\n",
              " 'huggingface:nli_tr',\n",
              " 'huggingface:nlu_evaluation_data',\n",
              " 'huggingface:norec',\n",
              " 'huggingface:norne',\n",
              " 'huggingface:norwegian_ner',\n",
              " 'huggingface:nq_open',\n",
              " 'huggingface:nsmc',\n",
              " 'huggingface:numer_sense',\n",
              " 'huggingface:numeric_fused_head',\n",
              " 'huggingface:oclar',\n",
              " 'huggingface:offcombr',\n",
              " 'huggingface:offenseval2020_tr',\n",
              " 'huggingface:offenseval_dravidian',\n",
              " 'huggingface:ofis_publik',\n",
              " 'huggingface:ohsumed',\n",
              " 'huggingface:ollie',\n",
              " 'huggingface:omp',\n",
              " 'huggingface:onestop_english',\n",
              " 'huggingface:onestop_qa',\n",
              " 'huggingface:open_subtitles',\n",
              " 'huggingface:openai_humaneval',\n",
              " 'huggingface:openbookqa',\n",
              " 'huggingface:openslr',\n",
              " 'huggingface:openwebtext',\n",
              " 'huggingface:opinosis',\n",
              " 'huggingface:opus100',\n",
              " 'huggingface:opus_books',\n",
              " 'huggingface:opus_dgt',\n",
              " 'huggingface:opus_dogc',\n",
              " 'huggingface:opus_elhuyar',\n",
              " 'huggingface:opus_euconst',\n",
              " 'huggingface:opus_finlex',\n",
              " 'huggingface:opus_fiskmo',\n",
              " 'huggingface:opus_gnome',\n",
              " 'huggingface:opus_infopankki',\n",
              " 'huggingface:opus_memat',\n",
              " 'huggingface:opus_montenegrinsubs',\n",
              " 'huggingface:opus_openoffice',\n",
              " 'huggingface:opus_paracrawl',\n",
              " 'huggingface:opus_rf',\n",
              " 'huggingface:opus_tedtalks',\n",
              " 'huggingface:opus_ubuntu',\n",
              " 'huggingface:opus_wikipedia',\n",
              " 'huggingface:opus_xhosanavy',\n",
              " 'huggingface:orange_sum',\n",
              " 'huggingface:oscar',\n",
              " 'huggingface:para_crawl',\n",
              " 'huggingface:para_pat',\n",
              " 'huggingface:parsinlu_reading_comprehension',\n",
              " 'huggingface:paws',\n",
              " 'huggingface:paws-x',\n",
              " 'huggingface:pec',\n",
              " 'huggingface:peer_read',\n",
              " 'huggingface:peoples_daily_ner',\n",
              " 'huggingface:per_sent',\n",
              " 'huggingface:persian_ner',\n",
              " 'huggingface:pg19',\n",
              " 'huggingface:php',\n",
              " 'huggingface:piaf',\n",
              " 'huggingface:pib',\n",
              " 'huggingface:piqa',\n",
              " 'huggingface:pn_summary',\n",
              " 'huggingface:poem_sentiment',\n",
              " 'huggingface:polemo2',\n",
              " 'huggingface:poleval2019_cyberbullying',\n",
              " 'huggingface:poleval2019_mt',\n",
              " 'huggingface:polsum',\n",
              " 'huggingface:polyglot_ner',\n",
              " 'huggingface:prachathai67k',\n",
              " 'huggingface:pragmeval',\n",
              " 'huggingface:proto_qa',\n",
              " 'huggingface:psc',\n",
              " 'huggingface:ptb_text_only',\n",
              " 'huggingface:pubmed',\n",
              " 'huggingface:pubmed_qa',\n",
              " 'huggingface:py_ast',\n",
              " 'huggingface:qa4mre',\n",
              " 'huggingface:qa_srl',\n",
              " 'huggingface:qa_zre',\n",
              " 'huggingface:qangaroo',\n",
              " 'huggingface:qanta',\n",
              " 'huggingface:qasc',\n",
              " 'huggingface:qasper',\n",
              " 'huggingface:qed',\n",
              " 'huggingface:qed_amara',\n",
              " 'huggingface:quac',\n",
              " 'huggingface:quail',\n",
              " 'huggingface:quarel',\n",
              " 'huggingface:quartz',\n",
              " 'huggingface:quora',\n",
              " 'huggingface:quoref',\n",
              " 'huggingface:race',\n",
              " 'huggingface:re_dial',\n",
              " 'huggingface:reasoning_bg',\n",
              " 'huggingface:recipe_nlg',\n",
              " 'huggingface:reclor',\n",
              " 'huggingface:reddit',\n",
              " 'huggingface:reddit_tifu',\n",
              " 'huggingface:refresd',\n",
              " 'huggingface:reuters21578',\n",
              " 'huggingface:riddle_sense',\n",
              " 'huggingface:ro_sent',\n",
              " 'huggingface:ro_sts',\n",
              " 'huggingface:ro_sts_parallel',\n",
              " 'huggingface:roman_urdu',\n",
              " 'huggingface:ronec',\n",
              " 'huggingface:ropes',\n",
              " 'huggingface:rotten_tomatoes',\n",
              " 'huggingface:russian_super_glue',\n",
              " 'huggingface:s2orc',\n",
              " 'huggingface:samsum',\n",
              " 'huggingface:sanskrit_classic',\n",
              " 'huggingface:saudinewsnet',\n",
              " 'huggingface:sberquad',\n",
              " 'huggingface:scan',\n",
              " 'huggingface:scb_mt_enth_2020',\n",
              " 'huggingface:schema_guided_dstc8',\n",
              " 'huggingface:scicite',\n",
              " 'huggingface:scielo',\n",
              " 'huggingface:scientific_papers',\n",
              " 'huggingface:scifact',\n",
              " 'huggingface:sciq',\n",
              " 'huggingface:scitail',\n",
              " 'huggingface:scitldr',\n",
              " 'huggingface:search_qa',\n",
              " 'huggingface:sede',\n",
              " 'huggingface:selqa',\n",
              " 'huggingface:sem_eval_2010_task_8',\n",
              " 'huggingface:sem_eval_2014_task_1',\n",
              " 'huggingface:sem_eval_2018_task_1',\n",
              " 'huggingface:sem_eval_2020_task_11',\n",
              " 'huggingface:sent_comp',\n",
              " 'huggingface:senti_lex',\n",
              " 'huggingface:senti_ws',\n",
              " 'huggingface:sentiment140',\n",
              " 'huggingface:sepedi_ner',\n",
              " 'huggingface:sesotho_ner_corpus',\n",
              " 'huggingface:setimes',\n",
              " 'huggingface:setswana_ner_corpus',\n",
              " 'huggingface:sharc',\n",
              " 'huggingface:sharc_modified',\n",
              " 'huggingface:sick',\n",
              " 'huggingface:silicone',\n",
              " 'huggingface:simple_questions_v2',\n",
              " 'huggingface:siswati_ner_corpus',\n",
              " 'huggingface:smartdata',\n",
              " 'huggingface:sms_spam',\n",
              " 'huggingface:snips_built_in_intents',\n",
              " 'huggingface:snli',\n",
              " 'huggingface:snow_simplified_japanese_corpus',\n",
              " 'huggingface:so_stacksample',\n",
              " 'huggingface:social_bias_frames',\n",
              " 'huggingface:social_i_qa',\n",
              " 'huggingface:sofc_materials_articles',\n",
              " 'huggingface:sogou_news',\n",
              " 'huggingface:spanish_billion_words',\n",
              " 'huggingface:spc',\n",
              " 'huggingface:species_800',\n",
              " 'huggingface:speech_commands',\n",
              " 'huggingface:spider',\n",
              " 'huggingface:squad',\n",
              " 'huggingface:squad_adversarial',\n",
              " 'huggingface:squad_es',\n",
              " 'huggingface:squad_it',\n",
              " 'huggingface:squad_kor_v1',\n",
              " 'huggingface:squad_kor_v2',\n",
              " 'huggingface:squad_v1_pt',\n",
              " 'huggingface:squad_v2',\n",
              " 'huggingface:squadshifts',\n",
              " 'huggingface:srwac',\n",
              " 'huggingface:sst',\n",
              " 'huggingface:stereoset',\n",
              " 'huggingface:story_cloze',\n",
              " 'huggingface:stsb_mt_sv',\n",
              " 'huggingface:stsb_multi_mt',\n",
              " 'huggingface:style_change_detection',\n",
              " 'huggingface:subjqa',\n",
              " 'huggingface:super_glue',\n",
              " 'huggingface:superb',\n",
              " 'huggingface:swag',\n",
              " 'huggingface:swahili',\n",
              " 'huggingface:swahili_news',\n",
              " 'huggingface:swda',\n",
              " 'huggingface:swedish_medical_ner',\n",
              " 'huggingface:swedish_ner_corpus',\n",
              " 'huggingface:swedish_reviews',\n",
              " 'huggingface:swiss_judgment_prediction',\n",
              " 'huggingface:tab_fact',\n",
              " 'huggingface:tamilmixsentiment',\n",
              " 'huggingface:tanzil',\n",
              " 'huggingface:tapaco',\n",
              " 'huggingface:tashkeela',\n",
              " 'huggingface:taskmaster1',\n",
              " 'huggingface:taskmaster2',\n",
              " 'huggingface:taskmaster3',\n",
              " 'huggingface:tatoeba',\n",
              " 'huggingface:ted_hrlr',\n",
              " 'huggingface:ted_iwlst2013',\n",
              " 'huggingface:ted_multi',\n",
              " 'huggingface:ted_talks_iwslt',\n",
              " 'huggingface:telugu_books',\n",
              " 'huggingface:telugu_news',\n",
              " 'huggingface:tep_en_fa_para',\n",
              " 'huggingface:thai_toxicity_tweet',\n",
              " 'huggingface:thainer',\n",
              " 'huggingface:thaiqa_squad',\n",
              " 'huggingface:thaisum',\n",
              " 'huggingface:the_pile',\n",
              " 'huggingface:the_pile_books3',\n",
              " 'huggingface:the_pile_openwebtext2',\n",
              " 'huggingface:the_pile_stack_exchange',\n",
              " 'huggingface:tilde_model',\n",
              " 'huggingface:time_dial',\n",
              " 'huggingface:times_of_india_news_headlines',\n",
              " 'huggingface:timit_asr',\n",
              " 'huggingface:tiny_shakespeare',\n",
              " 'huggingface:tlc',\n",
              " 'huggingface:tmu_gfm_dataset',\n",
              " 'huggingface:totto',\n",
              " 'huggingface:trec',\n",
              " 'huggingface:trivia_qa',\n",
              " 'huggingface:tsac',\n",
              " 'huggingface:ttc4900',\n",
              " 'huggingface:tunizi',\n",
              " 'huggingface:tuple_ie',\n",
              " 'huggingface:turk',\n",
              " 'huggingface:turkish_movie_sentiment',\n",
              " 'huggingface:turkish_ner',\n",
              " 'huggingface:turkish_product_reviews',\n",
              " 'huggingface:turkish_shrinked_ner',\n",
              " 'huggingface:turku_ner_corpus',\n",
              " 'huggingface:tweet_eval',\n",
              " 'huggingface:tweet_qa',\n",
              " 'huggingface:tweets_ar_en_parallel',\n",
              " 'huggingface:tweets_hate_speech_detection',\n",
              " 'huggingface:twi_text_c3',\n",
              " 'huggingface:twi_wordsim353',\n",
              " 'huggingface:tydiqa',\n",
              " 'huggingface:ubuntu_dialogs_corpus',\n",
              " 'huggingface:udhr',\n",
              " 'huggingface:um005',\n",
              " 'huggingface:un_ga',\n",
              " 'huggingface:un_multi',\n",
              " 'huggingface:un_pc',\n",
              " 'huggingface:universal_dependencies',\n",
              " 'huggingface:universal_morphologies',\n",
              " 'huggingface:urdu_fake_news',\n",
              " 'huggingface:urdu_sentiment_corpus',\n",
              " 'huggingface:vctk',\n",
              " 'huggingface:vivos',\n",
              " 'huggingface:web_nlg',\n",
              " 'huggingface:web_of_science',\n",
              " 'huggingface:web_questions',\n",
              " 'huggingface:weibo_ner',\n",
              " 'huggingface:wi_locness',\n",
              " 'huggingface:wiki40b',\n",
              " 'huggingface:wiki_asp',\n",
              " 'huggingface:wiki_atomic_edits',\n",
              " 'huggingface:wiki_auto',\n",
              " 'huggingface:wiki_bio',\n",
              " 'huggingface:wiki_dpr',\n",
              " 'huggingface:wiki_hop',\n",
              " 'huggingface:wiki_lingua',\n",
              " 'huggingface:wiki_movies',\n",
              " 'huggingface:wiki_qa',\n",
              " 'huggingface:wiki_qa_ar',\n",
              " 'huggingface:wiki_snippets',\n",
              " 'huggingface:wiki_source',\n",
              " 'huggingface:wiki_split',\n",
              " 'huggingface:wiki_summary',\n",
              " 'huggingface:wikiann',\n",
              " 'huggingface:wikicorpus',\n",
              " 'huggingface:wikihow',\n",
              " 'huggingface:wikipedia',\n",
              " 'huggingface:wikisql',\n",
              " 'huggingface:wikitext',\n",
              " 'huggingface:wikitext_tl39',\n",
              " 'huggingface:wili_2018',\n",
              " 'huggingface:wino_bias',\n",
              " 'huggingface:winograd_wsc',\n",
              " 'huggingface:winogrande',\n",
              " 'huggingface:wiqa',\n",
              " 'huggingface:wisesight1000',\n",
              " 'huggingface:wisesight_sentiment',\n",
              " 'huggingface:wmt14',\n",
              " 'huggingface:wmt15',\n",
              " 'huggingface:wmt16',\n",
              " 'huggingface:wmt17',\n",
              " 'huggingface:wmt18',\n",
              " ...]"
            ]
          },
          "metadata": {},
          "execution_count": 5
        }
      ]
    },
    {
      "cell_type": "markdown",
      "metadata": {
        "id": "MrGNvmdSzfXp"
      },
      "source": [
        "### 문제 2. celeba의 정보중 이용할 데이터만 추출"
      ]
    },
    {
      "cell_type": "code",
      "source": [
        "# celeba의 정보중 이용할 데이터만 추출\n",
        "celeb_a = tfds.load('celeb_a')"
      ],
      "metadata": {
        "id": "OMrftP4uazux"
      },
      "execution_count": null,
      "outputs": []
    },
    {
      "cell_type": "markdown",
      "metadata": {
        "id": "y2gc2vB8zfXp"
      },
      "source": [
        "### 문제 3. 데이터량 축소"
      ]
    },
    {
      "cell_type": "code",
      "metadata": {
        "id": "CerWeQM1zfXp"
      },
      "source": [
        "# 데이터량 축소"
      ],
      "execution_count": null,
      "outputs": []
    },
    {
      "cell_type": "markdown",
      "metadata": {
        "id": "6_IiB2H3zfXq"
      },
      "source": [
        "### 문제 4. 사전 저장된 celeba small 데이터 확인"
      ]
    },
    {
      "cell_type": "code",
      "metadata": {
        "id": "jeVP1QF4zfXq",
        "colab": {
          "base_uri": "https://localhost:8080/"
        },
        "outputId": "9678a090-939d-4f72-ee17-ad55ac9755ac"
      },
      "source": [
        "# 이미 저장된 celeba 데이터를 이용\n",
        "from google.colab import drive\n",
        "drive.mount('/gdrive', force_remount=True)"
      ],
      "execution_count": 9,
      "outputs": [
        {
          "output_type": "stream",
          "name": "stdout",
          "text": [
            "Mounted at /gdrive\n"
          ]
        }
      ]
    },
    {
      "cell_type": "code",
      "metadata": {
        "id": "vbICbiKPmKk2",
        "colab": {
          "base_uri": "https://localhost:8080/"
        },
        "outputId": "5d2790e2-2844-4a8f-c006-75694e895d06"
      },
      "source": [
        "#https://drive.google.com/file/d/1t2qIgpWdWX_n5OC8P2ZiDfPIQ98NY_PB/view?usp=sharing\n",
        "\n",
        "!gdown --id 1t2qIgpWdWX_n5OC8P2ZiDfPIQ98NY_PB"
      ],
      "execution_count": 10,
      "outputs": [
        {
          "output_type": "stream",
          "name": "stdout",
          "text": [
            "Downloading...\n",
            "From: https://drive.google.com/uc?id=1t2qIgpWdWX_n5OC8P2ZiDfPIQ98NY_PB\n",
            "To: /content/celeba_small.npz\n",
            "100% 174M/174M [00:00<00:00, 197MB/s]\n"
          ]
        }
      ]
    },
    {
      "cell_type": "code",
      "source": [
        "!ls -al /content/celeba_small.npz"
      ],
      "metadata": {
        "colab": {
          "base_uri": "https://localhost:8080/"
        },
        "id": "mjyPUcbHaFMA",
        "outputId": "858f3208-6d60-42f7-a315-c088a370a3e1"
      },
      "execution_count": 11,
      "outputs": [
        {
          "output_type": "stream",
          "name": "stdout",
          "text": [
            "-rw-r--r-- 1 root root 173961605 Jan  7 11:59 /content/celeba_small.npz\n"
          ]
        }
      ]
    },
    {
      "cell_type": "markdown",
      "metadata": {
        "id": "pFQzrtS9zfXr"
      },
      "source": [
        "### 문제 5. celeba_small 데이터 살펴보기"
      ]
    },
    {
      "cell_type": "code",
      "source": [
        "import numpy as np"
      ],
      "metadata": {
        "id": "n5qzFNsZaR2x"
      },
      "execution_count": 13,
      "outputs": []
    },
    {
      "cell_type": "code",
      "metadata": {
        "id": "il6cKcv4zfXr"
      },
      "source": [
        "# 데이터를 train에서 사람 이미지 한장과 label 정보 한개를 불러오는 코드를 작성해주세요. (x, y로 변수 대입)\n",
        "celeba_small = np.load('/content/celeba_small.npz')\n",
        "x = celeba_small['train_images'][3]\n",
        "y = celeba_small['train_labels'][3]"
      ],
      "execution_count": 14,
      "outputs": []
    },
    {
      "cell_type": "markdown",
      "metadata": {
        "id": "GCA5cjoczfXr"
      },
      "source": [
        "### 문제 6. x와 y의 shape을 출력해보세요."
      ]
    },
    {
      "cell_type": "code",
      "metadata": {
        "id": "VID5ngH3zfXr",
        "colab": {
          "base_uri": "https://localhost:8080/"
        },
        "outputId": "f9eb3639-021b-4735-db9c-f83bf4829cde"
      },
      "source": [
        "# 데이터의 크기를 shape 함수를 통해 출력해주세요.\n",
        "print(x.shape, y.shape)"
      ],
      "execution_count": 16,
      "outputs": [
        {
          "output_type": "stream",
          "name": "stdout",
          "text": [
            "(72, 59, 3) (2,)\n"
          ]
        }
      ]
    },
    {
      "cell_type": "markdown",
      "metadata": {
        "id": "oWWZjiR5zfXs"
      },
      "source": [
        "### 문제 7. x를 각각 plt를 통하여 출력하세요."
      ]
    },
    {
      "cell_type": "code",
      "metadata": {
        "id": "zCD8YxAFzfXs",
        "colab": {
          "base_uri": "https://localhost:8080/",
          "height": 285
        },
        "outputId": "2df7f3d6-a854-4f6a-8649-ac068548d87a"
      },
      "source": [
        "# x를 plt를 이용하여 출력하는 코드를 작성해보세요\n",
        "plt.imshow(x)\n",
        "plt.colorbar()\n",
        "plt.show()\n",
        "print(y)"
      ],
      "execution_count": 19,
      "outputs": [
        {
          "output_type": "display_data",
          "data": {
            "image/png": "[encoded data removed]",
            "text/plain": [
              "<Figure size 432x288 with 2 Axes>"
            ]
          },
          "metadata": {
            "needs_background": "light"
          }
        },
        {
          "output_type": "stream",
          "name": "stdout",
          "text": [
            "[1 1]\n"
          ]
        }
      ]
    },
    {
      "cell_type": "markdown",
      "metadata": {
        "id": "oblQdV_KzfXs"
      },
      "source": [
        "### 문제 8. celeba_small.npz 데이터에서 학습, 테스트 데이터를 로드하세요."
      ]
    },
    {
      "cell_type": "code",
      "metadata": {
        "id": "UbqJxnEKzfXs"
      },
      "source": [
        "# celeba_small.npz에서 train_images, test_images, train_labels, test_labels를 np array로 로드하세요.\n",
        "train_images = celeba_small['train_images']\n",
        "train_labels = celeba_small['train_labels']\n",
        "\n",
        "test_images = celeba_small['test_images']\n",
        "test_labels = celeba_small['test_labels']"
      ],
      "execution_count": 20,
      "outputs": []
    },
    {
      "cell_type": "markdown",
      "metadata": {
        "id": "7KrxMSX1zfXs"
      },
      "source": [
        "### 문제 9. train_images에서 0이 아닌 값들을 출력해보세요."
      ]
    },
    {
      "cell_type": "code",
      "metadata": {
        "id": "gzVkaWY_zfXs",
        "colab": {
          "base_uri": "https://localhost:8080/"
        },
        "outputId": "0134abe9-b344-451b-ccb5-ff0685770de6"
      },
      "source": [
        "# 하나의 이미지에 대한 모든 0이 아닌 값을 출력하는 코드를 작성하세요.\n",
        "train_images[train_images != 0][:10]"
      ],
      "execution_count": 21,
      "outputs": [
        {
          "output_type": "execute_result",
          "data": {
            "text/plain": [
              "array([0.02352941, 0.04313725, 0.05490196, 0.01960784, 0.03921569,\n",
              "       0.05490196, 0.01977401, 0.03921569, 0.05114656, 0.02352941])"
            ]
          },
          "metadata": {},
          "execution_count": 21
        }
      ]
    },
    {
      "cell_type": "markdown",
      "metadata": {
        "id": "ZHPt_38HzfXt"
      },
      "source": [
        "### 문제 10. train_images의 dtype을 출력해보세요."
      ]
    },
    {
      "cell_type": "code",
      "metadata": {
        "id": "U0CsxiLqzfXt",
        "colab": {
          "base_uri": "https://localhost:8080/"
        },
        "outputId": "04c62f4a-cf46-4c9f-8196-ebf3a5a85f40"
      },
      "source": [
        "# dtype을 이용하여 이미지의 np array type을 확인해보세요.\n",
        "train_images.dtype"
      ],
      "execution_count": 23,
      "outputs": [
        {
          "output_type": "execute_result",
          "data": {
            "text/plain": [
              "dtype('float64')"
            ]
          },
          "metadata": {},
          "execution_count": 23
        }
      ]
    },
    {
      "cell_type": "markdown",
      "metadata": {
        "id": "WTLJMKtgzfXt"
      },
      "source": [
        "## Step 2. 전처리"
      ]
    },
    {
      "cell_type": "markdown",
      "metadata": {
        "id": "RGSJWe6wzfXt"
      },
      "source": [
        "### 문제 11. 이미지 데이터의 범위 확인"
      ]
    },
    {
      "cell_type": "code",
      "metadata": {
        "id": "vmU5DLMWzfXt",
        "colab": {
          "base_uri": "https://localhost:8080/"
        },
        "outputId": "579f02d0-89bf-468c-d88e-39b571fe87f1"
      },
      "source": [
        "# train_images, train_labels의 shape과 dtype, 0이 아닌 숫자를 출력하는 코드를 작성하세요.\n",
        "print(train_images.shape, train_images.dtype)\n",
        "print(train_labels.shape, train_labels.dtype)\n",
        "\n",
        "print(test_images.shape, test_images.dtype)\n",
        "print(test_labels.shape, test_labels.dtype)"
      ],
      "execution_count": 24,
      "outputs": [
        {
          "output_type": "stream",
          "name": "stdout",
          "text": [
            "(2000, 72, 59, 3) float64\n",
            "(2000, 2) int8\n",
            "(200, 72, 59, 3) float64\n",
            "(200, 2) int8\n"
          ]
        }
      ]
    },
    {
      "cell_type": "markdown",
      "metadata": {
        "id": "UqAC_4r5zfXu"
      },
      "source": [
        "### 문제 12. images/labels 이미지 데이터의 최소/최대값을 출력"
      ]
    },
    {
      "cell_type": "code",
      "metadata": {
        "id": "ZYyRj1TkzfXu",
        "colab": {
          "base_uri": "https://localhost:8080/"
        },
        "outputId": "6b0a0393-851f-4583-c414-64b500f57256"
      },
      "source": [
        "# train/test 전체 데이터에서 각 images, labels의 min, max를 출력하는 코드를 작성하세요.\n",
        "print(train_images.min(), train_images.max())\n",
        "print(train_labels.min(), train_labels.max())"
      ],
      "execution_count": 25,
      "outputs": [
        {
          "output_type": "stream",
          "name": "stdout",
          "text": [
            "0.0 1.0\n",
            "0 1\n"
          ]
        }
      ]
    },
    {
      "cell_type": "markdown",
      "metadata": {
        "id": "IWWfvi8FzfXu"
      },
      "source": [
        "### 문제 13. labels의 shape을 (배치, 2)에서 (배치, 2), (배치, 2)으로 변경하세요. (배치, (성별,웃음)) => (배치, 남자, 여자), (배치, 웃음, 안웃음)"
      ]
    },
    {
      "cell_type": "code",
      "metadata": {
        "id": "wuSOXHEEzfXu",
        "colab": {
          "base_uri": "https://localhost:8080/"
        },
        "outputId": "83ac02bb-0e2d-4331-b3e8-2b71587b7241"
      },
      "source": [
        "# (배치, 2)의 labels shape을 (배치, 1)의 shape의 2개의 array로 분리하는 코드를 추가하세요.\n",
        "from tensorflow.keras.utils import to_categorical\n",
        "\n",
        "train_male_labels, train_smile_labels = np.split(train_labels, 2, axis=1)\n",
        "test_male_labels, test_smile_labels = np.split(test_labels, 2, axis=1)\n",
        "\n",
        "print(train_male_labels.shape, train_smile_labels.shape)\n",
        "print(train_male_labels[0], train_smile_labels[0], train_labels[0])"
      ],
      "execution_count": 27,
      "outputs": [
        {
          "output_type": "stream",
          "name": "stdout",
          "text": [
            "(2000, 1) (2000, 1)\n",
            "[0] [0] [0 0]\n"
          ]
        }
      ]
    },
    {
      "cell_type": "code",
      "source": [
        "train_male_labels = to_categorical(train_male_labels)\n",
        "train_smile_labels = to_categorical(train_smile_labels)\n",
        "\n",
        "test_male_labels = to_categorical(test_male_labels)\n",
        "test_smile_labels = to_categorical(test_smile_labels)"
      ],
      "metadata": {
        "id": "CRSv5xVldMFB"
      },
      "execution_count": 28,
      "outputs": []
    },
    {
      "cell_type": "code",
      "source": [
        "print(train_male_labels.shape, train_smile_labels.shape)\n",
        "print(test_male_labels.shape, test_smile_labels.shape)"
      ],
      "metadata": {
        "colab": {
          "base_uri": "https://localhost:8080/"
        },
        "id": "LR4Av9cydRw5",
        "outputId": "1219c473-0bb9-4712-d93b-9e5521843a51"
      },
      "execution_count": 29,
      "outputs": [
        {
          "output_type": "stream",
          "name": "stdout",
          "text": [
            "(2000, 2) (2000, 2)\n",
            "(200, 2) (200, 2)\n"
          ]
        }
      ]
    },
    {
      "cell_type": "markdown",
      "metadata": {
        "id": "8K0Z0kU8zfXu"
      },
      "source": [
        "### 문제 14. labels의 shape을 (배치, 2), (배치, 2)에서 (배치, 4)로 합쳐보세요."
      ]
    },
    {
      "cell_type": "code",
      "metadata": {
        "id": "b_fdgA-WzfXv",
        "colab": {
          "base_uri": "https://localhost:8080/"
        },
        "outputId": "b01e994e-0c82-45d9-c15e-b1330751025b"
      },
      "source": [
        "# (배치, 2), (배치, 2)의 labels를 (배치, 4)로 합치는 코드를 작성하세요.\n",
        "# (배치, 남성여부, 웃음여부) => (배치, 남성여부), (배치, 웃음여부) => (배치, 여자여부, 남자여부), (배치, 안웃음여부, 웃음여부) => (배치, 여자여부, 남자여부, 안웃음여부, 웃음여부)\n",
        "\n",
        "train_labels2 = np.concatenate([train_male_labels, train_smile_labels], axis = 1)\n",
        "test_labels2 = np.concatenate([test_male_labels, test_smile_labels], axis = 1)\n",
        "print(train_labels2.shape, test_labels2.shape)"
      ],
      "execution_count": 30,
      "outputs": [
        {
          "output_type": "stream",
          "name": "stdout",
          "text": [
            "(2000, 4) (200, 4)\n"
          ]
        }
      ]
    },
    {
      "cell_type": "markdown",
      "metadata": {
        "id": "3XcXNvJCzfXv"
      },
      "source": [
        "## Step 3. 시각화 방법"
      ]
    },
    {
      "cell_type": "markdown",
      "metadata": {
        "id": "E4-KNKc4zfXv"
      },
      "source": [
        "### 문제 15. train_image의 이미지를 5장 획득하여 (5, 세로, 가로, 3)의 shape을 출력하세요."
      ]
    },
    {
      "cell_type": "code",
      "metadata": {
        "id": "DNV-8ovuzfXv",
        "colab": {
          "base_uri": "https://localhost:8080/"
        },
        "outputId": "3cf6ddda-27c6-48b4-eabd-a0909a4d6d3b"
      },
      "source": [
        "# (배치, 세로, 가로, 3)인 train_images에서 (5, 세로, 가로, 3)을 획득하는 코드를 작성하세요.\n",
        "train_images[:5].shape"
      ],
      "execution_count": 31,
      "outputs": [
        {
          "output_type": "execute_result",
          "data": {
            "text/plain": [
              "(5, 72, 59, 3)"
            ]
          },
          "metadata": {},
          "execution_count": 31
        }
      ]
    },
    {
      "cell_type": "markdown",
      "metadata": {
        "id": "NEFpns-jzfXv"
      },
      "source": [
        "### 문제 16. 획득한 5장의 의미지를 (세로, 가로 * 5, 3)의 shape으로 변경해보세요."
      ]
    },
    {
      "cell_type": "code",
      "metadata": {
        "id": "SpajpXewzfXv",
        "colab": {
          "base_uri": "https://localhost:8080/",
          "height": 220
        },
        "outputId": "e6166767-10cc-4e35-a0c0-f5aca24ce019"
      },
      "source": [
        "# np.hstack은 height 방향의 배열을 풀어서 width 방향으로 연결해줍니다.\n",
        "# 해당 기능을 쓰면 (height, image_height, image_width, color)의 shape을 (image_height, image_width * height, color)으로 바꿔 줄 수 있습니다.\n",
        "# 코드를 작성해보세요.\n",
        "\n",
        "plt.imshow(np.hstack(train_images[:5]))\n",
        "plt.show()\n",
        "print(train_labels2[:5])"
      ],
      "execution_count": 32,
      "outputs": [
        {
          "output_type": "display_data",
          "data": {
            "image/png": "[encoded data removed]",
            "text/plain": [
              "<Figure size 432x288 with 1 Axes>"
            ]
          },
          "metadata": {
            "needs_background": "light"
          }
        },
        {
          "output_type": "stream",
          "name": "stdout",
          "text": [
            "[[1. 0. 1. 0.]\n",
            " [0. 1. 0. 1.]\n",
            " [0. 1. 1. 0.]\n",
            " [0. 1. 0. 1.]\n",
            " [0. 1. 0. 1.]]\n"
          ]
        }
      ]
    },
    {
      "cell_type": "markdown",
      "metadata": {
        "id": "cFn1q_0jzfXw"
      },
      "source": [
        "### 문제 17. np.hstack은 tensorflow에서 제공하는 방법이 아니므로 transpose 함수를 이용하여 (세로, 가로 * 5, 3)로 shape을 변경해보세요."
      ]
    },
    {
      "cell_type": "code",
      "metadata": {
        "id": "22VKC444zfXw",
        "colab": {
          "base_uri": "https://localhost:8080/"
        },
        "outputId": "6ff087d8-4691-40c9-c10c-1a6257f232d6"
      },
      "source": [
        "# transpose는 tensor의 axis를 섞는 기능을 합니다.\n",
        "# 해당 기능을 이용해서 (세로, 가로 * 5, 3)을 작성하는 코드를 작성해보세요.\n",
        "train_images[:5].transpose((1, 0, 2, 3)).reshape((72, -1, 3)).shape"
      ],
      "execution_count": 33,
      "outputs": [
        {
          "output_type": "execute_result",
          "data": {
            "text/plain": [
              "(72, 295, 3)"
            ]
          },
          "metadata": {},
          "execution_count": 33
        }
      ]
    },
    {
      "cell_type": "markdown",
      "metadata": {
        "id": "M4VjTp8FzfXw"
      },
      "source": [
        "### 문제 18. (72, 295, 3)이 된 tensor를 plt로 출력해보세요."
      ]
    },
    {
      "cell_type": "code",
      "metadata": {
        "id": "gMgv1J0-zfXw",
        "colab": {
          "base_uri": "https://localhost:8080/",
          "height": 133
        },
        "outputId": "d31f3f4a-013f-4a84-c685-56e51c956c25"
      },
      "source": [
        "# (72, 295, 3)의 이미지를 plt로 출력해보세요.\n",
        "plt.imshow(train_images[:5].transpose((1, 0, 2, 3)).reshape((72, -1, 3)))\n",
        "plt.show()"
      ],
      "execution_count": 34,
      "outputs": [
        {
          "output_type": "display_data",
          "data": {
            "image/png": "[encoded data removed]",
            "text/plain": [
              "<Figure size 432x288 with 1 Axes>"
            ]
          },
          "metadata": {
            "needs_background": "light"
          }
        }
      ]
    },
    {
      "cell_type": "markdown",
      "metadata": {
        "id": "aXxgfeGdzfXw"
      },
      "source": [
        "### 문제 19. smile, male label도 5개 출력해보세요."
      ]
    },
    {
      "cell_type": "code",
      "metadata": {
        "id": "cE5mCP_GzfXx",
        "colab": {
          "base_uri": "https://localhost:8080/",
          "height": 123
        },
        "outputId": "2fa0f9ba-fc4b-438e-f41e-241b454ffb8b"
      },
      "source": [
        "# smile, male label을 5개 출력하는 코드를 작성해보세요.\n",
        "for male, smile in zip(train_male_labels[:5], train_smile_labels[:5]):\n",
        "  print(male, smile)\n",
        "\n",
        "'''\n",
        "[[1. 0. 1. 0.]\n",
        " [0. 1. 0. 1.]\n",
        " [0. 1. 1. 0.]\n",
        " [0. 1. 0. 1.]\n",
        " [0. 1. 0. 1.]]\n",
        " '''"
      ],
      "execution_count": 35,
      "outputs": [
        {
          "output_type": "stream",
          "name": "stdout",
          "text": [
            "[1. 0.] [1. 0.]\n",
            "[0. 1.] [0. 1.]\n",
            "[0. 1.] [1. 0.]\n",
            "[0. 1.] [0. 1.]\n",
            "[0. 1.] [0. 1.]\n"
          ]
        },
        {
          "output_type": "execute_result",
          "data": {
            "application/vnd.google.colaboratory.intrinsic+json": {
              "type": "string"
            },
            "text/plain": [
              "'\\n[[1. 0. 1. 0.]\\n [0. 1. 0. 1.]\\n [0. 1. 1. 0.]\\n [0. 1. 0. 1.]\\n [0. 1. 0. 1.]]\\n '"
            ]
          },
          "metadata": {},
          "execution_count": 35
        }
      ]
    },
    {
      "cell_type": "markdown",
      "metadata": {
        "id": "4x0KU_BzzfXx"
      },
      "source": [
        "### 문제 20. smile, male이 각각 몇개 있는지 측정해보세요."
      ]
    },
    {
      "cell_type": "code",
      "metadata": {
        "id": "VDnSgzzKzfXx",
        "colab": {
          "base_uri": "https://localhost:8080/",
          "height": 294
        },
        "outputId": "01b5c0da-2c8f-4982-ac47-f33ee5f8b40c"
      },
      "source": [
        "# pandas를 smile, male이 각각 몇개 있는지 plt를 통하여 출력하는 코드를 작성하세요.\n",
        "df = pd.DataFrame(train_labels, columns = ['gender', 'smile'])\n",
        "df.groupby(['gender', 'smile']).size().unstack().plot(kind='bar', stacked=True)"
      ],
      "execution_count": 36,
      "outputs": [
        {
          "output_type": "execute_result",
          "data": {
            "text/plain": [
              "<matplotlib.axes._subplots.AxesSubplot at 0x7fedc0009690>"
            ]
          },
          "metadata": {},
          "execution_count": 36
        },
        {
          "output_type": "display_data",
          "data": {
            "image/png": "[encoded data removed]",
            "text/plain": [
              "<Figure size 432x288 with 1 Axes>"
            ]
          },
          "metadata": {
            "needs_background": "light"
          }
        }
      ]
    },
    {
      "cell_type": "markdown",
      "metadata": {
        "id": "odqpEsI0iH1f"
      },
      "source": [
        "## Step 4. 각각 모델링"
      ]
    },
    {
      "cell_type": "markdown",
      "metadata": {
        "id": "VRJJjjSLiH1h"
      },
      "source": [
        "### 문제 21. smile과 gender 학습셋을 각 각 처리하는 이미지 classification 모델 2개를 작성하세요. (단 label을 각각 따로 처리)"
      ]
    },
    {
      "cell_type": "code",
      "metadata": {
        "id": "-y-r6Wc0iH1h"
      },
      "source": [
        "# input (배치, 72, 59, 3), output (배치, 2)을 처리할 수 있는 모양의 모델 2개를 작성하세요.\n",
        "from keras.models import Model\n",
        "from keras.layers import Conv2D, MaxPool2D, Input, Dense, Flatten\n",
        "\n",
        "def simple_model():\n",
        "  inputs = Input((72, 59, 3))\n",
        "\n",
        "  x = Conv2D(32, 3, activation='relu')(inputs)\n",
        "  x = MaxPool2D(2)(x)\n",
        "  x = Conv2D(64, 3, activation='relu')(x)\n",
        "  x = MaxPool2D(2)(x)\n",
        "  x = Conv2D(64, 3, activation='relu')(x)\n",
        "  x = MaxPool2D(2)(x)\n",
        "\n",
        "  x = Flatten()(x)\n",
        "  x = Dense(64, activation='relu')(x)\n",
        "\n",
        "  outputs = Dense(2, activation='softmax')(x)\n",
        "  model = Model(inputs, outputs)\n",
        "  return model"
      ],
      "execution_count": 37,
      "outputs": []
    },
    {
      "cell_type": "markdown",
      "metadata": {
        "id": "wGQPwl5iiH1i"
      },
      "source": [
        "### 문제 22. 2개의 모델을 할당 받고 서머리를 출력해보세요."
      ]
    },
    {
      "cell_type": "code",
      "metadata": {
        "id": "Fxc4Uu7viH1i"
      },
      "source": [
        "# simple_model() 모델을 2번 할당 받고 서머리를 출력하는 코드를 작성하세요.\n",
        "gender_model = simple_model()\n",
        "smile_model = simple_model()"
      ],
      "execution_count": 38,
      "outputs": []
    },
    {
      "cell_type": "code",
      "source": [
        "gender_model.summary()"
      ],
      "metadata": {
        "colab": {
          "base_uri": "https://localhost:8080/"
        },
        "id": "QLZyiW2DfhUF",
        "outputId": "adf4168b-e774-44de-8955-37995d188f2e"
      },
      "execution_count": 39,
      "outputs": [
        {
          "output_type": "stream",
          "name": "stdout",
          "text": [
            "Model: \"model\"\n",
            "_________________________________________________________________\n",
            " Layer (type)                Output Shape              Param #   \n",
            "=================================================================\n",
            " input_1 (InputLayer)        [(None, 72, 59, 3)]       0         \n",
            "                                                                 \n",
            " conv2d (Conv2D)             (None, 70, 57, 32)        896       \n",
            "                                                                 \n",
            " max_pooling2d (MaxPooling2D  (None, 35, 28, 32)       0         \n",
            " )                                                               \n",
            "                                                                 \n",
            " conv2d_1 (Conv2D)           (None, 33, 26, 64)        18496     \n",
            "                                                                 \n",
            " max_pooling2d_1 (MaxPooling  (None, 16, 13, 64)       0         \n",
            " 2D)                                                             \n",
            "                                                                 \n",
            " conv2d_2 (Conv2D)           (None, 14, 11, 64)        36928     \n",
            "                                                                 \n",
            " max_pooling2d_2 (MaxPooling  (None, 7, 5, 64)         0         \n",
            " 2D)                                                             \n",
            "                                                                 \n",
            " flatten (Flatten)           (None, 2240)              0         \n",
            "                                                                 \n",
            " dense (Dense)               (None, 64)                143424    \n",
            "                                                                 \n",
            " dense_1 (Dense)             (None, 2)                 130       \n",
            "                                                                 \n",
            "=================================================================\n",
            "Total params: 199,874\n",
            "Trainable params: 199,874\n",
            "Non-trainable params: 0\n",
            "_________________________________________________________________\n"
          ]
        }
      ]
    },
    {
      "cell_type": "markdown",
      "metadata": {
        "id": "LVykKLdfiH1j"
      },
      "source": [
        "### 문제 23. 만든 모델에 로스와 옵티마이저, 메트릭을 설정하세요."
      ]
    },
    {
      "cell_type": "code",
      "metadata": {
        "id": "IQU8Qq6iiH1j"
      },
      "source": [
        "# 만든 모델에 loss는 categorical_crossentropy, optimizer는 adam 매트릭은 accuracy으로 설정하는 코드를 작성하세요.\n",
        "gender_model.compile(loss='categorical_crossentropy', optimizer='adam', metrics=['accuracy'])\n",
        "smile_model.compile(loss='categorical_crossentropy', optimizer='adam', metrics=['accuracy'])"
      ],
      "execution_count": 40,
      "outputs": []
    },
    {
      "cell_type": "markdown",
      "metadata": {
        "id": "vs4MHjKkiH1j"
      },
      "source": [
        "### 문제 24. 만든 모델에 train_images를 학습시켜 보세요."
      ]
    },
    {
      "cell_type": "code",
      "metadata": {
        "id": "UiYocbdmiH1j",
        "colab": {
          "base_uri": "https://localhost:8080/"
        },
        "outputId": "5917f796-a7f4-4159-f060-c8d062e37d3e"
      },
      "source": [
        "# train_images 학습시키고 15 epochs을 돌리고 그 진행 사항을 hist에 저장하는 코드를 작성하세요.\n",
        "gender_hist = gender_model.fit(train_images, train_male_labels, validation_data=(test_images, test_male_labels), epochs=15, verbose=1)"
      ],
      "execution_count": 41,
      "outputs": [
        {
          "output_type": "stream",
          "name": "stdout",
          "text": [
            "Epoch 1/15\n",
            "63/63 [==============================] - 9s 9ms/step - loss: 0.5659 - accuracy: 0.6965 - val_loss: 0.5144 - val_accuracy: 0.7500\n",
            "Epoch 2/15\n",
            "63/63 [==============================] - 0s 6ms/step - loss: 0.4069 - accuracy: 0.8250 - val_loss: 0.4197 - val_accuracy: 0.8500\n",
            "Epoch 3/15\n",
            "63/63 [==============================] - 0s 6ms/step - loss: 0.2735 - accuracy: 0.8890 - val_loss: 0.3351 - val_accuracy: 0.8600\n",
            "Epoch 4/15\n",
            "63/63 [==============================] - 0s 6ms/step - loss: 0.1984 - accuracy: 0.9190 - val_loss: 0.2393 - val_accuracy: 0.9250\n",
            "Epoch 5/15\n",
            "63/63 [==============================] - 0s 6ms/step - loss: 0.1419 - accuracy: 0.9460 - val_loss: 0.2201 - val_accuracy: 0.9350\n",
            "Epoch 6/15\n",
            "63/63 [==============================] - 0s 6ms/step - loss: 0.1127 - accuracy: 0.9575 - val_loss: 0.2317 - val_accuracy: 0.9050\n",
            "Epoch 7/15\n",
            "63/63 [==============================] - 0s 6ms/step - loss: 0.0896 - accuracy: 0.9685 - val_loss: 0.2307 - val_accuracy: 0.9400\n",
            "Epoch 8/15\n",
            "63/63 [==============================] - 0s 6ms/step - loss: 0.0725 - accuracy: 0.9750 - val_loss: 0.2793 - val_accuracy: 0.9100\n",
            "Epoch 9/15\n",
            "63/63 [==============================] - 0s 7ms/step - loss: 0.0523 - accuracy: 0.9805 - val_loss: 0.2583 - val_accuracy: 0.9400\n",
            "Epoch 10/15\n",
            "63/63 [==============================] - 0s 6ms/step - loss: 0.0411 - accuracy: 0.9880 - val_loss: 0.2914 - val_accuracy: 0.9200\n",
            "Epoch 11/15\n",
            "63/63 [==============================] - 0s 6ms/step - loss: 0.0353 - accuracy: 0.9885 - val_loss: 0.2986 - val_accuracy: 0.9350\n",
            "Epoch 12/15\n",
            "63/63 [==============================] - 0s 6ms/step - loss: 0.0210 - accuracy: 0.9940 - val_loss: 0.3250 - val_accuracy: 0.9100\n",
            "Epoch 13/15\n",
            "63/63 [==============================] - 0s 6ms/step - loss: 0.0081 - accuracy: 0.9990 - val_loss: 0.3341 - val_accuracy: 0.9350\n",
            "Epoch 14/15\n",
            "63/63 [==============================] - 0s 6ms/step - loss: 0.0083 - accuracy: 0.9995 - val_loss: 0.3831 - val_accuracy: 0.9300\n",
            "Epoch 15/15\n",
            "63/63 [==============================] - 0s 6ms/step - loss: 0.0098 - accuracy: 0.9980 - val_loss: 0.3211 - val_accuracy: 0.9400\n"
          ]
        }
      ]
    },
    {
      "cell_type": "code",
      "source": [
        "smile_hist = smile_model.fit(train_images, train_smile_labels, validation_data=(test_images, test_smile_labels), epochs=15, verbose=1)"
      ],
      "metadata": {
        "colab": {
          "base_uri": "https://localhost:8080/"
        },
        "id": "wH6kM-C1gLHM",
        "outputId": "a90fefe3-e02b-464f-cd63-e057f55f4f5e"
      },
      "execution_count": 42,
      "outputs": [
        {
          "output_type": "stream",
          "name": "stdout",
          "text": [
            "Epoch 1/15\n",
            "63/63 [==============================] - 1s 9ms/step - loss: 0.6860 - accuracy: 0.5590 - val_loss: 0.6681 - val_accuracy: 0.5650\n",
            "Epoch 2/15\n",
            "63/63 [==============================] - 0s 6ms/step - loss: 0.5816 - accuracy: 0.6880 - val_loss: 0.4499 - val_accuracy: 0.8350\n",
            "Epoch 3/15\n",
            "63/63 [==============================] - 0s 6ms/step - loss: 0.3914 - accuracy: 0.8245 - val_loss: 0.3244 - val_accuracy: 0.8750\n",
            "Epoch 4/15\n",
            "63/63 [==============================] - 0s 6ms/step - loss: 0.3228 - accuracy: 0.8605 - val_loss: 0.2963 - val_accuracy: 0.8750\n",
            "Epoch 5/15\n",
            "63/63 [==============================] - 0s 6ms/step - loss: 0.2743 - accuracy: 0.8805 - val_loss: 0.3139 - val_accuracy: 0.8850\n",
            "Epoch 6/15\n",
            "63/63 [==============================] - 0s 6ms/step - loss: 0.2545 - accuracy: 0.8905 - val_loss: 0.2455 - val_accuracy: 0.9100\n",
            "Epoch 7/15\n",
            "63/63 [==============================] - 0s 6ms/step - loss: 0.2094 - accuracy: 0.9125 - val_loss: 0.2369 - val_accuracy: 0.9050\n",
            "Epoch 8/15\n",
            "63/63 [==============================] - 0s 6ms/step - loss: 0.1772 - accuracy: 0.9285 - val_loss: 0.2293 - val_accuracy: 0.9100\n",
            "Epoch 9/15\n",
            "63/63 [==============================] - 0s 6ms/step - loss: 0.1577 - accuracy: 0.9395 - val_loss: 0.2415 - val_accuracy: 0.9050\n",
            "Epoch 10/15\n",
            "63/63 [==============================] - 0s 6ms/step - loss: 0.1382 - accuracy: 0.9475 - val_loss: 0.2437 - val_accuracy: 0.9000\n",
            "Epoch 11/15\n",
            "63/63 [==============================] - 0s 6ms/step - loss: 0.1244 - accuracy: 0.9505 - val_loss: 0.2287 - val_accuracy: 0.9150\n",
            "Epoch 12/15\n",
            "63/63 [==============================] - 0s 6ms/step - loss: 0.1003 - accuracy: 0.9585 - val_loss: 0.2975 - val_accuracy: 0.8800\n",
            "Epoch 13/15\n",
            "63/63 [==============================] - 0s 6ms/step - loss: 0.0879 - accuracy: 0.9650 - val_loss: 0.2729 - val_accuracy: 0.9200\n",
            "Epoch 14/15\n",
            "63/63 [==============================] - 0s 6ms/step - loss: 0.0515 - accuracy: 0.9830 - val_loss: 0.3069 - val_accuracy: 0.9100\n",
            "Epoch 15/15\n",
            "63/63 [==============================] - 0s 6ms/step - loss: 0.0653 - accuracy: 0.9760 - val_loss: 0.2623 - val_accuracy: 0.9250\n"
          ]
        }
      ]
    },
    {
      "cell_type": "markdown",
      "metadata": {
        "id": "gPfI5Io9iH1k"
      },
      "source": [
        "### 문제 25. 학습 진행 사항을 plt으로 출력하세요."
      ]
    },
    {
      "cell_type": "code",
      "metadata": {
        "id": "tYG-XR-DiH1k",
        "colab": {
          "base_uri": "https://localhost:8080/",
          "height": 265
        },
        "outputId": "a38a1a21-ee7f-44fa-cc5b-b012dfdd9723"
      },
      "source": [
        "# hist의 accuracy plt의 plot을 이용하여 출력하는 코드를 작성하세요.\n",
        "plt.plot(gender_hist.history['accuracy'], label = 'gender_accuracy')\n",
        "plt.plot(gender_hist.history['loss'], label = 'gender_loss')\n",
        "plt.plot(gender_hist.history['val_accuracy'], label = 'gender_val_accuracy')\n",
        "plt.plot(gender_hist.history['val_loss'], label = 'gender_val_loss')\n",
        "\n",
        "plt.legend(loc='uppder left')\n",
        "plt.show()"
      ],
      "execution_count": 44,
      "outputs": [
        {
          "output_type": "display_data",
          "data": {
            "image/png": "[encoded data removed]",
            "text/plain": [
              "<Figure size 432x288 with 1 Axes>"
            ]
          },
          "metadata": {
            "needs_background": "light"
          }
        }
      ]
    },
    {
      "cell_type": "code",
      "source": [
        "# hist의 accuracy plt의 plot을 이용하여 출력하는 코드를 작성하세요.\n",
        "plt.plot(smile_hist.history['accuracy'], label = 'smile_accuracy')\n",
        "plt.plot(smile_hist.history['loss'], label = 'smile_loss')\n",
        "plt.plot(smile_hist.history['val_accuracy'], label = 'smile_val_accuracy')\n",
        "plt.plot(smile_hist.history['val_loss'], label = 'smile_val_loss')\n",
        "\n",
        "plt.legend(loc='uppder left')\n",
        "plt.show()"
      ],
      "metadata": {
        "colab": {
          "base_uri": "https://localhost:8080/",
          "height": 265
        },
        "id": "kKvBNIsmgVW4",
        "outputId": "8a6f17a1-18f3-4911-f7b4-a1c46744cff4"
      },
      "execution_count": 45,
      "outputs": [
        {
          "output_type": "display_data",
          "data": {
            "image/png": "[encoded data removed]",
            "text/plain": [
              "<Figure size 432x288 with 1 Axes>"
            ]
          },
          "metadata": {
            "needs_background": "light"
          }
        }
      ]
    },
    {
      "cell_type": "markdown",
      "metadata": {
        "id": "HWwSu6rGiH1k"
      },
      "source": [
        "## Step 5. 결과 확인"
      ]
    },
    {
      "cell_type": "markdown",
      "metadata": {
        "id": "upv45GO-iH1k"
      },
      "source": [
        "### 문제 26. 완성된 모델에서 test_image를 1장 넣고 결과를 res 변수에 저정하세요."
      ]
    },
    {
      "cell_type": "code",
      "metadata": {
        "id": "JpeC60ONiH1l",
        "colab": {
          "base_uri": "https://localhost:8080/"
        },
        "outputId": "32a71cc7-e7ac-4c66-8de3-728ba8eb8b0f"
      },
      "source": [
        "# 모델에 test_mages 중 1장을 넣고 결과를 받는 코드를 작성하세요.\n",
        "gender_res = gender_model.predict(test_images[1:2])\n",
        "gender_res.shape"
      ],
      "execution_count": 59,
      "outputs": [
        {
          "output_type": "execute_result",
          "data": {
            "text/plain": [
              "(1, 2)"
            ]
          },
          "metadata": {},
          "execution_count": 59
        }
      ]
    },
    {
      "cell_type": "code",
      "source": [
        "smile_res = smile_model.predict(test_images[1:2])\n",
        "smile_res.shape"
      ],
      "metadata": {
        "colab": {
          "base_uri": "https://localhost:8080/"
        },
        "id": "EGjlSoSniSGg",
        "outputId": "40df0493-7a2a-4383-eb7c-01f06c8fadc0"
      },
      "execution_count": 60,
      "outputs": [
        {
          "output_type": "execute_result",
          "data": {
            "text/plain": [
              "(1, 2)"
            ]
          },
          "metadata": {},
          "execution_count": 60
        }
      ]
    },
    {
      "cell_type": "markdown",
      "metadata": {
        "id": "j-YjXYk_iH1l"
      },
      "source": [
        "### 문제 27. res와 test_images[1]을 plt로 출력하세요"
      ]
    },
    {
      "cell_type": "code",
      "metadata": {
        "id": "yo8smPFiiH1l",
        "colab": {
          "base_uri": "https://localhost:8080/",
          "height": 268
        },
        "outputId": "dbd43adb-bb88-47fe-e7c3-88183b6af8c4"
      },
      "source": [
        "# res와 test_images[1]을 print와 plt로 출력하는 코드를 작성하세요.\n",
        "plt.imshow(test_images[1])\n",
        "plt.show()"
      ],
      "execution_count": 61,
      "outputs": [
        {
          "output_type": "display_data",
          "data": {
            "image/png": "[encoded data removed]",
            "text/plain": [
              "<Figure size 432x288 with 1 Axes>"
            ]
          },
          "metadata": {
            "needs_background": "light"
          }
        }
      ]
    },
    {
      "cell_type": "markdown",
      "metadata": {
        "id": "eNkdDgr0zfX1"
      },
      "source": [
        "## Step 6. 멀티 아웃풋 모델링"
      ]
    },
    {
      "cell_type": "markdown",
      "metadata": {
        "id": "QG159d2rzfX1"
      },
      "source": [
        "### 문제 28. 해당 학습셋을 처리하는 이미지 classification 모델을 작성하세요. (단 label을 2개 동시에 처리)"
      ]
    },
    {
      "cell_type": "code",
      "metadata": {
        "id": "9wZKFa_QzfX1"
      },
      "source": [
        "# input (배치, 72, 59, 3), output (배치, 2)을 처리할 수 있는 모양의 모델을 작성하세요.\n",
        "from keras.models import Model\n",
        "from keras.layers import Conv2D, MaxPool2D, Input, Dense, Flatten, Concatenate\n",
        "\n",
        "def multi_model():\n",
        "  inputs = Input((72, 59, 3))\n",
        "\n",
        "  l1 = Conv2D(32, 3, activation='relu')(inputs)\n",
        "  l2 = MaxPool2D(2)(l1)\n",
        "  l3 = Conv2D(64, 3, activation='relu')(l2)\n",
        "  l4 = MaxPool2D(2)(l3)\n",
        "  l5 = Conv2D(64, 3, activation='relu')(l4)\n",
        "  l6 = MaxPool2D(2)(l5)\n",
        "  \n",
        "  l7 = Flatten()(l6)\n",
        "  latent_vector = Dense(64, activation='relu')(l7)\n",
        "\n",
        "  gender_outputs = Dense(2, activation='softmax')(latent_vector)\n",
        "  smile_outputs = Dense(2, activation='softmax')(latent_vector)\n",
        "\n",
        "  outputs = Concatenate(axis=1)([gender_outputs, smile_outputs])\n",
        "  model = Model(inputs, outputs)\n",
        "  #model = Model(inputs, [gender_outputs, smile_outputs])\n",
        "  return model"
      ],
      "execution_count": 62,
      "outputs": []
    },
    {
      "cell_type": "code",
      "source": [
        "model2 = multi_model()\n",
        "model2.summary()"
      ],
      "metadata": {
        "colab": {
          "base_uri": "https://localhost:8080/"
        },
        "id": "lZ2yQX4gjOGE",
        "outputId": "2390461a-04d9-42bf-de8b-626a0f3ea9cc"
      },
      "execution_count": 63,
      "outputs": [
        {
          "output_type": "stream",
          "name": "stdout",
          "text": [
            "Model: \"model_2\"\n",
            "__________________________________________________________________________________________________\n",
            " Layer (type)                   Output Shape         Param #     Connected to                     \n",
            "==================================================================================================\n",
            " input_3 (InputLayer)           [(None, 72, 59, 3)]  0           []                               \n",
            "                                                                                                  \n",
            " conv2d_6 (Conv2D)              (None, 70, 57, 32)   896         ['input_3[0][0]']                \n",
            "                                                                                                  \n",
            " max_pooling2d_6 (MaxPooling2D)  (None, 35, 28, 32)  0           ['conv2d_6[0][0]']               \n",
            "                                                                                                  \n",
            " conv2d_7 (Conv2D)              (None, 33, 26, 64)   18496       ['max_pooling2d_6[0][0]']        \n",
            "                                                                                                  \n",
            " max_pooling2d_7 (MaxPooling2D)  (None, 16, 13, 64)  0           ['conv2d_7[0][0]']               \n",
            "                                                                                                  \n",
            " conv2d_8 (Conv2D)              (None, 14, 11, 64)   36928       ['max_pooling2d_7[0][0]']        \n",
            "                                                                                                  \n",
            " max_pooling2d_8 (MaxPooling2D)  (None, 7, 5, 64)    0           ['conv2d_8[0][0]']               \n",
            "                                                                                                  \n",
            " flatten_2 (Flatten)            (None, 2240)         0           ['max_pooling2d_8[0][0]']        \n",
            "                                                                                                  \n",
            " dense_4 (Dense)                (None, 64)           143424      ['flatten_2[0][0]']              \n",
            "                                                                                                  \n",
            " dense_5 (Dense)                (None, 2)            130         ['dense_4[0][0]']                \n",
            "                                                                                                  \n",
            " dense_6 (Dense)                (None, 2)            130         ['dense_4[0][0]']                \n",
            "                                                                                                  \n",
            " concatenate (Concatenate)      (None, 4)            0           ['dense_5[0][0]',                \n",
            "                                                                  'dense_6[0][0]']                \n",
            "                                                                                                  \n",
            "==================================================================================================\n",
            "Total params: 200,004\n",
            "Trainable params: 200,004\n",
            "Non-trainable params: 0\n",
            "__________________________________________________________________________________________________\n"
          ]
        }
      ]
    },
    {
      "cell_type": "markdown",
      "metadata": {
        "id": "-caAUep7zfX2"
      },
      "source": [
        "### 문제 29. 모델을 할당 받고 서머리를 출력해보세요."
      ]
    },
    {
      "cell_type": "code",
      "metadata": {
        "id": "guruR7iezfX2",
        "colab": {
          "base_uri": "https://localhost:8080/"
        },
        "outputId": "db31f2c2-396c-4007-ea97-f88c1a6e36b5"
      },
      "source": [
        "# multi_model() 모델을 할당 받고 서머리를 출력하는 코드를 작성하세요.\n",
        "model = multi_model()\n",
        "model.summary()"
      ],
      "execution_count": 64,
      "outputs": [
        {
          "output_type": "stream",
          "name": "stdout",
          "text": [
            "Model: \"model_3\"\n",
            "__________________________________________________________________________________________________\n",
            " Layer (type)                   Output Shape         Param #     Connected to                     \n",
            "==================================================================================================\n",
            " input_4 (InputLayer)           [(None, 72, 59, 3)]  0           []                               \n",
            "                                                                                                  \n",
            " conv2d_9 (Conv2D)              (None, 70, 57, 32)   896         ['input_4[0][0]']                \n",
            "                                                                                                  \n",
            " max_pooling2d_9 (MaxPooling2D)  (None, 35, 28, 32)  0           ['conv2d_9[0][0]']               \n",
            "                                                                                                  \n",
            " conv2d_10 (Conv2D)             (None, 33, 26, 64)   18496       ['max_pooling2d_9[0][0]']        \n",
            "                                                                                                  \n",
            " max_pooling2d_10 (MaxPooling2D  (None, 16, 13, 64)  0           ['conv2d_10[0][0]']              \n",
            " )                                                                                                \n",
            "                                                                                                  \n",
            " conv2d_11 (Conv2D)             (None, 14, 11, 64)   36928       ['max_pooling2d_10[0][0]']       \n",
            "                                                                                                  \n",
            " max_pooling2d_11 (MaxPooling2D  (None, 7, 5, 64)    0           ['conv2d_11[0][0]']              \n",
            " )                                                                                                \n",
            "                                                                                                  \n",
            " flatten_3 (Flatten)            (None, 2240)         0           ['max_pooling2d_11[0][0]']       \n",
            "                                                                                                  \n",
            " dense_7 (Dense)                (None, 64)           143424      ['flatten_3[0][0]']              \n",
            "                                                                                                  \n",
            " dense_8 (Dense)                (None, 2)            130         ['dense_7[0][0]']                \n",
            "                                                                                                  \n",
            " dense_9 (Dense)                (None, 2)            130         ['dense_7[0][0]']                \n",
            "                                                                                                  \n",
            " concatenate_1 (Concatenate)    (None, 4)            0           ['dense_8[0][0]',                \n",
            "                                                                  'dense_9[0][0]']                \n",
            "                                                                                                  \n",
            "==================================================================================================\n",
            "Total params: 200,004\n",
            "Trainable params: 200,004\n",
            "Non-trainable params: 0\n",
            "__________________________________________________________________________________________________\n"
          ]
        }
      ]
    },
    {
      "cell_type": "markdown",
      "metadata": {
        "id": "lp8dbD_FzfX2"
      },
      "source": [
        "### 문제 30. 만든 모델에 로스와 옵티마이저, 메트릭을 설정하세요."
      ]
    },
    {
      "cell_type": "code",
      "metadata": {
        "id": "jXJEdlQ6zfX2"
      },
      "source": [
        "# 만든 모델에 loss는 categorical_crossentropy, optimizer는 adam 매트릭은 accuracy으로 설정하는 코드를 작성하세요.\n",
        "model.compile(loss='categorical_crossentropy', optimizer='adam', metrics=['accuracy'])"
      ],
      "execution_count": 65,
      "outputs": []
    },
    {
      "cell_type": "code",
      "source": [
        "# 만든 모델에 loss는 categorical_crossentropy, optimizer는 adam 매트릭은 accuracy으로 설정하는 코드를 작성하세요.\n",
        "model2.compile(loss='categorical_crossentropy', optimizer='adam', metrics=['accuracy'])"
      ],
      "metadata": {
        "id": "eyb4fncrjWNP"
      },
      "execution_count": 66,
      "outputs": []
    },
    {
      "cell_type": "markdown",
      "metadata": {
        "id": "_C6Nk21yzfX3"
      },
      "source": [
        "### 문제 31. 만든 모델에 train_images를 학습시켜 보세요."
      ]
    },
    {
      "cell_type": "code",
      "metadata": {
        "id": "kv4tEjc9zfX3",
        "colab": {
          "base_uri": "https://localhost:8080/"
        },
        "outputId": "99ab4a0d-242a-4aec-f713-5bc47cd8a5b3"
      },
      "source": [
        "# train_images 학습시키고 15 epochs을 돌리고 그 진행 사항을 hist에 저장하는 코드를 작성하세요.\n",
        "hist1 = model.fit(train_images, train_labels2, validation_data=(test_images, test_labels2), epochs=15, verbose=1)"
      ],
      "execution_count": 67,
      "outputs": [
        {
          "output_type": "stream",
          "name": "stdout",
          "text": [
            "Epoch 1/15\n",
            "63/63 [==============================] - 1s 9ms/step - loss: 2.6993 - accuracy: 0.4020 - val_loss: 2.6216 - val_accuracy: 0.5800\n",
            "Epoch 2/15\n",
            "63/63 [==============================] - 0s 6ms/step - loss: 2.5012 - accuracy: 0.6680 - val_loss: 2.4583 - val_accuracy: 0.6200\n",
            "Epoch 3/15\n",
            "63/63 [==============================] - 0s 6ms/step - loss: 2.2994 - accuracy: 0.6905 - val_loss: 2.2249 - val_accuracy: 0.6950\n",
            "Epoch 4/15\n",
            "63/63 [==============================] - 0s 6ms/step - loss: 2.1123 - accuracy: 0.7230 - val_loss: 2.1126 - val_accuracy: 0.6600\n",
            "Epoch 5/15\n",
            "63/63 [==============================] - 0s 6ms/step - loss: 1.9557 - accuracy: 0.7125 - val_loss: 2.0040 - val_accuracy: 0.6600\n",
            "Epoch 6/15\n",
            "63/63 [==============================] - 0s 6ms/step - loss: 1.8726 - accuracy: 0.6825 - val_loss: 1.9680 - val_accuracy: 0.6800\n",
            "Epoch 7/15\n",
            "63/63 [==============================] - 0s 6ms/step - loss: 1.7909 - accuracy: 0.6910 - val_loss: 1.9640 - val_accuracy: 0.6150\n",
            "Epoch 8/15\n",
            "63/63 [==============================] - 0s 6ms/step - loss: 1.7406 - accuracy: 0.6885 - val_loss: 1.9352 - val_accuracy: 0.6400\n",
            "Epoch 9/15\n",
            "63/63 [==============================] - 0s 6ms/step - loss: 1.7005 - accuracy: 0.6960 - val_loss: 1.9755 - val_accuracy: 0.5850\n",
            "Epoch 10/15\n",
            "63/63 [==============================] - 0s 6ms/step - loss: 1.6495 - accuracy: 0.7050 - val_loss: 2.0138 - val_accuracy: 0.6000\n",
            "Epoch 11/15\n",
            "63/63 [==============================] - 0s 6ms/step - loss: 1.6168 - accuracy: 0.7115 - val_loss: 2.0072 - val_accuracy: 0.6000\n",
            "Epoch 12/15\n",
            "63/63 [==============================] - 0s 6ms/step - loss: 1.5601 - accuracy: 0.7170 - val_loss: 2.0078 - val_accuracy: 0.6450\n",
            "Epoch 13/15\n",
            "63/63 [==============================] - 0s 6ms/step - loss: 1.5414 - accuracy: 0.7210 - val_loss: 2.0076 - val_accuracy: 0.6000\n",
            "Epoch 14/15\n",
            "63/63 [==============================] - 0s 6ms/step - loss: 1.5015 - accuracy: 0.7125 - val_loss: 2.1381 - val_accuracy: 0.6000\n",
            "Epoch 15/15\n",
            "63/63 [==============================] - 0s 6ms/step - loss: 1.4855 - accuracy: 0.7170 - val_loss: 2.0894 - val_accuracy: 0.6050\n"
          ]
        }
      ]
    },
    {
      "cell_type": "code",
      "source": [
        "# train_images 학습시키고 15 epochs을 돌리고 그 진행 사항을 hist에 저장하는 코드를 작성하세요.\n",
        "hist2 = model2.fit(train_images, train_labels2, validation_data=(test_images, test_labels2), epochs=15, verbose=1)"
      ],
      "metadata": {
        "colab": {
          "base_uri": "https://localhost:8080/"
        },
        "id": "bK10ws3OjcH6",
        "outputId": "f1704bf0-3b70-438f-b0f9-299ca90a0d6c"
      },
      "execution_count": 68,
      "outputs": [
        {
          "output_type": "stream",
          "name": "stdout",
          "text": [
            "Epoch 1/15\n",
            "63/63 [==============================] - 1s 8ms/step - loss: 2.6783 - accuracy: 0.5480 - val_loss: 2.5918 - val_accuracy: 0.6550\n",
            "Epoch 2/15\n",
            "63/63 [==============================] - 0s 6ms/step - loss: 2.4816 - accuracy: 0.6525 - val_loss: 2.4994 - val_accuracy: 0.6000\n",
            "Epoch 3/15\n",
            "63/63 [==============================] - 0s 6ms/step - loss: 2.2852 - accuracy: 0.6950 - val_loss: 2.2597 - val_accuracy: 0.6550\n",
            "Epoch 4/15\n",
            "63/63 [==============================] - 0s 6ms/step - loss: 2.0900 - accuracy: 0.6900 - val_loss: 2.1568 - val_accuracy: 0.5850\n",
            "Epoch 5/15\n",
            "63/63 [==============================] - 0s 6ms/step - loss: 1.9192 - accuracy: 0.6785 - val_loss: 1.9741 - val_accuracy: 0.5850\n",
            "Epoch 6/15\n",
            "63/63 [==============================] - 0s 6ms/step - loss: 1.8276 - accuracy: 0.6500 - val_loss: 1.9906 - val_accuracy: 0.5900\n",
            "Epoch 7/15\n",
            "63/63 [==============================] - 0s 6ms/step - loss: 1.8034 - accuracy: 0.6515 - val_loss: 2.0252 - val_accuracy: 0.6100\n",
            "Epoch 8/15\n",
            "63/63 [==============================] - 0s 6ms/step - loss: 1.7254 - accuracy: 0.6455 - val_loss: 1.9888 - val_accuracy: 0.6100\n",
            "Epoch 9/15\n",
            "63/63 [==============================] - 0s 6ms/step - loss: 1.6597 - accuracy: 0.6715 - val_loss: 1.9475 - val_accuracy: 0.5850\n",
            "Epoch 10/15\n",
            "63/63 [==============================] - 0s 6ms/step - loss: 1.6225 - accuracy: 0.6745 - val_loss: 1.9225 - val_accuracy: 0.6150\n",
            "Epoch 11/15\n",
            "63/63 [==============================] - 0s 6ms/step - loss: 1.5891 - accuracy: 0.6780 - val_loss: 1.9840 - val_accuracy: 0.6150\n",
            "Epoch 12/15\n",
            "63/63 [==============================] - 0s 6ms/step - loss: 1.5635 - accuracy: 0.6910 - val_loss: 2.0258 - val_accuracy: 0.6200\n",
            "Epoch 13/15\n",
            "63/63 [==============================] - 0s 6ms/step - loss: 1.5198 - accuracy: 0.6960 - val_loss: 1.9962 - val_accuracy: 0.6400\n",
            "Epoch 14/15\n",
            "63/63 [==============================] - 0s 6ms/step - loss: 1.5103 - accuracy: 0.7040 - val_loss: 2.0381 - val_accuracy: 0.6500\n",
            "Epoch 15/15\n",
            "63/63 [==============================] - 0s 6ms/step - loss: 1.4682 - accuracy: 0.7050 - val_loss: 2.1601 - val_accuracy: 0.6000\n"
          ]
        }
      ]
    },
    {
      "cell_type": "markdown",
      "metadata": {
        "id": "-gtWPhyAzfX3"
      },
      "source": [
        "### 문제 32. 학습 진행 사항을 plt으로 출력하세요."
      ]
    },
    {
      "cell_type": "code",
      "metadata": {
        "id": "63QWAg0lzfX3",
        "colab": {
          "base_uri": "https://localhost:8080/",
          "height": 265
        },
        "outputId": "e9b6f0ed-4023-43c5-9f47-f999adfa4396"
      },
      "source": [
        "# hist의 accuracy plt의 plot을 이용하여 출력하는 코드를 작성하세요.\n",
        "plt.plot(hist1.history['accuracy'], label = 'accuracy')\n",
        "plt.plot(hist1.history['loss'], label = 'loss')\n",
        "plt.plot(hist1.history['val_accuracy'], label = 'val_accuracy')\n",
        "plt.plot(hist1.history['val_loss'], label = 'val_loss')\n",
        "plt.legend(loc='uppder left')\n",
        "plt.show()"
      ],
      "execution_count": 69,
      "outputs": [
        {
          "output_type": "display_data",
          "data": {
            "image/png": "[encoded data removed]",
            "text/plain": [
              "<Figure size 432x288 with 1 Axes>"
            ]
          },
          "metadata": {
            "needs_background": "light"
          }
        }
      ]
    },
    {
      "cell_type": "markdown",
      "metadata": {
        "id": "xQOMfXQOzfX4"
      },
      "source": [
        "## Step 7. 결과 확인"
      ]
    },
    {
      "cell_type": "markdown",
      "metadata": {
        "id": "yWMu-OUGzfX4"
      },
      "source": [
        "### 문제 33. 완성된 모델에서 test_image를 1장 넣고 결과를 res 변수에 저정하세요."
      ]
    },
    {
      "cell_type": "code",
      "metadata": {
        "id": "nvBz3eCEzfX4",
        "colab": {
          "base_uri": "https://localhost:8080/"
        },
        "outputId": "94670f5b-6cad-454b-8305-43462e079124"
      },
      "source": [
        "# 모델에 test_mages 중 1장을 넣고 결과를 받는 코드를 작성하세요.\n",
        "res = model2.predict(test_images[3:4])\n",
        "print(len(res))"
      ],
      "execution_count": 76,
      "outputs": [
        {
          "output_type": "stream",
          "name": "stdout",
          "text": [
            "1\n"
          ]
        }
      ]
    },
    {
      "cell_type": "code",
      "source": [
        "res2 = model.predict(test_images[3:4])\n",
        "print(res2.shape)"
      ],
      "metadata": {
        "colab": {
          "base_uri": "https://localhost:8080/"
        },
        "id": "Z7azQZW1j206",
        "outputId": "ea2bc506-6122-46d1-a0d7-ce72f16a2408"
      },
      "execution_count": 72,
      "outputs": [
        {
          "output_type": "stream",
          "name": "stdout",
          "text": [
            "(1, 4)\n"
          ]
        }
      ]
    },
    {
      "cell_type": "markdown",
      "metadata": {
        "id": "I5UrN6nizfX4"
      },
      "source": [
        "### 문제 34. res와 test_images[1]을 plt로 출력하세요"
      ]
    },
    {
      "cell_type": "code",
      "metadata": {
        "id": "zvcDEcvJzfX5",
        "colab": {
          "base_uri": "https://localhost:8080/",
          "height": 268
        },
        "outputId": "0d5e5134-5b43-4859-e16a-0f9d10f75c6b"
      },
      "source": [
        "# res와 test_images[1]을 print와 plt로 출력하는 코드를 작성하세요.\n",
        "plt.imshow(test_images[3])\n",
        "plt.show()"
      ],
      "execution_count": 73,
      "outputs": [
        {
          "output_type": "display_data",
          "data": {
            "image/png": "[encoded data removed]",
            "text/plain": [
              "<Figure size 432x288 with 1 Axes>"
            ]
          },
          "metadata": {
            "needs_background": "light"
          }
        }
      ]
    },
    {
      "cell_type": "markdown",
      "metadata": {
        "id": "UiIBTxMizfX5"
      },
      "source": [
        "## Step 8. 모델 분리"
      ]
    },
    {
      "cell_type": "markdown",
      "metadata": {
        "id": "AXCh44v4zfX5"
      },
      "source": [
        "###문제 35. model의 뒷단을 수정하여 성별 모델을 분리해보세요."
      ]
    },
    {
      "cell_type": "code",
      "metadata": {
        "id": "uTZWyAQKzfX5",
        "colab": {
          "base_uri": "https://localhost:8080/"
        },
        "outputId": "eaa8fe49-0824-4ef5-bc15-bd2b1ee2b762"
      },
      "source": [
        "# model의 뒷단을 수정하여 성별 모델을 분리하고 모델 정보를 확인하는 코드를 작성하세요.\n",
        "gender_model2 = Model(inputs = model2.input, outputs = model2.get_layer('dense_5').output)\n",
        "gender_model2.summary()"
      ],
      "execution_count": 80,
      "outputs": [
        {
          "output_type": "stream",
          "name": "stdout",
          "text": [
            "Model: \"model_5\"\n",
            "_________________________________________________________________\n",
            " Layer (type)                Output Shape              Param #   \n",
            "=================================================================\n",
            " input_3 (InputLayer)        [(None, 72, 59, 3)]       0         \n",
            "                                                                 \n",
            " conv2d_6 (Conv2D)           (None, 70, 57, 32)        896       \n",
            "                                                                 \n",
            " max_pooling2d_6 (MaxPooling  (None, 35, 28, 32)       0         \n",
            " 2D)                                                             \n",
            "                                                                 \n",
            " conv2d_7 (Conv2D)           (None, 33, 26, 64)        18496     \n",
            "                                                                 \n",
            " max_pooling2d_7 (MaxPooling  (None, 16, 13, 64)       0         \n",
            " 2D)                                                             \n",
            "                                                                 \n",
            " conv2d_8 (Conv2D)           (None, 14, 11, 64)        36928     \n",
            "                                                                 \n",
            " max_pooling2d_8 (MaxPooling  (None, 7, 5, 64)         0         \n",
            " 2D)                                                             \n",
            "                                                                 \n",
            " flatten_2 (Flatten)         (None, 2240)              0         \n",
            "                                                                 \n",
            " dense_4 (Dense)             (None, 64)                143424    \n",
            "                                                                 \n",
            " dense_5 (Dense)             (None, 2)                 130       \n",
            "                                                                 \n",
            "=================================================================\n",
            "Total params: 199,874\n",
            "Trainable params: 199,874\n",
            "Non-trainable params: 0\n",
            "_________________________________________________________________\n"
          ]
        }
      ]
    },
    {
      "cell_type": "markdown",
      "metadata": {
        "id": "m_bmyR1FzfX6"
      },
      "source": [
        "### 문제 36. 성별모델에서 테스트 데이터 확인"
      ]
    },
    {
      "cell_type": "code",
      "metadata": {
        "id": "AHhv_4NDzfX6",
        "colab": {
          "base_uri": "https://localhost:8080/"
        },
        "outputId": "d7278acd-a883-440a-e546-f5861b3e7458"
      },
      "source": [
        "# 성별모델에서 테스트 데이터 확인\n",
        "x = gender_model2.predict(test_images[0:1])\n",
        "x.argmax()"
      ],
      "execution_count": 81,
      "outputs": [
        {
          "output_type": "stream",
          "name": "stdout",
          "text": [
            "WARNING:tensorflow:5 out of the last 16 calls to <function Model.make_predict_function.<locals>.predict_function at 0x7fed2c0449e0> triggered tf.function retracing. Tracing is expensive and the excessive number of tracings could be due to (1) creating @tf.function repeatedly in a loop, (2) passing tensors with different shapes, (3) passing Python objects instead of tensors. For (1), please define your @tf.function outside of the loop. For (2), @tf.function has experimental_relax_shapes=True option that relaxes argument shapes that can avoid unnecessary retracing. For (3), please refer to https://www.tensorflow.org/guide/function#controlling_retracing and https://www.tensorflow.org/api_docs/python/tf/function for  more details.\n"
          ]
        },
        {
          "output_type": "stream",
          "name": "stderr",
          "text": [
            "WARNING:tensorflow:5 out of the last 16 calls to <function Model.make_predict_function.<locals>.predict_function at 0x7fed2c0449e0> triggered tf.function retracing. Tracing is expensive and the excessive number of tracings could be due to (1) creating @tf.function repeatedly in a loop, (2) passing tensors with different shapes, (3) passing Python objects instead of tensors. For (1), please define your @tf.function outside of the loop. For (2), @tf.function has experimental_relax_shapes=True option that relaxes argument shapes that can avoid unnecessary retracing. For (3), please refer to https://www.tensorflow.org/guide/function#controlling_retracing and https://www.tensorflow.org/api_docs/python/tf/function for  more details.\n"
          ]
        },
        {
          "output_type": "execute_result",
          "data": {
            "text/plain": [
              "1"
            ]
          },
          "metadata": {},
          "execution_count": 81
        }
      ]
    },
    {
      "cell_type": "markdown",
      "metadata": {
        "id": "agZArRLlzfX6"
      },
      "source": [
        "### 문제 37. 뒷단을 수정하여 smile 모델을 분리해보세요."
      ]
    },
    {
      "cell_type": "code",
      "metadata": {
        "id": "teSP_OdezfX7",
        "colab": {
          "base_uri": "https://localhost:8080/"
        },
        "outputId": "c0a5c623-1f8b-4681-a661-e0b470b2a0aa"
      },
      "source": [
        "# model의 뒷단을 수정하여 smile 모델을 분리하고 정보를 확인하는 코드를 작성하세요.\n",
        "smile_model2 = Model(inputs = model2.input, outputs = model2.get_layer('dense_6').output)\n",
        "smile_model2.summary()"
      ],
      "execution_count": 82,
      "outputs": [
        {
          "output_type": "stream",
          "name": "stdout",
          "text": [
            "Model: \"model_6\"\n",
            "_________________________________________________________________\n",
            " Layer (type)                Output Shape              Param #   \n",
            "=================================================================\n",
            " input_3 (InputLayer)        [(None, 72, 59, 3)]       0         \n",
            "                                                                 \n",
            " conv2d_6 (Conv2D)           (None, 70, 57, 32)        896       \n",
            "                                                                 \n",
            " max_pooling2d_6 (MaxPooling  (None, 35, 28, 32)       0         \n",
            " 2D)                                                             \n",
            "                                                                 \n",
            " conv2d_7 (Conv2D)           (None, 33, 26, 64)        18496     \n",
            "                                                                 \n",
            " max_pooling2d_7 (MaxPooling  (None, 16, 13, 64)       0         \n",
            " 2D)                                                             \n",
            "                                                                 \n",
            " conv2d_8 (Conv2D)           (None, 14, 11, 64)        36928     \n",
            "                                                                 \n",
            " max_pooling2d_8 (MaxPooling  (None, 7, 5, 64)         0         \n",
            " 2D)                                                             \n",
            "                                                                 \n",
            " flatten_2 (Flatten)         (None, 2240)              0         \n",
            "                                                                 \n",
            " dense_4 (Dense)             (None, 64)                143424    \n",
            "                                                                 \n",
            " dense_6 (Dense)             (None, 2)                 130       \n",
            "                                                                 \n",
            "=================================================================\n",
            "Total params: 199,874\n",
            "Trainable params: 199,874\n",
            "Non-trainable params: 0\n",
            "_________________________________________________________________\n"
          ]
        }
      ]
    },
    {
      "cell_type": "markdown",
      "metadata": {
        "id": "JtnyEsMJzfX7"
      },
      "source": [
        "### 문제 38. 스마일 모델에서 테스트 데이터 확인"
      ]
    },
    {
      "cell_type": "code",
      "metadata": {
        "id": "g_n7kPKVzfX7",
        "colab": {
          "base_uri": "https://localhost:8080/"
        },
        "outputId": "faca5513-07ad-4241-efe6-7d06e573a9ea"
      },
      "source": [
        "# 스마일 모델에서 테스트 데이터 확인\n",
        "x1 = gender_model2.predict(test_images[0:1])\n",
        "x1.argmax()"
      ],
      "execution_count": 83,
      "outputs": [
        {
          "output_type": "execute_result",
          "data": {
            "text/plain": [
              "1"
            ]
          },
          "metadata": {},
          "execution_count": 83
        }
      ]
    },
    {
      "cell_type": "markdown",
      "metadata": {
        "id": "TQqVbazVzfX7"
      },
      "source": [
        "## Step 9. 통합 모델 저장 및 로드, 다운"
      ]
    },
    {
      "cell_type": "markdown",
      "metadata": {
        "id": "o1xMDORMzfX7"
      },
      "source": [
        "### 문제 39. 모델을 저장하세요."
      ]
    },
    {
      "cell_type": "code",
      "metadata": {
        "id": "8SHvKArNzfX8"
      },
      "source": [
        "# 모델을 저장하는 코드를 작성하세요.\n",
        "model2.save(\"./lecture004.h5\")"
      ],
      "execution_count": 84,
      "outputs": []
    },
    {
      "cell_type": "markdown",
      "metadata": {
        "id": "CaDQG8wwzfX8"
      },
      "source": [
        "### 문제 40. 모델 파일을 새로운 모델에 로드하세요."
      ]
    },
    {
      "cell_type": "code",
      "metadata": {
        "id": "WjgDiXdPzfX8"
      },
      "source": [
        "# 모델을 로드하는 코드를 작성하세요.\n",
        "model3 = tf.keras.models.load_model('./lecture004.h5')"
      ],
      "execution_count": 85,
      "outputs": []
    },
    {
      "cell_type": "markdown",
      "metadata": {
        "id": "RxNAgeE-zfX8"
      },
      "source": [
        "### 문제 41. 로드한 모델을 test 데이터로 평가해보세요.\n"
      ]
    },
    {
      "cell_type": "markdown",
      "metadata": {
        "id": "5Cn2goDdzfX8"
      },
      "source": [
        "### 문제 42. 모델을 내 컴퓨터에 저장해보세요"
      ]
    },
    {
      "cell_type": "code",
      "metadata": {
        "id": "JJVvgXCZzfX8"
      },
      "source": [
        "# 모델을 내 컴퓨터에 저장해보세요.\n",
        "from google.colab import files\n",
        "files.download('./lecture004.h5')"
      ],
      "execution_count": null,
      "outputs": []
    }
  ]
}