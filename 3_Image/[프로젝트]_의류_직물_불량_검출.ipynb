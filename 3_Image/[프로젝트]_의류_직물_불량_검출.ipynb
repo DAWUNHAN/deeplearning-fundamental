{
  "nbformat": 4,
  "nbformat_minor": 0,
  "metadata": {
    "colab": {
      "name": "[프로젝트] 의류 직물 불량 검출.ipynb",
      "provenance": [],
      "collapsed_sections": [],
      "authorship_tag": "ABX9TyOQh47D/lShxEjLXc/bB7ZO",
      "include_colab_link": true
    },
    "kernelspec": {
      "name": "python3",
      "display_name": "Python 3"
    },
    "language_info": {
      "name": "python"
    },
    "accelerator": "GPU"
  },
  "cells": [
    {
      "cell_type": "markdown",
      "metadata": {
        "id": "view-in-github",
        "colab_type": "text"
      },
      "source": [
        "<a href=\"https://colab.research.google.com/github/DAWUNHAN/deeplearning-fundamental/blob/master/3_Image/%5B%ED%94%84%EB%A1%9C%EC%A0%9D%ED%8A%B8%5D_%EC%9D%98%EB%A5%98_%EC%A7%81%EB%AC%BC_%EB%B6%88%EB%9F%89_%EA%B2%80%EC%B6%9C.ipynb\" target=\"_parent\"><img src=\"https://colab.research.google.com/assets/colab-badge.svg\" alt=\"Open In Colab\"/></a>"
      ]
    },
    {
      "cell_type": "markdown",
      "source": [
        "# Dataset\n",
        "- 데이터셋 출처 : AITEX (https://www.aitex.es/afid/)\n",
        "- [데이터셋 다운로드](https://www.aitex.es/afid/)"
      ],
      "metadata": {
        "id": "prEpFOerbuKQ"
      }
    },
    {
      "cell_type": "code",
      "execution_count": 1,
      "metadata": {
        "colab": {
          "base_uri": "https://localhost:8080/"
        },
        "id": "bWrLHFlVbqrp",
        "outputId": "fc3a5360-0436-441b-f2e8-fa1b66302e18"
      },
      "outputs": [
        {
          "output_type": "stream",
          "name": "stdout",
          "text": [
            "Drive already mounted at /content/drive; to attempt to forcibly remount, call drive.mount(\"/content/drive\", force_remount=True).\n"
          ]
        }
      ],
      "source": [
        "from google.colab import drive\n",
        "drive.mount('/content/drive')"
      ]
    },
    {
      "cell_type": "code",
      "source": [
        "!pip install opencv-python"
      ],
      "metadata": {
        "colab": {
          "base_uri": "https://localhost:8080/"
        },
        "id": "_JGoUW_kbxYh",
        "outputId": "d51777e1-2c94-4ab3-bac5-82250e1b6710"
      },
      "execution_count": 2,
      "outputs": [
        {
          "output_type": "stream",
          "name": "stdout",
          "text": [
            "Requirement already satisfied: opencv-python in /usr/local/lib/python3.7/dist-packages (4.1.2.30)\n",
            "Requirement already satisfied: numpy>=1.14.5 in /usr/local/lib/python3.7/dist-packages (from opencv-python) (1.19.5)\n"
          ]
        }
      ]
    },
    {
      "cell_type": "code",
      "source": [
        "import cv2\n",
        "import os\n",
        "import glob\n",
        "import shutil\n",
        "import random\n",
        "import string\n",
        "import numpy as np\n",
        "import tensorflow as tf"
      ],
      "metadata": {
        "id": "mug9l0Qhb6mt"
      },
      "execution_count": 5,
      "outputs": []
    },
    {
      "cell_type": "code",
      "source": [
        "# 이미지 데이터 절대 경로\n",
        "PATH_DEFECT = '/content/drive/MyDrive/Colab Notebooks/data/fabric_factory/Defect_images/'\n",
        "PATH_NODEFECT = '/content/drive/MyDrive/Colab Notebooks/data/fabric_factory/Fail_Defect_Images/'"
      ],
      "metadata": {
        "id": "Z0VrVitbb5Xs"
      },
      "execution_count": 3,
      "outputs": []
    },
    {
      "cell_type": "code",
      "source": [
        "# 이미지 데이터 가져오기 및 라벨링\n",
        "import os\n",
        "\n",
        "paths = []\n",
        "label_divide = []\n",
        "\n",
        "for dirname, _, filenames in os.walk(PATH_DEFECT):\n",
        "  for filename in filenames:\n",
        "    file_path = dirname + filename\n",
        "    paths.append(file_path)\n",
        "    label_divide.append('OK')\n",
        "\n",
        "for dirname, _, filenames in os.walk(PATH_NODEFECT):\n",
        "  for filename in filenames:\n",
        "    file_path = dirname+filename\n",
        "    paths.append(file_path)\n",
        "    label_divide.append('FAIL')"
      ],
      "metadata": {
        "id": "4oun3zHPpQV_"
      },
      "execution_count": 8,
      "outputs": []
    },
    {
      "cell_type": "code",
      "source": [
        "# 데이터를 dataframe에 담기\n",
        "import pandas as pd\n",
        "\n",
        "pd.set_option('display.max_colwidth', 200)\n",
        "\n",
        "data_df = pd.DataFrame({'path':paths, 'label':label_divide})\n",
        "print('data_df shape:', data_df.shape)\n",
        "data_df.tail(5)"
      ],
      "metadata": {
        "colab": {
          "base_uri": "https://localhost:8080/",
          "height": 224
        },
        "id": "IN3eCo2KrAOa",
        "outputId": "639b37c3-3c8a-4c1f-f95d-c0f89cc73454"
      },
      "execution_count": 9,
      "outputs": [
        {
          "output_type": "stream",
          "name": "stdout",
          "text": [
            "data_df shape: (247, 2)\n"
          ]
        },
        {
          "output_type": "execute_result",
          "data": {
            "text/html": [
              "\n",
              "  <div id=\"df-b479218c-8c9d-4f93-ba71-fe3721aadfd7\">\n",
              "    <div class=\"colab-df-container\">\n",
              "      <div>\n",
              "<style scoped>\n",
              "    .dataframe tbody tr th:only-of-type {\n",
              "        vertical-align: middle;\n",
              "    }\n",
              "\n",
              "    .dataframe tbody tr th {\n",
              "        vertical-align: top;\n",
              "    }\n",
              "\n",
              "    .dataframe thead th {\n",
              "        text-align: right;\n",
              "    }\n",
              "</style>\n",
              "<table border=\"1\" class=\"dataframe\">\n",
              "  <thead>\n",
              "    <tr style=\"text-align: right;\">\n",
              "      <th></th>\n",
              "      <th>path</th>\n",
              "      <th>label</th>\n",
              "    </tr>\n",
              "  </thead>\n",
              "  <tbody>\n",
              "    <tr>\n",
              "      <th>242</th>\n",
              "      <td>/content/drive/MyDrive/Colab Notebooks/data/fabric_factory/Fail_Defect_Images/0015_000_02.png</td>\n",
              "      <td>FAIL</td>\n",
              "    </tr>\n",
              "    <tr>\n",
              "      <th>243</th>\n",
              "      <td>/content/drive/MyDrive/Colab Notebooks/data/fabric_factory/Fail_Defect_Images/0016_000_02.png</td>\n",
              "      <td>FAIL</td>\n",
              "    </tr>\n",
              "    <tr>\n",
              "      <th>244</th>\n",
              "      <td>/content/drive/MyDrive/Colab Notebooks/data/fabric_factory/Fail_Defect_Images/0014_000_02.png</td>\n",
              "      <td>FAIL</td>\n",
              "    </tr>\n",
              "    <tr>\n",
              "      <th>245</th>\n",
              "      <td>/content/drive/MyDrive/Colab Notebooks/data/fabric_factory/Fail_Defect_Images/0013_000_02.png</td>\n",
              "      <td>FAIL</td>\n",
              "    </tr>\n",
              "    <tr>\n",
              "      <th>246</th>\n",
              "      <td>/content/drive/MyDrive/Colab Notebooks/data/fabric_factory/Fail_Defect_Images/0011_000_02.png</td>\n",
              "      <td>FAIL</td>\n",
              "    </tr>\n",
              "  </tbody>\n",
              "</table>\n",
              "</div>\n",
              "      <button class=\"colab-df-convert\" onclick=\"convertToInteractive('df-b479218c-8c9d-4f93-ba71-fe3721aadfd7')\"\n",
              "              title=\"Convert this dataframe to an interactive table.\"\n",
              "              style=\"display:none;\">\n",
              "        \n",
              "  <svg xmlns=\"http://www.w3.org/2000/svg\" height=\"24px\"viewBox=\"0 0 24 24\"\n",
              "       width=\"24px\">\n",
              "    <path d=\"M0 0h24v24H0V0z\" fill=\"none\"/>\n",
              "    <path d=\"M18.56 5.44l.94 2.06.94-2.06 2.06-.94-2.06-.94-.94-2.06-.94 2.06-2.06.94zm-11 1L8.5 8.5l.94-2.06 2.06-.94-2.06-.94L8.5 2.5l-.94 2.06-2.06.94zm10 10l.94 2.06.94-2.06 2.06-.94-2.06-.94-.94-2.06-.94 2.06-2.06.94z\"/><path d=\"M17.41 7.96l-1.37-1.37c-.4-.4-.92-.59-1.43-.59-.52 0-1.04.2-1.43.59L10.3 9.45l-7.72 7.72c-.78.78-.78 2.05 0 2.83L4 21.41c.39.39.9.59 1.41.59.51 0 1.02-.2 1.41-.59l7.78-7.78 2.81-2.81c.8-.78.8-2.07 0-2.86zM5.41 20L4 18.59l7.72-7.72 1.47 1.35L5.41 20z\"/>\n",
              "  </svg>\n",
              "      </button>\n",
              "      \n",
              "  <style>\n",
              "    .colab-df-container {\n",
              "      display:flex;\n",
              "      flex-wrap:wrap;\n",
              "      gap: 12px;\n",
              "    }\n",
              "\n",
              "    .colab-df-convert {\n",
              "      background-color: #E8F0FE;\n",
              "      border: none;\n",
              "      border-radius: 50%;\n",
              "      cursor: pointer;\n",
              "      display: none;\n",
              "      fill: #1967D2;\n",
              "      height: 32px;\n",
              "      padding: 0 0 0 0;\n",
              "      width: 32px;\n",
              "    }\n",
              "\n",
              "    .colab-df-convert:hover {\n",
              "      background-color: #E2EBFA;\n",
              "      box-shadow: 0px 1px 2px rgba(60, 64, 67, 0.3), 0px 1px 3px 1px rgba(60, 64, 67, 0.15);\n",
              "      fill: #174EA6;\n",
              "    }\n",
              "\n",
              "    [theme=dark] .colab-df-convert {\n",
              "      background-color: #3B4455;\n",
              "      fill: #D2E3FC;\n",
              "    }\n",
              "\n",
              "    [theme=dark] .colab-df-convert:hover {\n",
              "      background-color: #434B5C;\n",
              "      box-shadow: 0px 1px 3px 1px rgba(0, 0, 0, 0.15);\n",
              "      filter: drop-shadow(0px 1px 2px rgba(0, 0, 0, 0.3));\n",
              "      fill: #FFFFFF;\n",
              "    }\n",
              "  </style>\n",
              "\n",
              "      <script>\n",
              "        const buttonEl =\n",
              "          document.querySelector('#df-b479218c-8c9d-4f93-ba71-fe3721aadfd7 button.colab-df-convert');\n",
              "        buttonEl.style.display =\n",
              "          google.colab.kernel.accessAllowed ? 'block' : 'none';\n",
              "\n",
              "        async function convertToInteractive(key) {\n",
              "          const element = document.querySelector('#df-b479218c-8c9d-4f93-ba71-fe3721aadfd7');\n",
              "          const dataTable =\n",
              "            await google.colab.kernel.invokeFunction('convertToInteractive',\n",
              "                                                     [key], {});\n",
              "          if (!dataTable) return;\n",
              "\n",
              "          const docLinkHtml = 'Like what you see? Visit the ' +\n",
              "            '<a target=\"_blank\" href=https://colab.research.google.com/notebooks/data_table.ipynb>data table notebook</a>'\n",
              "            + ' to learn more about interactive tables.';\n",
              "          element.innerHTML = '';\n",
              "          dataTable['output_type'] = 'display_data';\n",
              "          await google.colab.output.renderOutput(dataTable, element);\n",
              "          const docLink = document.createElement('div');\n",
              "          docLink.innerHTML = docLinkHtml;\n",
              "          element.appendChild(docLink);\n",
              "        }\n",
              "      </script>\n",
              "    </div>\n",
              "  </div>\n",
              "  "
            ],
            "text/plain": [
              "                                                                                              path label\n",
              "242  /content/drive/MyDrive/Colab Notebooks/data/fabric_factory/Fail_Defect_Images/0015_000_02.png  FAIL\n",
              "243  /content/drive/MyDrive/Colab Notebooks/data/fabric_factory/Fail_Defect_Images/0016_000_02.png  FAIL\n",
              "244  /content/drive/MyDrive/Colab Notebooks/data/fabric_factory/Fail_Defect_Images/0014_000_02.png  FAIL\n",
              "245  /content/drive/MyDrive/Colab Notebooks/data/fabric_factory/Fail_Defect_Images/0013_000_02.png  FAIL\n",
              "246  /content/drive/MyDrive/Colab Notebooks/data/fabric_factory/Fail_Defect_Images/0011_000_02.png  FAIL"
            ]
          },
          "metadata": {},
          "execution_count": 9
        }
      ]
    },
    {
      "cell_type": "code",
      "source": [
        "# 데이터 세트값 분포 및 Label 값 분포를 확인한다. \n",
        "\n",
        "print(data_df['label'].value_counts())"
      ],
      "metadata": {
        "colab": {
          "base_uri": "https://localhost:8080/"
        },
        "id": "TlO4xP6_rHSf",
        "outputId": "4ffc557d-7b9e-4cd7-9f3b-7ed873fdee6f"
      },
      "execution_count": 11,
      "outputs": [
        {
          "output_type": "stream",
          "name": "stdout",
          "text": [
            "FAIL    141\n",
            "OK      106\n",
            "Name: label, dtype: int64\n"
          ]
        }
      ]
    },
    {
      "cell_type": "code",
      "source": [
        "# 데이터 학습/검정용으로 분리하기\n",
        "\n",
        "from sklearn.model_selection import train_test_split\n",
        "\n",
        "# scikit learn의 train_test_split()을 이용하여 train용, validation용 DataFrame을 생성\n",
        "# stratify를 이용하여 label 값을 균등하게 분할 \n",
        "tr_df, val_df = train_test_split(data_df, test_size=0.15, stratify=data_df['label'], random_state=2021)\n",
        "print('tr_df shape:', tr_df.shape, 'val_df shape:', val_df.shape)\n",
        "print('tr_df label distribution:\\n', tr_df['label'].value_counts())\n",
        "print('val_df label distributuion:\\n', val_df['label'].value_counts())"
      ],
      "metadata": {
        "colab": {
          "base_uri": "https://localhost:8080/"
        },
        "id": "1QbBHVxWOmk7",
        "outputId": "48fac925-ff13-4840-f891-4c88171e1ba4"
      },
      "execution_count": 71,
      "outputs": [
        {
          "output_type": "stream",
          "name": "stdout",
          "text": [
            "tr_df shape: (209, 2) val_df shape: (38, 2)\n",
            "tr_df label distribution:\n",
            " FAIL    119\n",
            "OK       90\n",
            "Name: label, dtype: int64\n",
            "val_df label distributuion:\n",
            " FAIL    22\n",
            "OK      16\n",
            "Name: label, dtype: int64\n"
          ]
        }
      ]
    },
    {
      "cell_type": "markdown",
      "source": [
        "## 이미지 확인\n",
        "- 육안으로 판별하기는 어렵다."
      ],
      "metadata": {
        "id": "xtPptoFTAqiS"
      }
    },
    {
      "cell_type": "code",
      "source": [
        "import matplotlib.pyplot as plt\n",
        "import cv2\n",
        "%matplotlib inline\n",
        "\n",
        "def show_grid_images(image_path_list, ncols=8, augmentor=None, title=None):\n",
        "    figure, axs = plt.subplots(figsize=(22, 6), nrows=1, ncols=ncols)\n",
        "    for i in range(ncols):\n",
        "        image = cv2.cvtColor(cv2.imread(image_path_list[i]), cv2.COLOR_BGR2RGB)\n",
        "        axs[i].imshow(image)\n",
        "        axs[i].set_title(title)  \n",
        "        \n",
        "ok_image_list = data_df[data_df['label']=='OK']['path'].iloc[:6].tolist()\n",
        "show_grid_images(ok_image_list, ncols=6, title='OK')\n",
        "\n",
        "fail_image_list = data_df[data_df['label']=='FAIL']['path'].iloc[:6].tolist()\n",
        "show_grid_images(fail_image_list, ncols=6, title='FAIL')"
      ],
      "metadata": {
        "colab": {
          "base_uri": "https://localhost:8080/",
          "height": 122
        },
        "id": "l2W4QvpY88YP",
        "outputId": "277aa2bc-5d59-46c2-cd3e-deb2555117ba"
      },
      "execution_count": 13,
      "outputs": [
        {
          "output_type": "display_data",
          "data": {
            "image/png": "[encoded data removed]",
            "text/plain": [
              "<Figure size 1584x432 with 6 Axes>"
            ]
          },
          "metadata": {
            "needs_background": "light"
          }
        },
        {
          "output_type": "display_data",
          "data": {
            "image/png": "[encoded data removed]",
            "text/plain": [
              "<Figure size 1584x432 with 6 Axes>"
            ]
          },
          "metadata": {
            "needs_background": "light"
          }
        }
      ]
    },
    {
      "cell_type": "code",
      "source": [
        "def image_size(image_path, image_label):\n",
        "    image = cv2.cvtColor(cv2.imread(image_path), cv2.COLOR_BGR2RGB)\n",
        "    print(image_label, 'image size:', image[:, :, 0].shape)\n",
        "\n",
        "image_size(ok_image_list[0], 'ok')\n",
        "image_size(fail_image_list[0], 'fail')"
      ],
      "metadata": {
        "colab": {
          "base_uri": "https://localhost:8080/"
        },
        "id": "cd9mjli58dZc",
        "outputId": "613606dd-b9bc-4009-edcf-288210bf2022"
      },
      "execution_count": 18,
      "outputs": [
        {
          "output_type": "stream",
          "name": "stdout",
          "text": [
            "ok image size: (256, 4096)\n",
            "fail image size: (256, 4096)\n"
          ]
        }
      ]
    },
    {
      "cell_type": "markdown",
      "source": [
        "# 이미지 생성"
      ],
      "metadata": {
        "id": "a6yr2dW4FWa9"
      }
    },
    {
      "cell_type": "code",
      "source": [
        "# IMAGE 크기와 BATCH 크기를 위한 환경 변수 설정. \n",
        "IMAGE_SIZE = 224\n",
        "BATCH_SIZE = 32"
      ],
      "metadata": {
        "id": "1kBDEy5gOBnD"
      },
      "execution_count": 98,
      "outputs": []
    },
    {
      "cell_type": "code",
      "source": [
        "from tensorflow.keras.preprocessing.image import ImageDataGenerator\n",
        "\n",
        "tr_generator = ImageDataGenerator(horizontal_flip=True, rescale=1/255.)\n",
        "\n",
        "tr_flow_gen = tr_generator.flow_from_dataframe(dataframe=tr_df # image file이 있는 디렉토리\n",
        "                                      ,x_col='path'\n",
        "                                      ,y_col='label'\n",
        "                                      ,target_size=(IMAGE_SIZE, IMAGE_SIZE) # 원본 이미지를 최종 resize할 image size\n",
        "                                      ,class_mode='binary' # 문자열 label을 자동 Encoding. \n",
        "                                      ,batch_size=BATCH_SIZE\n",
        "                                      ,shuffle=True\n",
        "                                      )"
      ],
      "metadata": {
        "colab": {
          "base_uri": "https://localhost:8080/"
        },
        "id": "M3-6baQJOB_C",
        "outputId": "4ed886b1-3dc1-496a-f95c-50d588d16400"
      },
      "execution_count": 99,
      "outputs": [
        {
          "output_type": "stream",
          "name": "stdout",
          "text": [
            "Found 209 validated image filenames belonging to 2 classes.\n"
          ]
        }
      ]
    },
    {
      "cell_type": "code",
      "source": [
        "images_array = next(tr_flow_gen)[0]\n",
        "labels_array = next(tr_flow_gen)[1]\n",
        "print('##### image array shape:', images_array.shape)\n",
        "print('#### label array shape:', labels_array.shape)"
      ],
      "metadata": {
        "colab": {
          "base_uri": "https://localhost:8080/"
        },
        "id": "8_0BhRmXPdFl",
        "outputId": "6995c837-f516-4176-ce02-4cfda28a75f9"
      },
      "execution_count": 100,
      "outputs": [
        {
          "output_type": "stream",
          "name": "stdout",
          "text": [
            "##### image array shape: (32, 224, 224, 3)\n",
            "#### label array shape: (32,)\n"
          ]
        }
      ]
    },
    {
      "cell_type": "code",
      "source": [
        "# 검증용 ImageDataGenerator는 rescale만 적용. \n",
        "val_generator = ImageDataGenerator(rescale=1/255.)\n",
        "val_flow_gen = val_generator.flow_from_dataframe(dataframe=val_df # image file이 있는 디렉토리\n",
        "                                      ,x_col='path'\n",
        "                                      ,y_col='label'\n",
        "                                      ,target_size=(IMAGE_SIZE, IMAGE_SIZE) # 원본 이미지를 최종 resize할 image size\n",
        "                                      ,class_mode='binary' # 문자열 label을 자동으로 one-hot encoding 시켜줌. \n",
        "                                      ,batch_size=BATCH_SIZE\n",
        "                                      ,shuffle=False\n",
        "                                      )"
      ],
      "metadata": {
        "colab": {
          "base_uri": "https://localhost:8080/"
        },
        "id": "dyfZ5pkyRl1i",
        "outputId": "a8562abd-e8a0-4305-c1dd-c3124936c426"
      },
      "execution_count": 101,
      "outputs": [
        {
          "output_type": "stream",
          "name": "stdout",
          "text": [
            "Found 38 validated image filenames belonging to 2 classes.\n"
          ]
        }
      ]
    },
    {
      "cell_type": "markdown",
      "source": [
        "# 모델 생성"
      ],
      "metadata": {
        "id": "Ltrf8r3VVokf"
      }
    },
    {
      "cell_type": "code",
      "source": [
        "from tensorflow.keras.models import Sequential, Model\n",
        "from tensorflow.keras.layers import Input, Dense , Conv2D , Dropout , Flatten , Activation, MaxPooling2D , GlobalAveragePooling2D\n",
        "from tensorflow.keras.optimizers import Adam , RMSprop \n",
        "from tensorflow.keras.layers import BatchNormalization\n",
        "from tensorflow.keras.callbacks import ReduceLROnPlateau , EarlyStopping , ModelCheckpoint , LearningRateScheduler\n",
        "from tensorflow.keras.applications.vgg16 import VGG16\n",
        "from tensorflow.keras.applications import ResNet50V2\n",
        "from tensorflow.keras.applications import Xception\n",
        "\n",
        "def create_model(model_name='vgg16', verbose=False):\n",
        "    \n",
        "    input_tensor = Input(shape=(IMAGE_SIZE, IMAGE_SIZE, 3))\n",
        "    if model_name == 'vgg16':\n",
        "        base_model = VGG16(input_tensor=input_tensor, include_top=False, weights='imagenet')\n",
        "    elif model_name == 'resnet50':\n",
        "        base_model = ResNet50V2(input_tensor=input_tensor, include_top=False, weights='imagenet')\n",
        "    elif model_name == 'xception':\n",
        "        base_model = Xception(input_tensor=input_tensor, include_top=False, weights='imagenet')\n",
        "    \n",
        "    bm_output = base_model.output\n",
        "\n",
        "    x = GlobalAveragePooling2D()(bm_output)\n",
        "    if model_name != 'vgg16':\n",
        "        x = Dropout(rate=0.5)(x)\n",
        "    x = Dense(50, activation='relu', name='fc1')(x)\n",
        "    # 최종 output 출력을 softmax에서 sigmoid로 변환. \n",
        "    output = Dense(1, activation='sigmoid', name='output')(x)\n",
        "\n",
        "    model = Model(inputs=input_tensor, outputs=output)\n",
        "    \n",
        "    if verbose:\n",
        "        model.summary()\n",
        "        \n",
        "    return model"
      ],
      "metadata": {
        "id": "QdWj3zvBSBfP"
      },
      "execution_count": 104,
      "outputs": []
    },
    {
      "cell_type": "code",
      "source": [
        "model = create_model(model_name='xception')\n",
        "# 최종 output 출력을 softmax에서 sigmoid로 변환되었으므로 binary_crossentropy로 변환 \n",
        "model.compile(optimizer=Adam(0.001), loss='binary_crossentropy', metrics=['accuracy'])\n",
        "\n",
        "# 3번 iteration내에 validation loss가 향상되지 않으면 learning rate을 기존 learning rate * 0.2로 줄임.  \n",
        "rlr_cb = ReduceLROnPlateau(monitor='val_loss', factor=0.2, patience=3, mode='min', verbose=1)\n",
        "# 5번 iteration내에 validation loss가 향상되지 않으면 더 이상 학습하지 않고 종료\n",
        "ely_cb = EarlyStopping(monitor='val_loss', patience=5, mode='min', verbose=1)"
      ],
      "metadata": {
        "id": "kngjGrjTScJU"
      },
      "execution_count": 105,
      "outputs": []
    },
    {
      "cell_type": "code",
      "source": [
        "# 학습과 검증용 steps_per_epoch 계산 \n",
        "N_EPOCHS = 5\n",
        "\n",
        "history = model.fit(tr_flow_gen, epochs=N_EPOCHS,\n",
        "          steps_per_epoch=int(np.ceil(tr_df.shape[0]/BATCH_SIZE)),\n",
        "          validation_data=val_flow_gen, \n",
        "          validation_steps=int(np.ceil(val_df.shape[0]/BATCH_SIZE)), \n",
        "          callbacks=[rlr_cb, ely_cb])\n"
      ],
      "metadata": {
        "colab": {
          "base_uri": "https://localhost:8080/"
        },
        "id": "WEiNpqFdSeQS",
        "outputId": "d598d143-a5fc-4ab9-8b4f-fa47cac4903c"
      },
      "execution_count": 107,
      "outputs": [
        {
          "output_type": "stream",
          "name": "stdout",
          "text": [
            "Epoch 1/5\n",
            "7/7 [==============================] - 7s 931ms/step - loss: 0.2900 - accuracy: 0.8804 - val_loss: 0.8102 - val_accuracy: 0.6579 - lr: 2.0000e-04\n",
            "Epoch 2/5\n",
            "7/7 [==============================] - 5s 739ms/step - loss: 0.2215 - accuracy: 0.9043 - val_loss: 0.7577 - val_accuracy: 0.7368 - lr: 2.0000e-04\n",
            "Epoch 3/5\n",
            "7/7 [==============================] - 6s 772ms/step - loss: 0.1588 - accuracy: 0.9426 - val_loss: 0.6885 - val_accuracy: 0.8421 - lr: 2.0000e-04\n",
            "Epoch 4/5\n",
            "7/7 [==============================] - 4s 560ms/step - loss: 0.1710 - accuracy: 0.9378 - val_loss: 0.7997 - val_accuracy: 0.8684 - lr: 2.0000e-04\n",
            "Epoch 5/5\n",
            "7/7 [==============================] - 4s 575ms/step - loss: 0.2511 - accuracy: 0.8900 - val_loss: 0.8796 - val_accuracy: 0.8158 - lr: 2.0000e-04\n"
          ]
        }
      ]
    },
    {
      "cell_type": "code",
      "source": [
        "loss = history.history['loss']\n",
        "val_loss = history.history['val_loss']\n",
        "\n",
        "plt.figure()\n",
        "plt.plot(loss, 'ro-')\n",
        "plt.plot(val_loss, 'bo-')\n",
        "plt.ylabel('Cross Entropy')\n",
        "plt.xlabel('Epoch')\n",
        "plt.title('Training and Validation Loss')\n",
        "plt.show()"
      ],
      "metadata": {
        "colab": {
          "base_uri": "https://localhost:8080/",
          "height": 295
        },
        "id": "_72sE0JRSyHk",
        "outputId": "f82bf783-4d13-42e0-8e36-2f63fc3ba821"
      },
      "execution_count": 108,
      "outputs": [
        {
          "output_type": "display_data",
          "data": {
            "image/png": "[encoded data removed]",
            "text/plain": [
              "<Figure size 432x288 with 1 Axes>"
            ]
          },
          "metadata": {
            "needs_background": "light"
          }
        }
      ]
    }
  ]
}