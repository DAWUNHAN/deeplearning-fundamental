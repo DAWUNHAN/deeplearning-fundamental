{
  "nbformat": 4,
  "nbformat_minor": 0,
  "metadata": {
    "colab": {
      "name": "[Project] 의류 직물 불량 검출.ipynb",
      "provenance": [],
      "authorship_tag": "ABX9TyMPYCAHJePtogyFdhBTRZWV",
      "include_colab_link": true
    },
    "kernelspec": {
      "name": "python3",
      "display_name": "Python 3"
    },
    "language_info": {
      "name": "python"
    },
    "accelerator": "GPU"
  },
  "cells": [
    {
      "cell_type": "markdown",
      "metadata": {
        "id": "view-in-github",
        "colab_type": "text"
      },
      "source": [
        "<a href=\"https://colab.research.google.com/github/DAWUNHAN/deeplearning-fundamental/blob/master/3_Image/%5BProject%5D_%EC%9D%98%EB%A5%98_%EC%A7%81%EB%AC%BC_%EB%B6%88%EB%9F%89_%EA%B2%80%EC%B6%9C.ipynb\" target=\"_parent\"><img src=\"https://colab.research.google.com/assets/colab-badge.svg\" alt=\"Open In Colab\"/></a>"
      ]
    },
    {
      "cell_type": "markdown",
      "source": [
        "# Dataset\n",
        "- 데이터셋 출처 : AITEX (https://www.aitex.es/afid/)\n",
        "- [데이터셋 다운로드](https://www.aitex.es/afid/)"
      ],
      "metadata": {
        "id": "bnv1qtTdQ9hs"
      }
    },
    {
      "cell_type": "code",
      "execution_count": 2,
      "metadata": {
        "colab": {
          "base_uri": "https://localhost:8080/"
        },
        "id": "9x-5PnUYPi7x",
        "outputId": "8eda2f78-6cd5-4a6b-b49d-1b11cdd0360c"
      },
      "outputs": [
        {
          "output_type": "stream",
          "name": "stdout",
          "text": [
            "Mounted at /content/drive\n"
          ]
        }
      ],
      "source": [
        "from google.colab import drive\n",
        "drive.mount('/content/drive')"
      ]
    },
    {
      "cell_type": "code",
      "source": [
        "!pip install opencv-python"
      ],
      "metadata": {
        "colab": {
          "base_uri": "https://localhost:8080/"
        },
        "id": "WujGu3asQxLh",
        "outputId": "3517c94d-70d7-488a-85a3-fc2ce01c8d9a"
      },
      "execution_count": 3,
      "outputs": [
        {
          "output_type": "stream",
          "name": "stdout",
          "text": [
            "Requirement already satisfied: opencv-python in /usr/local/lib/python3.7/dist-packages (4.1.2.30)\n",
            "Requirement already satisfied: numpy>=1.14.5 in /usr/local/lib/python3.7/dist-packages (from opencv-python) (1.19.5)\n"
          ]
        }
      ]
    },
    {
      "cell_type": "code",
      "source": [
        "PATH_DEFECT = '/content/drive/MyDrive/Colab Notebooks/data/fabric_factory/Defect_images/'\n",
        "PATH_MASK = '/content/drive/MyDrive/Colab Notebooks/data/fabric_factory/Mask_images/'\n",
        "PATH_NODEFECT = '/content/drive/MyDrive/Colab Notebooks/data/fabric_factory/NODefect_images/'"
      ],
      "metadata": {
        "id": "yxSHgw0uR-HT"
      },
      "execution_count": 4,
      "outputs": []
    },
    {
      "cell_type": "code",
      "source": [
        "import cv2\n",
        "import os\n",
        "import glob\n",
        "import shutil\n",
        "import random\n",
        "import string\n",
        "import numpy as np\n",
        "import tensorflow as tf"
      ],
      "metadata": {
        "id": "X8G9i2NFT9H5"
      },
      "execution_count": 16,
      "outputs": []
    },
    {
      "cell_type": "code",
      "source": [
        "random.seed(0)  # 랜덤 시드 고정\n",
        "\n",
        "# 데이터 매칭\n",
        "# glob.glob을 사용하면 우리가 원하는 특정 패턴으로 읽은 뒤 리스트에 넣을 수 있다.\n",
        "defect_list = glob.glob(PATH_DEFECT + '*.png')\n",
        "mask_list = glob.glob(PATH_MASK + '*.png')\n",
        "pass_list = glob.glob(PATH_NODEFECT + '**/*.png')\n",
        "\n",
        "# 마스크랑 defect 이미지를 하나의 쌍으로 묶는 작업\n",
        "new_defect_list = list()\n",
        "new_mask_list = list()\n",
        "for defect in defect_list:\n",
        "    num = defect.split('/')[-1].split('_')[0]           # defect_list 안에 있는 파일명에서 '/'를 기점으로 맨 뒷 부분을 가져온 뒤, '_' 앞 부분을 가져온다.\n",
        "    for mask in mask_list:\n",
        "        num_mask = mask.split('/')[-1].split('_')[0]    # mask_list에서도 같은 방식으로 파일명을 가져온다.\n",
        "        if num == num_mask:                             # 이 두 파일명이 같자면 new list에 넣는다. \n",
        "            new_defect_list.append(defect)\n",
        "            new_mask_list.append(mask)\n",
        "            break\n",
        "defect_list = new_defect_list\n",
        "mask_list = new_mask_list"
      ],
      "metadata": {
        "id": "k9tLkrCkT9bw"
      },
      "execution_count": 6,
      "outputs": []
    },
    {
      "cell_type": "markdown",
      "source": [
        "## 첫 발송 데이터 생성"
      ],
      "metadata": {
        "id": "CfqnUfMhUe63"
      }
    },
    {
      "cell_type": "code",
      "source": [
        "# The first dataset given\n",
        "if os.path.exists('/content/drive/MyDrive/Colab Notebooks/data/fabric_factory/1') is False:\n",
        "    os.mkdir('/content/drive/MyDrive/Colab Notebooks/data/fabric_factory/1')\n",
        "for file_name in pass_list + defect_list:\n",
        "    if random.randint(0, 9) < 2:\n",
        "        barcode = ''.join(random.choices(string.ascii_letters + string.digits, k=16)) # 파일명을 랜덤으로 만든다.\n",
        "        shutil.copy2(file_name, '/content/drive/MyDrive/Colab Notebooks/data/fabric_factory/1/' + barcode + '.png')"
      ],
      "metadata": {
        "id": "-k-zG0XsUbtR"
      },
      "execution_count": 7,
      "outputs": []
    },
    {
      "cell_type": "code",
      "source": [
        "# The second dataset\n",
        "if os.path.exists('/content/drive/MyDrive/Colab Notebooks/data/fabric_factory/2') is False:\n",
        "    os.mkdir('/content/drive/MyDrive/Colab Notebooks/data/fabric_factory/2')\n",
        "if os.path.exists('/content/drive/MyDrive/Colab Notebooks/data/fabric_factory/2/OK') is False:\n",
        "    os.mkdir('/content/drive/MyDrive/Colab Notebooks/data/fabric_factory/2/OK')\n",
        "if os.path.exists('/content/drive/MyDrive/Colab Notebooks/data/fabric_factory/2/FAIL') is False:\n",
        "    os.mkdir('/content/drive/MyDrive/Colab Notebooks/data/fabric_factory/2/FAIL')\n",
        "idx = 0\n",
        "for file_name in pass_list:\n",
        "    img = cv2.imread(file_name)\n",
        "    height, width, _ = img.shape\n",
        "    step = height // 2\n",
        "\n",
        "    for i in range(width // step):\n",
        "        w = i * step\n",
        "        if w < width - height and random.randint(0, 9) < 2:\n",
        "            patch = img[:, w:w+height, :]\n",
        "            cv2.imwrite('/content/drive/MyDrive/Colab Notebooks/data/fabric_factory/2/OK/%04d.png' % idx, patch)\n",
        "            idx += 1 \n",
        "\n",
        "patch_list = list()\n",
        "for item in zip(defect_list, mask_list):\n",
        "    defect, mask = item\n",
        "\n",
        "    img_d = cv2.imread(defect)\n",
        "    img_m = cv2.imread(mask)\n",
        "\n",
        "    height, width, _ = img_d.shape\n",
        "    step = height // 2\n",
        "    for i in range(width // step):\n",
        "        w = i * step\n",
        "        if w < width - height:\n",
        "            patch = img_d[:, w:w+height, :]\n",
        "            patch_d = img_m[:, w:w+height, :]\n",
        "            if patch_d.sum() > 0:\n",
        "                patch_list.append(patch)\n",
        "\n",
        "random.shuffle(patch_list)\n",
        "patch_list_fraction = patch_list[:len(patch_list)//3]\n",
        "for idx, patch in enumerate(patch_list_fraction):\n",
        "    cv2.imwrite('/content/drive/MyDrive/Colab Notebooks/data/fabric_factory/2/FAIL/%04d.png' % idx, patch)"
      ],
      "metadata": {
        "id": "E15KpEudUgNV"
      },
      "execution_count": 9,
      "outputs": []
    },
    {
      "cell_type": "code",
      "source": [
        "# The third dataset\n",
        "if os.path.exists('/content/drive/MyDrive/Colab Notebooks/data/fabric_factory/3') is False:\n",
        "    os.mkdir('/content/drive/MyDrive/Colab Notebooks/data/fabric_factory/3')\n",
        "if os.path.exists('/content/drive/MyDrive/Colab Notebooks/data/fabric_factory/3/OK') is False:\n",
        "    os.mkdir('/content/drive/MyDrive/Colab Notebooks/data/fabric_factory/3/OK')\n",
        "if os.path.exists('/content/drive/MyDrive/Colab Notebooks/data/fabric_factory/3/FAIL') is False:\n",
        "    os.mkdir('/content/drive/MyDrive/Colab Notebooks/data/fabric_factory/3/FAIL')\n",
        "if os.path.exists('/content/drive/MyDrive/Colab Notebooks/data/fabric_factory/3/MASK') is False:\n",
        "    os.mkdir('/content/drive/MyDrive/Colab Notebooks/data/fabric_factory/3/MASK')\n",
        "idx = 0\n",
        "for file_name in pass_list:\n",
        "    img = cv2.imread(file_name)\n",
        "    height, width, _ = img.shape\n",
        "    step = height // 2\n",
        "\n",
        "    for i in range(width // step):\n",
        "        w = i * step\n",
        "        if w < width - height and random.randint(0, 9) < 3:\n",
        "            patch = img[:, w:w+height, :]\n",
        "            cv2.imwrite('/content/drive/MyDrive/Colab Notebooks/data/fabric_factory/3/OK/%04d.png' % idx, patch)\n",
        "            idx += 1 \n",
        "\n",
        "patch_pair_list = list()\n",
        "for item in zip(defect_list, mask_list):\n",
        "    defect, mask = item\n",
        "\n",
        "    img_d = cv2.imread(defect)\n",
        "    img_m = cv2.imread(mask)\n",
        "\n",
        "    height, width, _ = img_d.shape\n",
        "    step = height // 2\n",
        "    for i in range(width // step):\n",
        "        w = i * step\n",
        "        if w < width - height:\n",
        "            patch = img_d[:, w:w+height, :]\n",
        "            patch_d = img_m[:, w:w+height, :]\n",
        "\n",
        "            if patch_d.sum() > 0:\n",
        "                patch_pair_list.append((patch, patch_d))\n",
        "\n",
        "random.shuffle(patch_pair_list)\n",
        "for idx, pair in enumerate(patch_pair_list):\n",
        "    patch, patch_d = pair\n",
        "    cv2.imwrite('/content/drive/MyDrive/Colab Notebooks/data/fabric_factory/3/FAIL/%04d.png' % idx, patch)\n",
        "    cv2.imwrite('/content/drive/MyDrive/Colab Notebooks/data/fabric_factory/3/MASK/%04d.png' % idx, patch_d)"
      ],
      "metadata": {
        "id": "POYpoJ6_yhLE"
      },
      "execution_count": 10,
      "outputs": []
    },
    {
      "cell_type": "markdown",
      "source": [
        "## 데이터셋 로드 함수 정의"
      ],
      "metadata": {
        "id": "ztwoErzo1i8l"
      }
    },
    {
      "cell_type": "code",
      "source": [
        "def preprocess(file_name):\n",
        "    img = tf.io.read_file(file_name)\n",
        "    img = tf.image.decode_png(img, channels=1) #tensorflow 버전업으로 코드 변경\n",
        "    return tf.image.convert_image_dtype(img, tf.float32)"
      ],
      "metadata": {
        "id": "pvXc6MRr1id3"
      },
      "execution_count": 12,
      "outputs": []
    },
    {
      "cell_type": "code",
      "source": [
        "EPOCHS = 10\n",
        "\n",
        "DATASET_PATH = '/content/drive/MyDrive/Colab Notebooks/data/fabric_factory/2/'\n",
        "DATASET_OK_PATTERN = DATASET_PATH + 'OK/*.png'\n",
        "DATASET_FAIL_PATTERN = DATASET_PATH + 'FAIL/*.png'\n",
        "\n",
        "RESULT_SAVE_PATH = 'results/'"
      ],
      "metadata": {
        "id": "BdaYLJKF3Kib"
      },
      "execution_count": 14,
      "outputs": []
    },
    {
      "cell_type": "code",
      "source": [
        "ok_list = glob.glob(DATASET_OK_PATTERN)\n",
        "ds_ok = tf.data.Dataset.list_files(ok_list)\n",
        "ds_ok_label = tf.data.Dataset.from_tensor_slices([0] * len(ok_list))\n",
        "\n",
        "ds_ok = ds_ok.map(preprocess)\n",
        "ds_ok = tf.data.Dataset.zip((ds_ok, ds_ok_label))\n",
        "\n",
        "fail_list = glob.glob(DATASET_FAIL_PATTERN)\n",
        "ds_fail = tf.data.Dataset.list_files(fail_list)\n",
        "ds_fail_label = tf.data.Dataset.from_tensor_slices([1] * len(fail_list))\n",
        "\n",
        "ds_fail = ds_fail.map(preprocess)\n",
        "ds_fail = tf.data.Dataset.zip((ds_fail, ds_fail_label))\n",
        "\n",
        "ds = tf.data.Dataset.concatenate(ds_ok, ds_fail)"
      ],
      "metadata": {
        "id": "ozLAS6Ga1klN"
      },
      "execution_count": 17,
      "outputs": []
    },
    {
      "cell_type": "markdown",
      "source": [
        "# 학습/검정 데이터 분리"
      ],
      "metadata": {
        "id": "m8dGKDNE4icS"
      }
    },
    {
      "cell_type": "code",
      "source": [
        "ds_size = len(ok_list) + len(fail_list)\n",
        "train_size = int(ds_size * 0.7)\n",
        "\n",
        "ds = ds.shuffle(ds_size)\n",
        "ds_train = ds.take(train_size).shuffle(1024, reshuffle_each_iteration=True).batch(32)\n",
        "ds_valid = ds.skip(train_size).batch(32)"
      ],
      "metadata": {
        "id": "dDXZAbf52o99"
      },
      "execution_count": 20,
      "outputs": []
    },
    {
      "cell_type": "markdown",
      "source": [
        "# 모델 생성"
      ],
      "metadata": {
        "id": "sHNA6vgz4uJA"
      }
    },
    {
      "cell_type": "code",
      "source": [
        "from tensorflow.keras.layers import Conv2D, MaxPool2D, Flatten, Dense\n",
        "from tensorflow.keras.models import Sequential"
      ],
      "metadata": {
        "id": "3COjytGK4tFE"
      },
      "execution_count": 21,
      "outputs": []
    },
    {
      "cell_type": "code",
      "source": [
        "def Model():\n",
        "    return Sequential([Conv2D(32, (3, 3), activation='relu', input_shape=(256, 256, 1)), #tensorflow 버전업으로 코드 변경\n",
        "                       MaxPool2D(),\n",
        "                       Conv2D(64, (3, 3), activation='relu'),\n",
        "                       MaxPool2D(),\n",
        "                       Conv2D(128, (3, 3), activation='relu'),\n",
        "                       MaxPool2D(),\n",
        "                       Conv2D(256, (3, 3), activation='relu'),\n",
        "                       MaxPool2D(),\n",
        "                       Flatten(),\n",
        "                       Dense(1, activation='sigmoid')])"
      ],
      "metadata": {
        "id": "F_cfTR7s4l5e"
      },
      "execution_count": 22,
      "outputs": []
    },
    {
      "cell_type": "code",
      "source": [
        "model = Model()\n",
        "model.compile(optimizer='adam',\n",
        "              loss='binary_crossentropy',\n",
        "              metrics=['accuracy'])"
      ],
      "metadata": {
        "id": "otCNECzQ5I1v"
      },
      "execution_count": 23,
      "outputs": []
    },
    {
      "cell_type": "code",
      "source": [
        "model.fit(ds_train, validation_data=ds_valid, epochs=EPOCHS)"
      ],
      "metadata": {
        "colab": {
          "base_uri": "https://localhost:8080/"
        },
        "id": "MOjDZYF15VXj",
        "outputId": "35a7222a-95e4-4d7c-c240-9d608997f79f"
      },
      "execution_count": 24,
      "outputs": [
        {
          "output_type": "stream",
          "name": "stdout",
          "text": [
            "Epoch 1/10\n",
            "22/22 [==============================] - 19s 199ms/step - loss: 0.4778 - accuracy: 0.8728 - val_loss: 0.3343 - val_accuracy: 0.9000\n",
            "Epoch 2/10\n",
            "22/22 [==============================] - 8s 264ms/step - loss: 0.3611 - accuracy: 0.8891 - val_loss: 0.4857 - val_accuracy: 0.8552\n",
            "Epoch 3/10\n",
            "22/22 [==============================] - 7s 180ms/step - loss: 0.3375 - accuracy: 0.8876 - val_loss: 0.3499 - val_accuracy: 0.8759\n",
            "Epoch 4/10\n",
            "22/22 [==============================] - 7s 180ms/step - loss: 0.3654 - accuracy: 0.8802 - val_loss: 0.3604 - val_accuracy: 0.8759\n",
            "Epoch 5/10\n",
            "22/22 [==============================] - 10s 251ms/step - loss: 0.3721 - accuracy: 0.8624 - val_loss: 0.3329 - val_accuracy: 0.8897\n",
            "Epoch 6/10\n",
            "22/22 [==============================] - 7s 180ms/step - loss: 0.3613 - accuracy: 0.8728 - val_loss: 0.3268 - val_accuracy: 0.8862\n",
            "Epoch 7/10\n",
            "22/22 [==============================] - 7s 182ms/step - loss: 0.3554 - accuracy: 0.8787 - val_loss: 0.3315 - val_accuracy: 0.8931\n",
            "Epoch 8/10\n",
            "22/22 [==============================] - 7s 179ms/step - loss: 0.3513 - accuracy: 0.8846 - val_loss: 0.3510 - val_accuracy: 0.8724\n",
            "Epoch 9/10\n",
            "22/22 [==============================] - 7s 181ms/step - loss: 0.3157 - accuracy: 0.8802 - val_loss: 0.4689 - val_accuracy: 0.8414\n",
            "Epoch 10/10\n",
            "22/22 [==============================] - 7s 180ms/step - loss: 0.3436 - accuracy: 0.8743 - val_loss: 0.3903 - val_accuracy: 0.8759\n"
          ]
        },
        {
          "output_type": "execute_result",
          "data": {
            "text/plain": [
              "<keras.callbacks.History at 0x7f8780358a50>"
            ]
          },
          "metadata": {},
          "execution_count": 24
        }
      ]
    },
    {
      "cell_type": "markdown",
      "source": [
        "# 이미지로 결과 저장하기"
      ],
      "metadata": {
        "id": "DVd4AXgw5c0A"
      }
    },
    {
      "cell_type": "code",
      "source": [
        "def mkdir(path):\n",
        "    if os.path.exists(path) is False:\n",
        "        os.mkdir(path)\n",
        "\n",
        "mkdir(RESULT_SAVE_PATH)\n",
        "mkdir(RESULT_SAVE_PATH + '/TP')\n",
        "mkdir(RESULT_SAVE_PATH + '/TN')\n",
        "mkdir(RESULT_SAVE_PATH + '/FP')\n",
        "mkdir(RESULT_SAVE_PATH + '/FN')\n",
        "\n",
        "index = 0\n",
        "for imgs, labels in ds_valid:\n",
        "    preds = model.predict(imgs)\n",
        "    for idx in range(imgs.shape[0]):\n",
        "        gt = labels[idx].numpy()\n",
        "        y = preds[idx]\n",
        "        \n",
        "        if gt == 1 and y > 0.5:\n",
        "            path = RESULT_SAVE_PATH + '/TP'\n",
        "        elif gt == 1 and y <= 0.5:\n",
        "            path = RESULT_SAVE_PATH + '/FN'\n",
        "        elif gt == 0 and y > 0.5:\n",
        "            path = RESULT_SAVE_PATH + '/FP'\n",
        "        else:\n",
        "            path = RESULT_SAVE_PATH + '/TN'\n",
        "            \n",
        "        cv2.imwrite(path + '/%.4f_%04d.png' % (y, index), imgs[idx].numpy() * 255)\n",
        "        index +=1"
      ],
      "metadata": {
        "id": "u1vOI6P-5WuK"
      },
      "execution_count": 26,
      "outputs": []
    },
    {
      "cell_type": "markdown",
      "source": [
        "# Oversampling "
      ],
      "metadata": {
        "id": "C5a9frnGDsos"
      }
    },
    {
      "cell_type": "code",
      "source": [
        "ok_list = glob.glob(DATASET_OK_PATTERN)\n",
        "fail_list = glob.glob(DATASET_FAIL_PATTERN)\n",
        "\n",
        "num_ok = len(ok_list)\n",
        "num_fail = len(fail_list)\n",
        "\n",
        "# Oversampling\n",
        "fail_list_new = list()\n",
        "for _ in range(num_ok // num_fail):\n",
        "    fail_list_new += fail_list\n",
        "fail_list_new += fail_list[: num_ok % num_fail]\n",
        "fail_list = fail_list_new\n",
        "\n",
        "ok_label = [0] * len(ok_list)\n",
        "fail_label = [1] * len(fail_list)\n",
        "\n",
        "file_list = ok_list + fail_list\n",
        "label_list = ok_label + fail_label"
      ],
      "metadata": {
        "id": "B-z1jBgQ5jhR"
      },
      "execution_count": 27,
      "outputs": []
    },
    {
      "cell_type": "markdown",
      "source": [
        "# TFRecords"
      ],
      "metadata": {
        "id": "AzQOxa2xDxI9"
      }
    },
    {
      "cell_type": "code",
      "source": [
        "# Tensorflow official site에서 가져온 함수\n",
        "\n",
        "def _bytes_feature(value):\n",
        "    \"\"\"Returns a bytes_list from a string / byte.\"\"\"\n",
        "    if isinstance(value, type(tf.constant(0))):\n",
        "        value = value.numpy() # BytesList won't unpack a string from an EagerTensor.\n",
        "    return tf.train.Feature(bytes_list=tf.train.BytesList(value=[value]))\n",
        "\n",
        "def _int64_feature(value):\n",
        "    \"\"\"Returns an int64_list from a bool / enum / int / uint.\"\"\"\n",
        "    return tf.train.Feature(int64_list=tf.train.Int64List(value=[value]))\n",
        "\n",
        "def image_example(image_string, label):\n",
        "    image_shape = tf.image.decode_image(image_string).shape\n",
        "\n",
        "    feature = {\n",
        "        'height': _int64_feature(image_shape[0]),\n",
        "        'width': _int64_feature(image_shape[1]),\n",
        "        'depth': _int64_feature(image_shape[2]),\n",
        "        'label': _int64_feature(label),\n",
        "        'image_raw': _bytes_feature(image_string),\n",
        "    }\n",
        "\n",
        "    return tf.train.Example(features=tf.train.Features(feature=feature))"
      ],
      "metadata": {
        "id": "jZu8UITwDvFr"
      },
      "execution_count": 28,
      "outputs": []
    },
    {
      "cell_type": "code",
      "source": [
        "TFRECORD_PATH = 'tfrecords/'\n",
        "IMAGE_PER_TFRECORD = 100\n",
        "\n",
        "if os.path.exists(TFRECORD_PATH) is False:\n",
        "    os.mkdir(TFRECORD_PATH)\n",
        "\n",
        "num_tfrecords = len(file_list) // IMAGE_PER_TFRECORD\n",
        "if len(file_list) % IMAGE_PER_TFRECORD != 0:\n",
        "    num_tfrecords += 1\n",
        "\n",
        "for idx in range(num_tfrecords):\n",
        "    idx0 = idx * IMAGE_PER_TFRECORD\n",
        "    idx1 = idx0 + IMAGE_PER_TFRECORD\n",
        "    record_file = TFRECORD_PATH + '%05d.tfrecords' % idx\n",
        "    with tf.io.TFRecordWriter(record_file) as writer:\n",
        "        for filename, label in zip(file_list[idx0:idx1],\n",
        "                                   label_list[idx0:idx1]):\n",
        "            image_string = open(filename, 'rb').read()\n",
        "            tf_example = image_example(image_string, label)\n",
        "            writer.write(tf_example.SerializeToString())"
      ],
      "metadata": {
        "id": "GV3_VJtaD29o"
      },
      "execution_count": 30,
      "outputs": []
    },
    {
      "cell_type": "markdown",
      "source": [
        "# Data Augmentation"
      ],
      "metadata": {
        "id": "n5_CZwrWGOJB"
      }
    },
    {
      "cell_type": "code",
      "source": [
        "!pip install tensorflow-addons"
      ],
      "metadata": {
        "colab": {
          "base_uri": "https://localhost:8080/"
        },
        "id": "VDwOxw-iGqtT",
        "outputId": "c53e3ef5-4b4c-44be-e3da-3c07a30af5ac"
      },
      "execution_count": 34,
      "outputs": [
        {
          "output_type": "stream",
          "name": "stdout",
          "text": [
            "Collecting tensorflow-addons\n",
            "  Downloading tensorflow_addons-0.15.0-cp37-cp37m-manylinux_2_12_x86_64.manylinux2010_x86_64.whl (1.1 MB)\n",
            "\u001b[?25l\r\u001b[K     |▎                               | 10 kB 14.5 MB/s eta 0:00:01\r\u001b[K     |▋                               | 20 kB 17.9 MB/s eta 0:00:01\r\u001b[K     |▉                               | 30 kB 18.0 MB/s eta 0:00:01\r\u001b[K     |█▏                              | 40 kB 12.7 MB/s eta 0:00:01\r\u001b[K     |█▌                              | 51 kB 11.4 MB/s eta 0:00:01\r\u001b[K     |█▊                              | 61 kB 10.3 MB/s eta 0:00:01\r\u001b[K     |██                              | 71 kB 9.9 MB/s eta 0:00:01\r\u001b[K     |██▍                             | 81 kB 10.8 MB/s eta 0:00:01\r\u001b[K     |██▋                             | 92 kB 11.7 MB/s eta 0:00:01\r\u001b[K     |███                             | 102 kB 10.9 MB/s eta 0:00:01\r\u001b[K     |███▎                            | 112 kB 10.9 MB/s eta 0:00:01\r\u001b[K     |███▌                            | 122 kB 10.9 MB/s eta 0:00:01\r\u001b[K     |███▉                            | 133 kB 10.9 MB/s eta 0:00:01\r\u001b[K     |████▏                           | 143 kB 10.9 MB/s eta 0:00:01\r\u001b[K     |████▍                           | 153 kB 10.9 MB/s eta 0:00:01\r\u001b[K     |████▊                           | 163 kB 10.9 MB/s eta 0:00:01\r\u001b[K     |█████                           | 174 kB 10.9 MB/s eta 0:00:01\r\u001b[K     |█████▎                          | 184 kB 10.9 MB/s eta 0:00:01\r\u001b[K     |█████▋                          | 194 kB 10.9 MB/s eta 0:00:01\r\u001b[K     |█████▉                          | 204 kB 10.9 MB/s eta 0:00:01\r\u001b[K     |██████▏                         | 215 kB 10.9 MB/s eta 0:00:01\r\u001b[K     |██████▌                         | 225 kB 10.9 MB/s eta 0:00:01\r\u001b[K     |██████▊                         | 235 kB 10.9 MB/s eta 0:00:01\r\u001b[K     |███████                         | 245 kB 10.9 MB/s eta 0:00:01\r\u001b[K     |███████▍                        | 256 kB 10.9 MB/s eta 0:00:01\r\u001b[K     |███████▋                        | 266 kB 10.9 MB/s eta 0:00:01\r\u001b[K     |████████                        | 276 kB 10.9 MB/s eta 0:00:01\r\u001b[K     |████████▎                       | 286 kB 10.9 MB/s eta 0:00:01\r\u001b[K     |████████▌                       | 296 kB 10.9 MB/s eta 0:00:01\r\u001b[K     |████████▉                       | 307 kB 10.9 MB/s eta 0:00:01\r\u001b[K     |█████████                       | 317 kB 10.9 MB/s eta 0:00:01\r\u001b[K     |█████████▍                      | 327 kB 10.9 MB/s eta 0:00:01\r\u001b[K     |█████████▊                      | 337 kB 10.9 MB/s eta 0:00:01\r\u001b[K     |██████████                      | 348 kB 10.9 MB/s eta 0:00:01\r\u001b[K     |██████████▎                     | 358 kB 10.9 MB/s eta 0:00:01\r\u001b[K     |██████████▋                     | 368 kB 10.9 MB/s eta 0:00:01\r\u001b[K     |██████████▉                     | 378 kB 10.9 MB/s eta 0:00:01\r\u001b[K     |███████████▏                    | 389 kB 10.9 MB/s eta 0:00:01\r\u001b[K     |███████████▌                    | 399 kB 10.9 MB/s eta 0:00:01\r\u001b[K     |███████████▊                    | 409 kB 10.9 MB/s eta 0:00:01\r\u001b[K     |████████████                    | 419 kB 10.9 MB/s eta 0:00:01\r\u001b[K     |████████████▍                   | 430 kB 10.9 MB/s eta 0:00:01\r\u001b[K     |████████████▋                   | 440 kB 10.9 MB/s eta 0:00:01\r\u001b[K     |█████████████                   | 450 kB 10.9 MB/s eta 0:00:01\r\u001b[K     |█████████████▎                  | 460 kB 10.9 MB/s eta 0:00:01\r\u001b[K     |█████████████▌                  | 471 kB 10.9 MB/s eta 0:00:01\r\u001b[K     |█████████████▉                  | 481 kB 10.9 MB/s eta 0:00:01\r\u001b[K     |██████████████                  | 491 kB 10.9 MB/s eta 0:00:01\r\u001b[K     |██████████████▍                 | 501 kB 10.9 MB/s eta 0:00:01\r\u001b[K     |██████████████▊                 | 512 kB 10.9 MB/s eta 0:00:01\r\u001b[K     |███████████████                 | 522 kB 10.9 MB/s eta 0:00:01\r\u001b[K     |███████████████▎                | 532 kB 10.9 MB/s eta 0:00:01\r\u001b[K     |███████████████▋                | 542 kB 10.9 MB/s eta 0:00:01\r\u001b[K     |███████████████▉                | 552 kB 10.9 MB/s eta 0:00:01\r\u001b[K     |████████████████▏               | 563 kB 10.9 MB/s eta 0:00:01\r\u001b[K     |████████████████▌               | 573 kB 10.9 MB/s eta 0:00:01\r\u001b[K     |████████████████▊               | 583 kB 10.9 MB/s eta 0:00:01\r\u001b[K     |█████████████████               | 593 kB 10.9 MB/s eta 0:00:01\r\u001b[K     |█████████████████▍              | 604 kB 10.9 MB/s eta 0:00:01\r\u001b[K     |█████████████████▋              | 614 kB 10.9 MB/s eta 0:00:01\r\u001b[K     |██████████████████              | 624 kB 10.9 MB/s eta 0:00:01\r\u001b[K     |██████████████████▏             | 634 kB 10.9 MB/s eta 0:00:01\r\u001b[K     |██████████████████▌             | 645 kB 10.9 MB/s eta 0:00:01\r\u001b[K     |██████████████████▉             | 655 kB 10.9 MB/s eta 0:00:01\r\u001b[K     |███████████████████             | 665 kB 10.9 MB/s eta 0:00:01\r\u001b[K     |███████████████████▍            | 675 kB 10.9 MB/s eta 0:00:01\r\u001b[K     |███████████████████▊            | 686 kB 10.9 MB/s eta 0:00:01\r\u001b[K     |████████████████████            | 696 kB 10.9 MB/s eta 0:00:01\r\u001b[K     |████████████████████▎           | 706 kB 10.9 MB/s eta 0:00:01\r\u001b[K     |████████████████████▋           | 716 kB 10.9 MB/s eta 0:00:01\r\u001b[K     |████████████████████▉           | 727 kB 10.9 MB/s eta 0:00:01\r\u001b[K     |█████████████████████▏          | 737 kB 10.9 MB/s eta 0:00:01\r\u001b[K     |█████████████████████▌          | 747 kB 10.9 MB/s eta 0:00:01\r\u001b[K     |█████████████████████▊          | 757 kB 10.9 MB/s eta 0:00:01\r\u001b[K     |██████████████████████          | 768 kB 10.9 MB/s eta 0:00:01\r\u001b[K     |██████████████████████▎         | 778 kB 10.9 MB/s eta 0:00:01\r\u001b[K     |██████████████████████▋         | 788 kB 10.9 MB/s eta 0:00:01\r\u001b[K     |███████████████████████         | 798 kB 10.9 MB/s eta 0:00:01\r\u001b[K     |███████████████████████▏        | 808 kB 10.9 MB/s eta 0:00:01\r\u001b[K     |███████████████████████▌        | 819 kB 10.9 MB/s eta 0:00:01\r\u001b[K     |███████████████████████▉        | 829 kB 10.9 MB/s eta 0:00:01\r\u001b[K     |████████████████████████        | 839 kB 10.9 MB/s eta 0:00:01\r\u001b[K     |████████████████████████▍       | 849 kB 10.9 MB/s eta 0:00:01\r\u001b[K     |████████████████████████▊       | 860 kB 10.9 MB/s eta 0:00:01\r\u001b[K     |█████████████████████████       | 870 kB 10.9 MB/s eta 0:00:01\r\u001b[K     |█████████████████████████▎      | 880 kB 10.9 MB/s eta 0:00:01\r\u001b[K     |█████████████████████████▋      | 890 kB 10.9 MB/s eta 0:00:01\r\u001b[K     |█████████████████████████▉      | 901 kB 10.9 MB/s eta 0:00:01\r\u001b[K     |██████████████████████████▏     | 911 kB 10.9 MB/s eta 0:00:01\r\u001b[K     |██████████████████████████▌     | 921 kB 10.9 MB/s eta 0:00:01\r\u001b[K     |██████████████████████████▊     | 931 kB 10.9 MB/s eta 0:00:01\r\u001b[K     |███████████████████████████     | 942 kB 10.9 MB/s eta 0:00:01\r\u001b[K     |███████████████████████████▎    | 952 kB 10.9 MB/s eta 0:00:01\r\u001b[K     |███████████████████████████▋    | 962 kB 10.9 MB/s eta 0:00:01\r\u001b[K     |████████████████████████████    | 972 kB 10.9 MB/s eta 0:00:01\r\u001b[K     |████████████████████████████▏   | 983 kB 10.9 MB/s eta 0:00:01\r\u001b[K     |████████████████████████████▌   | 993 kB 10.9 MB/s eta 0:00:01\r\u001b[K     |████████████████████████████▉   | 1.0 MB 10.9 MB/s eta 0:00:01\r\u001b[K     |█████████████████████████████   | 1.0 MB 10.9 MB/s eta 0:00:01\r\u001b[K     |█████████████████████████████▍  | 1.0 MB 10.9 MB/s eta 0:00:01\r\u001b[K     |█████████████████████████████▊  | 1.0 MB 10.9 MB/s eta 0:00:01\r\u001b[K     |██████████████████████████████  | 1.0 MB 10.9 MB/s eta 0:00:01\r\u001b[K     |██████████████████████████████▎ | 1.1 MB 10.9 MB/s eta 0:00:01\r\u001b[K     |██████████████████████████████▋ | 1.1 MB 10.9 MB/s eta 0:00:01\r\u001b[K     |██████████████████████████████▉ | 1.1 MB 10.9 MB/s eta 0:00:01\r\u001b[K     |███████████████████████████████▏| 1.1 MB 10.9 MB/s eta 0:00:01\r\u001b[K     |███████████████████████████████▍| 1.1 MB 10.9 MB/s eta 0:00:01\r\u001b[K     |███████████████████████████████▊| 1.1 MB 10.9 MB/s eta 0:00:01\r\u001b[K     |████████████████████████████████| 1.1 MB 10.9 MB/s \n",
            "\u001b[?25hRequirement already satisfied: typeguard>=2.7 in /usr/local/lib/python3.7/dist-packages (from tensorflow-addons) (2.7.1)\n",
            "Installing collected packages: tensorflow-addons\n",
            "Successfully installed tensorflow-addons-0.15.0\n"
          ]
        }
      ]
    },
    {
      "cell_type": "code",
      "source": [
        "import tensorflow_addons as tfa\n",
        "import matplotlib.pyplot as plt"
      ],
      "metadata": {
        "id": "ANIdW60lGm6Q"
      },
      "execution_count": 35,
      "outputs": []
    },
    {
      "cell_type": "code",
      "source": [
        "EPOCHS = 100\n",
        "RESULT_SAVE_PATH = 'results/'"
      ],
      "metadata": {
        "id": "X8FZJbg0D42A"
      },
      "execution_count": 41,
      "outputs": []
    },
    {
      "cell_type": "code",
      "source": [
        "def preprocess(img):\n",
        "    return tf.image.convert_image_dtype(img, tf.float32)"
      ],
      "metadata": {
        "id": "DMKWV0k6HMmx"
      },
      "execution_count": 42,
      "outputs": []
    },
    {
      "cell_type": "code",
      "source": [
        "def augmentation(img, label):\n",
        "    def flip(x):\n",
        "        x = tf.image.random_flip_left_right(x)\n",
        "        x = tf.image.random_flip_up_down(x)\n",
        "        return x\n",
        "    \n",
        "    def rotate(x):\n",
        "        x = tf.cond(tf.random.uniform(shape=[], minval=0.0, maxval=1.0, dtype=tf.float32) > 0.5,\n",
        "                   lambda: tfa.image.rotate(x,\n",
        "                                       tf.random.uniform(shape=[], minval=0.0, maxval=360.0, dtype=tf.float32),\n",
        "                                       interpolation='BILINEAR'),\n",
        "                   lambda: x)\n",
        "        return x\n",
        "    \n",
        "    def translation(x):\n",
        "        dx = tf.random.uniform(shape=[], minval=-10.0, maxval=10.0, dtype=tf.float32)\n",
        "        dy = tf.random.uniform(shape=[], minval=-10.0, maxval=10.0, dtype=tf.float32)\n",
        "        x = tf.cond(tf.random.uniform(shape=[], minval=0.0, maxval=1.0, dtype=tf.float32) > 0.5,\n",
        "                    lambda: tfa.image.transform(x,\n",
        "                                                [0, 0, dx, 0, 0, dy, 0, 0],\n",
        "                                                interpolation='BILINEAR'),\n",
        "                    lambda: x)\n",
        "        return x\n",
        "    \n",
        "    img = flip(img)\n",
        "    img = rotate(img)\n",
        "    img = translation(img)\n",
        "           \n",
        "    return img, label"
      ],
      "metadata": {
        "id": "AJcOHgByGSNo"
      },
      "execution_count": 43,
      "outputs": []
    },
    {
      "cell_type": "markdown",
      "source": [
        "# TFRecords 불러오기"
      ],
      "metadata": {
        "id": "LNQkpEGJHRVU"
      }
    },
    {
      "cell_type": "code",
      "source": [
        "tffiles = glob.glob('tfrecords/*')\n",
        "raw_image_dataset = tf.data.TFRecordDataset(tffiles)\n",
        "\n",
        "image_feature_description = {\n",
        "    'height': tf.io.FixedLenFeature([], tf.int64),\n",
        "    'width': tf.io.FixedLenFeature([], tf.int64),\n",
        "    'depth': tf.io.FixedLenFeature([], tf.int64),\n",
        "    'label': tf.io.FixedLenFeature([], tf.int64),\n",
        "    'image_raw': tf.io.FixedLenFeature([], tf.string),\n",
        "}\n",
        "\n",
        "def _parse_image_function(example_proto):\n",
        "    return tf.io.parse_single_example(example_proto, image_feature_description)\n",
        "\n",
        "def _parse_image_label(parsed_dataset):\n",
        "    return preprocess(tf.image.decode_png(parsed_dataset['image_raw'])), parsed_dataset['label']\n",
        "\n",
        "parsed_image_dataset = raw_image_dataset.map(_parse_image_function)\n",
        "dataset = parsed_image_dataset.map(_parse_image_label)"
      ],
      "metadata": {
        "id": "rNvkW0sIGa0Q"
      },
      "execution_count": 44,
      "outputs": []
    },
    {
      "cell_type": "markdown",
      "source": [
        "# 데이터 분리하기"
      ],
      "metadata": {
        "id": "2vWR7ZX-IBwF"
      }
    },
    {
      "cell_type": "code",
      "source": [
        "ds_size = 0\n",
        "for _ in dataset:\n",
        "    ds_size += 1\n",
        "\n",
        "train_size = int(ds_size * 0.7)\n",
        "\n",
        "ds = dataset.shuffle(ds_size)\n",
        "ds_train = ds.take(train_size).shuffle(1024, reshuffle_each_iteration=True).prefetch(1024).batch(32).map(augmentation)\n",
        "ds_valid = ds.skip(train_size).prefetch(1024).batch(32)"
      ],
      "metadata": {
        "id": "AIlhmZ7TIEDt"
      },
      "execution_count": 46,
      "outputs": []
    },
    {
      "cell_type": "markdown",
      "source": [
        "# 모델 정의"
      ],
      "metadata": {
        "id": "ahzEHZ4aIGiU"
      }
    },
    {
      "cell_type": "code",
      "source": [
        "from tensorflow.keras.layers import Conv2D, MaxPool2D, Concatenate, Flatten, Dense\n",
        "\n",
        "def Model():\n",
        "    def inception(filters):\n",
        "        def subnetwork(x):\n",
        "            h1 = Conv2D(filters, (1, 1), padding='same', activation='relu')(x)\n",
        "            h1 = MaxPool2D()(h1)\n",
        "            \n",
        "            h2 = Conv2D(filters // 2, (1, 1), padding='same', activation='relu')(x)\n",
        "            h2 = Conv2D(filters, (3, 3), padding='same', activation='relu')(h2)\n",
        "            h2 = MaxPool2D()(h2)\n",
        "            \n",
        "            h3 = Conv2D(filters // 2, (1, 1), padding='same', activation='relu')(x)\n",
        "            h3 = Conv2D(filters, (5, 5), padding='same', activation='relu')(h3)\n",
        "            h3 = MaxPool2D()(h3)\n",
        "            return Concatenate()([h1, h2, h3])\n",
        "        return subnetwork\n",
        "    \n",
        "    x = tf.keras.Input(shape=(256, 256, 3))\n",
        "    h = inception(16)(x)\n",
        "    h = inception(32)(h)\n",
        "    h = inception(32)(h)\n",
        "    h = inception(32)(h)\n",
        "    h = inception(32)(h)\n",
        "    h = Flatten()(h)\n",
        "    h = Dense(1024, activation='relu')(h)\n",
        "    y = Dense(1, activation='sigmoid')(h)\n",
        "    return tf.keras.Model(inputs=x, outputs=y)"
      ],
      "metadata": {
        "id": "kJEo2raGIH0X"
      },
      "execution_count": 51,
      "outputs": []
    },
    {
      "cell_type": "markdown",
      "source": [
        "# 모델 생성하기"
      ],
      "metadata": {
        "id": "OSCfBUDxHY5-"
      }
    },
    {
      "cell_type": "code",
      "source": [
        "model = Model()\n",
        "model.compile(optimizer='adam',\n",
        "              loss='binary_crossentropy',\n",
        "              metrics=['accuracy'])"
      ],
      "metadata": {
        "id": "ej0tyWV3Hah1"
      },
      "execution_count": 52,
      "outputs": []
    },
    {
      "cell_type": "markdown",
      "source": [
        "# 모델 학습하기"
      ],
      "metadata": {
        "id": "5vKZ8mj9JA3d"
      }
    },
    {
      "cell_type": "code",
      "source": [
        "earlystopping = tf.keras.callbacks.EarlyStopping(monitor='val_loss', patience=30, verbose=1)\n",
        "history = model.fit(ds_train,\n",
        "                    validation_data=ds_valid,\n",
        "                    epochs=EPOCHS,\n",
        "                    callbacks=[earlystopping])"
      ],
      "metadata": {
        "colab": {
          "base_uri": "https://localhost:8080/"
        },
        "id": "1wrbcykoI9qo",
        "outputId": "a4bf4de1-01b3-442f-d670-a17186287b16"
      },
      "execution_count": 53,
      "outputs": [
        {
          "output_type": "stream",
          "name": "stdout",
          "text": [
            "Epoch 1/100\n",
            "38/38 [==============================] - 27s 451ms/step - loss: 0.7232 - accuracy: 0.5080 - val_loss: 0.6903 - val_accuracy: 0.5265\n",
            "Epoch 2/100\n",
            "38/38 [==============================] - 17s 377ms/step - loss: 0.6951 - accuracy: 0.5030 - val_loss: 0.6875 - val_accuracy: 0.6660\n",
            "Epoch 3/100\n",
            "38/38 [==============================] - 18s 393ms/step - loss: 0.6927 - accuracy: 0.5046 - val_loss: 0.7160 - val_accuracy: 0.4715\n",
            "Epoch 4/100\n",
            "38/38 [==============================] - 16s 361ms/step - loss: 0.6932 - accuracy: 0.5055 - val_loss: 0.6884 - val_accuracy: 0.5088\n",
            "Epoch 5/100\n",
            "38/38 [==============================] - 18s 408ms/step - loss: 0.6920 - accuracy: 0.5300 - val_loss: 0.6906 - val_accuracy: 0.5147\n",
            "Epoch 6/100\n",
            "38/38 [==============================] - 17s 384ms/step - loss: 0.6912 - accuracy: 0.5131 - val_loss: 0.6895 - val_accuracy: 0.4931\n",
            "Epoch 7/100\n",
            "38/38 [==============================] - 18s 406ms/step - loss: 0.6939 - accuracy: 0.5021 - val_loss: 0.6853 - val_accuracy: 0.5049\n",
            "Epoch 8/100\n",
            "38/38 [==============================] - 17s 371ms/step - loss: 0.6903 - accuracy: 0.5350 - val_loss: 0.6933 - val_accuracy: 0.4951\n",
            "Epoch 9/100\n",
            "38/38 [==============================] - 16s 365ms/step - loss: 0.6943 - accuracy: 0.5046 - val_loss: 0.6899 - val_accuracy: 0.5363\n",
            "Epoch 10/100\n",
            "38/38 [==============================] - 15s 340ms/step - loss: 0.6867 - accuracy: 0.5409 - val_loss: 0.7151 - val_accuracy: 0.4872\n",
            "Epoch 11/100\n",
            "38/38 [==============================] - 17s 369ms/step - loss: 0.6902 - accuracy: 0.5291 - val_loss: 0.8011 - val_accuracy: 0.4990\n",
            "Epoch 12/100\n",
            "38/38 [==============================] - 17s 380ms/step - loss: 0.6984 - accuracy: 0.4920 - val_loss: 0.6931 - val_accuracy: 0.5049\n",
            "Epoch 13/100\n",
            "38/38 [==============================] - 16s 357ms/step - loss: 0.6942 - accuracy: 0.5156 - val_loss: 0.6833 - val_accuracy: 0.5010\n",
            "Epoch 14/100\n",
            "38/38 [==============================] - 16s 339ms/step - loss: 0.6914 - accuracy: 0.5114 - val_loss: 0.6913 - val_accuracy: 0.4813\n",
            "Epoch 15/100\n",
            "38/38 [==============================] - 15s 338ms/step - loss: 0.6828 - accuracy: 0.5072 - val_loss: 0.6342 - val_accuracy: 0.5226\n",
            "Epoch 16/100\n",
            "38/38 [==============================] - 18s 402ms/step - loss: 0.6722 - accuracy: 0.5620 - val_loss: 0.6321 - val_accuracy: 0.6660\n",
            "Epoch 17/100\n",
            "38/38 [==============================] - 17s 379ms/step - loss: 0.6883 - accuracy: 0.5359 - val_loss: 0.6925 - val_accuracy: 0.4872\n",
            "Epoch 18/100\n",
            "38/38 [==============================] - 16s 341ms/step - loss: 0.6924 - accuracy: 0.4878 - val_loss: 0.6852 - val_accuracy: 0.4912\n",
            "Epoch 19/100\n",
            "38/38 [==============================] - 16s 353ms/step - loss: 0.6902 - accuracy: 0.5207 - val_loss: 0.6888 - val_accuracy: 0.5363\n",
            "Epoch 20/100\n",
            "38/38 [==============================] - 16s 360ms/step - loss: 0.6926 - accuracy: 0.5097 - val_loss: 0.6898 - val_accuracy: 0.5167\n",
            "Epoch 21/100\n",
            "38/38 [==============================] - 16s 353ms/step - loss: 0.6864 - accuracy: 0.5468 - val_loss: 0.6841 - val_accuracy: 0.4971\n",
            "Epoch 22/100\n",
            "38/38 [==============================] - 17s 376ms/step - loss: 0.6889 - accuracy: 0.5308 - val_loss: 0.6823 - val_accuracy: 0.6660\n",
            "Epoch 23/100\n",
            "38/38 [==============================] - 16s 369ms/step - loss: 0.6885 - accuracy: 0.5004 - val_loss: 0.6665 - val_accuracy: 0.5403\n",
            "Epoch 24/100\n",
            "38/38 [==============================] - 17s 380ms/step - loss: 0.6811 - accuracy: 0.5325 - val_loss: 0.6443 - val_accuracy: 0.5815\n",
            "Epoch 25/100\n",
            "38/38 [==============================] - 16s 351ms/step - loss: 0.6711 - accuracy: 0.5418 - val_loss: 0.6418 - val_accuracy: 0.5776\n",
            "Epoch 26/100\n",
            "38/38 [==============================] - 16s 366ms/step - loss: 0.6709 - accuracy: 0.5527 - val_loss: 0.6531 - val_accuracy: 0.6031\n",
            "Epoch 27/100\n",
            "38/38 [==============================] - 17s 371ms/step - loss: 0.6701 - accuracy: 0.5536 - val_loss: 0.6185 - val_accuracy: 0.6346\n",
            "Epoch 28/100\n",
            "38/38 [==============================] - 16s 363ms/step - loss: 0.6560 - accuracy: 0.5764 - val_loss: 0.6063 - val_accuracy: 0.6837\n",
            "Epoch 29/100\n",
            "38/38 [==============================] - 16s 362ms/step - loss: 0.6844 - accuracy: 0.5367 - val_loss: 0.6928 - val_accuracy: 0.4990\n",
            "Epoch 30/100\n",
            "38/38 [==============================] - 17s 369ms/step - loss: 0.6926 - accuracy: 0.5021 - val_loss: 0.6908 - val_accuracy: 0.5206\n",
            "Epoch 31/100\n",
            "38/38 [==============================] - 17s 371ms/step - loss: 0.6894 - accuracy: 0.4970 - val_loss: 0.6931 - val_accuracy: 0.4774\n",
            "Epoch 32/100\n",
            "38/38 [==============================] - 16s 358ms/step - loss: 0.6932 - accuracy: 0.5063 - val_loss: 0.6928 - val_accuracy: 0.5167\n",
            "Epoch 33/100\n",
            "38/38 [==============================] - 16s 342ms/step - loss: 0.6937 - accuracy: 0.5148 - val_loss: 0.7510 - val_accuracy: 0.4794\n",
            "Epoch 34/100\n",
            "38/38 [==============================] - 16s 348ms/step - loss: 0.6955 - accuracy: 0.4928 - val_loss: 0.6928 - val_accuracy: 0.5069\n",
            "Epoch 35/100\n",
            "38/38 [==============================] - 16s 349ms/step - loss: 0.6930 - accuracy: 0.5055 - val_loss: 0.6924 - val_accuracy: 0.4971\n",
            "Epoch 36/100\n",
            "38/38 [==============================] - 16s 338ms/step - loss: 0.6924 - accuracy: 0.5190 - val_loss: 0.6919 - val_accuracy: 0.4971\n",
            "Epoch 37/100\n",
            "38/38 [==============================] - 14s 315ms/step - loss: 0.6902 - accuracy: 0.5308 - val_loss: 0.6787 - val_accuracy: 0.5403\n",
            "Epoch 38/100\n",
            "38/38 [==============================] - 16s 347ms/step - loss: 0.6922 - accuracy: 0.5291 - val_loss: 0.6679 - val_accuracy: 0.5540\n",
            "Epoch 39/100\n",
            "38/38 [==============================] - 17s 367ms/step - loss: 0.6902 - accuracy: 0.5131 - val_loss: 0.6665 - val_accuracy: 0.6994\n",
            "Epoch 40/100\n",
            "38/38 [==============================] - 16s 360ms/step - loss: 0.6943 - accuracy: 0.5224 - val_loss: 0.6904 - val_accuracy: 0.4735\n",
            "Epoch 41/100\n",
            "38/38 [==============================] - 16s 359ms/step - loss: 0.6982 - accuracy: 0.4945 - val_loss: 0.6931 - val_accuracy: 0.5049\n",
            "Epoch 42/100\n",
            "38/38 [==============================] - 16s 344ms/step - loss: 0.6926 - accuracy: 0.4954 - val_loss: 0.6934 - val_accuracy: 0.4715\n",
            "Epoch 43/100\n",
            "38/38 [==============================] - 16s 359ms/step - loss: 0.6902 - accuracy: 0.4878 - val_loss: 0.6928 - val_accuracy: 0.5226\n",
            "Epoch 44/100\n",
            "38/38 [==============================] - 17s 370ms/step - loss: 0.6911 - accuracy: 0.4954 - val_loss: 0.6935 - val_accuracy: 0.4715\n",
            "Epoch 45/100\n",
            "38/38 [==============================] - 16s 355ms/step - loss: 0.6909 - accuracy: 0.5013 - val_loss: 0.6933 - val_accuracy: 0.4774\n",
            "Epoch 46/100\n",
            "38/38 [==============================] - 17s 369ms/step - loss: 0.6946 - accuracy: 0.4810 - val_loss: 0.6931 - val_accuracy: 0.4774\n",
            "Epoch 47/100\n",
            "38/38 [==============================] - 18s 393ms/step - loss: 0.6932 - accuracy: 0.4844 - val_loss: 0.6932 - val_accuracy: 0.4597\n",
            "Epoch 48/100\n",
            "38/38 [==============================] - 16s 360ms/step - loss: 0.6932 - accuracy: 0.4751 - val_loss: 0.6932 - val_accuracy: 0.4617\n",
            "Epoch 49/100\n",
            "38/38 [==============================] - 18s 396ms/step - loss: 0.6932 - accuracy: 0.4954 - val_loss: 0.6932 - val_accuracy: 0.4872\n",
            "Epoch 50/100\n",
            "38/38 [==============================] - 16s 347ms/step - loss: 0.6930 - accuracy: 0.5072 - val_loss: 0.6930 - val_accuracy: 0.4872\n",
            "Epoch 51/100\n",
            "38/38 [==============================] - 16s 366ms/step - loss: 0.6930 - accuracy: 0.4945 - val_loss: 0.6934 - val_accuracy: 0.4735\n",
            "Epoch 52/100\n",
            "38/38 [==============================] - 17s 369ms/step - loss: 0.6976 - accuracy: 0.5055 - val_loss: 0.6930 - val_accuracy: 0.5147\n",
            "Epoch 53/100\n",
            "38/38 [==============================] - 15s 332ms/step - loss: 0.6932 - accuracy: 0.4962 - val_loss: 0.6931 - val_accuracy: 0.5481\n",
            "Epoch 54/100\n",
            "38/38 [==============================] - 17s 373ms/step - loss: 0.6931 - accuracy: 0.5156 - val_loss: 0.6932 - val_accuracy: 0.5010\n",
            "Epoch 55/100\n",
            "38/38 [==============================] - 17s 368ms/step - loss: 0.6933 - accuracy: 0.4970 - val_loss: 0.6931 - val_accuracy: 0.5010\n",
            "Epoch 56/100\n",
            "38/38 [==============================] - 16s 356ms/step - loss: 0.6932 - accuracy: 0.4911 - val_loss: 0.6935 - val_accuracy: 0.4617\n",
            "Epoch 57/100\n",
            "38/38 [==============================] - 22s 508ms/step - loss: 0.6932 - accuracy: 0.5004 - val_loss: 0.6932 - val_accuracy: 0.4951\n",
            "Epoch 58/100\n",
            "38/38 [==============================] - 16s 348ms/step - loss: 0.6932 - accuracy: 0.5013 - val_loss: 0.6931 - val_accuracy: 0.5147\n",
            "Epoch 00058: early stopping\n"
          ]
        }
      ]
    },
    {
      "cell_type": "markdown",
      "source": [
        "# 모델 저장하기"
      ],
      "metadata": {
        "id": "EeBf9w-mMuRH"
      }
    },
    {
      "cell_type": "code",
      "source": [
        "model.save('model/inception_model.h5')"
      ],
      "metadata": {
        "id": "nCb2kBh3MtcA"
      },
      "execution_count": 55,
      "outputs": []
    },
    {
      "cell_type": "markdown",
      "source": [
        "# 학습 결과 확인하기"
      ],
      "metadata": {
        "id": "eyQCz7L2Mo30"
      }
    },
    {
      "cell_type": "code",
      "source": [
        "loss = history.history['loss']\n",
        "val_loss = history.history['val_loss']\n",
        "\n",
        "plt.figure()\n",
        "plt.plot(loss, 'ro-')\n",
        "plt.plot(val_loss, 'bo-')\n",
        "plt.ylabel('Cross Entropy')\n",
        "plt.xlabel('Epoch')\n",
        "plt.title('Training and Validation Loss')\n",
        "plt.show()"
      ],
      "metadata": {
        "colab": {
          "base_uri": "https://localhost:8080/",
          "height": 295
        },
        "id": "X4e2RrV5JCM4",
        "outputId": "beee5763-653c-4a3e-9ce1-a9f42c1527de"
      },
      "execution_count": 54,
      "outputs": [
        {
          "output_type": "display_data",
          "data": {
            "image/png": "[encoded data removed]",
            "text/plain": [
              "<Figure size 432x288 with 1 Axes>"
            ]
          },
          "metadata": {
            "needs_background": "light"
          }
        }
      ]
    },
    {
      "cell_type": "code",
      "source": [
        "from google.colab import files\n",
        "files.download('/content/model/inception_model.h5')"
      ],
      "metadata": {
        "colab": {
          "base_uri": "https://localhost:8080/",
          "height": 17
        },
        "id": "TSRugiIZMq6Y",
        "outputId": "ad6f97b6-b7f8-4360-8693-0732bd18ce39"
      },
      "execution_count": 57,
      "outputs": [
        {
          "output_type": "display_data",
          "data": {
            "application/javascript": [
              "\n",
              "    async function download(id, filename, size) {\n",
              "      if (!google.colab.kernel.accessAllowed) {\n",
              "        return;\n",
              "      }\n",
              "      const div = document.createElement('div');\n",
              "      const label = document.createElement('label');\n",
              "      label.textContent = `Downloading \"${filename}\": `;\n",
              "      div.appendChild(label);\n",
              "      const progress = document.createElement('progress');\n",
              "      progress.max = size;\n",
              "      div.appendChild(progress);\n",
              "      document.body.appendChild(div);\n",
              "\n",
              "      const buffers = [];\n",
              "      let downloaded = 0;\n",
              "\n",
              "      const channel = await google.colab.kernel.comms.open(id);\n",
              "      // Send a message to notify the kernel that we're ready.\n",
              "      channel.send({})\n",
              "\n",
              "      for await (const message of channel.messages) {\n",
              "        // Send a message to notify the kernel that we're ready.\n",
              "        channel.send({})\n",
              "        if (message.buffers) {\n",
              "          for (const buffer of message.buffers) {\n",
              "            buffers.push(buffer);\n",
              "            downloaded += buffer.byteLength;\n",
              "            progress.value = downloaded;\n",
              "          }\n",
              "        }\n",
              "      }\n",
              "      const blob = new Blob(buffers, {type: 'application/binary'});\n",
              "      const a = document.createElement('a');\n",
              "      a.href = window.URL.createObjectURL(blob);\n",
              "      a.download = filename;\n",
              "      div.appendChild(a);\n",
              "      a.click();\n",
              "      div.remove();\n",
              "    }\n",
              "  "
            ],
            "text/plain": [
              "<IPython.core.display.Javascript object>"
            ]
          },
          "metadata": {}
        },
        {
          "output_type": "display_data",
          "data": {
            "application/javascript": [
              "download(\"download_d6c9771d-8108-40c9-9816-41ddb3080b3e\", \"inception_model.h5\", 76945280)"
            ],
            "text/plain": [
              "<IPython.core.display.Javascript object>"
            ]
          },
          "metadata": {}
        }
      ]
    }
  ]
}