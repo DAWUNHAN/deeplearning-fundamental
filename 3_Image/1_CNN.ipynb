{
  "nbformat": 4,
  "nbformat_minor": 0,
  "metadata": {
    "colab": {
      "name": "CNN.ipynb",
      "provenance": [],
      "collapsed_sections": [],
      "authorship_tag": "ABX9TyN8B7Jrr+MKJJtOfOp0TF/N",
      "include_colab_link": true
    },
    "kernelspec": {
      "name": "python3",
      "display_name": "Python 3"
    },
    "language_info": {
      "name": "python"
    },
    "accelerator": "GPU"
  },
  "cells": [
    {
      "cell_type": "markdown",
      "metadata": {
        "id": "view-in-github",
        "colab_type": "text"
      },
      "source": [
        "<a href=\"https://colab.research.google.com/github/DAWUNHAN/deeplearning-fundamental/blob/master/CNN.ipynb\" target=\"_parent\"><img src=\"https://colab.research.google.com/assets/colab-badge.svg\" alt=\"Open In Colab\"/></a>"
      ]
    },
    {
      "cell_type": "markdown",
      "source": [
        "#CNN (Convolution Neural Network)\n",
        "## CNN의 장점\n",
        "- Dense layer로 사용할 때는 분류 대상이 이미지에서 정중앙에 위치해 있어야 성능이 좋게 나온다.\n",
        "- CNN의 경우 분류 대상이 이미지의 어디에 위치하는지 (가장자리에 있을 수도 있다) 모르는 경우에도 성능이 나온다.\n",
        "</br>\n",
        "</br>\n",
        "\n",
        "## CNN 모델\n",
        "- CNN은 Feature Extractor + Classifier이다.\n",
        "- Classification에 맞는 최적의 feature를 추출\n",
        "- 최적의 feature 추출을 위한 최적 weight 값을 계산\n",
        "- 최적 feature 추출을 위한 필터 (필터 weight) 값을 계산\n",
        "</br>\n",
        "</br>\n",
        "\n",
        "## 이미지 필터\n",
        "- 이미지 필터링은 다양한 수식을 적용하여 이미지를 이루고 있는 픽셀 배열을 변경하여 이미지를 변형하는 것을 지칭.\n",
        "</br>\n",
        "</br>\n",
        "\n",
        "\n",
        "## 필터 (Filter)와 커널 (Kenel)\n",
        "- 필터=커널=윈도우 혼용되어서 사용된다. \n",
        "- 명확히 구분하자면 필터는 여러 개의 kernel로 구성되어 있으며, 개별 kernel은 필터 내에서 서로 다른 값을 가질 수 있다.\n",
        "- 커널의 개수 = 채널의 개수\n",
        "\n",
        "`conv_out_01 = Conv2D(filters=32, kernel_size=3(input_tensor)` \n",
        "= 커널 사이즈가 3*3를 가지는 필터 32개를 가지겠다. \n",
        "</br>\n",
        "</br>\n",
        "\n",
        "### Kernal size 특징\n",
        "- 대부분이 정방 행렬 (예, 3*3, 5*5과 같은 행렬). 요즘 7*7은 거의 안쓰인다.\n",
        "- Convolution Filter를 Kernel로도 지칭.\n",
        "- 커널 크기가 클수록 입력 feature map에서 더 큰 feature 정보를 가져올 수 있음.\n",
        "  - 더 많은 연산량과 파라미터가 필요하다. \n",
        "- Receptive Field (수용장) : 입력 (Image 또는 Feature map)에서 feature를 만드는 영역의 기본 크기 (size)\n",
        "</br>\n",
        "</br>\n",
        "\n",
        "## Feature Map\n",
        "- 컨볼루션 연산을 적용한 결과\n",
        "- 컨볼루션 레이어를 적용할 때마다 여러개의 feature map이 나온다. \n",
        "</br>\n",
        "</br>\n",
        "\n",
        "## Stride 개요\n",
        "- 입력 데이터 (원본 이미지 또는 입력 feature map)에 Conv Filter를 적용할 때 sliding window가 이동하는 간격\n",
        "- stride를 키우면 공간적인 feature 특성을 손실할 가능성이 높아지지만, 이것이 반듯이 손실을 의미하지는 않음. 오히려 불필요한 특성을 제거하는 효과를 가져올 수 있다. 또한 convolution 연산 속도를 향상 시킨다.\n",
        "\n",
        "## Padding\n",
        "- Filter를 적용하여 Conv 연산 수행 시 출력 Feature Map이 입력 Feature Map 대비 계속적으로 작아지는 것을 막기 위해 적용\n",
        "- Filter 적용 전 보존하려는 Feature Map 크기에 맞게 입력 Feature Map의 좌우, 상하 끝에 각각 열과 행을 추가 한 뒤 0을 채워 Feature Map 사이즈를 증가시킨다. \n",
        "- 즉 기존 피처 맵 4*4에 제로 패딩을 하면 6*6이 된다. 거기에 2*2 필터를 적용하면 기존 크기와 같이 4*4가 된다. \n",
        "- 모서리 주변의 Conv 연산 횟수가 증가되어 모서리 주변 feature 들의 특징을 보다 강화한다.\n",
        "- Keras에서 Conv2D()인자로 padding='same'을 넣어주면 자동으로 입력 feature map의 크기를 출력 feature map에서 유지할 수 있게 padding 면적을 계산하여 적용한다. \n",
        "- padding='valid'를 적용하면 별도의 padding을 적용하지 않고, Conv 연산 수행.\n",
        "</br>\n",
        "</br>\n",
        "\n",
        "## Pooling\n",
        "- Conv 적용된 feature map의 일정 영역 별로 하나의 값을 추출하여 (최대값 또는 평균값) feature map의 사이즈를 줄인다. 일반적으로 Pooling 크기와 stride를 동일하여 부여하여 모든 값이 한번만 처리되게 한다. \n",
        "- 보통은 Conv -> ReLU activation 적용 후, activation map에 pooling 적용.\n",
        "- Pooling은 비슷한 feature들이 서로 다른 이미지에서 위치가 달라지면서 다르게 해석되는 현상을 중화 시켜준다.\n",
        "- Feature Map의 크기를 줄이므로 Computation 연산 성능 향상 시킨다. \n",
        "- 근래에는 pooling을 안쓰려는 추세이다. \n",
        "- 과거 LeNet, AlexNet, VGG의 경우 Cnn(Stride/Padding) -> Activation -> Pooling. \n",
        "- ResNet 이후부터는 Pooling을 자제하고 stride를 이용하여 네트워크를 구성하는 편이다. \n"
      ],
      "metadata": {
        "id": "LsvkuvoKoI9T"
      }
    },
    {
      "cell_type": "markdown",
      "source": [
        "## Convolution 실습"
      ],
      "metadata": {
        "id": "Uv_-TLWHPt_t"
      }
    },
    {
      "cell_type": "code",
      "source": [
        "import numpy as np # linear algebra\n",
        "import pandas as pd # data processing, CSV file I/O (e.g. pd.read_csv)\n",
        "import os"
      ],
      "metadata": {
        "id": "MfgP_CYHnx0e"
      },
      "execution_count": 1,
      "outputs": []
    },
    {
      "cell_type": "markdown",
      "source": [
        "### Conv2D 적용하기\n",
        "* Conv2D() 를 모델에 적용 시에는 반드시 입력은 배치 크기를 제외하고 3차원이 되어야 함(즉 배치를 포함하면 4차원)  "
      ],
      "metadata": {
        "id": "_Pae_iHiPoAp"
      }
    },
    {
      "cell_type": "code",
      "source": [
        "from tensorflow.keras.layers import Input, Conv2D, MaxPooling2D\n",
        "from tensorflow.keras.models import Model\n",
        "\n",
        "input_tensor = Input(shape=(28, 28, 1))\n",
        "x = Conv2D(filters=4, kernel_size=3, strides=1, padding='same', activation='relu')(input_tensor)\n",
        "print('x type:', type(x), 'x:', x)\n",
        "\n",
        "'''\n",
        "TensorSpec(shape=(None, 28, 28, 4)를 보면 None은 배치 사이즈를 의미한다.\n",
        "4는 필터 개수를 의미.\n",
        "1개의 필터는 무조건 3차원 (입력 인풋, 배치 제외하고 3차원). \n",
        "피처 맵도 3차원.\n",
        "채널(커널)이 2차원. \n",
        "입력으로 들어오는 채널의 차원((28, 28, 1)에서 1을 의미)과 커널의 수가 같다. (즉 여기서 1개의 필터의 커널 수는 1개)\n",
        "'''"
      ],
      "metadata": {
        "colab": {
          "base_uri": "https://localhost:8080/"
        },
        "id": "ze8BHUQ_PzDW",
        "outputId": "deb2bcab-ca70-4af2-8089-e3216c78750c"
      },
      "execution_count": 2,
      "outputs": [
        {
          "output_type": "stream",
          "name": "stdout",
          "text": [
            "x type: <class 'keras.engine.keras_tensor.KerasTensor'> x: KerasTensor(type_spec=TensorSpec(shape=(None, 28, 28, 4), dtype=tf.float32, name=None), name='conv2d/Relu:0', description=\"created by layer 'conv2d'\")\n"
          ]
        }
      ]
    },
    {
      "cell_type": "markdown",
      "source": [
        "### Pooling 적용하기"
      ],
      "metadata": {
        "id": "Trk3qyK1QEc9"
      }
    },
    {
      "cell_type": "code",
      "source": [
        "input_tensor = Input(shape=(28, 28, 1))\n",
        "x = Conv2D(filters=16, kernel_size=3, strides=1, padding='same', activation='relu')(input_tensor)\n",
        "x = MaxPooling2D(2)(x)\n",
        "print(x)"
      ],
      "metadata": {
        "colab": {
          "base_uri": "https://localhost:8080/"
        },
        "id": "VLXOxSjeP3R2",
        "outputId": "de908e34-6067-4f3b-af33-43f8684e7468"
      },
      "execution_count": 3,
      "outputs": [
        {
          "output_type": "stream",
          "name": "stdout",
          "text": [
            "KerasTensor(type_spec=TensorSpec(shape=(None, 14, 14, 16), dtype=tf.float32, name=None), name='max_pooling2d/MaxPool:0', description=\"created by layer 'max_pooling2d'\")\n"
          ]
        }
      ]
    },
    {
      "cell_type": "markdown",
      "source": [
        "### CNN 모델 생성"
      ],
      "metadata": {
        "id": "9vBa9AroTsDd"
      }
    },
    {
      "cell_type": "code",
      "source": [
        "input_tensor = Input(shape=(28, 28, 1))\n",
        "x = Conv2D(filters=32, kernel_size=3, strides=1, padding='same', activation='relu')(input_tensor)\n",
        "x = Conv2D(filters=64, kernel_size=3, activation='relu')(x)\n",
        "x = MaxPooling2D(2)(x)\n",
        "\n",
        "model = Model(inputs=input_tensor, outputs=x)\n",
        "model.summary()\n",
        "\n",
        "'''\n",
        "Param # : 320이 나온 이유 => 9*32 + 32 = 320\n",
        "Param # : 18496이 나온 이유 => 3*3*32*64 + 64 = 18496 \n",
        "'''"
      ],
      "metadata": {
        "colab": {
          "base_uri": "https://localhost:8080/"
        },
        "id": "A3baBv0eQGMc",
        "outputId": "8ca9dc42-d669-461c-ed90-f9e046b73783"
      },
      "execution_count": 4,
      "outputs": [
        {
          "output_type": "stream",
          "name": "stdout",
          "text": [
            "Model: \"model\"\n",
            "_________________________________________________________________\n",
            " Layer (type)                Output Shape              Param #   \n",
            "=================================================================\n",
            " input_3 (InputLayer)        [(None, 28, 28, 1)]       0         \n",
            "                                                                 \n",
            " conv2d_2 (Conv2D)           (None, 28, 28, 32)        320       \n",
            "                                                                 \n",
            " conv2d_3 (Conv2D)           (None, 26, 26, 64)        18496     \n",
            "                                                                 \n",
            " max_pooling2d_1 (MaxPooling  (None, 13, 13, 64)       0         \n",
            " 2D)                                                             \n",
            "                                                                 \n",
            "=================================================================\n",
            "Total params: 18,816\n",
            "Trainable params: 18,816\n",
            "Non-trainable params: 0\n",
            "_________________________________________________________________\n"
          ]
        }
      ]
    },
    {
      "cell_type": "code",
      "source": [
        "from tensorflow.keras.layers import Dense, Flatten\n",
        "\n",
        "input_tensor = Input(shape=(28, 28, 1))\n",
        "x = Conv2D(filters=32, kernel_size=3, strides=1, padding='same', activation='relu')(input_tensor)\n",
        "x = Conv2D(filters=64, kernel_size=3, activation='relu')(x)\n",
        "x = MaxPooling2D(2)(x)\n",
        "\n",
        "# 3차원으로 되어있는 Feature map 결과를 Fully Connected 연결하기 위해서는 Flatten()을 적용해야함. \n",
        "x = Flatten()(x)\n",
        "x = Dense(100, activation='relu')(x)\n",
        "output = Dense(10, activation='softmax')(x)\n",
        "model = Model(inputs=input_tensor, outputs=output)\n",
        "model.summary()\n",
        "\n",
        "'''\n",
        "max_pooling 층에서는 파라미터 없음.\n",
        "'''"
      ],
      "metadata": {
        "colab": {
          "base_uri": "https://localhost:8080/"
        },
        "id": "KyxdRO1CTt_P",
        "outputId": "e5e0d359-1b41-4009-858b-8820fd9a1c62"
      },
      "execution_count": 5,
      "outputs": [
        {
          "output_type": "stream",
          "name": "stdout",
          "text": [
            "Model: \"model_1\"\n",
            "_________________________________________________________________\n",
            " Layer (type)                Output Shape              Param #   \n",
            "=================================================================\n",
            " input_4 (InputLayer)        [(None, 28, 28, 1)]       0         \n",
            "                                                                 \n",
            " conv2d_4 (Conv2D)           (None, 28, 28, 32)        320       \n",
            "                                                                 \n",
            " conv2d_5 (Conv2D)           (None, 26, 26, 64)        18496     \n",
            "                                                                 \n",
            " max_pooling2d_2 (MaxPooling  (None, 13, 13, 64)       0         \n",
            " 2D)                                                             \n",
            "                                                                 \n",
            " flatten (Flatten)           (None, 10816)             0         \n",
            "                                                                 \n",
            " dense (Dense)               (None, 100)               1081700   \n",
            "                                                                 \n",
            " dense_1 (Dense)             (None, 10)                1010      \n",
            "                                                                 \n",
            "=================================================================\n",
            "Total params: 1,101,526\n",
            "Trainable params: 1,101,526\n",
            "Non-trainable params: 0\n",
            "_________________________________________________________________\n"
          ]
        }
      ]
    },
    {
      "cell_type": "markdown",
      "source": [
        "### Fashion MNIST 데이터 전처리후 모델 학습"
      ],
      "metadata": {
        "id": "hAvc72o6amQH"
      }
    },
    {
      "cell_type": "code",
      "source": [
        "from tensorflow.keras.datasets import fashion_mnist\n",
        "import numpy as np\n",
        "from tensorflow.keras.utils import to_categorical\n",
        "from sklearn.model_selection import train_test_split\n",
        "\n",
        "# 전체 6만개 데이터 중, 5만개는 학습 데이터용, 1만개는 테스트 데이터용으로 분리\n",
        "(train_images, train_labels), (test_images, test_labels) = fashion_mnist.load_data()\n",
        "\n",
        "def get_preprocessed_data(images, labels):\n",
        "    \n",
        "    # 학습과 테스트 이미지 array를 0~1 사이값으로 scale 및 float32 형 변형. \n",
        "    images = np.array(images/255.0, dtype=np.float32)\n",
        "    labels = np.array(labels, dtype=np.float32)\n",
        "    \n",
        "    return images, labels\n",
        "\n",
        "# 0 ~ 1사이값 float32로 변경하는 함수 호출 한 뒤 OHE 적용 \n",
        "def get_preprocessed_ohe(images, labels):\n",
        "    images, labels = get_preprocessed_data(images, labels)\n",
        "    # OHE 적용 \n",
        "    oh_labels = to_categorical(labels)\n",
        "    return images, oh_labels\n",
        "\n",
        "# 학습/검증/테스트 데이터 세트에 전처리 및 OHE 적용한 뒤 반환 \n",
        "def get_train_valid_test_set(train_images, train_labels, test_images, test_labels, valid_size=0.15, random_state=2021):\n",
        "    # 학습 및 테스트 데이터 세트를  0 ~ 1사이값 float32로 변경 및 OHE 적용. \n",
        "    train_images, train_oh_labels = get_preprocessed_ohe(train_images, train_labels)\n",
        "    test_images, test_oh_labels = get_preprocessed_ohe(test_images, test_labels)\n",
        "    \n",
        "    # 학습 데이터를 검증 데이터 세트로 다시 분리\n",
        "    tr_images, val_images, tr_oh_labels, val_oh_labels = train_test_split(train_images, train_oh_labels, test_size=valid_size, random_state=random_state)\n",
        "    \n",
        "    return (tr_images, tr_oh_labels), (val_images, val_oh_labels), (test_images, test_oh_labels ) \n",
        "\n",
        "\n",
        "# Fashion MNIST 데이터 재 로딩 및 전처리 적용하여 학습/검증/데이터 세트 생성. \n",
        "\n",
        "(train_images, train_labels), (test_images, test_labels) = fashion_mnist.load_data()\n",
        "print(train_images.shape, train_labels.shape, test_images.shape, test_labels.shape)\n",
        "(tr_images, tr_oh_labels), (val_images, val_oh_labels), (test_images, test_oh_labels) = \\\n",
        "    get_train_valid_test_set(train_images, train_labels, test_images, test_labels, valid_size=0.15, random_state=2021)\n",
        "print(tr_images.shape, tr_oh_labels.shape, val_images.shape, val_oh_labels.shape, test_images.shape, test_labels.shape)"
      ],
      "metadata": {
        "colab": {
          "base_uri": "https://localhost:8080/"
        },
        "id": "Kx0XMW7jZlGL",
        "outputId": "1107fc90-2d11-489b-a825-fc42f8121407"
      },
      "execution_count": 6,
      "outputs": [
        {
          "output_type": "stream",
          "name": "stdout",
          "text": [
            "Downloading data from https://storage.googleapis.com/tensorflow/tf-keras-datasets/train-labels-idx1-ubyte.gz\n",
            "32768/29515 [=================================] - 0s 0us/step\n",
            "40960/29515 [=========================================] - 0s 0us/step\n",
            "Downloading data from https://storage.googleapis.com/tensorflow/tf-keras-datasets/train-images-idx3-ubyte.gz\n",
            "26427392/26421880 [==============================] - 0s 0us/step\n",
            "26435584/26421880 [==============================] - 0s 0us/step\n",
            "Downloading data from https://storage.googleapis.com/tensorflow/tf-keras-datasets/t10k-labels-idx1-ubyte.gz\n",
            "16384/5148 [===============================================================================================] - 0s 0us/step\n",
            "Downloading data from https://storage.googleapis.com/tensorflow/tf-keras-datasets/t10k-images-idx3-ubyte.gz\n",
            "4423680/4422102 [==============================] - 0s 0us/step\n",
            "4431872/4422102 [==============================] - 0s 0us/step\n",
            "(60000, 28, 28) (60000,) (10000, 28, 28) (10000,)\n",
            "(51000, 28, 28) (51000, 10) (9000, 28, 28) (9000, 10) (10000, 28, 28) (10000,)\n"
          ]
        }
      ]
    },
    {
      "cell_type": "code",
      "source": [
        "from tensorflow.keras.utils import to_categorical\n",
        "from tensorflow.keras.optimizers import Adam\n",
        "from tensorflow.keras.losses import CategoricalCrossentropy\n",
        "from tensorflow.keras.metrics import Accuracy\n",
        "\n",
        "model.compile(optimizer=Adam(0.001), loss='categorical_crossentropy', metrics=['accuracy'])"
      ],
      "metadata": {
        "id": "htAiKsILaof1"
      },
      "execution_count": 7,
      "outputs": []
    },
    {
      "cell_type": "code",
      "source": [
        "history = model.fit(x=tr_images, y=tr_oh_labels, batch_size=128, epochs=30, validation_data=(val_images, val_oh_labels))"
      ],
      "metadata": {
        "colab": {
          "base_uri": "https://localhost:8080/"
        },
        "id": "3J3UjWT0a0Qp",
        "outputId": "fa4c9e61-75d4-4739-ec32-144e1d8a59e3"
      },
      "execution_count": 8,
      "outputs": [
        {
          "output_type": "stream",
          "name": "stdout",
          "text": [
            "Epoch 1/30\n",
            "399/399 [==============================] - 12s 7ms/step - loss: 0.4341 - accuracy: 0.8455 - val_loss: 0.3318 - val_accuracy: 0.8802\n",
            "Epoch 2/30\n",
            "399/399 [==============================] - 3s 7ms/step - loss: 0.2686 - accuracy: 0.9035 - val_loss: 0.2674 - val_accuracy: 0.9058\n",
            "Epoch 3/30\n",
            "399/399 [==============================] - 3s 6ms/step - loss: 0.2164 - accuracy: 0.9222 - val_loss: 0.2553 - val_accuracy: 0.9049\n",
            "Epoch 4/30\n",
            "399/399 [==============================] - 3s 7ms/step - loss: 0.1749 - accuracy: 0.9360 - val_loss: 0.2258 - val_accuracy: 0.9201\n",
            "Epoch 5/30\n",
            "399/399 [==============================] - 3s 6ms/step - loss: 0.1452 - accuracy: 0.9455 - val_loss: 0.2151 - val_accuracy: 0.9270\n",
            "Epoch 6/30\n",
            "399/399 [==============================] - 3s 7ms/step - loss: 0.1178 - accuracy: 0.9577 - val_loss: 0.2360 - val_accuracy: 0.9183\n",
            "Epoch 7/30\n",
            "399/399 [==============================] - 3s 6ms/step - loss: 0.0925 - accuracy: 0.9658 - val_loss: 0.2378 - val_accuracy: 0.9230\n",
            "Epoch 8/30\n",
            "399/399 [==============================] - 3s 7ms/step - loss: 0.0741 - accuracy: 0.9726 - val_loss: 0.2603 - val_accuracy: 0.9219\n",
            "Epoch 9/30\n",
            "399/399 [==============================] - 3s 7ms/step - loss: 0.0554 - accuracy: 0.9799 - val_loss: 0.2872 - val_accuracy: 0.9212\n",
            "Epoch 10/30\n",
            "399/399 [==============================] - 3s 6ms/step - loss: 0.0471 - accuracy: 0.9834 - val_loss: 0.3101 - val_accuracy: 0.9218\n",
            "Epoch 11/30\n",
            "399/399 [==============================] - 3s 8ms/step - loss: 0.0353 - accuracy: 0.9877 - val_loss: 0.3662 - val_accuracy: 0.9124\n",
            "Epoch 12/30\n",
            "399/399 [==============================] - 3s 8ms/step - loss: 0.0278 - accuracy: 0.9907 - val_loss: 0.3507 - val_accuracy: 0.9222\n",
            "Epoch 13/30\n",
            "399/399 [==============================] - 3s 7ms/step - loss: 0.0226 - accuracy: 0.9924 - val_loss: 0.3667 - val_accuracy: 0.9220\n",
            "Epoch 14/30\n",
            "399/399 [==============================] - 3s 6ms/step - loss: 0.0224 - accuracy: 0.9926 - val_loss: 0.4097 - val_accuracy: 0.9222\n",
            "Epoch 15/30\n",
            "399/399 [==============================] - 3s 7ms/step - loss: 0.0205 - accuracy: 0.9933 - val_loss: 0.3875 - val_accuracy: 0.9221\n",
            "Epoch 16/30\n",
            "399/399 [==============================] - 3s 7ms/step - loss: 0.0154 - accuracy: 0.9951 - val_loss: 0.4417 - val_accuracy: 0.9218\n",
            "Epoch 17/30\n",
            "399/399 [==============================] - 4s 9ms/step - loss: 0.0116 - accuracy: 0.9964 - val_loss: 0.4684 - val_accuracy: 0.9186\n",
            "Epoch 18/30\n",
            "399/399 [==============================] - 4s 9ms/step - loss: 0.0138 - accuracy: 0.9957 - val_loss: 0.4343 - val_accuracy: 0.9262\n",
            "Epoch 19/30\n",
            "399/399 [==============================] - 3s 6ms/step - loss: 0.0099 - accuracy: 0.9968 - val_loss: 0.4449 - val_accuracy: 0.9217\n",
            "Epoch 20/30\n",
            "399/399 [==============================] - 3s 7ms/step - loss: 0.0157 - accuracy: 0.9947 - val_loss: 0.4696 - val_accuracy: 0.9282\n",
            "Epoch 21/30\n",
            "399/399 [==============================] - 3s 7ms/step - loss: 0.0129 - accuracy: 0.9958 - val_loss: 0.4864 - val_accuracy: 0.9203\n",
            "Epoch 22/30\n",
            "399/399 [==============================] - 3s 6ms/step - loss: 0.0081 - accuracy: 0.9974 - val_loss: 0.4987 - val_accuracy: 0.9233\n",
            "Epoch 23/30\n",
            "399/399 [==============================] - 3s 7ms/step - loss: 0.0092 - accuracy: 0.9973 - val_loss: 0.4930 - val_accuracy: 0.9232\n",
            "Epoch 24/30\n",
            "399/399 [==============================] - 3s 6ms/step - loss: 0.0111 - accuracy: 0.9962 - val_loss: 0.5493 - val_accuracy: 0.9143\n",
            "Epoch 25/30\n",
            "399/399 [==============================] - 3s 7ms/step - loss: 0.0132 - accuracy: 0.9954 - val_loss: 0.5028 - val_accuracy: 0.9248\n",
            "Epoch 26/30\n",
            "399/399 [==============================] - 3s 7ms/step - loss: 0.0083 - accuracy: 0.9971 - val_loss: 0.5329 - val_accuracy: 0.9214\n",
            "Epoch 27/30\n",
            "399/399 [==============================] - 3s 6ms/step - loss: 0.0106 - accuracy: 0.9963 - val_loss: 0.5044 - val_accuracy: 0.9257\n",
            "Epoch 28/30\n",
            "399/399 [==============================] - 3s 7ms/step - loss: 0.0057 - accuracy: 0.9984 - val_loss: 0.5679 - val_accuracy: 0.9231\n",
            "Epoch 29/30\n",
            "399/399 [==============================] - 3s 6ms/step - loss: 0.0079 - accuracy: 0.9975 - val_loss: 0.5816 - val_accuracy: 0.9210\n",
            "Epoch 30/30\n",
            "399/399 [==============================] - 3s 7ms/step - loss: 0.0095 - accuracy: 0.9967 - val_loss: 0.5543 - val_accuracy: 0.9239\n"
          ]
        }
      ]
    },
    {
      "cell_type": "markdown",
      "source": [
        "### 모델 성능 평가"
      ],
      "metadata": {
        "id": "2Bar5WMxa-Z8"
      }
    },
    {
      "cell_type": "code",
      "source": [
        "import matplotlib.pyplot as plt\n",
        "%matplotlib inline\n",
        "\n",
        "def show_history(history):\n",
        "    plt.plot(history.history['accuracy'], label='train')\n",
        "    plt.plot(history.history['val_accuracy'], label='valid')\n",
        "    plt.legend()\n",
        "    \n",
        "show_history(history)"
      ],
      "metadata": {
        "colab": {
          "base_uri": "https://localhost:8080/",
          "height": 265
        },
        "id": "lTJsF0nWa1uj",
        "outputId": "1fe5af5d-420d-456c-f5c8-eff68e83b9f6"
      },
      "execution_count": 9,
      "outputs": [
        {
          "output_type": "display_data",
          "data": {
            "image/png": "[encoded data removed]",
            "text/plain": [
              "<Figure size 432x288 with 1 Axes>"
            ]
          },
          "metadata": {
            "needs_background": "light"
          }
        }
      ]
    },
    {
      "cell_type": "code",
      "source": [
        "# 테스트 데이터 세트로 모델 성능 검증\n",
        "model.evaluate(test_images, test_oh_labels, batch_size=256, verbose=1)"
      ],
      "metadata": {
        "colab": {
          "base_uri": "https://localhost:8080/"
        },
        "id": "DHvxytYcbbgu",
        "outputId": "41b95964-d782-46ca-da3c-894060e84844"
      },
      "execution_count": 10,
      "outputs": [
        {
          "output_type": "stream",
          "name": "stdout",
          "text": [
            "40/40 [==============================] - 0s 7ms/step - loss: 0.5936 - accuracy: 0.9165\n"
          ]
        },
        {
          "output_type": "execute_result",
          "data": {
            "text/plain": [
              "[0.5936262011528015, 0.9164999723434448]"
            ]
          },
          "metadata": {},
          "execution_count": 10
        }
      ]
    },
    {
      "cell_type": "markdown",
      "source": [
        "### Dropout을 적용하여 Fully Connected Layer의 오버피팅 조정\n",
        "* CNN은 일반적으로 Dense Layer보다는 파라미터수(weight 수) 작음\n",
        "* 하지만 많은 Filter 들을 적용하고 이를  Fully Connected Layer로 연결 시 파라미터 수가 늘어남. \n",
        "* Flatten() 이후 Dropout을 적용하여 특정 비율로 FC Layer 연결을 누락 적용. "
      ],
      "metadata": {
        "id": "6lXZFIC2beuv"
      }
    },
    {
      "cell_type": "code",
      "source": [
        "from tensorflow.keras.layers import Dense, Flatten, Dropout\n",
        "\n",
        "input_tensor = Input(shape=(28, 28, 1))\n",
        "x = Conv2D(filters=32, kernel_size=3, strides=1, padding='same', activation='relu')(input_tensor)\n",
        "x = Conv2D(filters=64, kernel_size=3, activation='relu')(x)\n",
        "x = MaxPooling2D(2)(x)\n",
        "\n",
        "x = Flatten()(x)\n",
        "x = Dropout(rate=0.5)(x)\n",
        "x = Dense(100, activation='relu')(x)\n",
        "output = Dense(10, activation='softmax')(x)\n",
        "model = Model(inputs=input_tensor, outputs=output)\n",
        "model.summary()"
      ],
      "metadata": {
        "colab": {
          "base_uri": "https://localhost:8080/"
        },
        "id": "4N28YWinbfmY",
        "outputId": "e954a13d-6cc1-46af-d2b8-3f10944bbc1c"
      },
      "execution_count": 11,
      "outputs": [
        {
          "output_type": "stream",
          "name": "stdout",
          "text": [
            "Model: \"model_2\"\n",
            "_________________________________________________________________\n",
            " Layer (type)                Output Shape              Param #   \n",
            "=================================================================\n",
            " input_5 (InputLayer)        [(None, 28, 28, 1)]       0         \n",
            "                                                                 \n",
            " conv2d_6 (Conv2D)           (None, 28, 28, 32)        320       \n",
            "                                                                 \n",
            " conv2d_7 (Conv2D)           (None, 26, 26, 64)        18496     \n",
            "                                                                 \n",
            " max_pooling2d_3 (MaxPooling  (None, 13, 13, 64)       0         \n",
            " 2D)                                                             \n",
            "                                                                 \n",
            " flatten_1 (Flatten)         (None, 10816)             0         \n",
            "                                                                 \n",
            " dropout (Dropout)           (None, 10816)             0         \n",
            "                                                                 \n",
            " dense_2 (Dense)             (None, 100)               1081700   \n",
            "                                                                 \n",
            " dense_3 (Dense)             (None, 10)                1010      \n",
            "                                                                 \n",
            "=================================================================\n",
            "Total params: 1,101,526\n",
            "Trainable params: 1,101,526\n",
            "Non-trainable params: 0\n",
            "_________________________________________________________________\n"
          ]
        }
      ]
    },
    {
      "cell_type": "code",
      "source": [
        "model.compile(optimizer=Adam(0.001), loss='categorical_crossentropy', metrics=['accuracy'])\n",
        "history = model.fit(x=tr_images, y=tr_oh_labels, batch_size=128, epochs=30, validation_data=(val_images, val_oh_labels))"
      ],
      "metadata": {
        "colab": {
          "base_uri": "https://localhost:8080/"
        },
        "id": "jdfB0BBubg2G",
        "outputId": "d881ff6d-0452-40c1-cbcd-4f777ec00832"
      },
      "execution_count": 12,
      "outputs": [
        {
          "output_type": "stream",
          "name": "stdout",
          "text": [
            "Epoch 1/30\n",
            "399/399 [==============================] - 4s 9ms/step - loss: 0.4633 - accuracy: 0.8348 - val_loss: 0.3595 - val_accuracy: 0.8656\n",
            "Epoch 2/30\n",
            "399/399 [==============================] - 3s 7ms/step - loss: 0.3127 - accuracy: 0.8878 - val_loss: 0.2833 - val_accuracy: 0.8953\n",
            "Epoch 3/30\n",
            "399/399 [==============================] - 3s 8ms/step - loss: 0.2625 - accuracy: 0.9045 - val_loss: 0.2483 - val_accuracy: 0.9098\n",
            "Epoch 4/30\n",
            "399/399 [==============================] - 3s 9ms/step - loss: 0.2303 - accuracy: 0.9144 - val_loss: 0.2292 - val_accuracy: 0.9164\n",
            "Epoch 5/30\n",
            "399/399 [==============================] - 3s 7ms/step - loss: 0.2082 - accuracy: 0.9228 - val_loss: 0.2232 - val_accuracy: 0.9193\n",
            "Epoch 6/30\n",
            "399/399 [==============================] - 3s 7ms/step - loss: 0.1856 - accuracy: 0.9308 - val_loss: 0.2074 - val_accuracy: 0.9248\n",
            "Epoch 7/30\n",
            "399/399 [==============================] - 3s 7ms/step - loss: 0.1664 - accuracy: 0.9382 - val_loss: 0.2055 - val_accuracy: 0.9239\n",
            "Epoch 8/30\n",
            "399/399 [==============================] - 3s 7ms/step - loss: 0.1484 - accuracy: 0.9452 - val_loss: 0.2208 - val_accuracy: 0.9253\n",
            "Epoch 9/30\n",
            "399/399 [==============================] - 3s 7ms/step - loss: 0.1367 - accuracy: 0.9482 - val_loss: 0.2036 - val_accuracy: 0.9278\n",
            "Epoch 10/30\n",
            "399/399 [==============================] - 3s 7ms/step - loss: 0.1207 - accuracy: 0.9550 - val_loss: 0.2267 - val_accuracy: 0.9212\n",
            "Epoch 11/30\n",
            "399/399 [==============================] - 3s 7ms/step - loss: 0.1125 - accuracy: 0.9578 - val_loss: 0.2148 - val_accuracy: 0.9299\n",
            "Epoch 12/30\n",
            "399/399 [==============================] - 3s 7ms/step - loss: 0.0998 - accuracy: 0.9627 - val_loss: 0.2116 - val_accuracy: 0.9312\n",
            "Epoch 13/30\n",
            "399/399 [==============================] - 3s 7ms/step - loss: 0.0926 - accuracy: 0.9648 - val_loss: 0.2163 - val_accuracy: 0.9319\n",
            "Epoch 14/30\n",
            "399/399 [==============================] - 3s 7ms/step - loss: 0.0808 - accuracy: 0.9690 - val_loss: 0.2083 - val_accuracy: 0.9334\n",
            "Epoch 15/30\n",
            "399/399 [==============================] - 3s 7ms/step - loss: 0.0751 - accuracy: 0.9717 - val_loss: 0.2295 - val_accuracy: 0.9324\n",
            "Epoch 16/30\n",
            "399/399 [==============================] - 3s 7ms/step - loss: 0.0676 - accuracy: 0.9742 - val_loss: 0.2260 - val_accuracy: 0.9321\n",
            "Epoch 17/30\n",
            "399/399 [==============================] - 3s 7ms/step - loss: 0.0628 - accuracy: 0.9765 - val_loss: 0.2401 - val_accuracy: 0.9307\n",
            "Epoch 18/30\n",
            "399/399 [==============================] - 3s 7ms/step - loss: 0.0580 - accuracy: 0.9786 - val_loss: 0.2410 - val_accuracy: 0.9314\n",
            "Epoch 19/30\n",
            "399/399 [==============================] - 3s 7ms/step - loss: 0.0531 - accuracy: 0.9802 - val_loss: 0.2520 - val_accuracy: 0.9311\n",
            "Epoch 20/30\n",
            "399/399 [==============================] - 3s 7ms/step - loss: 0.0503 - accuracy: 0.9814 - val_loss: 0.2592 - val_accuracy: 0.9297\n",
            "Epoch 21/30\n",
            "399/399 [==============================] - 3s 7ms/step - loss: 0.0468 - accuracy: 0.9826 - val_loss: 0.2757 - val_accuracy: 0.9306\n",
            "Epoch 22/30\n",
            "399/399 [==============================] - 3s 7ms/step - loss: 0.0468 - accuracy: 0.9827 - val_loss: 0.2848 - val_accuracy: 0.9276\n",
            "Epoch 23/30\n",
            "399/399 [==============================] - 4s 10ms/step - loss: 0.0425 - accuracy: 0.9846 - val_loss: 0.2468 - val_accuracy: 0.9323\n",
            "Epoch 24/30\n",
            "399/399 [==============================] - 3s 7ms/step - loss: 0.0354 - accuracy: 0.9873 - val_loss: 0.2969 - val_accuracy: 0.9312\n",
            "Epoch 25/30\n",
            "399/399 [==============================] - 3s 7ms/step - loss: 0.0383 - accuracy: 0.9865 - val_loss: 0.2926 - val_accuracy: 0.9307\n",
            "Epoch 26/30\n",
            "399/399 [==============================] - 3s 7ms/step - loss: 0.0332 - accuracy: 0.9879 - val_loss: 0.2904 - val_accuracy: 0.9288\n",
            "Epoch 27/30\n",
            "399/399 [==============================] - 3s 7ms/step - loss: 0.0354 - accuracy: 0.9868 - val_loss: 0.2881 - val_accuracy: 0.9296\n",
            "Epoch 28/30\n",
            "399/399 [==============================] - 3s 7ms/step - loss: 0.0347 - accuracy: 0.9874 - val_loss: 0.3067 - val_accuracy: 0.9319\n",
            "Epoch 29/30\n",
            "399/399 [==============================] - 3s 7ms/step - loss: 0.0315 - accuracy: 0.9887 - val_loss: 0.3047 - val_accuracy: 0.9333\n",
            "Epoch 30/30\n",
            "399/399 [==============================] - 3s 7ms/step - loss: 0.0296 - accuracy: 0.9896 - val_loss: 0.3050 - val_accuracy: 0.9321\n"
          ]
        }
      ]
    },
    {
      "cell_type": "code",
      "source": [
        "show_history(history)\n",
        "model.evaluate(test_images, test_oh_labels, batch_size=256, verbose=1)"
      ],
      "metadata": {
        "colab": {
          "base_uri": "https://localhost:8080/",
          "height": 300
        },
        "id": "n0fmOhuKboPM",
        "outputId": "105440df-e635-4897-a123-be836287e3d8"
      },
      "execution_count": 13,
      "outputs": [
        {
          "output_type": "stream",
          "name": "stdout",
          "text": [
            "40/40 [==============================] - 0s 5ms/step - loss: 0.3332 - accuracy: 0.9299\n"
          ]
        },
        {
          "output_type": "execute_result",
          "data": {
            "text/plain": [
              "[0.3332490622997284, 0.9298999905586243]"
            ]
          },
          "metadata": {},
          "execution_count": 13
        },
        {
          "output_type": "display_data",
          "data": {
            "image/png": "[encoded data removed]",
            "text/plain": [
              "<Figure size 432x288 with 1 Axes>"
            ]
          },
          "metadata": {
            "needs_background": "light"
          }
        }
      ]
    },
    {
      "cell_type": "code",
      "source": [
        "from tensorflow.keras.layers import Dense, Flatten, Dropout, GlobalAveragePooling2D\n",
        "\n",
        "def create_model():\n",
        "    input_tensor = Input(shape=(28, 28, 1))\n",
        "    x = Conv2D(filters=32, kernel_size=3, strides=1, padding='same', activation='relu')(input_tensor)\n",
        "    x = Conv2D(filters=64, kernel_size=3, activation='relu')(x)\n",
        "    x = MaxPooling2D(2)(x)\n",
        "\n",
        "    #x = Dropout(rate=0.5)(x)\n",
        "    x = Flatten()(x)\n",
        "    x = Dropout(rate=0.5)(x)\n",
        "    x = Dense(200, activation='relu')(x)\n",
        "    X = Dropout(rate=0.2)(x)\n",
        "    output = Dense(10, activation='softmax')(x)\n",
        "    model = Model(inputs=input_tensor, outputs=output)\n",
        "    model.summary()\n",
        "    \n",
        "    return model\n",
        "\n",
        "model = create_model()"
      ],
      "metadata": {
        "colab": {
          "base_uri": "https://localhost:8080/"
        },
        "id": "dG2BLpFwcC6Y",
        "outputId": "19d35826-2402-4b04-ca8f-b3cc2c573c02"
      },
      "execution_count": 14,
      "outputs": [
        {
          "output_type": "stream",
          "name": "stdout",
          "text": [
            "Model: \"model_3\"\n",
            "_________________________________________________________________\n",
            " Layer (type)                Output Shape              Param #   \n",
            "=================================================================\n",
            " input_6 (InputLayer)        [(None, 28, 28, 1)]       0         \n",
            "                                                                 \n",
            " conv2d_8 (Conv2D)           (None, 28, 28, 32)        320       \n",
            "                                                                 \n",
            " conv2d_9 (Conv2D)           (None, 26, 26, 64)        18496     \n",
            "                                                                 \n",
            " max_pooling2d_4 (MaxPooling  (None, 13, 13, 64)       0         \n",
            " 2D)                                                             \n",
            "                                                                 \n",
            " flatten_2 (Flatten)         (None, 10816)             0         \n",
            "                                                                 \n",
            " dropout_1 (Dropout)         (None, 10816)             0         \n",
            "                                                                 \n",
            " dense_4 (Dense)             (None, 200)               2163400   \n",
            "                                                                 \n",
            " dense_5 (Dense)             (None, 10)                2010      \n",
            "                                                                 \n",
            "=================================================================\n",
            "Total params: 2,184,226\n",
            "Trainable params: 2,184,226\n",
            "Non-trainable params: 0\n",
            "_________________________________________________________________\n"
          ]
        }
      ]
    },
    {
      "cell_type": "code",
      "source": [
        "model.compile(optimizer=Adam(0.001), loss='categorical_crossentropy', metrics=['accuracy'])\n",
        "history = model.fit(x=tr_images, y=tr_oh_labels, batch_size=128, epochs=30, validation_data=(val_images, val_oh_labels))"
      ],
      "metadata": {
        "colab": {
          "base_uri": "https://localhost:8080/"
        },
        "id": "LE3JLwBacEsr",
        "outputId": "b2f0e77f-9ee0-4648-863b-f57955c64477"
      },
      "execution_count": 15,
      "outputs": [
        {
          "output_type": "stream",
          "name": "stdout",
          "text": [
            "Epoch 1/30\n",
            "399/399 [==============================] - 4s 8ms/step - loss: 0.4366 - accuracy: 0.8456 - val_loss: 0.3226 - val_accuracy: 0.8854\n",
            "Epoch 2/30\n",
            "399/399 [==============================] - 3s 8ms/step - loss: 0.2889 - accuracy: 0.8965 - val_loss: 0.2665 - val_accuracy: 0.9008\n",
            "Epoch 3/30\n",
            "399/399 [==============================] - 4s 11ms/step - loss: 0.2406 - accuracy: 0.9116 - val_loss: 0.2390 - val_accuracy: 0.9110\n",
            "Epoch 4/30\n",
            "399/399 [==============================] - 4s 11ms/step - loss: 0.2089 - accuracy: 0.9218 - val_loss: 0.2354 - val_accuracy: 0.9118\n",
            "Epoch 5/30\n",
            "399/399 [==============================] - 4s 10ms/step - loss: 0.1846 - accuracy: 0.9311 - val_loss: 0.2175 - val_accuracy: 0.9202\n",
            "Epoch 6/30\n",
            "399/399 [==============================] - 3s 8ms/step - loss: 0.1616 - accuracy: 0.9397 - val_loss: 0.2078 - val_accuracy: 0.9266\n",
            "Epoch 7/30\n",
            "399/399 [==============================] - 3s 7ms/step - loss: 0.1442 - accuracy: 0.9452 - val_loss: 0.2012 - val_accuracy: 0.9276\n",
            "Epoch 8/30\n",
            "399/399 [==============================] - 3s 7ms/step - loss: 0.1258 - accuracy: 0.9534 - val_loss: 0.2088 - val_accuracy: 0.9292\n",
            "Epoch 9/30\n",
            "399/399 [==============================] - 3s 7ms/step - loss: 0.1099 - accuracy: 0.9590 - val_loss: 0.2182 - val_accuracy: 0.9290\n",
            "Epoch 10/30\n",
            "399/399 [==============================] - 3s 7ms/step - loss: 0.0974 - accuracy: 0.9629 - val_loss: 0.2122 - val_accuracy: 0.9296\n",
            "Epoch 11/30\n",
            "399/399 [==============================] - 3s 7ms/step - loss: 0.0826 - accuracy: 0.9687 - val_loss: 0.2254 - val_accuracy: 0.9306\n",
            "Epoch 12/30\n",
            "399/399 [==============================] - 3s 7ms/step - loss: 0.0763 - accuracy: 0.9712 - val_loss: 0.2199 - val_accuracy: 0.9293\n",
            "Epoch 13/30\n",
            "399/399 [==============================] - 3s 7ms/step - loss: 0.0666 - accuracy: 0.9755 - val_loss: 0.2326 - val_accuracy: 0.9346\n",
            "Epoch 14/30\n",
            "399/399 [==============================] - 3s 7ms/step - loss: 0.0578 - accuracy: 0.9782 - val_loss: 0.2305 - val_accuracy: 0.9341\n",
            "Epoch 15/30\n",
            "399/399 [==============================] - 3s 7ms/step - loss: 0.0543 - accuracy: 0.9797 - val_loss: 0.2545 - val_accuracy: 0.9310\n",
            "Epoch 16/30\n",
            "399/399 [==============================] - 3s 7ms/step - loss: 0.0483 - accuracy: 0.9824 - val_loss: 0.2550 - val_accuracy: 0.9294\n",
            "Epoch 17/30\n",
            "399/399 [==============================] - 3s 7ms/step - loss: 0.0417 - accuracy: 0.9850 - val_loss: 0.2820 - val_accuracy: 0.9289\n",
            "Epoch 18/30\n",
            "399/399 [==============================] - 3s 7ms/step - loss: 0.0396 - accuracy: 0.9854 - val_loss: 0.2670 - val_accuracy: 0.9346\n",
            "Epoch 19/30\n",
            "399/399 [==============================] - 3s 7ms/step - loss: 0.0362 - accuracy: 0.9865 - val_loss: 0.2608 - val_accuracy: 0.9342\n",
            "Epoch 20/30\n",
            "399/399 [==============================] - 3s 7ms/step - loss: 0.0354 - accuracy: 0.9873 - val_loss: 0.2765 - val_accuracy: 0.9306\n",
            "Epoch 21/30\n",
            "399/399 [==============================] - 3s 7ms/step - loss: 0.0317 - accuracy: 0.9884 - val_loss: 0.2845 - val_accuracy: 0.9314\n",
            "Epoch 22/30\n",
            "399/399 [==============================] - 3s 7ms/step - loss: 0.0294 - accuracy: 0.9897 - val_loss: 0.2870 - val_accuracy: 0.9329\n",
            "Epoch 23/30\n",
            "399/399 [==============================] - 3s 7ms/step - loss: 0.0256 - accuracy: 0.9915 - val_loss: 0.3088 - val_accuracy: 0.9279\n",
            "Epoch 24/30\n",
            "399/399 [==============================] - 3s 7ms/step - loss: 0.0271 - accuracy: 0.9905 - val_loss: 0.3218 - val_accuracy: 0.9273\n",
            "Epoch 25/30\n",
            "399/399 [==============================] - 3s 7ms/step - loss: 0.0237 - accuracy: 0.9912 - val_loss: 0.2944 - val_accuracy: 0.9319\n",
            "Epoch 26/30\n",
            "399/399 [==============================] - 3s 7ms/step - loss: 0.0246 - accuracy: 0.9911 - val_loss: 0.3133 - val_accuracy: 0.9326\n",
            "Epoch 27/30\n",
            "399/399 [==============================] - 3s 7ms/step - loss: 0.0242 - accuracy: 0.9915 - val_loss: 0.3390 - val_accuracy: 0.9320\n",
            "Epoch 28/30\n",
            "399/399 [==============================] - 3s 7ms/step - loss: 0.0213 - accuracy: 0.9926 - val_loss: 0.3524 - val_accuracy: 0.9313\n",
            "Epoch 29/30\n",
            "399/399 [==============================] - 3s 7ms/step - loss: 0.0212 - accuracy: 0.9924 - val_loss: 0.3425 - val_accuracy: 0.9324\n",
            "Epoch 30/30\n",
            "399/399 [==============================] - 3s 7ms/step - loss: 0.0198 - accuracy: 0.9931 - val_loss: 0.3522 - val_accuracy: 0.9312\n"
          ]
        }
      ]
    },
    {
      "cell_type": "code",
      "source": [
        "show_history(history)\n",
        "model.evaluate(test_images, test_oh_labels, batch_size=256, verbose=1)"
      ],
      "metadata": {
        "colab": {
          "base_uri": "https://localhost:8080/",
          "height": 304
        },
        "id": "JjIAFBlDclgt",
        "outputId": "b4c3fec5-f938-4393-a03b-32a3d6abcf77"
      },
      "execution_count": 16,
      "outputs": [
        {
          "output_type": "stream",
          "name": "stdout",
          "text": [
            "40/40 [==============================] - 0s 5ms/step - loss: 0.3682 - accuracy: 0.9315\n"
          ]
        },
        {
          "output_type": "execute_result",
          "data": {
            "text/plain": [
              "[0.36821886897087097, 0.9315000176429749]"
            ]
          },
          "metadata": {},
          "execution_count": 16
        },
        {
          "output_type": "display_data",
          "data": {
            "image/png": "[encoded data removed]",
            "text/plain": [
              "<Figure size 432x288 with 1 Axes>"
            ]
          },
          "metadata": {
            "needs_background": "light"
          }
        }
      ]
    },
    {
      "cell_type": "markdown",
      "source": [
        "### 입력 이미지는 배치를 포함하여 4차원이 되어야 함(즉 배치를 제외하면 3차원)\n",
        "* Conv2D()는 입력으로 배치를 제외하고 3차원 입력이 되어야 함. \n",
        "* 하지만 2차원으로 입력해도 Input(shape=(28, 28, 1)) 에서 3차원으로 변경함. \n",
        "* 명확하게는 2차원 Grayscale이미지더라도 입력 numpy 이미지 배열에서 배치를 제외한 3차원 입력을 만들어 주는게 좋음. "
      ],
      "metadata": {
        "id": "2xIIviu6cqZL"
      }
    },
    {
      "cell_type": "code",
      "source": [
        "(train_images, train_labels), (test_images, test_labels) = fashion_mnist.load_data()\n",
        "\n",
        "print('before reshape:', train_images.shape, test_images.shape)\n",
        "train_images = np.reshape(train_images, (60000, 28, 28, 1))\n",
        "test_images = np.reshape(test_images, (10000, 28, 28, 1))\n",
        "print('after reshape:', train_images.shape, train_labels.shape, test_images.shape, test_labels.shape)\n",
        "\n",
        "(tr_images, tr_oh_labels), (val_images, val_oh_labels), (test_images, test_oh_labels) = \\\n",
        "    get_train_valid_test_set(train_images, train_labels, test_images, test_labels, valid_size=0.15, random_state=2021)\n",
        "print(tr_images.shape, tr_oh_labels.shape, val_images.shape, val_oh_labels.shape, test_images.shape, test_labels.shape)"
      ],
      "metadata": {
        "colab": {
          "base_uri": "https://localhost:8080/"
        },
        "id": "N3xB2sR7crMi",
        "outputId": "232ac272-be34-41e5-e7c8-5c7fe887f0ae"
      },
      "execution_count": 17,
      "outputs": [
        {
          "output_type": "stream",
          "name": "stdout",
          "text": [
            "before reshape: (60000, 28, 28) (10000, 28, 28)\n",
            "after reshape: (60000, 28, 28, 1) (60000,) (10000, 28, 28, 1) (10000,)\n",
            "(51000, 28, 28, 1) (51000, 10) (9000, 28, 28, 1) (9000, 10) (10000, 28, 28, 1) (10000,)\n"
          ]
        }
      ]
    },
    {
      "cell_type": "code",
      "source": [
        "from tensorflow.keras.optimizers import Adam\n",
        "\n",
        "model = create_model()\n",
        "model.compile(optimizer=Adam(0.001), loss='categorical_crossentropy', metrics=['accuracy'])\n",
        "history = model.fit(x=tr_images, y=tr_oh_labels, batch_size=128, epochs=30, validation_data=(val_images, val_oh_labels))"
      ],
      "metadata": {
        "colab": {
          "base_uri": "https://localhost:8080/"
        },
        "id": "zwCT8OPwcs9n",
        "outputId": "eabf6379-2cda-491a-d69d-5a7d3686239b"
      },
      "execution_count": 18,
      "outputs": [
        {
          "output_type": "stream",
          "name": "stdout",
          "text": [
            "Model: \"model_4\"\n",
            "_________________________________________________________________\n",
            " Layer (type)                Output Shape              Param #   \n",
            "=================================================================\n",
            " input_7 (InputLayer)        [(None, 28, 28, 1)]       0         \n",
            "                                                                 \n",
            " conv2d_10 (Conv2D)          (None, 28, 28, 32)        320       \n",
            "                                                                 \n",
            " conv2d_11 (Conv2D)          (None, 26, 26, 64)        18496     \n",
            "                                                                 \n",
            " max_pooling2d_5 (MaxPooling  (None, 13, 13, 64)       0         \n",
            " 2D)                                                             \n",
            "                                                                 \n",
            " flatten_3 (Flatten)         (None, 10816)             0         \n",
            "                                                                 \n",
            " dropout_3 (Dropout)         (None, 10816)             0         \n",
            "                                                                 \n",
            " dense_6 (Dense)             (None, 200)               2163400   \n",
            "                                                                 \n",
            " dense_7 (Dense)             (None, 10)                2010      \n",
            "                                                                 \n",
            "=================================================================\n",
            "Total params: 2,184,226\n",
            "Trainable params: 2,184,226\n",
            "Non-trainable params: 0\n",
            "_________________________________________________________________\n",
            "Epoch 1/30\n",
            "399/399 [==============================] - 4s 9ms/step - loss: 0.4483 - accuracy: 0.8384 - val_loss: 0.3519 - val_accuracy: 0.8700\n",
            "Epoch 2/30\n",
            "399/399 [==============================] - 3s 7ms/step - loss: 0.2936 - accuracy: 0.8939 - val_loss: 0.2593 - val_accuracy: 0.9060\n",
            "Epoch 3/30\n",
            "399/399 [==============================] - 3s 7ms/step - loss: 0.2429 - accuracy: 0.9107 - val_loss: 0.2395 - val_accuracy: 0.9147\n",
            "Epoch 4/30\n",
            "399/399 [==============================] - 3s 7ms/step - loss: 0.2121 - accuracy: 0.9211 - val_loss: 0.2194 - val_accuracy: 0.9191\n",
            "Epoch 5/30\n",
            "399/399 [==============================] - 3s 7ms/step - loss: 0.1860 - accuracy: 0.9298 - val_loss: 0.2091 - val_accuracy: 0.9264\n",
            "Epoch 6/30\n",
            "399/399 [==============================] - 3s 7ms/step - loss: 0.1624 - accuracy: 0.9393 - val_loss: 0.2192 - val_accuracy: 0.9240\n",
            "Epoch 7/30\n",
            "399/399 [==============================] - 3s 7ms/step - loss: 0.1423 - accuracy: 0.9467 - val_loss: 0.2018 - val_accuracy: 0.9304\n",
            "Epoch 8/30\n",
            "399/399 [==============================] - 3s 7ms/step - loss: 0.1277 - accuracy: 0.9518 - val_loss: 0.2035 - val_accuracy: 0.9294\n",
            "Epoch 9/30\n",
            "399/399 [==============================] - 3s 7ms/step - loss: 0.1128 - accuracy: 0.9574 - val_loss: 0.2031 - val_accuracy: 0.9340\n",
            "Epoch 10/30\n",
            "399/399 [==============================] - 3s 7ms/step - loss: 0.0987 - accuracy: 0.9630 - val_loss: 0.2120 - val_accuracy: 0.9301\n",
            "Epoch 11/30\n",
            "399/399 [==============================] - 3s 7ms/step - loss: 0.0856 - accuracy: 0.9678 - val_loss: 0.2236 - val_accuracy: 0.9280\n",
            "Epoch 12/30\n",
            "399/399 [==============================] - 3s 7ms/step - loss: 0.0778 - accuracy: 0.9704 - val_loss: 0.2357 - val_accuracy: 0.9240\n",
            "Epoch 13/30\n",
            "399/399 [==============================] - 3s 7ms/step - loss: 0.0688 - accuracy: 0.9750 - val_loss: 0.2376 - val_accuracy: 0.9316\n",
            "Epoch 14/30\n",
            "399/399 [==============================] - 3s 7ms/step - loss: 0.0584 - accuracy: 0.9779 - val_loss: 0.2453 - val_accuracy: 0.9292\n",
            "Epoch 15/30\n",
            "399/399 [==============================] - 3s 7ms/step - loss: 0.0540 - accuracy: 0.9799 - val_loss: 0.2575 - val_accuracy: 0.9318\n",
            "Epoch 16/30\n",
            "399/399 [==============================] - 3s 7ms/step - loss: 0.0490 - accuracy: 0.9815 - val_loss: 0.2720 - val_accuracy: 0.9298\n",
            "Epoch 17/30\n",
            "399/399 [==============================] - 3s 7ms/step - loss: 0.0466 - accuracy: 0.9828 - val_loss: 0.2649 - val_accuracy: 0.9334\n",
            "Epoch 18/30\n",
            "399/399 [==============================] - 3s 7ms/step - loss: 0.0399 - accuracy: 0.9852 - val_loss: 0.2718 - val_accuracy: 0.9301\n",
            "Epoch 19/30\n",
            "399/399 [==============================] - 3s 7ms/step - loss: 0.0395 - accuracy: 0.9859 - val_loss: 0.2790 - val_accuracy: 0.9337\n",
            "Epoch 20/30\n",
            "399/399 [==============================] - 3s 7ms/step - loss: 0.0363 - accuracy: 0.9869 - val_loss: 0.2843 - val_accuracy: 0.9310\n",
            "Epoch 21/30\n",
            "399/399 [==============================] - 3s 7ms/step - loss: 0.0334 - accuracy: 0.9875 - val_loss: 0.2989 - val_accuracy: 0.9341\n",
            "Epoch 22/30\n",
            "399/399 [==============================] - 3s 7ms/step - loss: 0.0349 - accuracy: 0.9875 - val_loss: 0.2933 - val_accuracy: 0.9317\n",
            "Epoch 23/30\n",
            "399/399 [==============================] - 3s 7ms/step - loss: 0.0278 - accuracy: 0.9896 - val_loss: 0.3145 - val_accuracy: 0.9317\n",
            "Epoch 24/30\n",
            "399/399 [==============================] - 3s 8ms/step - loss: 0.0270 - accuracy: 0.9905 - val_loss: 0.3146 - val_accuracy: 0.9320\n",
            "Epoch 25/30\n",
            "399/399 [==============================] - 3s 7ms/step - loss: 0.0253 - accuracy: 0.9910 - val_loss: 0.3240 - val_accuracy: 0.9327\n",
            "Epoch 26/30\n",
            "399/399 [==============================] - 3s 7ms/step - loss: 0.0248 - accuracy: 0.9913 - val_loss: 0.3084 - val_accuracy: 0.9324\n",
            "Epoch 27/30\n",
            "399/399 [==============================] - 3s 7ms/step - loss: 0.0248 - accuracy: 0.9914 - val_loss: 0.3416 - val_accuracy: 0.9327\n",
            "Epoch 28/30\n",
            "399/399 [==============================] - 3s 7ms/step - loss: 0.0253 - accuracy: 0.9911 - val_loss: 0.3337 - val_accuracy: 0.9353\n",
            "Epoch 29/30\n",
            "399/399 [==============================] - 3s 7ms/step - loss: 0.0196 - accuracy: 0.9931 - val_loss: 0.3616 - val_accuracy: 0.9342\n",
            "Epoch 30/30\n",
            "399/399 [==============================] - 3s 7ms/step - loss: 0.0217 - accuracy: 0.9921 - val_loss: 0.3540 - val_accuracy: 0.9326\n"
          ]
        }
      ]
    },
    {
      "cell_type": "code",
      "source": [
        "show_history(history)\n",
        "model.evaluate(test_images, test_oh_labels, batch_size=256, verbose=1)"
      ],
      "metadata": {
        "colab": {
          "base_uri": "https://localhost:8080/",
          "height": 303
        },
        "id": "PuwoDds7cu0Z",
        "outputId": "d1dc6872-3531-4098-9b06-3634f1bcdf71"
      },
      "execution_count": 19,
      "outputs": [
        {
          "output_type": "stream",
          "name": "stdout",
          "text": [
            "40/40 [==============================] - 0s 5ms/step - loss: 0.3944 - accuracy: 0.9240\n"
          ]
        },
        {
          "output_type": "execute_result",
          "data": {
            "text/plain": [
              "[0.3944369852542877, 0.9240000247955322]"
            ]
          },
          "metadata": {},
          "execution_count": 19
        },
        {
          "output_type": "display_data",
          "data": {
            "image/png": "[encoded data removed]",
            "text/plain": [
              "<Figure size 432x288 with 1 Axes>"
            ]
          },
          "metadata": {
            "needs_background": "light"
          }
        }
      ]
    },
    {
      "cell_type": "markdown",
      "source": [
        "### Stride가 1이고 Padding이 없는 경우\n",
        "* I는 입력 Feature Map의 크기, F는 Filter의 크기(Kernel size), P는 Padding(정수), S는 Strides(정수)\n",
        "* O = (I - F + 2P)/2 + 1 = (5 - 3 + 0 )/1 + 1 = 3"
      ],
      "metadata": {
        "id": "KV0DZ1Vml8IJ"
      }
    },
    {
      "cell_type": "code",
      "source": [
        "from tensorflow.keras.layers import Input, Conv2D, MaxPooling2D\n",
        "from tensorflow.keras.models import Model\n",
        "\n",
        "input_tensor = Input(shape=(5, 5, 1))\n",
        "x = Conv2D(filters=1, kernel_size=3, strides=1)(input_tensor)\n",
        "print('x.shape:', x.shape)"
      ],
      "metadata": {
        "colab": {
          "base_uri": "https://localhost:8080/"
        },
        "id": "hDfMPEPKl9Fd",
        "outputId": "c9751f45-b7f7-4cde-c25f-9e93dfa5b167"
      },
      "execution_count": 20,
      "outputs": [
        {
          "output_type": "stream",
          "name": "stdout",
          "text": [
            "x.shape: (None, 3, 3, 1)\n"
          ]
        }
      ]
    },
    {
      "cell_type": "markdown",
      "source": [
        "### Stride가 1이고 Padding이 1인 경우\n",
        "* O = (I - F + 2P)/2 + 1 = (5 - 3 + 2 )/1 + 1 = 5"
      ],
      "metadata": {
        "id": "LgVtrNu0mAYN"
      }
    },
    {
      "cell_type": "code",
      "source": [
        "input_tensor = Input(shape=(5, 5, 1))\n",
        "x = Conv2D(filters=1, kernel_size=3, strides=1, padding='same')(input_tensor)\n",
        "print('x.shape:', x.shape)"
      ],
      "metadata": {
        "colab": {
          "base_uri": "https://localhost:8080/"
        },
        "id": "-6ifBJrEl9zZ",
        "outputId": "338d298c-cb29-4b16-953c-9f730491e137"
      },
      "execution_count": 21,
      "outputs": [
        {
          "output_type": "stream",
          "name": "stdout",
          "text": [
            "x.shape: (None, 5, 5, 1)\n"
          ]
        }
      ]
    },
    {
      "cell_type": "code",
      "source": [
        "# ZeroPadding2D Layer를 이용하여 padding을 수동으로 적용. \n",
        "from tensorflow.keras.layers import ZeroPadding2D\n",
        "\n",
        "input_tensor = Input(shape=(5, 5, 1))\n",
        "padded_input = ZeroPadding2D(padding=1)(input_tensor)\n",
        "print('shape after padding:', padded_input.shape)\n",
        "x = Conv2D(filters=1, kernel_size=3, strides=1)(padded_input)\n",
        "print('x.shape:', x.shape)\n"
      ],
      "metadata": {
        "colab": {
          "base_uri": "https://localhost:8080/"
        },
        "id": "PcyAN77jmCMz",
        "outputId": "69307cf5-8b7c-4b68-cd14-4fcb431caa04"
      },
      "execution_count": 22,
      "outputs": [
        {
          "output_type": "stream",
          "name": "stdout",
          "text": [
            "shape after padding: (None, 7, 7, 1)\n",
            "x.shape: (None, 5, 5, 1)\n"
          ]
        }
      ]
    },
    {
      "cell_type": "markdown",
      "source": [
        "### Stride가 2이고 Padding이 없는 경우 \n",
        "* O = (I - F + 2P)/2 + 1 = (5 - 3)/2 + 1 = 2"
      ],
      "metadata": {
        "id": "oq9FUL17mGB9"
      }
    },
    {
      "cell_type": "code",
      "source": [
        "input_tensor = Input(shape=(5, 5, 1))\n",
        "x = Conv2D(filters=1, kernel_size=3, strides=2)(input_tensor)\n",
        "print('x.shape:', x.shape)"
      ],
      "metadata": {
        "colab": {
          "base_uri": "https://localhost:8080/"
        },
        "id": "FM7ij34_mDk4",
        "outputId": "eb10c580-b643-4f2d-db17-d626aff605be"
      },
      "execution_count": 23,
      "outputs": [
        {
          "output_type": "stream",
          "name": "stdout",
          "text": [
            "x.shape: (None, 2, 2, 1)\n"
          ]
        }
      ]
    },
    {
      "cell_type": "markdown",
      "source": [
        "### Stride가 2이고 Padding은 1 적용\n",
        "* O = (I - F + 2P)/2 + 1 = (5 - 3 + 2)/2 + 1 = 3"
      ],
      "metadata": {
        "id": "e2H9ItpKmJkf"
      }
    },
    {
      "cell_type": "code",
      "source": [
        "input_tensor = Input(shape=(5, 5, 1))\n",
        "padded_input = ZeroPadding2D(padding=1)(input_tensor)\n",
        "print('shape after padding:', padded_input.shape)\n",
        "x = Conv2D(filters=1, kernel_size=3, strides=2)(padded_input)\n",
        "print('x.shape:', x.shape)"
      ],
      "metadata": {
        "colab": {
          "base_uri": "https://localhost:8080/"
        },
        "id": "En8YDaAhmHnE",
        "outputId": "d06f18e5-7c3f-4812-8999-8c70c08b006f"
      },
      "execution_count": 24,
      "outputs": [
        {
          "output_type": "stream",
          "name": "stdout",
          "text": [
            "shape after padding: (None, 7, 7, 1)\n",
            "x.shape: (None, 3, 3, 1)\n"
          ]
        }
      ]
    },
    {
      "cell_type": "markdown",
      "source": [
        "### 입력이 6X6에서 Stride가 2 적용\n",
        "* O = (I - F + 2P)/2 + 1 = (6 - 3 + 0)/2 + 1 = 2.5 = 2"
      ],
      "metadata": {
        "id": "pfMXiK5RmM-c"
      }
    },
    {
      "cell_type": "code",
      "source": [
        "input_tensor = Input(shape=(6, 6, 1))\n",
        "x = Conv2D(filters=1, kernel_size=3, strides=2)(input_tensor)\n",
        "print('x.shape:', x.shape)"
      ],
      "metadata": {
        "colab": {
          "base_uri": "https://localhost:8080/"
        },
        "id": "gCTNWCV6mLLQ",
        "outputId": "ba2bd51d-e6f8-4ab2-cc1f-f17ecfba03b1"
      },
      "execution_count": 25,
      "outputs": [
        {
          "output_type": "stream",
          "name": "stdout",
          "text": [
            "x.shape: (None, 2, 2, 1)\n"
          ]
        }
      ]
    },
    {
      "cell_type": "code",
      "source": [
        "input_tensor = Input(shape=(6, 6, 1))\n",
        "x = Conv2D(filters=1, kernel_size=3, strides=2, padding='same')(input_tensor)\n",
        "print('x.shape:', x.shape)"
      ],
      "metadata": {
        "colab": {
          "base_uri": "https://localhost:8080/"
        },
        "id": "YE9lPwj-mQWP",
        "outputId": "7051bfdb-dde2-4c28-e622-b92ae70a1060"
      },
      "execution_count": 26,
      "outputs": [
        {
          "output_type": "stream",
          "name": "stdout",
          "text": [
            "x.shape: (None, 3, 3, 1)\n"
          ]
        }
      ]
    },
    {
      "cell_type": "code",
      "source": [
        "input_tensor = Input(shape=(6, 6, 1))\n",
        "padded_input = ZeroPadding2D(padding=1)(input_tensor)\n",
        "x = Conv2D(filters=1, kernel_size=3, strides=2, padding='valid')(padded_input)\n",
        "print('x.shape:', x.shape)"
      ],
      "metadata": {
        "colab": {
          "base_uri": "https://localhost:8080/"
        },
        "id": "Y1mrO1kFmSKT",
        "outputId": "98f1ce8e-d6f9-409a-8f7d-e5a6c59cae48"
      },
      "execution_count": 27,
      "outputs": [
        {
          "output_type": "stream",
          "name": "stdout",
          "text": [
            "x.shape: (None, 3, 3, 1)\n"
          ]
        }
      ]
    },
    {
      "cell_type": "code",
      "source": [
        "input_tensor = Input(shape=(6, 6, 1))\n",
        "padded_input = ZeroPadding2D(padding=((1, 0),(1,0)))(input_tensor)\n",
        "x = Conv2D(filters=1, kernel_size=3, strides=2)(padded_input)\n",
        "print('x.shape:', x.shape)"
      ],
      "metadata": {
        "colab": {
          "base_uri": "https://localhost:8080/"
        },
        "id": "5IIm7YF2mTcA",
        "outputId": "91389d49-1947-4b85-9a04-5a4a77ed6305"
      },
      "execution_count": 28,
      "outputs": [
        {
          "output_type": "stream",
          "name": "stdout",
          "text": [
            "x.shape: (None, 3, 3, 1)\n"
          ]
        }
      ]
    },
    {
      "cell_type": "markdown",
      "source": [
        "### Maxpooling 적용"
      ],
      "metadata": {
        "id": "y46iUZ0NmW_y"
      }
    },
    {
      "cell_type": "code",
      "source": [
        "input_tensor = Input(shape=(223, 223, 1))\n",
        "x = MaxPooling2D(2)(input_tensor)\n",
        "print('x.shape:', x.shape)"
      ],
      "metadata": {
        "colab": {
          "base_uri": "https://localhost:8080/"
        },
        "id": "Zwkm3dmsmU2Y",
        "outputId": "3b07b529-f017-439d-890d-d0e0756f0478"
      },
      "execution_count": 29,
      "outputs": [
        {
          "output_type": "stream",
          "name": "stdout",
          "text": [
            "x.shape: (None, 111, 111, 1)\n"
          ]
        }
      ]
    }
  ]
}