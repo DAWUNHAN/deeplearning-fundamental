{
  "nbformat": 4,
  "nbformat_minor": 0,
  "metadata": {
    "colab": {
      "name": "[실습]Part1_Ch03_멀티레이블 분류 - 여러 의상 사진에서 옷 종류 구분하기.ipynb",
      "provenance": [],
      "collapsed_sections": [],
      "include_colab_link": true
    },
    "kernelspec": {
      "name": "python3",
      "display_name": "Python 3"
    },
    "accelerator": "GPU"
  },
  "cells": [
    {
      "cell_type": "markdown",
      "metadata": {
        "id": "view-in-github",
        "colab_type": "text"
      },
      "source": [
        "<a href=\"https://colab.research.google.com/github/DAWUNHAN/deeplearning-fundamental/blob/master/CNN/%E1%84%86%E1%85%A5%E1%86%AF%E1%84%90%E1%85%B5%E1%84%85%E1%85%A6%E1%84%8B%E1%85%B5%E1%84%87%E1%85%B3%E1%86%AF_%E1%84%87%E1%85%AE%E1%86%AB%E1%84%85%E1%85%B2_%E1%84%8B%E1%85%A7%E1%84%85%E1%85%A5_%E1%84%8B%E1%85%B4%E1%84%89%E1%85%A1%E1%86%BC_%E1%84%89%E1%85%A1%E1%84%8C%E1%85%B5%E1%86%AB%E1%84%8B%E1%85%A6%E1%84%89%E1%85%A5_%E1%84%8B%E1%85%A9%E1%86%BA_%E1%84%8C%E1%85%A9%E1%86%BC%E1%84%85%E1%85%B2_%E1%84%80%E1%85%AE%E1%84%87%E1%85%AE%E1%86%AB%E1%84%92%E1%85%A1%E1%84%80%E1%85%B5.ipynb\" target=\"_parent\"><img src=\"https://colab.research.google.com/assets/colab-badge.svg\" alt=\"Open In Colab\"/></a>"
      ]
    },
    {
      "cell_type": "markdown",
      "metadata": {
        "id": "oR0VJlz7mi5A"
      },
      "source": [
        "\n",
        "# 주제 : 여러 의상 사진에서 옷 종류 구분하기\n",
        "--------------\n",
        "## 실습 가이드\n",
        "    1. 데이터를 다운로드하여 Colab에 불러옵니다.\n",
        "    2. 필요한 라이브러리는 모두 코드로 작성되어 있습니다.\n",
        "    3. 코드는 위에서부터 아래로 순서대로 실행합니다.\n",
        "    4. 전체 문제 구성은 좌측 첫 번째 아이콘을 통해 확인할 수 있습니다.\n",
        "\n",
        "## 데이터 소개\n",
        "  - 이번 주제의 데이터는 너무나 유명한 fashion MNIST 데이터를 사용합니다.\n",
        "  ![mnist 이미지](https://rviews.rstudio.com/post/2019-10-31-a-comparison-of-methods-for-predicting-clothing-classes-using-the-fashion-mnist-dataset-in-rstudio-and-python-part-1/index_files/figure-html/unnamed-chunk-8-1.png)\n",
        "\n",
        "   위의 이미지는 다음과 같은 것을 보여줍니다.  \n",
        "(a) 28x28의 배열에서 의류의 모습 어떻게 모사되는지   \n",
        "(b) 각 0-9까지의 다양한 의류 그림의 모습들\n",
        "\n",
        "\n",
        "   - 데이터 출처: [fashionmnist](https://www.kaggle.com/zalando-research/fashionmnist)\n",
        "\n",
        "## 최종 목표\n",
        "\n",
        "  - fashion MNIST 이미지를 클래시피케이션 하기\n",
        "  - 멀티 클래스와 멀티레이블 구분하기\n",
        "  - 이미지 확장 하기\n",
        "  - 이미지에 객체 삽입하기\n",
        "\n",
        "  - 출제자 : 손근영 강사\n"
      ]
    },
    {
      "cell_type": "code",
      "metadata": {
        "id": "e7kl3hgkikbo"
      },
      "source": [
        "import tensorflow as tf\n",
        "from tensorflow import keras\n",
        "from keras.layers import Dense\n",
        "from keras.models import Sequential\n",
        "\n",
        "import pandas as pd\n",
        "import numpy as np\n",
        "import matplotlib.pyplot as plt\n",
        "import seaborn as sns\n",
        "import warnings \n",
        "from IPython.display import Image\n",
        "\n",
        "warnings.filterwarnings('ignore')\n",
        "%matplotlib inline\n",
        "\n",
        "SEED = 34"
      ],
      "execution_count": null,
      "outputs": []
    },
    {
      "cell_type": "markdown",
      "metadata": {
        "id": "c5uDUVunS1Yk"
      },
      "source": [
        "## Step 1. 도입전 기본 처리"
      ]
    },
    {
      "cell_type": "markdown",
      "metadata": {
        "id": "2Bgf6uZtoBob"
      },
      "source": [
        "### 문제 1. fashion mnist 데이터 살펴보기"
      ]
    },
    {
      "cell_type": "code",
      "metadata": {
        "id": "l2NW5G5nTgsb",
        "colab": {
          "base_uri": "https://localhost:8080/"
        },
        "outputId": "1b147c7f-9e74-46b4-fca6-36c1ab6d4bb6"
      },
      "source": [
        "# 데이터를 불러오는 코드를 작성해주세요.\n",
        "fashion_mnist = keras.datasets.fashion_mnist\n",
        "((train_images, train_labels), (test_images, test_labels)) = fashion_mnist.load_data()"
      ],
      "execution_count": null,
      "outputs": [
        {
          "output_type": "stream",
          "name": "stdout",
          "text": [
            "Downloading data from https://storage.googleapis.com/tensorflow/tf-keras-datasets/train-labels-idx1-ubyte.gz\n",
            "32768/29515 [=================================] - 0s 0us/step\n",
            "40960/29515 [=========================================] - 0s 0us/step\n",
            "Downloading data from https://storage.googleapis.com/tensorflow/tf-keras-datasets/train-images-idx3-ubyte.gz\n",
            "26427392/26421880 [==============================] - 0s 0us/step\n",
            "26435584/26421880 [==============================] - 0s 0us/step\n",
            "Downloading data from https://storage.googleapis.com/tensorflow/tf-keras-datasets/t10k-labels-idx1-ubyte.gz\n",
            "16384/5148 [===============================================================================================] - 0s 0us/step\n",
            "Downloading data from https://storage.googleapis.com/tensorflow/tf-keras-datasets/t10k-images-idx3-ubyte.gz\n",
            "4423680/4422102 [==============================] - 0s 0us/step\n",
            "4431872/4422102 [==============================] - 0s 0us/step\n"
          ]
        }
      ]
    },
    {
      "cell_type": "markdown",
      "metadata": {
        "id": "ko4D-BpJTq2r"
      },
      "source": [
        "### 문제 2. train_images/labels와 test_images/labes의 shape을 출력해보세요."
      ]
    },
    {
      "cell_type": "code",
      "metadata": {
        "id": "waksbx9aT5tK",
        "colab": {
          "base_uri": "https://localhost:8080/"
        },
        "outputId": "afe20eca-7301-4355-f802-4a330effeffa"
      },
      "source": [
        "# 데이터의 크기를 shape 함수를 통해 출력해주세요.\n",
        "print(train_images.shape)\n",
        "print(train_labels.shape)\n",
        "print(test_images.shape)\n",
        "print(test_labels.shape)"
      ],
      "execution_count": null,
      "outputs": [
        {
          "output_type": "stream",
          "name": "stdout",
          "text": [
            "(60000, 28, 28)\n",
            "(60000,)\n",
            "(10000, 28, 28)\n",
            "(10000,)\n"
          ]
        }
      ]
    },
    {
      "cell_type": "code",
      "metadata": {
        "id": "KlDtX99RrTBe"
      },
      "source": [
        "# 레이블을 설정해보세요.\n",
        "labels = [\"T-shirt/top\",  # index 0\n",
        "        \"Trouser\",      # index 1\n",
        "        \"Pullover\",     # index 2 \n",
        "        \"Dress\",        # index 3 \n",
        "        \"Coat\",         # index 4\n",
        "        \"Sandal\",       # index 5\n",
        "        \"Shirt\",        # index 6 \n",
        "        \"Sneaker\",      # index 7 \n",
        "        \"Bag\",          # index 8 \n",
        "        \"Ankle boot\"]   # index 9\n",
        "\n",
        "def idx2label(idx):\n",
        "  return labels[idx]"
      ],
      "execution_count": null,
      "outputs": []
    },
    {
      "cell_type": "code",
      "source": [
        "idx2label(test_labels[0])"
      ],
      "metadata": {
        "colab": {
          "base_uri": "https://localhost:8080/",
          "height": 35
        },
        "id": "fR10eF9GfE-o",
        "outputId": "99d545f7-e006-45a1-db8d-bf01f2918f10"
      },
      "execution_count": null,
      "outputs": [
        {
          "output_type": "execute_result",
          "data": {
            "application/vnd.google.colaboratory.intrinsic+json": {
              "type": "string"
            },
            "text/plain": [
              "'Ankle boot'"
            ]
          },
          "metadata": {},
          "execution_count": 6
        }
      ]
    },
    {
      "cell_type": "markdown",
      "metadata": {
        "id": "hrmQ7HzEUKrz"
      },
      "source": [
        "### 문제 3. (28, 28) 형태의 이미지를 plt을 이용하여 출력해보세요."
      ]
    },
    {
      "cell_type": "code",
      "metadata": {
        "id": "fVzGHMSYUUKk",
        "colab": {
          "base_uri": "https://localhost:8080/",
          "height": 283
        },
        "outputId": "c713daed-fdd4-41f9-9cb6-b93a594ef806"
      },
      "source": [
        "# 28x28의 흑백 이미지를 plt를 이용하여 출력하는 코드를 작성해보세요\n",
        "plt.imshow(test_images[1])\n",
        "plt.show()\n",
        "print(idx2label(test_labels[1]))"
      ],
      "execution_count": null,
      "outputs": [
        {
          "output_type": "display_data",
          "data": {
            "image/png": "[encoded data removed]",
            "text/plain": [
              "<Figure size 432x288 with 1 Axes>"
            ]
          },
          "metadata": {
            "needs_background": "light"
          }
        },
        {
          "output_type": "stream",
          "name": "stdout",
          "text": [
            "Pullover\n"
          ]
        }
      ]
    },
    {
      "cell_type": "code",
      "metadata": {
        "id": "dV75uS_1rcpo"
      },
      "source": [
        "# plt의 title에 label 정보를 출력해보세요.\n",
        "\n",
        "def show(idx):\n",
        "  plt.imshow(test_images[idx], cmap='gray')\n",
        "  plt.title(idx2label(test_labels[idx]))\n",
        "  plt.show()"
      ],
      "execution_count": 9,
      "outputs": []
    },
    {
      "cell_type": "code",
      "source": [
        "show(12)"
      ],
      "metadata": {
        "colab": {
          "base_uri": "https://localhost:8080/",
          "height": 281
        },
        "id": "Sx8KehqCf3XO",
        "outputId": "d82d79f3-4baa-4370-cacc-3ac843697b1e"
      },
      "execution_count": 11,
      "outputs": [
        {
          "output_type": "display_data",
          "data": {
            "image/png": "[encoded data removed]",
            "text/plain": [
              "<Figure size 432x288 with 1 Axes>"
            ]
          },
          "metadata": {
            "needs_background": "light"
          }
        }
      ]
    },
    {
      "cell_type": "markdown",
      "metadata": {
        "id": "vDLHexaGUs17"
      },
      "source": [
        "### 문제 4. train_images에서 0이 아닌 값들을 출력해보세요."
      ]
    },
    {
      "cell_type": "code",
      "metadata": {
        "id": "1NYdCv1yUsKG",
        "colab": {
          "base_uri": "https://localhost:8080/"
        },
        "outputId": "404f371a-00d7-42f7-ea63-8f381b26704d"
      },
      "source": [
        "# 하나의 이미지에 대한 모든 0이 아닌 값을 출력하는 코드를 작성하세요.\n",
        "train_images[train_images != 0][:5]"
      ],
      "execution_count": 12,
      "outputs": [
        {
          "output_type": "execute_result",
          "data": {
            "text/plain": [
              "array([ 1, 13, 73,  1,  4], dtype=uint8)"
            ]
          },
          "metadata": {},
          "execution_count": 12
        }
      ]
    },
    {
      "cell_type": "code",
      "metadata": {
        "id": "iTBMH7M1tfNI",
        "colab": {
          "base_uri": "https://localhost:8080/"
        },
        "outputId": "15d02d21-6ddd-4b0a-91f4-321bceb44db8"
      },
      "source": [
        "list(filter(lambda x: x!=0, train_images.reshape(-1)))[:10]"
      ],
      "execution_count": 13,
      "outputs": [
        {
          "output_type": "execute_result",
          "data": {
            "text/plain": [
              "[1, 13, 73, 1, 4, 1, 1, 3, 36, 136]"
            ]
          },
          "metadata": {},
          "execution_count": 13
        }
      ]
    },
    {
      "cell_type": "code",
      "source": [
        "# 이미지의 값이 가장 큰 idx와 작은 idx를 구하여 출력해보세요\n",
        "print(train_images.reshape((60000, -1)).sum(axis=1).argmax())\n",
        "print(train_images.reshape((60000, -1)).sum(axis=1).argmin())"
      ],
      "metadata": {
        "colab": {
          "base_uri": "https://localhost:8080/"
        },
        "id": "kHv5DWrjglyl",
        "outputId": "35864fed-1ecc-4e55-a5bc-b4e843016898"
      },
      "execution_count": 14,
      "outputs": [
        {
          "output_type": "stream",
          "name": "stdout",
          "text": [
            "55023\n",
            "9230\n"
          ]
        }
      ]
    },
    {
      "cell_type": "code",
      "source": [
        "print(train_images.reshape((60000, -1)).sum(axis=1)[55023])\n",
        "print(train_images.reshape((60000, -1)).sum(axis=1)[9230])"
      ],
      "metadata": {
        "colab": {
          "base_uri": "https://localhost:8080/"
        },
        "id": "RgtKGzoBg0UM",
        "outputId": "716f6168-c024-4363-c8d5-29c7b78afb49"
      },
      "execution_count": 15,
      "outputs": [
        {
          "output_type": "stream",
          "name": "stdout",
          "text": [
            "150387\n",
            "3876\n"
          ]
        }
      ]
    },
    {
      "cell_type": "markdown",
      "metadata": {
        "id": "CZOhbFOFU_jr"
      },
      "source": [
        "### 문제 5. train_images의 dtype을 출력해보세요."
      ]
    },
    {
      "cell_type": "code",
      "metadata": {
        "id": "nVc4kjgAVNl7",
        "colab": {
          "base_uri": "https://localhost:8080/"
        },
        "outputId": "50de1e7c-411f-4741-c2ef-983132b3e63a"
      },
      "source": [
        "# dtype을 이용하여 이미지의 np array type을 확인해보세요.\n",
        "train_images.dtype"
      ],
      "execution_count": 16,
      "outputs": [
        {
          "output_type": "execute_result",
          "data": {
            "text/plain": [
              "dtype('uint8')"
            ]
          },
          "metadata": {},
          "execution_count": 16
        }
      ]
    },
    {
      "cell_type": "markdown",
      "metadata": {
        "id": "eKv9UoZAxTr6"
      },
      "source": [
        "## Step 2. 전처리"
      ]
    },
    {
      "cell_type": "markdown",
      "metadata": {
        "id": "UTXpP1Imyaad"
      },
      "source": [
        "### 문제 6. train/test 이미지 데이터의 범위 확인"
      ]
    },
    {
      "cell_type": "code",
      "metadata": {
        "id": "Ji6XLxvRy5eJ",
        "colab": {
          "base_uri": "https://localhost:8080/"
        },
        "outputId": "6e5add55-826c-4bdd-bb94-f67ade64353f"
      },
      "source": [
        "# test_images의 shape과 dtype, 0이 아닌 숫자를 출력하는 코드를 작성하세요.\n",
        "# test_images의 shape과 dtype, 0이 아닌 숫자를 출력하는 코드를 작성하세요.\n",
        "\n",
        "print(f\"train_images: {list(filter(lambda x: x!=0, train_images[1000].reshape(-1)))[:10]}\")\n",
        "print(f\"test_images: {list(filter(lambda x: x!=0, test_images[1000].reshape(-1)))[:10]}\")\n",
        "print(f\"train_images: {train_images[train_images !=0][:10]}\")\n",
        "print(f\"test_images: {test_images[test_images !=0][:10]}\")\n",
        "\n",
        "\n",
        "print(f\"train_images: {train_images.shape}\")\n",
        "print(f\"test_images: {test_images.shape}\")\n",
        "\n",
        "print(f\"train_images: {train_images.dtype}\")\n",
        "print(f\"test_images: {test_images.dtype}\")"
      ],
      "execution_count": 17,
      "outputs": [
        {
          "output_type": "stream",
          "name": "stdout",
          "text": [
            "train_images: [97, 84, 97, 110, 108, 87, 97, 19, 255, 199]\n",
            "test_images: [1, 84, 80, 13, 97, 48, 161, 189, 197, 1]\n",
            "train_images: [  1  13  73   1   4   1   1   3  36 136]\n",
            "test_images: [  3   1   7  37   1   2  27  84  11 119]\n",
            "train_images: (60000, 28, 28)\n",
            "test_images: (10000, 28, 28)\n",
            "train_images: uint8\n",
            "test_images: uint8\n"
          ]
        }
      ]
    },
    {
      "cell_type": "markdown",
      "metadata": {
        "id": "7OpFGbD6V8Zl"
      },
      "source": [
        "### 문제 7. train/test 이미지 데이터의 최소/최대값을 출력"
      ]
    },
    {
      "cell_type": "code",
      "metadata": {
        "id": "sFOJNRTvYo7d",
        "colab": {
          "base_uri": "https://localhost:8080/"
        },
        "outputId": "fa920a8b-50ba-46e0-ed9e-ff7a7f3fa574"
      },
      "source": [
        "# train/test 전체 데이터에서 각 images, labels의 min, max를 출력하는 코드를 작성하세요.\n",
        "print(  train_images.min(), train_images.max()  )\n",
        "print(  test_images.min(), test_images.max()  )\n",
        "\n",
        "print(  train_labels.min(), train_labels.max()  )\n",
        "print(  test_labels.min(), test_labels.max()  )"
      ],
      "execution_count": 18,
      "outputs": [
        {
          "output_type": "stream",
          "name": "stdout",
          "text": [
            "0 255\n",
            "0 255\n",
            "0 9\n",
            "0 9\n"
          ]
        }
      ]
    },
    {
      "cell_type": "markdown",
      "metadata": {
        "id": "W_xsByHegZhh"
      },
      "source": [
        "### 문제 8. 정수형을 실수형으로 변경 후 dtype으로 비교"
      ]
    },
    {
      "cell_type": "code",
      "metadata": {
        "id": "Y88qmAVChg_Z",
        "colab": {
          "base_uri": "https://localhost:8080/"
        },
        "outputId": "7879579e-5b94-4a1c-8190-297bb43b040d"
      },
      "source": [
        "# train/test 데이터의 타입을 dtype으로 확인해보고 실수형으로 전환하는 코드를 작성하세요.\n",
        "print(  train_images.dtype  )\n",
        "print(  test_images.dtype  )"
      ],
      "execution_count": 19,
      "outputs": [
        {
          "output_type": "stream",
          "name": "stdout",
          "text": [
            "uint8\n",
            "uint8\n"
          ]
        }
      ]
    },
    {
      "cell_type": "code",
      "source": [
        "train_images = train_images.astype(np.float64)\n",
        "test_images = test_images.astype(np.float64)"
      ],
      "metadata": {
        "id": "VxoHdeo4hxUQ"
      },
      "execution_count": 20,
      "outputs": []
    },
    {
      "cell_type": "code",
      "source": [
        "print(  train_images.dtype  )\n",
        "print(  test_images.dtype  )\n",
        "print(  train_images.min(), train_images.max()  )\n",
        "print(  test_images.min(), test_images.max()  )"
      ],
      "metadata": {
        "colab": {
          "base_uri": "https://localhost:8080/"
        },
        "id": "NAXQJ9MrhzZg",
        "outputId": "557c5975-d661-4b14-b165-5e03e49c3df3"
      },
      "execution_count": 21,
      "outputs": [
        {
          "output_type": "stream",
          "name": "stdout",
          "text": [
            "float64\n",
            "float64\n",
            "0.0 255.0\n",
            "0.0 255.0\n"
          ]
        }
      ]
    },
    {
      "cell_type": "markdown",
      "metadata": {
        "id": "9iIJK2qsfevX"
      },
      "source": [
        "### 문제 9. 데이터 0-1 노말라이즈 수행\n"
      ]
    },
    {
      "cell_type": "markdown",
      "metadata": {
        "id": "L0f__zuBfotM"
      },
      "source": [
        "#### 힌트\n",
        "\n",
        "일반적으로 0-1사의의 값을 가지게 하기 위해서는 다음 수식을 사용합니다.\n",
        "\n",
        "$$normalize(x) = \\frac{x - 최소값}{최대값 - 최소값}$$\n",
        "\n",
        "이 경우 최소값이 0이기 떄문에 다음과 같이 간편하게 구할 수 있습니다.\n",
        "\n",
        "$$normalize(x) = \\frac{x}{최대값}$$"
      ]
    },
    {
      "cell_type": "code",
      "metadata": {
        "id": "SV2A6JZBf7Ku",
        "colab": {
          "base_uri": "https://localhost:8080/"
        },
        "outputId": "0f6fd125-b32c-4244-9d50-aa762823c897"
      },
      "source": [
        "# images의 값이 0-1사이의 값을 같도록 코드를 작성해보세요.\n",
        "(train_images / 255.0).min(), (train_images / 255.0).max()"
      ],
      "execution_count": 22,
      "outputs": [
        {
          "output_type": "execute_result",
          "data": {
            "text/plain": [
              "(0.0, 1.0)"
            ]
          },
          "metadata": {},
          "execution_count": 22
        }
      ]
    },
    {
      "cell_type": "code",
      "metadata": {
        "id": "-mVAW1rvwoTP"
      },
      "source": [
        "# 임의의 구간으로 노말라이즈 할 수 있는 코드를 작성해보세요\n",
        "def norm(data):\n",
        "    min_v = data.min()\n",
        "    max_v = data.max()\n",
        "    return (data - min_v)/(max_v - min_v)\n"
      ],
      "execution_count": 23,
      "outputs": []
    },
    {
      "cell_type": "code",
      "source": [
        "print ( norm(train_images).min(),  norm(train_images).max() )\n",
        "print ( norm(train_labels).min(),  norm(train_labels).max() )\n"
      ],
      "metadata": {
        "colab": {
          "base_uri": "https://localhost:8080/"
        },
        "id": "a2xwcr74iVFm",
        "outputId": "93c3c385-7f97-4915-df19-f1f8004f38d6"
      },
      "execution_count": 24,
      "outputs": [
        {
          "output_type": "stream",
          "name": "stdout",
          "text": [
            "0.0 1.0\n",
            "0.0 1.0\n"
          ]
        }
      ]
    },
    {
      "cell_type": "code",
      "source": [
        "train_images  = norm(train_images)\n",
        "test_images  = norm(test_images)"
      ],
      "metadata": {
        "id": "vR1-kdPSiWtS"
      },
      "execution_count": 25,
      "outputs": []
    },
    {
      "cell_type": "code",
      "source": [
        "print(  train_images.min(), train_images.max()  )\n",
        "print(  test_images.min(), test_images.max()  )"
      ],
      "metadata": {
        "colab": {
          "base_uri": "https://localhost:8080/"
        },
        "id": "H4G3dZauiYpX",
        "outputId": "0b742bf9-32c6-401b-ebb6-681f19923170"
      },
      "execution_count": 26,
      "outputs": [
        {
          "output_type": "stream",
          "name": "stdout",
          "text": [
            "0.0 1.0\n",
            "0.0 1.0\n"
          ]
        }
      ]
    },
    {
      "cell_type": "markdown",
      "metadata": {
        "id": "8QqqdPzDiC3F"
      },
      "source": [
        "### 문제 10. 0-1 노말라이즈 후 데이터의 값이 변경되었는지 문제 6, 7의 방법을 이용하여 확인하세요."
      ]
    },
    {
      "cell_type": "code",
      "metadata": {
        "id": "t-ZKXRKO2rBE",
        "colab": {
          "base_uri": "https://localhost:8080/"
        },
        "outputId": "e4636415-49c2-4793-de5b-e5ed694d6b50"
      },
      "source": [
        "# 노말라이즈 후 min/max, shape, 0이 아닌 값, dtype 등을 확인하는 코드를 작성해보세요. \n",
        "print(f\"train_images: {list(filter(lambda x: x!=0, train_images[1000].reshape(-1)))[:10]}\")\n",
        "print(f\"test_images: {list(filter(lambda x: x!=0, test_images[1000].reshape(-1)))[:10]}\")\n",
        "print(f\"train_images: {train_images[train_images !=0][:10]}\")\n",
        "print(f\"test_images: {test_images[test_images !=0][:10]}\")\n",
        "\n",
        "print(f\"train_images: {train_images.shape}\")\n",
        "print(f\"test_images: {test_images.shape}\")\n",
        "\n",
        "print(f\"train_images: {train_images.dtype}\")\n",
        "print(f\"test_images: {test_images.dtype}\")"
      ],
      "execution_count": 27,
      "outputs": [
        {
          "output_type": "stream",
          "name": "stdout",
          "text": [
            "train_images: [0.3803921568627451, 0.32941176470588235, 0.3803921568627451, 0.43137254901960786, 0.4235294117647059, 0.3411764705882353, 0.3803921568627451, 0.07450980392156863, 1.0, 0.7803921568627451]\n",
            "test_images: [0.00392156862745098, 0.32941176470588235, 0.3137254901960784, 0.050980392156862744, 0.3803921568627451, 0.18823529411764706, 0.6313725490196078, 0.7411764705882353, 0.7725490196078432, 0.00392156862745098]\n",
            "train_images: [0.00392157 0.05098039 0.28627451 0.00392157 0.01568627 0.00392157\n",
            " 0.00392157 0.01176471 0.14117647 0.53333333]\n",
            "test_images: [0.01176471 0.00392157 0.02745098 0.14509804 0.00392157 0.00784314\n",
            " 0.10588235 0.32941176 0.04313725 0.46666667]\n",
            "train_images: (60000, 28, 28)\n",
            "test_images: (10000, 28, 28)\n",
            "train_images: float64\n",
            "test_images: float64\n"
          ]
        }
      ]
    },
    {
      "cell_type": "code",
      "metadata": {
        "id": "r855HJjIw7Zv",
        "colab": {
          "base_uri": "https://localhost:8080/"
        },
        "outputId": "fc3cd58b-03cd-47ba-821c-b43604e6e91a"
      },
      "source": [
        "# 스케일링 범위를 바꿔서 시도해보세요\n",
        "\n",
        "a = norm(train_images) * 3\n",
        "print(a.min(), a.max())\n",
        "\n",
        "a = norm(train_images) * 4\n",
        "print(a.min(), a.max())"
      ],
      "execution_count": 28,
      "outputs": [
        {
          "output_type": "stream",
          "name": "stdout",
          "text": [
            "0.0 3.0\n",
            "0.0 4.0\n"
          ]
        }
      ]
    },
    {
      "cell_type": "markdown",
      "metadata": {
        "id": "SMyUArry3UhT"
      },
      "source": [
        "## Step 3. 시각화 방법"
      ]
    },
    {
      "cell_type": "markdown",
      "metadata": {
        "id": "UFga-Bbo6L0E"
      },
      "source": [
        "### 문제 11. train_image의 이미지를 5장 획득하여 (5, 28, 28)의 shape을 출력하세요."
      ]
    },
    {
      "cell_type": "code",
      "metadata": {
        "id": "cLaqqwz4i_7D",
        "colab": {
          "base_uri": "https://localhost:8080/"
        },
        "outputId": "b3d5f75f-4564-4797-daf3-09f3fc792097"
      },
      "source": [
        "# (60000, 28, 28)인 train_images에서 (5, 28, 28)을 획득하는 코드를 작성하세요.\n",
        "train_images[:5].shape"
      ],
      "execution_count": 29,
      "outputs": [
        {
          "output_type": "execute_result",
          "data": {
            "text/plain": [
              "(5, 28, 28)"
            ]
          },
          "metadata": {},
          "execution_count": 29
        }
      ]
    },
    {
      "cell_type": "markdown",
      "metadata": {
        "id": "gX8JH97njNNr"
      },
      "source": [
        "### 문제 12. 획득한 5장의 의미지를 (28, 28 * 5)의 shape으로 변경해보세요."
      ]
    },
    {
      "cell_type": "code",
      "metadata": {
        "id": "bxRhMcaKk3Pa",
        "colab": {
          "base_uri": "https://localhost:8080/"
        },
        "outputId": "b50b39a0-c9ae-4d8a-adf0-316e51a189d8"
      },
      "source": [
        "# np.hstack은 height 방향의 배열을 풀어서 width 방향으로 연결해줍니다.\n",
        "# 해당 기능을 쓰면 (height, image_height, image_width)의 shape을 (image_height, image_width * height)으로 바꿔 줄 수 있습니다.\n",
        "# 코드를 작성해보세요.\n",
        "np.hstack(train_images[:5]).shape"
      ],
      "execution_count": 30,
      "outputs": [
        {
          "output_type": "execute_result",
          "data": {
            "text/plain": [
              "(28, 140)"
            ]
          },
          "metadata": {},
          "execution_count": 30
        }
      ]
    },
    {
      "cell_type": "markdown",
      "metadata": {
        "id": "xqyaO-5bk-sj"
      },
      "source": [
        "### 문제 13. np.hstack은 tensorflow에서 제공하는 방법이 아니므로 transpose 함수를 이용하여 (28, 28 * 5)로 shape을 변경해보세요."
      ]
    },
    {
      "cell_type": "code",
      "metadata": {
        "id": "SqmKdjlGlqLJ",
        "colab": {
          "base_uri": "https://localhost:8080/"
        },
        "outputId": "3cbe8cb2-d2b3-47a3-df9e-65008802d597"
      },
      "source": [
        "# transpose는 tensor의 axis를 섞는 기능을 합니다.\n",
        "# 해당 기능을 이용해서 (28, 140)을 작성하는 코드를 작성해보세요.\n",
        "train_images[:5].transpose((1, 0, 2)).reshape((28, -1)).shape"
      ],
      "execution_count": 31,
      "outputs": [
        {
          "output_type": "execute_result",
          "data": {
            "text/plain": [
              "(28, 140)"
            ]
          },
          "metadata": {},
          "execution_count": 31
        }
      ]
    },
    {
      "cell_type": "markdown",
      "metadata": {
        "id": "T0oaToP6l0Pd"
      },
      "source": [
        "### 문제 14. (28, 140)이 된 tensor를 plt로 출력해보세요."
      ]
    },
    {
      "cell_type": "code",
      "metadata": {
        "id": "ToUpk3oBmIr1",
        "colab": {
          "base_uri": "https://localhost:8080/",
          "height": 135
        },
        "outputId": "d9b05a58-1ef2-471e-b365-392a96ef5796"
      },
      "source": [
        "# (28, 140)의 이미지를 plt로 출력해보세요.\n",
        "plt.imshow(np.hstack(train_images[:5]))"
      ],
      "execution_count": 32,
      "outputs": [
        {
          "output_type": "execute_result",
          "data": {
            "text/plain": [
              "<matplotlib.image.AxesImage at 0x7f65f52e2a50>"
            ]
          },
          "metadata": {},
          "execution_count": 32
        },
        {
          "output_type": "display_data",
          "data": {
            "image/png": "[encoded data removed]",
            "text/plain": [
              "<Figure size 432x288 with 1 Axes>"
            ]
          },
          "metadata": {
            "needs_background": "light"
          }
        }
      ]
    },
    {
      "cell_type": "code",
      "metadata": {
        "id": "TZAF8OlW1HsT",
        "colab": {
          "base_uri": "https://localhost:8080/",
          "height": 135
        },
        "outputId": "f30f7399-f7a5-45c1-c6eb-94946b8642ea"
      },
      "source": [
        "# (28, 140)의 이미지를 plt로 출력해보세요.\n",
        "plt.imshow(train_images[:5].transpose((1, 0, 2)).reshape((28, -1)))"
      ],
      "execution_count": 34,
      "outputs": [
        {
          "output_type": "execute_result",
          "data": {
            "text/plain": [
              "<matplotlib.image.AxesImage at 0x7f65f5193b90>"
            ]
          },
          "metadata": {},
          "execution_count": 34
        },
        {
          "output_type": "display_data",
          "data": {
            "image/png": "[encoded data removed]",
            "text/plain": [
              "<Figure size 432x288 with 1 Axes>"
            ]
          },
          "metadata": {
            "needs_background": "light"
          }
        }
      ]
    },
    {
      "cell_type": "code",
      "source": [
        "# 레이블에 따라 5개를 출력하는 함수를 만들어보세요.\n",
        "\n",
        "plt.imshow(train_images[np.argwhere(train_labels==2)[:5, ..., 0]].transpose((1, 0, 2)).reshape((28, -1)))"
      ],
      "metadata": {
        "colab": {
          "base_uri": "https://localhost:8080/",
          "height": 135
        },
        "id": "aIzy3J1wjN-t",
        "outputId": "bc365428-f097-4389-a674-f495b199b597"
      },
      "execution_count": 35,
      "outputs": [
        {
          "output_type": "execute_result",
          "data": {
            "text/plain": [
              "<matplotlib.image.AxesImage at 0x7f65f517d5d0>"
            ]
          },
          "metadata": {},
          "execution_count": 35
        },
        {
          "output_type": "display_data",
          "data": {
            "image/png": "[encoded data removed]",
            "text/plain": [
              "<Figure size 432x288 with 1 Axes>"
            ]
          },
          "metadata": {
            "needs_background": "light"
          }
        }
      ]
    },
    {
      "cell_type": "code",
      "source": [
        "def filter(label, count = 5):\n",
        "    imgs =  train_images[ np.argwhere(train_labels == label)[:count, ..., 0]].transpose((1, 0, 2)).reshape((28, -1)) \n",
        "    plt.imshow(imgs)\n",
        "    plt.show()"
      ],
      "metadata": {
        "id": "1BFpw89Gjdoe"
      },
      "execution_count": 36,
      "outputs": []
    },
    {
      "cell_type": "code",
      "source": [
        "filter(1, 10)"
      ],
      "metadata": {
        "colab": {
          "base_uri": "https://localhost:8080/",
          "height": 85
        },
        "id": "Ktf5VVzCjfFa",
        "outputId": "23fb26c0-68d9-4647-ce31-10483f6195d7"
      },
      "execution_count": 37,
      "outputs": [
        {
          "output_type": "display_data",
          "data": {
            "image/png": "[encoded data removed]",
            "text/plain": [
              "<Figure size 432x288 with 1 Axes>"
            ]
          },
          "metadata": {
            "needs_background": "light"
          }
        }
      ]
    },
    {
      "cell_type": "markdown",
      "metadata": {
        "id": "Kz3kWteP8Kap"
      },
      "source": [
        "## Step 4. Data augmentation - 이미지 확대 및 다객체 추가 방법"
      ]
    },
    {
      "cell_type": "markdown",
      "metadata": {
        "id": "fesKKJqio--a"
      },
      "source": [
        "### 문제 15. 이미지 한장의 크기를 4배로 확대하고, 객체는 4분면 영역중 랜덤으로 1공간에 넣는 함수를 작성하여보세요."
      ]
    },
    {
      "cell_type": "code",
      "metadata": {
        "id": "Jsmh1keWpODx"
      },
      "source": [
        "# 이미지 한장의 크기를 4배로 확대하고, 객체는 4분면 영역중 랜덤으로 1공간에 넣는 함수를 작성하여보세요.\n",
        "def expand_4times(img):\n",
        "    bg = np.zeros(img.shape)\n",
        "    idx = np.random.randint(0, 4)\n",
        "    \n",
        "    slots = [bg, bg, bg, bg]\n",
        "    slots[idx] = img\n",
        "    expanded = np.vstack([\n",
        "                          np.hstack(slots[:2]),\n",
        "                          np.hstack(slots[2:])\n",
        "    ])\n",
        "    return expanded"
      ],
      "execution_count": 38,
      "outputs": []
    },
    {
      "cell_type": "code",
      "source": [
        "plt.imshow(train_images[1])\n",
        "plt.colorbar()"
      ],
      "metadata": {
        "colab": {
          "base_uri": "https://localhost:8080/",
          "height": 286
        },
        "id": "bCc5OcXrjozX",
        "outputId": "96fe4527-e7a5-4edb-bc6a-f55e97a92764"
      },
      "execution_count": 39,
      "outputs": [
        {
          "output_type": "execute_result",
          "data": {
            "text/plain": [
              "<matplotlib.colorbar.Colorbar at 0x7f65f5033390>"
            ]
          },
          "metadata": {},
          "execution_count": 39
        },
        {
          "output_type": "display_data",
          "data": {
            "image/png": "[encoded data removed]",
            "text/plain": [
              "<Figure size 432x288 with 2 Axes>"
            ]
          },
          "metadata": {
            "needs_background": "light"
          }
        }
      ]
    },
    {
      "cell_type": "code",
      "source": [
        "plt.imshow(expand_4times(train_images[1]))\n",
        "plt.colorbar()"
      ],
      "metadata": {
        "colab": {
          "base_uri": "https://localhost:8080/",
          "height": 286
        },
        "id": "e8Kb64J-jsEf",
        "outputId": "f6cd421f-32a2-4877-9565-6ee6d433cee0"
      },
      "execution_count": 40,
      "outputs": [
        {
          "output_type": "execute_result",
          "data": {
            "text/plain": [
              "<matplotlib.colorbar.Colorbar at 0x7f65f4f705d0>"
            ]
          },
          "metadata": {},
          "execution_count": 40
        },
        {
          "output_type": "display_data",
          "data": {
            "image/png": "[encoded data removed]",
            "text/plain": [
              "<Figure size 432x288 with 2 Axes>"
            ]
          },
          "metadata": {
            "needs_background": "light"
          }
        }
      ]
    },
    {
      "cell_type": "markdown",
      "metadata": {
        "id": "LW3qolQPtpCA"
      },
      "source": [
        "### 문제 16. 4배 이미지 변환을 전체 train/test 데이터에 실행하여 train_expand_images, test_expand_images를 생성하세요."
      ]
    },
    {
      "cell_type": "code",
      "metadata": {
        "id": "lUNMTYsTt4RX"
      },
      "source": [
        "# 4배 이미지 변환을 전체 train/test 데이터에 실행하여 train_expend_images, test_expend_images를 생성하세요.\n",
        "train_expand_images = np.array([expand_4times(img) for img in train_images])\n",
        "test_expand_images = np.array([expand_4times(img) for img in test_images])"
      ],
      "execution_count": 41,
      "outputs": []
    },
    {
      "cell_type": "code",
      "source": [
        "print(test_expand_images.shape, train_expand_images.shape)\n",
        "print(test_expand_images.dtype, train_expand_images.dtype)\n",
        "\n",
        "print(test_expand_images.min(), train_expand_images.min())\n",
        "print(test_expand_images.max(), train_expand_images.max())\n"
      ],
      "metadata": {
        "colab": {
          "base_uri": "https://localhost:8080/"
        },
        "id": "AtJAXfazj20M",
        "outputId": "4e395673-e9b1-45bb-e034-286fa3ee1577"
      },
      "execution_count": 42,
      "outputs": [
        {
          "output_type": "stream",
          "name": "stdout",
          "text": [
            "(10000, 56, 56) (60000, 56, 56)\n",
            "float64 float64\n",
            "0.0 0.0\n",
            "1.0 1.0\n"
          ]
        }
      ]
    },
    {
      "cell_type": "markdown",
      "metadata": {
        "id": "_1NMpB6LqIB5"
      },
      "source": [
        "### 문제 17. 4배 이미지 변환 함수를 수정하여 이미지 사이즈를 4배 확대 시킨 뒤, 객체를 랜덤으로 0~4개, 랜덤 4분면에 위치시키는 함수를 작성하세요."
      ]
    },
    {
      "cell_type": "code",
      "metadata": {
        "id": "U9-NlbEhqhCx"
      },
      "source": [
        "# 4배 이미지 변환 함수를 수정하여 이미지 사이즈를 4배 확대 시킨 뒤, 객체를 랜덤으로 1~4개, 랜덤 4분면에 위치시키는 함수를 작성하세요.\n",
        "def expand_4times2(x_data, y_data):\n",
        "    images = []\n",
        "    labels = []\n",
        "\n",
        "    for _ in range(4):\n",
        "        bg = np.zeros((28, 28))\n",
        "        obj_count = np.random.randint(0, 5)\n",
        "\n",
        "        label = np.zeros((10,)) # [0,0,0,0,0,0,0 ...]\n",
        "        slots = [bg, bg, bg, bg]\n",
        "\n",
        "        for idx in range(obj_count):\n",
        "            i = np.random.randint(len(x_data))\n",
        "            slots[idx] = x_data[i]\n",
        "            label += tf.keras.utils.to_categorical(y_data[i], 10)\n",
        "            \n",
        "        np.random.shuffle(slots)\n",
        "\n",
        "    new_img = np.vstack([\n",
        "                          np.hstack(slots[:2]),\n",
        "                          np.hstack(slots[2:])\n",
        "    ])\n",
        "    images.append(new_img)\n",
        "    labels.append((label >= 1 ).astype(np.int))    \n",
        "    return np.array(images), np.array(labels)"
      ],
      "execution_count": 43,
      "outputs": []
    },
    {
      "cell_type": "code",
      "source": [
        "plt.imshow(expand_4times2(train_images, train_labels)[0][0])"
      ],
      "metadata": {
        "colab": {
          "base_uri": "https://localhost:8080/",
          "height": 285
        },
        "id": "TBm86Sx4j9c5",
        "outputId": "42ba6900-ac97-46e8-e74c-ac7f9eb897d4"
      },
      "execution_count": 44,
      "outputs": [
        {
          "output_type": "execute_result",
          "data": {
            "text/plain": [
              "<matplotlib.image.AxesImage at 0x7f65f4efb2d0>"
            ]
          },
          "metadata": {},
          "execution_count": 44
        },
        {
          "output_type": "display_data",
          "data": {
            "image/png": "[encoded data removed]",
            "text/plain": [
              "<Figure size 432x288 with 1 Axes>"
            ]
          },
          "metadata": {
            "needs_background": "light"
          }
        }
      ]
    },
    {
      "cell_type": "code",
      "source": [
        "expand_4times2(train_images, train_labels)[1]"
      ],
      "metadata": {
        "colab": {
          "base_uri": "https://localhost:8080/"
        },
        "id": "-n_Tp_5MktqM",
        "outputId": "d76721e8-ee4d-4ee2-fb4a-3b6f43d3f9da"
      },
      "execution_count": 45,
      "outputs": [
        {
          "output_type": "execute_result",
          "data": {
            "text/plain": [
              "array([[0, 0, 0, 0, 0, 0, 0, 0, 0, 1]])"
            ]
          },
          "metadata": {},
          "execution_count": 45
        }
      ]
    },
    {
      "cell_type": "markdown",
      "metadata": {
        "id": "JLSYLZr0qvGI"
      },
      "source": [
        "### 문제 18. 4배 이미지 변환을 전체 train/test 데이터에 실행하여 train_multi_images, test_multi_images, train_multi_labels, train_multi_labels를 생성하세요."
      ]
    },
    {
      "cell_type": "code",
      "metadata": {
        "id": "EsgmHRFSrDX4"
      },
      "source": [
        "# 4배 이미지 변환을 전체 train/test 데이터에 실행하여 train_multi_images, test_multi_images, train_multi_labels, train_multi_labels를 생성하세요.\n",
        "train_multi_images, train_multi_labels = list(zip(*[expand_4times2(train_images, train_labels) for i in train_images]))\n",
        "test_multi_images, test_multi_labels = list(zip(*[expand_4times2(test_images, test_labels) for i in test_images]))"
      ],
      "execution_count": 46,
      "outputs": []
    },
    {
      "cell_type": "code",
      "source": [
        "train_multi_images = np.array(train_multi_images)[:, 0, :, :].reshape(-1, 56, 56, 1)\n",
        "train_multi_labels = np.array(train_multi_labels)[:, 0, :]\n",
        "\n",
        "test_multi_images = np.array(test_multi_images)[:, 0, :, :].reshape(-1, 56, 56, 1)\n",
        "test_multi_labels = np.array(test_multi_labels)[:, 0, :]\n"
      ],
      "metadata": {
        "id": "Y4UePkgVk3YO"
      },
      "execution_count": 47,
      "outputs": []
    },
    {
      "cell_type": "code",
      "source": [
        "print(train_multi_images.shape, train_multi_labels.shape)\n",
        "print(test_multi_images.shape, test_multi_labels.shape)"
      ],
      "metadata": {
        "colab": {
          "base_uri": "https://localhost:8080/"
        },
        "id": "Q5LWIhogk6yt",
        "outputId": "376040bc-b4b1-40bc-ca98-f3157141e1f2"
      },
      "execution_count": 48,
      "outputs": [
        {
          "output_type": "stream",
          "name": "stdout",
          "text": [
            "(60000, 56, 56, 1) (60000, 10)\n",
            "(10000, 56, 56, 1) (10000, 10)\n"
          ]
        }
      ]
    },
    {
      "cell_type": "code",
      "metadata": {
        "id": "fMLeRs675OLf"
      },
      "source": [
        "# 개수에 따라 연속된 그림을 보여주는 함수를 작성해보세요\n",
        "def filter2(obj_count, count = 5):\n",
        "    labels = train_multi_labels.sum(axis=1)\n",
        "    ids = np.argwhere(  labels == obj_count)[:count, 0]\n",
        "\n",
        "    imgs = train_multi_images[ids][...,0] . transpose((1, 0, 2)).reshape((56, -1)) \n",
        "    plt.imshow(imgs)\n",
        "    plt.show()"
      ],
      "execution_count": 49,
      "outputs": []
    },
    {
      "cell_type": "code",
      "source": [
        "filter2(1, 5)"
      ],
      "metadata": {
        "colab": {
          "base_uri": "https://localhost:8080/",
          "height": 118
        },
        "id": "Eq-c4PN-k_m3",
        "outputId": "65a8f2a8-65be-41e1-dd51-0ea731cfe12b"
      },
      "execution_count": 50,
      "outputs": [
        {
          "output_type": "display_data",
          "data": {
            "image/png": "[encoded data removed]",
            "text/plain": [
              "<Figure size 432x288 with 1 Axes>"
            ]
          },
          "metadata": {
            "needs_background": "light"
          }
        }
      ]
    },
    {
      "cell_type": "markdown",
      "metadata": {
        "id": "nWy8FKR1AYJU"
      },
      "source": [
        "### 문제 19. multi labels와 train_labels의 값의 형태를 비교해보세요."
      ]
    },
    {
      "cell_type": "code",
      "metadata": {
        "id": "ENpSWYu_stHp",
        "colab": {
          "base_uri": "https://localhost:8080/"
        },
        "outputId": "6fad85c9-0aa4-48be-e852-d1e91827f02d"
      },
      "source": [
        "# multi labels와 train_labels의 값의 형태를 비교해보세요.\n",
        "train_labels[0]"
      ],
      "execution_count": 51,
      "outputs": [
        {
          "output_type": "execute_result",
          "data": {
            "text/plain": [
              "9"
            ]
          },
          "metadata": {},
          "execution_count": 51
        }
      ]
    },
    {
      "cell_type": "code",
      "source": [
        "tf.keras.utils.to_categorical(train_labels[0], 10)"
      ],
      "metadata": {
        "colab": {
          "base_uri": "https://localhost:8080/"
        },
        "id": "XC2mmMQWlENu",
        "outputId": "97a979df-94ea-4223-8f4b-fa71b1b67f41"
      },
      "execution_count": 52,
      "outputs": [
        {
          "output_type": "execute_result",
          "data": {
            "text/plain": [
              "array([0., 0., 0., 0., 0., 0., 0., 0., 0., 1.], dtype=float32)"
            ]
          },
          "metadata": {},
          "execution_count": 52
        }
      ]
    },
    {
      "cell_type": "code",
      "source": [
        "train_multi_labels[2]"
      ],
      "metadata": {
        "colab": {
          "base_uri": "https://localhost:8080/"
        },
        "id": "yngQLkNSlIBC",
        "outputId": "c7bc6fca-6baa-49b7-b355-1d77433e930d"
      },
      "execution_count": 53,
      "outputs": [
        {
          "output_type": "execute_result",
          "data": {
            "text/plain": [
              "array([0, 0, 0, 0, 0, 0, 0, 0, 0, 0])"
            ]
          },
          "metadata": {},
          "execution_count": 53
        }
      ]
    },
    {
      "cell_type": "markdown",
      "metadata": {
        "id": "_QLtKR5LafGc"
      },
      "source": [
        "### 문제 20. train_labels에서 label들의 분포를 구해보세요."
      ]
    },
    {
      "cell_type": "code",
      "metadata": {
        "id": "1EFMt2SKafGc",
        "colab": {
          "base_uri": "https://localhost:8080/",
          "height": 283
        },
        "outputId": "7cc90cd8-ff57-4feb-e438-415f9d44b72d"
      },
      "source": [
        "# 문제 20. train_labels에서 label들의 분포를 히스토그램으로 구해보세요.\n",
        "plt.bar ([0, 1,2,3,4,5,6,7,8,9], tf.keras.utils.to_categorical(train_labels).sum(axis=0))"
      ],
      "execution_count": 54,
      "outputs": [
        {
          "output_type": "execute_result",
          "data": {
            "text/plain": [
              "<BarContainer object of 10 artists>"
            ]
          },
          "metadata": {},
          "execution_count": 54
        },
        {
          "output_type": "display_data",
          "data": {
            "image/png": "[encoded data removed]",
            "text/plain": [
              "<Figure size 432x288 with 1 Axes>"
            ]
          },
          "metadata": {
            "needs_background": "light"
          }
        }
      ]
    },
    {
      "cell_type": "markdown",
      "metadata": {
        "id": "fTvy4VmfYFM5"
      },
      "source": [
        "### 문제 21. multi labels에서 label들의 분포와  multi images에서 평균 사진 개수 분포를 구하세요."
      ]
    },
    {
      "cell_type": "code",
      "metadata": {
        "id": "IFzHUcyBB84T",
        "colab": {
          "base_uri": "https://localhost:8080/",
          "height": 283
        },
        "outputId": "27d13885-a278-4a03-fbd0-ec849da9b7b1"
      },
      "source": [
        "# 문제 21. multi labels에서 label들의 분포를 히스토그램으로 구해보세요.\n",
        "\n",
        "plt.bar ([0, 1,2,3,4,5,6,7,8,9], train_multi_labels.sum(axis=0))"
      ],
      "execution_count": 55,
      "outputs": [
        {
          "output_type": "execute_result",
          "data": {
            "text/plain": [
              "<BarContainer object of 10 artists>"
            ]
          },
          "metadata": {},
          "execution_count": 55
        },
        {
          "output_type": "display_data",
          "data": {
            "image/png": "[encoded data removed]",
            "text/plain": [
              "<Figure size 432x288 with 1 Axes>"
            ]
          },
          "metadata": {
            "needs_background": "light"
          }
        }
      ]
    },
    {
      "cell_type": "code",
      "metadata": {
        "id": "rqYMbI6jyPkn",
        "colab": {
          "base_uri": "https://localhost:8080/",
          "height": 335
        },
        "outputId": "8fd1cb43-fa39-4c31-9b73-7bf18035c05f"
      },
      "source": [
        "# 문제 22. multi images에서 평균 사진 개수 분포를 구하세요\n",
        "plt.hist(train_multi_labels.sum(axis=1))"
      ],
      "execution_count": 56,
      "outputs": [
        {
          "output_type": "execute_result",
          "data": {
            "text/plain": [
              "(array([11901.,     0., 13373.,     0.,     0., 14718.,     0., 13833.,\n",
              "            0.,  6175.]),\n",
              " array([0. , 0.4, 0.8, 1.2, 1.6, 2. , 2.4, 2.8, 3.2, 3.6, 4. ]),\n",
              " <a list of 10 Patch objects>)"
            ]
          },
          "metadata": {},
          "execution_count": 56
        },
        {
          "output_type": "display_data",
          "data": {
            "image/png": "[encoded data removed]",
            "text/plain": [
              "<Figure size 432x288 with 1 Axes>"
            ]
          },
          "metadata": {
            "needs_background": "light"
          }
        }
      ]
    },
    {
      "cell_type": "markdown",
      "metadata": {
        "id": "z67dTPu0xJSu"
      },
      "source": [
        "## Step 5. 모델링"
      ]
    },
    {
      "cell_type": "markdown",
      "metadata": {
        "id": "20iJHg2gXrC2"
      },
      "source": [
        "### 문제 22. train_expand_images, train_labels로 초벌 모델을 생성해보세요."
      ]
    },
    {
      "cell_type": "code",
      "metadata": {
        "id": "1Q1XtFoxX0eN"
      },
      "source": [
        "# train_expand_images, train_labels로 싱글 label을 처리하는 image classification 초벌 모델을 생성해보세요.\n",
        "from keras.layers import Input, Conv2D, MaxPool2D, Dropout, Dense, Flatten, GlobalAvgPool2D\n",
        "from keras.models import Model\n",
        "\n",
        "def single_fashin_mnist_model():\n",
        "    inputs = Input((56, 56, 1))\n",
        "    x = Conv2D(16, 2, padding=\"same\", activation=\"relu\")(inputs)\n",
        "    x = MaxPool2D(2)(x)\n",
        "    x = Dropout(0.3)(x)\n",
        "\n",
        "    x = Conv2D(32, 2, padding=\"same\", activation=\"relu\")(x)\n",
        "    x = MaxPool2D(2)(x)\n",
        "    x = Dropout(0.3)(x)\n",
        "\n",
        "    x = Conv2D(64, 2, padding=\"same\", activation=\"relu\")(x)\n",
        "    x = MaxPool2D(2)(x)\n",
        "    x = Flatten()(x)\n",
        "    x = Dense(10, activation=\"softmax\")(x)\n",
        "    return Model(inputs, x)"
      ],
      "execution_count": 57,
      "outputs": []
    },
    {
      "cell_type": "code",
      "source": [
        "def single_fashin_mnist_model2():\n",
        "    inputs = Input((56, 56, 1))\n",
        "    x = Conv2D(16, 2, padding=\"same\", activation=\"relu\")(inputs)\n",
        "    x = MaxPool2D(2)(x)\n",
        "    x = Dropout(0.3)(x)\n",
        "\n",
        "    x = Conv2D(32, 2, padding=\"same\", activation=\"relu\")(x)\n",
        "    x = MaxPool2D(2)(x)\n",
        "    x = Dropout(0.3)(x)\n",
        "\n",
        "    x = Conv2D(64, 2, padding=\"same\", activation=\"relu\")(x)\n",
        "    x = MaxPool2D(2)(x)\n",
        "    x = GlobalAvgPool2D()(x)\n",
        "    x = Dense(10, activation=\"softmax\")(x)\n",
        "    return Model(inputs, x)"
      ],
      "metadata": {
        "id": "7QH3VP4ZlYQ7"
      },
      "execution_count": 58,
      "outputs": []
    },
    {
      "cell_type": "markdown",
      "metadata": {
        "id": "zeALYpCGjHlJ"
      },
      "source": [
        "### 문제 23. 모델을 할당 받고 서머리를 출력해보세요."
      ]
    },
    {
      "cell_type": "code",
      "metadata": {
        "id": "Tc4Xiq7IjVaI",
        "colab": {
          "base_uri": "https://localhost:8080/"
        },
        "outputId": "1303bc88-b72e-4224-e5c6-9cc9442151e2"
      },
      "source": [
        "# single_fashin_mnist_model() 모델을 할당 받고 서머리를 출력하는 코드를 작성하세요.\n",
        "model = single_fashin_mnist_model()\n",
        "model.summary()"
      ],
      "execution_count": 59,
      "outputs": [
        {
          "output_type": "stream",
          "name": "stdout",
          "text": [
            "Model: \"model\"\n",
            "_________________________________________________________________\n",
            " Layer (type)                Output Shape              Param #   \n",
            "=================================================================\n",
            " input_1 (InputLayer)        [(None, 56, 56, 1)]       0         \n",
            "                                                                 \n",
            " conv2d (Conv2D)             (None, 56, 56, 16)        80        \n",
            "                                                                 \n",
            " max_pooling2d (MaxPooling2D  (None, 28, 28, 16)       0         \n",
            " )                                                               \n",
            "                                                                 \n",
            " dropout (Dropout)           (None, 28, 28, 16)        0         \n",
            "                                                                 \n",
            " conv2d_1 (Conv2D)           (None, 28, 28, 32)        2080      \n",
            "                                                                 \n",
            " max_pooling2d_1 (MaxPooling  (None, 14, 14, 32)       0         \n",
            " 2D)                                                             \n",
            "                                                                 \n",
            " dropout_1 (Dropout)         (None, 14, 14, 32)        0         \n",
            "                                                                 \n",
            " conv2d_2 (Conv2D)           (None, 14, 14, 64)        8256      \n",
            "                                                                 \n",
            " max_pooling2d_2 (MaxPooling  (None, 7, 7, 64)         0         \n",
            " 2D)                                                             \n",
            "                                                                 \n",
            " flatten (Flatten)           (None, 3136)              0         \n",
            "                                                                 \n",
            " dense (Dense)               (None, 10)                31370     \n",
            "                                                                 \n",
            "=================================================================\n",
            "Total params: 41,786\n",
            "Trainable params: 41,786\n",
            "Non-trainable params: 0\n",
            "_________________________________________________________________\n"
          ]
        }
      ]
    },
    {
      "cell_type": "code",
      "source": [
        "model = single_fashin_mnist_model2()\n",
        "model.summary()"
      ],
      "metadata": {
        "colab": {
          "base_uri": "https://localhost:8080/"
        },
        "id": "fO7KXtotlcaU",
        "outputId": "b23cfa9a-6189-497d-a02f-ab230a669ae9"
      },
      "execution_count": 60,
      "outputs": [
        {
          "output_type": "stream",
          "name": "stdout",
          "text": [
            "Model: \"model_1\"\n",
            "_________________________________________________________________\n",
            " Layer (type)                Output Shape              Param #   \n",
            "=================================================================\n",
            " input_2 (InputLayer)        [(None, 56, 56, 1)]       0         \n",
            "                                                                 \n",
            " conv2d_3 (Conv2D)           (None, 56, 56, 16)        80        \n",
            "                                                                 \n",
            " max_pooling2d_3 (MaxPooling  (None, 28, 28, 16)       0         \n",
            " 2D)                                                             \n",
            "                                                                 \n",
            " dropout_2 (Dropout)         (None, 28, 28, 16)        0         \n",
            "                                                                 \n",
            " conv2d_4 (Conv2D)           (None, 28, 28, 32)        2080      \n",
            "                                                                 \n",
            " max_pooling2d_4 (MaxPooling  (None, 14, 14, 32)       0         \n",
            " 2D)                                                             \n",
            "                                                                 \n",
            " dropout_3 (Dropout)         (None, 14, 14, 32)        0         \n",
            "                                                                 \n",
            " conv2d_5 (Conv2D)           (None, 14, 14, 64)        8256      \n",
            "                                                                 \n",
            " max_pooling2d_5 (MaxPooling  (None, 7, 7, 64)         0         \n",
            " 2D)                                                             \n",
            "                                                                 \n",
            " global_average_pooling2d (G  (None, 64)               0         \n",
            " lobalAveragePooling2D)                                          \n",
            "                                                                 \n",
            " dense_1 (Dense)             (None, 10)                650       \n",
            "                                                                 \n",
            "=================================================================\n",
            "Total params: 11,066\n",
            "Trainable params: 11,066\n",
            "Non-trainable params: 0\n",
            "_________________________________________________________________\n"
          ]
        }
      ]
    },
    {
      "cell_type": "markdown",
      "metadata": {
        "id": "PkOrDR1yam4a"
      },
      "source": [
        "### 문제 24. 만든 모델에 로스와 옵티마이저, 메트릭을 설정하세요."
      ]
    },
    {
      "cell_type": "code",
      "metadata": {
        "id": "nufi0CMyazsF"
      },
      "source": [
        "# 만든 모델에 loss는 categorical_crossentropy, optimizer는 adam 매트릭은 accuracy으로 설정하는 코드를 작성하세요.\n",
        "model.compile(loss=\"categorical_crossentropy\", optimizer=\"adam\", metrics=['accuracy'])"
      ],
      "execution_count": 61,
      "outputs": []
    },
    {
      "cell_type": "markdown",
      "metadata": {
        "id": "IZRqZC50ZoaE"
      },
      "source": [
        "### 문제 25. 만든 모델에 train_expand_images를 학습시켜 보세요."
      ]
    },
    {
      "cell_type": "code",
      "metadata": {
        "id": "PtpJp3fmaRuA",
        "colab": {
          "base_uri": "https://localhost:8080/"
        },
        "outputId": "cba544cc-d1da-4560-b809-dcf303b42780"
      },
      "source": [
        "# train_expand_images, train_labels을 학습시키고 15 epochs을 돌리고 그 진행 사항을 hist에 저장하는 코드를 작성하세요.\n",
        "hist = model.fit(train_expand_images.reshape((-1,56,56,1)),\n",
        "                 tf.keras.utils.to_categorical(train_labels, 10),\n",
        "\n",
        "                 validation_data = (test_expand_images.reshape((-1,56,56,1)), tf.keras.utils.to_categorical(test_labels, 10)),\n",
        "                 epochs = 15,\n",
        "                 verbose = 1\n",
        "                 )"
      ],
      "execution_count": 62,
      "outputs": [
        {
          "output_type": "stream",
          "name": "stdout",
          "text": [
            "Epoch 1/15\n",
            "1875/1875 [==============================] - 17s 5ms/step - loss: 1.3929 - accuracy: 0.4931 - val_loss: 1.0563 - val_accuracy: 0.6271\n",
            "Epoch 2/15\n",
            "1875/1875 [==============================] - 7s 4ms/step - loss: 0.9755 - accuracy: 0.6512 - val_loss: 0.8572 - val_accuracy: 0.6926\n",
            "Epoch 3/15\n",
            "1875/1875 [==============================] - 8s 4ms/step - loss: 0.8496 - accuracy: 0.6922 - val_loss: 0.7831 - val_accuracy: 0.7251\n",
            "Epoch 4/15\n",
            "1875/1875 [==============================] - 8s 4ms/step - loss: 0.7761 - accuracy: 0.7165 - val_loss: 0.7129 - val_accuracy: 0.7457\n",
            "Epoch 5/15\n",
            "1875/1875 [==============================] - 8s 4ms/step - loss: 0.7253 - accuracy: 0.7362 - val_loss: 0.6650 - val_accuracy: 0.7625\n",
            "Epoch 6/15\n",
            "1875/1875 [==============================] - 8s 4ms/step - loss: 0.6850 - accuracy: 0.7496 - val_loss: 0.6584 - val_accuracy: 0.7531\n",
            "Epoch 7/15\n",
            "1875/1875 [==============================] - 7s 4ms/step - loss: 0.6546 - accuracy: 0.7619 - val_loss: 0.5874 - val_accuracy: 0.7931\n",
            "Epoch 8/15\n",
            "1875/1875 [==============================] - 7s 4ms/step - loss: 0.6306 - accuracy: 0.7727 - val_loss: 0.5760 - val_accuracy: 0.7979\n",
            "Epoch 9/15\n",
            "1875/1875 [==============================] - 7s 4ms/step - loss: 0.6107 - accuracy: 0.7780 - val_loss: 0.5560 - val_accuracy: 0.8057\n",
            "Epoch 10/15\n",
            "1875/1875 [==============================] - 8s 4ms/step - loss: 0.5942 - accuracy: 0.7855 - val_loss: 0.5410 - val_accuracy: 0.8090\n",
            "Epoch 11/15\n",
            "1875/1875 [==============================] - 8s 4ms/step - loss: 0.5790 - accuracy: 0.7925 - val_loss: 0.5137 - val_accuracy: 0.8194\n",
            "Epoch 12/15\n",
            "1875/1875 [==============================] - 7s 4ms/step - loss: 0.5633 - accuracy: 0.7980 - val_loss: 0.5069 - val_accuracy: 0.8191\n",
            "Epoch 13/15\n",
            "1875/1875 [==============================] - 8s 4ms/step - loss: 0.5483 - accuracy: 0.8037 - val_loss: 0.5020 - val_accuracy: 0.8194\n",
            "Epoch 14/15\n",
            "1875/1875 [==============================] - 8s 4ms/step - loss: 0.5374 - accuracy: 0.8069 - val_loss: 0.4873 - val_accuracy: 0.8267\n",
            "Epoch 15/15\n",
            "1875/1875 [==============================] - 7s 4ms/step - loss: 0.5272 - accuracy: 0.8111 - val_loss: 0.4773 - val_accuracy: 0.8349\n"
          ]
        }
      ]
    },
    {
      "cell_type": "markdown",
      "metadata": {
        "id": "hU3-Lm7Ma_97"
      },
      "source": [
        "### 문제 26. 학습 진행 사항을 출력하세요."
      ]
    },
    {
      "cell_type": "code",
      "metadata": {
        "id": "B6pKz5o3bPIT",
        "colab": {
          "base_uri": "https://localhost:8080/",
          "height": 265
        },
        "outputId": "0d9b7a5e-9cd1-4704-a413-f7679269e0b3"
      },
      "source": [
        "# hist의 accuracy plt의 plot을 이용하여 출력하는 코드를 작성하세요.\n",
        "plt.plot(hist.history['accuracy'], label='accuracy')\n",
        "plt.plot(hist.history['loss'], label='loss')\n",
        "plt.plot(hist.history['val_accuracy'], label='val_accuracy')\n",
        "plt.plot(hist.history['val_loss'], label='val_loss')\n",
        "plt.legend(loc='upper left')\n",
        "plt.show()"
      ],
      "execution_count": 63,
      "outputs": [
        {
          "output_type": "display_data",
          "data": {
            "image/png": "[encoded data removed]",
            "text/plain": [
              "<Figure size 432x288 with 1 Axes>"
            ]
          },
          "metadata": {
            "needs_background": "light"
          }
        }
      ]
    },
    {
      "cell_type": "markdown",
      "metadata": {
        "id": "NLdXvBcvDYkm"
      },
      "source": [
        "## Step 6. 결과 확인"
      ]
    },
    {
      "cell_type": "markdown",
      "metadata": {
        "id": "J6nvDS4yOSCD"
      },
      "source": [
        "### 문제 27. 완성된 모델에서 test_expand_images를 1장 넣고 결과를 res 변수에 저정하세요."
      ]
    },
    {
      "cell_type": "code",
      "metadata": {
        "id": "uKFAu5z4QRjR",
        "colab": {
          "base_uri": "https://localhost:8080/"
        },
        "outputId": "cc8dc95c-2118-42d3-bc48-5ea07f06a04e"
      },
      "source": [
        "test_expand_images[0:1].shape"
      ],
      "execution_count": 64,
      "outputs": [
        {
          "output_type": "execute_result",
          "data": {
            "text/plain": [
              "(1, 56, 56)"
            ]
          },
          "metadata": {},
          "execution_count": 64
        }
      ]
    },
    {
      "cell_type": "code",
      "source": [
        "# 모델에  test_expand_images 중 1장을 넣고 결과를 받는 코드를 작성하세요.\n",
        "res = model.predict(test_expand_images[2].reshape(1,56,56,1))\n",
        "res.shape"
      ],
      "metadata": {
        "colab": {
          "base_uri": "https://localhost:8080/"
        },
        "id": "9O2B0oQ8l1vs",
        "outputId": "7963599b-4391-484e-d04c-133592a37686"
      },
      "execution_count": 65,
      "outputs": [
        {
          "output_type": "execute_result",
          "data": {
            "text/plain": [
              "(1, 10)"
            ]
          },
          "metadata": {},
          "execution_count": 65
        }
      ]
    },
    {
      "cell_type": "markdown",
      "metadata": {
        "id": "r-U6Uo2d3cFv"
      },
      "source": [
        "### 문제 28. res의 결과와 실제 label을 비교하고 test_exnpand_images[0]을 plt로 출력하세요."
      ]
    },
    {
      "cell_type": "code",
      "metadata": {
        "id": "E8kp1YTf3kfP",
        "colab": {
          "base_uri": "https://localhost:8080/",
          "height": 284
        },
        "outputId": "2b180ec2-32ba-459a-dcd6-a7c61b66c3c5"
      },
      "source": [
        "# res의 결과와 실제 label을 비교하고 test_exnpand_images[0]을 plt로 출력하세요.\n",
        "plt.bar(np.arange(0, 10), tf.keras.utils.to_categorical(test_labels[2], 10), color=\"black\")\n",
        "plt.show()\n",
        "\n",
        "idx2label(test_labels[2])"
      ],
      "execution_count": 66,
      "outputs": [
        {
          "output_type": "display_data",
          "data": {
            "image/png": "[encoded data removed]",
            "text/plain": [
              "<Figure size 432x288 with 1 Axes>"
            ]
          },
          "metadata": {
            "needs_background": "light"
          }
        },
        {
          "output_type": "execute_result",
          "data": {
            "application/vnd.google.colaboratory.intrinsic+json": {
              "type": "string"
            },
            "text/plain": [
              "'Trouser'"
            ]
          },
          "metadata": {},
          "execution_count": 66
        }
      ]
    },
    {
      "cell_type": "code",
      "source": [
        "plt.bar(np.arange(0, 10), res[0], color=\"gray\")\n",
        "plt.show()\n",
        "idx2label(res[0].argmax())"
      ],
      "metadata": {
        "colab": {
          "base_uri": "https://localhost:8080/",
          "height": 284
        },
        "id": "55-vmZPqmNCo",
        "outputId": "b5358c5e-57da-4a05-ede5-9a65978a05bf"
      },
      "execution_count": 67,
      "outputs": [
        {
          "output_type": "display_data",
          "data": {
            "image/png": "[encoded data removed]",
            "text/plain": [
              "<Figure size 432x288 with 1 Axes>"
            ]
          },
          "metadata": {
            "needs_background": "light"
          }
        },
        {
          "output_type": "execute_result",
          "data": {
            "application/vnd.google.colaboratory.intrinsic+json": {
              "type": "string"
            },
            "text/plain": [
              "'Trouser'"
            ]
          },
          "metadata": {},
          "execution_count": 67
        }
      ]
    },
    {
      "cell_type": "code",
      "source": [
        "plt.imshow(test_expand_images[2])"
      ],
      "metadata": {
        "colab": {
          "base_uri": "https://localhost:8080/",
          "height": 285
        },
        "id": "dbyvEqXzmPTi",
        "outputId": "226969c2-95c1-445a-9d27-ce36e6c6b470"
      },
      "execution_count": 68,
      "outputs": [
        {
          "output_type": "execute_result",
          "data": {
            "text/plain": [
              "<matplotlib.image.AxesImage at 0x7f65f4dc8b50>"
            ]
          },
          "metadata": {},
          "execution_count": 68
        },
        {
          "output_type": "display_data",
          "data": {
            "image/png": "[encoded data removed]",
            "text/plain": [
              "<Figure size 432x288 with 1 Axes>"
            ]
          },
          "metadata": {
            "needs_background": "light"
          }
        }
      ]
    },
    {
      "cell_type": "markdown",
      "metadata": {
        "id": "asN220f5D37P"
      },
      "source": [
        "## Step 7. 멀티 레이블 모델링"
      ]
    },
    {
      "cell_type": "markdown",
      "metadata": {
        "id": "om4GrvBdwNe1"
      },
      "source": [
        "### 문제 29. train_multi_images 와 train_multi_labels를 처리 할 수 있는 모델을 작성하세요."
      ]
    },
    {
      "cell_type": "code",
      "metadata": {
        "id": "UrxLmr-EwaDE"
      },
      "source": [
        "# 기존 모델의 마지막 layer에 변환을 줘서 multi labels을 처리할 수 있는 모델을 작성하세요.\n",
        "def multi_fashin_mnist_model(model):\n",
        "    model.trainable = False\n",
        "    x = model.layers[-2].output\n",
        "    x = Dense(10, activation='sigmoid')(x)\n",
        "    return Model(model.input, x)"
      ],
      "execution_count": 69,
      "outputs": []
    },
    {
      "cell_type": "code",
      "source": [
        "model.summary()"
      ],
      "metadata": {
        "colab": {
          "base_uri": "https://localhost:8080/"
        },
        "id": "8YaVm5s3mZPl",
        "outputId": "bf0e1b83-b683-44ba-bb7d-6e2252a8a550"
      },
      "execution_count": 70,
      "outputs": [
        {
          "output_type": "stream",
          "name": "stdout",
          "text": [
            "Model: \"model_1\"\n",
            "_________________________________________________________________\n",
            " Layer (type)                Output Shape              Param #   \n",
            "=================================================================\n",
            " input_2 (InputLayer)        [(None, 56, 56, 1)]       0         \n",
            "                                                                 \n",
            " conv2d_3 (Conv2D)           (None, 56, 56, 16)        80        \n",
            "                                                                 \n",
            " max_pooling2d_3 (MaxPooling  (None, 28, 28, 16)       0         \n",
            " 2D)                                                             \n",
            "                                                                 \n",
            " dropout_2 (Dropout)         (None, 28, 28, 16)        0         \n",
            "                                                                 \n",
            " conv2d_4 (Conv2D)           (None, 28, 28, 32)        2080      \n",
            "                                                                 \n",
            " max_pooling2d_4 (MaxPooling  (None, 14, 14, 32)       0         \n",
            " 2D)                                                             \n",
            "                                                                 \n",
            " dropout_3 (Dropout)         (None, 14, 14, 32)        0         \n",
            "                                                                 \n",
            " conv2d_5 (Conv2D)           (None, 14, 14, 64)        8256      \n",
            "                                                                 \n",
            " max_pooling2d_5 (MaxPooling  (None, 7, 7, 64)         0         \n",
            " 2D)                                                             \n",
            "                                                                 \n",
            " global_average_pooling2d (G  (None, 64)               0         \n",
            " lobalAveragePooling2D)                                          \n",
            "                                                                 \n",
            " dense_1 (Dense)             (None, 10)                650       \n",
            "                                                                 \n",
            "=================================================================\n",
            "Total params: 11,066\n",
            "Trainable params: 11,066\n",
            "Non-trainable params: 0\n",
            "_________________________________________________________________\n"
          ]
        }
      ]
    },
    {
      "cell_type": "markdown",
      "metadata": {
        "id": "m4LUlqPTwo0a"
      },
      "source": [
        "### 문제 30. 기존 모델을 멀티 모델로 변환하여 모델 서머리를 출력하세요."
      ]
    },
    {
      "cell_type": "code",
      "metadata": {
        "id": "_DMtsyLmwtXY",
        "colab": {
          "base_uri": "https://localhost:8080/"
        },
        "outputId": "7c052a65-af41-45a9-c751-72187bf34ef4"
      },
      "source": [
        "# 기존 모델을 멀티 모델로 변환하여 모델 서머리를 출력하세요.\n",
        "new_model = multi_fashin_mnist_model(model)\n",
        "new_model.summary()"
      ],
      "execution_count": 71,
      "outputs": [
        {
          "output_type": "stream",
          "name": "stdout",
          "text": [
            "Model: \"model_2\"\n",
            "_________________________________________________________________\n",
            " Layer (type)                Output Shape              Param #   \n",
            "=================================================================\n",
            " input_2 (InputLayer)        [(None, 56, 56, 1)]       0         \n",
            "                                                                 \n",
            " conv2d_3 (Conv2D)           (None, 56, 56, 16)        80        \n",
            "                                                                 \n",
            " max_pooling2d_3 (MaxPooling  (None, 28, 28, 16)       0         \n",
            " 2D)                                                             \n",
            "                                                                 \n",
            " dropout_2 (Dropout)         (None, 28, 28, 16)        0         \n",
            "                                                                 \n",
            " conv2d_4 (Conv2D)           (None, 28, 28, 32)        2080      \n",
            "                                                                 \n",
            " max_pooling2d_4 (MaxPooling  (None, 14, 14, 32)       0         \n",
            " 2D)                                                             \n",
            "                                                                 \n",
            " dropout_3 (Dropout)         (None, 14, 14, 32)        0         \n",
            "                                                                 \n",
            " conv2d_5 (Conv2D)           (None, 14, 14, 64)        8256      \n",
            "                                                                 \n",
            " max_pooling2d_5 (MaxPooling  (None, 7, 7, 64)         0         \n",
            " 2D)                                                             \n",
            "                                                                 \n",
            " global_average_pooling2d (G  (None, 64)               0         \n",
            " lobalAveragePooling2D)                                          \n",
            "                                                                 \n",
            " dense_2 (Dense)             (None, 10)                650       \n",
            "                                                                 \n",
            "=================================================================\n",
            "Total params: 11,066\n",
            "Trainable params: 650\n",
            "Non-trainable params: 10,416\n",
            "_________________________________________________________________\n"
          ]
        }
      ]
    },
    {
      "cell_type": "markdown",
      "metadata": {
        "id": "JqPCAn2iw4qM"
      },
      "source": [
        "### 문제 31. 문제 25과 같은 세팅으로 train_multi_images를 학습시키세요."
      ]
    },
    {
      "cell_type": "code",
      "metadata": {
        "id": "diDpP7Wqw3O9",
        "colab": {
          "base_uri": "https://localhost:8080/"
        },
        "outputId": "08800dc4-1742-4006-8750-2eb9f437eb67"
      },
      "source": [
        "# 문제 25과 같은 세팅으로 train_multi_images를 학습시키세요.\n",
        "new_model.compile(loss=\"categorical_crossentropy\", optimizer=\"adam\", metrics=['accuracy'])\n",
        "hist2 = new_model.fit(train_multi_images,\n",
        "                 train_multi_labels,\n",
        "\n",
        "                 validation_data = (test_multi_images, test_multi_labels),\n",
        "                 epochs = 15,\n",
        "                 verbose = 1\n",
        "                 )"
      ],
      "execution_count": 72,
      "outputs": [
        {
          "output_type": "stream",
          "name": "stdout",
          "text": [
            "Epoch 1/15\n",
            "1875/1875 [==============================] - 6s 3ms/step - loss: 4.8350 - accuracy: 0.1440 - val_loss: 4.1289 - val_accuracy: 0.1873\n",
            "Epoch 2/15\n",
            "1875/1875 [==============================] - 6s 3ms/step - loss: 4.1783 - accuracy: 0.2253 - val_loss: 3.9370 - val_accuracy: 0.2455\n",
            "Epoch 3/15\n",
            "1875/1875 [==============================] - 6s 3ms/step - loss: 4.0301 - accuracy: 0.2623 - val_loss: 3.8088 - val_accuracy: 0.2599\n",
            "Epoch 4/15\n",
            "1875/1875 [==============================] - 6s 3ms/step - loss: 3.9909 - accuracy: 0.2842 - val_loss: 3.7619 - val_accuracy: 0.2981\n",
            "Epoch 5/15\n",
            "1875/1875 [==============================] - 6s 3ms/step - loss: 3.9898 - accuracy: 0.2985 - val_loss: 3.8516 - val_accuracy: 0.4887\n",
            "Epoch 6/15\n",
            "1875/1875 [==============================] - 6s 3ms/step - loss: 4.0259 - accuracy: 0.3121 - val_loss: 3.7546 - val_accuracy: 0.5016\n",
            "Epoch 7/15\n",
            "1875/1875 [==============================] - 6s 3ms/step - loss: 4.0878 - accuracy: 0.3210 - val_loss: 3.8704 - val_accuracy: 0.3143\n",
            "Epoch 8/15\n",
            "1875/1875 [==============================] - 6s 3ms/step - loss: 4.1634 - accuracy: 0.3267 - val_loss: 3.8149 - val_accuracy: 0.3462\n",
            "Epoch 9/15\n",
            "1875/1875 [==============================] - 6s 3ms/step - loss: 4.2485 - accuracy: 0.3310 - val_loss: 4.0191 - val_accuracy: 0.3248\n",
            "Epoch 10/15\n",
            "1875/1875 [==============================] - 6s 3ms/step - loss: 4.3406 - accuracy: 0.3383 - val_loss: 4.0019 - val_accuracy: 0.3326\n",
            "Epoch 11/15\n",
            "1875/1875 [==============================] - 6s 3ms/step - loss: 4.4432 - accuracy: 0.3401 - val_loss: 4.0587 - val_accuracy: 0.3406\n",
            "Epoch 12/15\n",
            "1875/1875 [==============================] - 6s 3ms/step - loss: 4.5354 - accuracy: 0.3408 - val_loss: 4.1438 - val_accuracy: 0.3363\n",
            "Epoch 13/15\n",
            "1875/1875 [==============================] - 6s 3ms/step - loss: 4.6460 - accuracy: 0.3477 - val_loss: 4.2306 - val_accuracy: 0.3389\n",
            "Epoch 14/15\n",
            "1875/1875 [==============================] - 6s 3ms/step - loss: 4.7433 - accuracy: 0.3483 - val_loss: 4.3244 - val_accuracy: 0.3517\n",
            "Epoch 15/15\n",
            "1875/1875 [==============================] - 6s 3ms/step - loss: 4.8290 - accuracy: 0.3503 - val_loss: 4.3957 - val_accuracy: 0.3606\n"
          ]
        }
      ]
    },
    {
      "cell_type": "code",
      "source": [
        "epochs = 15\n",
        "batch_size = 32\n",
        "new_model.compile(loss=\"binary_crossentropy\", optimizer=\"adam\", metrics=['accuracy'])\n",
        "for epoch in range(epochs):\n",
        "    for _ in range(0, len(train_images), batch_size):\n",
        "        batch_x = []\n",
        "        batch_y = []\n",
        "\n",
        "        for _ in range(batch_size):\n",
        "            x, y = expand_4times2(train_images, train_labels)\n",
        "            batch_x.append(x)\n",
        "            batch_y.append(y)\n",
        "\n",
        "        batch_x = np.array(batch_x).reshape((-1, 56, 56, 1))\n",
        "        batch_y = np.array(batch_y).reshape((-1, 10))\n",
        "        new_model.train_on_batch(batch_x, batch_y)\n",
        "    print(epoch, \"e\")"
      ],
      "metadata": {
        "colab": {
          "base_uri": "https://localhost:8080/"
        },
        "id": "LHrkWPqLmnPL",
        "outputId": "d3e01a01-538a-4be3-c83c-d90c04258941"
      },
      "execution_count": 73,
      "outputs": [
        {
          "output_type": "stream",
          "name": "stdout",
          "text": [
            "0 e\n",
            "1 e\n",
            "2 e\n",
            "3 e\n",
            "4 e\n",
            "5 e\n",
            "6 e\n",
            "7 e\n",
            "8 e\n",
            "9 e\n",
            "10 e\n",
            "11 e\n",
            "12 e\n",
            "13 e\n",
            "14 e\n"
          ]
        }
      ]
    },
    {
      "cell_type": "markdown",
      "metadata": {
        "id": "Gfi5SHaC-Vag"
      },
      "source": [
        "### 문제 32. 완성된 모델에서 test_multi_images를 1장 넣고 결과를 res 변수에 저정한뒤 실제 test_multi_labels와 비교해보세요."
      ]
    },
    {
      "cell_type": "code",
      "metadata": {
        "id": "QKjeOiSZ6Wrr",
        "colab": {
          "base_uri": "https://localhost:8080/"
        },
        "outputId": "328186dc-cbd4-4a73-ed63-b74c93a7540e"
      },
      "source": [
        "# 완성된 모델에서 test_multi_images를 1장 넣고 결과를 res 변수에 저정한뒤 실제 test_multi_labels와 비교해보세요.\n",
        "res = new_model.predict(test_multi_images[8].reshape((1,56,56,1)))\n",
        "res.shape"
      ],
      "execution_count": 74,
      "outputs": [
        {
          "output_type": "execute_result",
          "data": {
            "text/plain": [
              "(1, 10)"
            ]
          },
          "metadata": {},
          "execution_count": 74
        }
      ]
    },
    {
      "cell_type": "code",
      "source": [
        "plt.bar(np.arange(0, 10),    test_multi_labels[8], color=\"black\")"
      ],
      "metadata": {
        "colab": {
          "base_uri": "https://localhost:8080/",
          "height": 283
        },
        "id": "dFc5afTGnJfT",
        "outputId": "05f8dba2-5f1c-4cb5-c69e-54954ad52572"
      },
      "execution_count": 75,
      "outputs": [
        {
          "output_type": "execute_result",
          "data": {
            "text/plain": [
              "<BarContainer object of 10 artists>"
            ]
          },
          "metadata": {},
          "execution_count": 75
        },
        {
          "output_type": "display_data",
          "data": {
            "image/png": "[encoded data removed]",
            "text/plain": [
              "<Figure size 432x288 with 1 Axes>"
            ]
          },
          "metadata": {
            "needs_background": "light"
          }
        }
      ]
    },
    {
      "cell_type": "markdown",
      "metadata": {
        "id": "jEMuwUYP71jb"
      },
      "source": [
        "## Step 8. 모델 저장 및 로드, 다운"
      ]
    },
    {
      "cell_type": "markdown",
      "metadata": {
        "id": "c2GZFvCAzFNl"
      },
      "source": [
        "### 문제 33. 모델을 저장하세요."
      ]
    },
    {
      "cell_type": "code",
      "metadata": {
        "id": "YjuCVTNbriVJ"
      },
      "source": [
        "# 모델을 저장하는 코드를 작성하세요.\n",
        "model.save('./lecture008-multiclass.h5')\n",
        "new_model.save('./lecture008-multilabel.h5')"
      ],
      "execution_count": null,
      "outputs": []
    },
    {
      "cell_type": "markdown",
      "metadata": {
        "id": "Bj4P3DdzzhyC"
      },
      "source": [
        "### 문제 34. 모델 파일을 새로운 모델에 로드하세요."
      ]
    },
    {
      "cell_type": "code",
      "metadata": {
        "id": "xuRAnBR8zY-X"
      },
      "source": [
        "# 모델을 로드하는 코드를 작성하세요.\n",
        "model2 = tf.keras.models.load_model('./lecture008-multiclass.h5')\n",
        "model3 = tf.keras.models.load_model('./lecture008-multilabel.h5')"
      ],
      "execution_count": null,
      "outputs": []
    },
    {
      "cell_type": "markdown",
      "metadata": {
        "id": "ta1I5ZEY1FBR"
      },
      "source": [
        "### 문제 35. 로드한 모델을 test 데이터로 평가해보세요.\n"
      ]
    },
    {
      "cell_type": "code",
      "metadata": {
        "id": "ALrVf_lm0_Bc"
      },
      "source": [
        "# 로드한 모델을 test 데이터로 평가해보세요.\n",
        "loss, acc = model2.evaluate(test_expand_images.reshape((-1, 56,56, 1)), tf.keras.utils.to_categorical(test_labels))\n",
        "print(loss, acc)"
      ],
      "execution_count": null,
      "outputs": []
    },
    {
      "cell_type": "markdown",
      "metadata": {
        "id": "gfEgY1Vr1T1v"
      },
      "source": [
        "### 문제 36. 모델을 내 컴퓨터에 저장해보세요"
      ]
    },
    {
      "cell_type": "code",
      "metadata": {
        "id": "ASkJv_Ui1RGv"
      },
      "source": [
        "# 모델을 내 컴퓨터에 저장해보세요.\n",
        "from google.colab import files\n",
        "files.download('./lecture008-multiclass.h5')"
      ],
      "execution_count": null,
      "outputs": []
    },
    {
      "cell_type": "code",
      "metadata": {
        "id": "lJm9QRGXTS-K"
      },
      "source": [
        ""
      ],
      "execution_count": null,
      "outputs": []
    }
  ]
}