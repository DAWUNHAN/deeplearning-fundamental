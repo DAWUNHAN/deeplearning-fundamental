{
  "nbformat": 4,
  "nbformat_minor": 0,
  "metadata": {
    "colab": {
      "name": "Image Segmentation.ipynb",
      "provenance": [],
      "collapsed_sections": [],
      "authorship_tag": "ABX9TyNbxGqZlfTEnjN5r8oGlDiM",
      "include_colab_link": true
    },
    "kernelspec": {
      "name": "python3",
      "display_name": "Python 3"
    },
    "language_info": {
      "name": "python"
    }
  },
  "cells": [
    {
      "cell_type": "markdown",
      "metadata": {
        "id": "view-in-github",
        "colab_type": "text"
      },
      "source": [
        "<a href=\"https://colab.research.google.com/github/DAWUNHAN/deeplearning-fundamental/blob/master/Image_Segmentation.ipynb\" target=\"_parent\"><img src=\"https://colab.research.google.com/assets/colab-badge.svg\" alt=\"Open In Colab\"/></a>"
      ]
    },
    {
      "cell_type": "markdown",
      "source": [
        "# Image Segmentation\n",
        "- Classification은 물체가 어떤 물체인지 구분하고, Object Detection은 물체가 어떤 물체인지 구분하고 로케이션까지 판단한다.\n",
        "- Segmentation은 물체의 클래스, 어디에 있는지, 어느 픽셀이 물체에 해당되는지까지 판단한다. 픽셀 단위로 물체의 형태까지 판단한다.\n",
        "- Input : 이미지\n",
        "- Output : 영역 (Regions), Structures\n",
        "\n",
        "\n",
        "# Instance Segmentation\n",
        "- Segmentation은 5명의 사람이 있을 때 '사람' 클래스로 판단하는 반면, Instance Segmentation은 각 각 다른 사람으로 분류를 한다.\n",
        "\n",
        "\n",
        "# Downsampling - Upsampling\n",
        "- Downsampling (Encoder) : Convolution + Pooling (사람의 언어를 기계가 알수 있게 축소하는 과정)\n",
        "- Upsampling (Decoder) : Transpose Convolution (encoder에서 줄였던 것을 다시 돌려놓는 과정)\n",
        "- e.g. FCN, SegNet, U-Net\n",
        "\n",
        "\n",
        "# UNet\n",
        "- Downsampling 과정은 context(어디에 사람이 있는지 등 전체적인 모습)를 인식하기 위한 과정 (Constracting Path)\n",
        "- Upsampling 과정은 이 물체가 정확하게 어디 있는지를 디테일하게 찾는 과정 (Expanding Path). feature copy and paste. \n",
        "- 방식 : Overlap-tile \n",
        "  - Patch 는 이미지 인식 단위이다. 이미지를 패치 단위로 나누고, 안 겹치게 넓은 이미지를 볼 수 있게 한다. \n",
        "  - Mirroring Padding : 패딩 부분을 0으로 채우는 것이 아니라 안에 있는 부분으로 미러링함. "
      ],
      "metadata": {
        "id": "AKRDfzSp1nlu"
      }
    },
    {
      "cell_type": "code",
      "execution_count": null,
      "metadata": {
        "id": "wS5TlHvw1k1L"
      },
      "outputs": [],
      "source": [
        ""
      ]
    }
  ]
}